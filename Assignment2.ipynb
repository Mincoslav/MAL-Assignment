{
 "cells": [
  {
   "cell_type": "markdown",
   "metadata": {},
   "source": [
    "<h1 align=\"center\">Machine Learning</h1><h2 align=\"center\" style=\"margin:10px\">Assignment 2</h2>"
   ]
  },
  {
   "cell_type": "code",
   "execution_count": 1,
   "metadata": {},
   "outputs": [],
   "source": [
    "# Student names and numbers:\n"
   ]
  },
  {
   "cell_type": "markdown",
   "metadata": {},
   "source": [
    "The assignments below should be solved and documented as a mini-project that will form the basis for the\n",
    "examination. When solving the exercises it is important that you\n",
    "\n",
    "  * document all relevant results and analyses that you have obtained/performed during the exercises\n",
    "  * try to relate your results to the theoretical background of the methods being applied.\n",
    "\n",
    "Feel free to add cells if you need to. The easiest way to convert to pdf is to save this notebook as .html (File-->Download as-->HTML) and then convert this html file to pdf. You can also export as pdf directly, but here you need to watch your margins as the converter will cut off your code (i.e. make vertical code!).\n",
    "\n",
    "Last, but not least:\n",
    "* Looking for an overview of the markdown language? The cheat sheet <a href=\"https://medium.com/ibm-data-science-experience/markdown-for-jupyter-notebooks-cheatsheet-386c05aeebed\">here</a> might help.\n",
    "* For most of the Python specific components of the exercises, you should not need constructs beyond those that are already included in the notebooks on the course's web-page (still you should not feel constrained by these, so feel free to be adventurous). You may, however, need to consult the documentation for some of the methods supplied by `sklearn`."
   ]
  },
  {
   "cell_type": "code",
   "execution_count": 2,
   "metadata": {},
   "outputs": [
    {
     "name": "stderr",
     "output_type": "stream",
     "text": [
      "[nltk_data] Downloading package wordnet to\n",
      "[nltk_data]     C:\\Users\\spiri\\AppData\\Roaming\\nltk_data...\n",
      "[nltk_data]   Package wordnet is already up-to-date!\n",
      "[nltk_data] Downloading package averaged_perceptron_tagger to\n",
      "[nltk_data]     C:\\Users\\spiri\\AppData\\Roaming\\nltk_data...\n",
      "[nltk_data]   Package averaged_perceptron_tagger is already up-to-\n",
      "[nltk_data]       date!\n",
      "[nltk_data] Downloading package stopwords to\n",
      "[nltk_data]     C:\\Users\\spiri\\AppData\\Roaming\\nltk_data...\n",
      "[nltk_data]   Package stopwords is already up-to-date!\n"
     ]
    }
   ],
   "source": [
    "# Import all necessary libraries here\n",
    "import mglearn\n",
    "import sys\n",
    "import nltk\n",
    "import string \n",
    "import numpy as np\n",
    "import scipy as scipy\n",
    "import seaborn as sns\n",
    "import pandas as pd\n",
    "import tensorflow as tf\n",
    "import matplotlib.pyplot as plt\n",
    "import scipy.sparse\n",
    "%matplotlib inline\n",
    "\n",
    "from numpy.random import seed\n",
    "from time import time\n",
    "from keras.datasets import mnist\n",
    "from IPython.display import display\n",
    "from sklearn.model_selection import train_test_split\n",
    "from sklearn.model_selection import cross_val_score\n",
    "from sklearn.feature_extraction.text import TfidfVectorizer\n",
    "from tensorflow.keras.models import Sequential\n",
    "from tensorflow.keras.layers import Dense, Conv2D, Conv1D, MaxPooling2D,MaxPooling1D, Flatten, Input\n",
    "from tensorflow.keras.utils import to_categorical\n",
    "from tensorflow.keras.metrics import Accuracy\n",
    "from tensorflow.keras import optimizers\n",
    "from gensim.parsing.preprocessing import remove_stopwords\n",
    "\n",
    "nltk.download('wordnet')\n",
    "nltk.download('averaged_perceptron_tagger')\n",
    "nltk.download(\"stopwords\")\n",
    "np.set_printoptions(threshold= sys.maxsize)\n",
    "\n",
    "from nltk.stem import WordNetLemmatizer\n",
    "from nltk.corpus import wordnet\n",
    "from nltk.corpus import stopwords\n"
   ]
  },
  {
   "cell_type": "markdown",
   "metadata": {},
   "source": [
    "# Exercise 1: Sentiment analysis"
   ]
  },
  {
   "cell_type": "markdown",
   "metadata": {},
   "source": [
    "In this exercise we use the IMDB-dataset, which we will use to perform a sentiment analysis. The code below assumes that the data is placed in the same folder as this notebook. We see that the reviews are loaded as a pandas dataframe, and print the beginning of the first few reviews."
   ]
  },
  {
   "cell_type": "code",
   "execution_count": null,
   "metadata": {},
   "outputs": [],
   "source": [
    "reviews = pd.read_csv('IMDB_dataset/reviews.txt', header=None)\n",
    "labels = pd.read_csv('IMDB_dataset/labels.txt', header=None)\n",
    "Y = np.array((labels=='positive').astype(np.int_)).ravel()\n",
    "# print(type(reviews))\n",
    "# print(reviews[0][0])\n",
    "\n"
   ]
  },
  {
   "cell_type": "markdown",
   "metadata": {},
   "source": [
    "**a)** Split the reviews and labels in test, train and validation sets. The train and validation sets will be used to train your model and tune hyperparameters, the test set will be saved for testing.\n",
    "\n",
    "**b)** Use the `CountVectorizer` from `sklearn.feature_extraction.text` to create a Bag-of-Words representation of the reviews. (See an example of how to do this in chapter 7 of \"Muller and Guido\"). Only use the 10,000 most frequent words (use the `max_features`-parameter of `CountVectorizer`).\n",
    "\n",
    "**c)** Explore the representation of the reviews. How is a single word represented? How about a whole review?\n",
    "\n",
    "**d)** Train a neural network with a single hidden layer on the dataset, tuning the relevant hyperparameters to optimize accuracy. \n",
    "\n",
    "**e)** Test your sentiment-classifier on the test set.\n",
    "\n",
    "**f)** Use the classifier to classify a few sentences you write yourselves. "
   ]
  },
  {
   "cell_type": "markdown",
   "metadata": {},
   "source": [
    "***Exercise 1 Solution***\n",
    "\n",
    "Having to work with text data posed the first problem for coming out with a good model solution for the exercise. Text data is often viewed as an interpretation of sentiment, which is unquantifiable by a computer. \n",
    "\n",
    "The exercise formulation mentions as requirement the use of a CountVectorizer in the idea of creating a Bag of words, essentially mapping each word of a review to a tuple (key and value) and thus transforming a potential review in an array of tuples. In this case we will attempt creating a new dataset from the one provided where its features will then be represented by the keys contained in the bag of words, and the values will be the actual \"data\" property in the data set.\n",
    "\n",
    "To construct the dataset, first the information has to go through a pre-processing step as creating a bag of words could potentially tokenize frequent words that do not necessarily influence or characterize the main \"sentiment\" of a review. For the exercise in question, the following process was proposed:\n",
    "\n",
    "**1.** Removal of stop_words: <br>\n",
    "This step describes the removal of all stop words from the reviews. Example of stop words are 'i', 'am', ''t' etc.\n",
    "\n",
    "**2.** Punctuation removal: <br>\n",
    "By creating a bag of words, punctuation is considered a word, or a token itself. Due to the fact that they do not pose a significant value in predicting the affirmativeness of a review, they are removed.\n",
    "\n",
    "**3.** Lemmatisation of reviews: <br>\n",
    "Lemmatisation is the process of replacing a word (which presents a specific form depending of its type and the grammar implications of the language) with its prime form that can be found in a dictionary. Like so verbs, nouns or adjectives (didn't, coded, affirmativeness) are transposed (do, code, affirmative). This reduces redundancy in the data set.\n",
    "\n",
    "<br>\n",
    "In typical use cases we would have to split our training data from the testing data and perform the pre-processing procedure only on the training data, but due to the fact that we are essentially creating a new data set from the one provided, and the test data has to be reduces to a form which the model ca understand, we will process all reviews at once and then split. \n",
    "<br>\n",
    "Due to the requirement of using a neural network, we will want to calculate the probability of a review to be negative of positive. In this case, the problem resumes to a logistic regression issue."
   ]
  },
  {
   "cell_type": "code",
   "execution_count": null,
   "metadata": {},
   "outputs": [],
   "source": [
    "# 1. Removal of stop_words\n",
    "for idx, rev in enumerate(reviews[0]):\n",
    "    reviews[0][idx] = remove_stopwords(rev, stopwords.words('english') )"
   ]
  },
  {
   "cell_type": "code",
   "execution_count": null,
   "metadata": {},
   "outputs": [
    {
     "name": "stdout",
     "output_type": "stream",
     "text": [
      "<bound method NDFrame.head of                                                        0\n",
      "0      bromwell high cartoon comedy . ran time progra...\n",
      "1      story man unnatural feelings pig . starts open...\n",
      "2      homelessness houselessness george carlin state...\n",
      "3      airport starts brand new luxury plane loaded v...\n",
      "4      brilliant acting lesley ann warren . best dram...\n",
      "...                                                  ...\n",
      "24995  saw descent last night stockholm film festival...\n",
      "24996  christmas together actually came time raised j...\n",
      "24997  films pick pound turn rather good rd century f...\n",
      "24998  working class romantic drama director martin r...\n",
      "24999  one dumbest films ever seen . rips nearly ever...\n",
      "\n",
      "[25000 rows x 1 columns]>\n"
     ]
    }
   ],
   "source": [
    "#The result of the removal of stop words can be seen by printing the first few reviews \n",
    "print(reviews.head)"
   ]
  },
  {
   "cell_type": "code",
   "execution_count": null,
   "metadata": {},
   "outputs": [],
   "source": [
    "# 2. Punctuation removal\n",
    "for idx, rev in enumerate(reviews[0]):\n",
    "    reviews[0][idx] = rev.translate(str.maketrans('', '', string.punctuation))"
   ]
  },
  {
   "cell_type": "code",
   "execution_count": null,
   "metadata": {},
   "outputs": [
    {
     "name": "stdout",
     "output_type": "stream",
     "text": [
      "<bound method NDFrame.head of                                                        0\n",
      "0      bromwell high cartoon comedy  ran time program...\n",
      "1      story man unnatural feelings pig  starts openi...\n",
      "2      homelessness houselessness george carlin state...\n",
      "3      airport starts brand new luxury plane loaded v...\n",
      "4      brilliant acting lesley ann warren  best drama...\n",
      "...                                                  ...\n",
      "24995  saw descent last night stockholm film festival...\n",
      "24996  christmas together actually came time raised j...\n",
      "24997  films pick pound turn rather good rd century f...\n",
      "24998  working class romantic drama director martin r...\n",
      "24999  one dumbest films ever seen  rips nearly ever ...\n",
      "\n",
      "[25000 rows x 1 columns]>\n"
     ]
    }
   ],
   "source": [
    "# The result of the removal of punctuation can be seen by printing the first few reviews \n",
    "print(reviews.head)"
   ]
  },
  {
   "cell_type": "code",
   "execution_count": null,
   "metadata": {},
   "outputs": [],
   "source": [
    "#3. Lemmatisation of reviews \n",
    "lmtizer = WordNetLemmatizer()\n",
    "\n",
    "def pos_tagger(nltk_tag):\n",
    "    if nltk_tag.startswith('J'):\n",
    "        return wordnet.ADJ\n",
    "    elif nltk_tag.startswith('V'):\n",
    "        return wordnet.VERB\n",
    "    elif nltk_tag.startswith('N'):\n",
    "        return wordnet.NOUN\n",
    "    elif nltk_tag.startswith('R'):\n",
    "        return wordnet.ADV\n",
    "    else:         \n",
    "        return None\n",
    " \n",
    " \n",
    "for idx, rev in enumerate(reviews[0]):\n",
    "    pos_tagged = nltk.pos_tag(nltk.word_tokenize(rev)) \n",
    "    wordnet_tagged = list(map(lambda x: (x[0], pos_tagger(x[1])), pos_tagged))\n",
    "    lemmatized_sentence = []\n",
    "    for word, tag in wordnet_tagged:  \n",
    "        if tag is None:\n",
    "            lemmatized_sentence.append(word)\n",
    "        else:  \n",
    "            lemmatized_sentence.append(lmtizer.lemmatize(word, tag))\n",
    "    reviews[0][idx]= \" \".join(lemmatized_sentence)\n",
    " "
   ]
  },
  {
   "cell_type": "markdown",
   "metadata": {},
   "source": [
    "The code above is meant to lemmatize each word in each reviews included in the initial data set. The lemmatisation process depends on the type of word that needs to be lemmatised. Using the `nltk.pos_tag` function we can extract the type (or tag) of all words from a review. The nltk tags are quite hard to read, such that they were mapped into a list of more clear options using the defined function in the above code. Using the list of words from a review and their corresponding tag, the review is reconstructed using the results of the lemmatized process.  "
   ]
  },
  {
   "cell_type": "code",
   "execution_count": null,
   "metadata": {},
   "outputs": [
    {
     "name": "stdout",
     "output_type": "stream",
     "text": [
      "bromwell high cartoon comedy run time program school life teacher year teach profession lead believe bromwell high satire much closer reality teacher scramble survive financially insightful student see right pathetic teacher pomp pettiness whole situation remind school know student saw episode student repeatedly try burn school immediately recall high classic line inspector sack one teacher student welcome bromwell high expect many adult age think bromwell high far fetch pity\n"
     ]
    }
   ],
   "source": [
    "# The result of the lemmatisation process on the first review is the following\n",
    "print(reviews[0][0])"
   ]
  },
  {
   "cell_type": "markdown",
   "metadata": {},
   "source": [
    "**b)** Having the reviews run through the pre-processing step, the result represents a very concrete, direct message. While some of the nuance of the review is lost, the message becomes more compact and concentrated and less redundant in terms of content. Having this form the reviews can be used to create the bag of words. \n",
    "\n",
    "The solution presented in this report makes use of a `TfidfVectorizer` instead of `CountVectorizer`. A `TfidfVectorizer` is an implementation of a `CountVectorizer`, meaning that they output the same ´vocabulary_´, their difference being the value they give when performing transformation of a document (review). A CountVectorizer converts a collection of text documents to a matrix of token counts, meaning that the result of a review transformation will contain the number of times a specific word (in the respective review) appears. TF-IDF is an abbreviation for Term Frequency Inverse Document Frequency, meaning that when token counts are calculated, they are computed and considered across the entire document (data set) and outputs to a frequency, a ratio or weight of a word."
   ]
  },
  {
   "cell_type": "code",
   "execution_count": null,
   "metadata": {},
   "outputs": [],
   "source": [
    "#4. Tokenizing words\n",
    "vect = TfidfVectorizer(max_features=10000, stop_words= stopwords.words('english'))\n",
    "transformed_reviews = vect.fit_transform(reviews[0])"
   ]
  },
  {
   "cell_type": "markdown",
   "metadata": {},
   "source": [
    "**c)** The result of the transformation is also the dataset we will use to train the neural network on. To read the transformed reviews (a sparse matrix) we will consider the following:\n",
    "\n",
    "* A row in the matrix corresponds to the output of the transformation of a document for one specific word which is included in the bag of words (one of the most 10000 frequent words)\n",
    "* The first element of the tuple describes to the review for which the output corresponds. 0 means the first review, 1 the second, 2 the thirds, etc. \n",
    "* The second element of the tuple corresponds the index of the word in the bag of words. For example the value 6710 corresponds to the 6710'th most frequent word from the 'vocabulary_' which is ´pity´. If a specific index appears in a tuple, that means that the word it mapped to is included in the review corresponding to the first value in the tuple.\n",
    "* The value to which the tuple maps corresponds to the frequency the word has in the entire data set. This is also how the words will be represented in the final data set.\n"
   ]
  },
  {
   "cell_type": "code",
   "execution_count": null,
   "metadata": {},
   "outputs": [
    {
     "name": "stdout",
     "output_type": "stream",
     "text": [
      "  (0, 6710)\t0.11950034363725918\n",
      "  (0, 3337)\t0.137302799335336\n",
      "  (0, 3261)\t0.06932324862812123\n",
      "  (0, 8969)\t0.04584721706500551\n",
      "  (0, 180)\t0.08110951562857681\n",
      "  (0, 136)\t0.09614733214310987\n",
      "  (0, 5515)\t0.05490404589168599\n",
      "  (0, 3151)\t0.07323714228205612\n",
      "  (0, 9748)\t0.11804706361208209\n",
      "  (0, 6291)\t0.03284128128186592\n",
      "  (0, 7692)\t0.15057204889412243\n",
      "  (0, 4618)\t0.1347889174185391\n",
      "  (0, 5255)\t0.0673397466196941\n",
      "  (0, 1578)\t0.07749010060053112\n",
      "  (0, 7250)\t0.11747651616388127\n",
      "  (0, 4450)\t0.10683414307557462\n",
      "  (0, 1171)\t0.10737584204656342\n",
      "  (0, 9243)\t0.05621233858721317\n",
      "  (0, 7395)\t0.13442737483054762\n",
      "  (0, 3003)\t0.08405752000690257\n",
      "  (0, 7772)\t0.06771878411874818\n",
      "  (0, 5022)\t0.04942392242584494\n",
      "  (0, 7370)\t0.09638331480183294\n",
      "  (0, 8155)\t0.08908138293337045\n",
      "  (0, 9789)\t0.068673186657198\n",
      "  :\t:\n",
      "  (24999, 5328)\t0.06374111525662078\n",
      "  (24999, 97)\t0.08299198568842231\n",
      "  (24999, 7774)\t0.12833026635764289\n",
      "  (24999, 8995)\t0.12274689379855375\n",
      "  (24999, 2456)\t0.09882551826074257\n",
      "  (24999, 5295)\t0.15291466007104798\n",
      "  (24999, 5861)\t0.0984990724522427\n",
      "  (24999, 3367)\t0.08445011474010568\n",
      "  (24999, 6749)\t0.07129520283547786\n",
      "  (24999, 3742)\t0.05147951486858716\n",
      "  (24999, 1429)\t0.058568274258403566\n",
      "  (24999, 2206)\t0.08482932872704538\n",
      "  (24999, 5231)\t0.09513017140039177\n",
      "  (24999, 1033)\t0.0853309771807012\n",
      "  (24999, 6585)\t0.06630793791935051\n",
      "  (24999, 3800)\t0.05620851071508977\n",
      "  (24999, 3823)\t0.10331957163037638\n",
      "  (24999, 5470)\t0.046080523475546996\n",
      "  (24999, 3261)\t0.09120513272147411\n",
      "  (24999, 8969)\t0.06031889157063853\n",
      "  (24999, 6291)\t0.04320763203299727\n",
      "  (24999, 5255)\t0.08859553828509159\n",
      "  (24999, 9789)\t0.09034987868320354\n",
      "  (24999, 7866)\t0.0476489218122226\n",
      "  (24999, 9032)\t0.1051310884158236\n"
     ]
    }
   ],
   "source": [
    "print(transformed_reviews)"
   ]
  },
  {
   "cell_type": "code",
   "execution_count": null,
   "metadata": {},
   "outputs": [
    {
     "data": {
      "text/html": [
       "<div>\n",
       "<style scoped>\n",
       "    .dataframe tbody tr th:only-of-type {\n",
       "        vertical-align: middle;\n",
       "    }\n",
       "\n",
       "    .dataframe tbody tr th {\n",
       "        vertical-align: top;\n",
       "    }\n",
       "\n",
       "    .dataframe thead th {\n",
       "        text-align: right;\n",
       "    }\n",
       "</style>\n",
       "<table border=\"1\" class=\"dataframe\">\n",
       "  <thead>\n",
       "    <tr style=\"text-align: right;\">\n",
       "      <th></th>\n",
       "      <th>0</th>\n",
       "      <th>1</th>\n",
       "      <th>2</th>\n",
       "      <th>3</th>\n",
       "      <th>4</th>\n",
       "      <th>5</th>\n",
       "      <th>6</th>\n",
       "      <th>7</th>\n",
       "      <th>8</th>\n",
       "      <th>9</th>\n",
       "      <th>...</th>\n",
       "      <th>9990</th>\n",
       "      <th>9991</th>\n",
       "      <th>9992</th>\n",
       "      <th>9993</th>\n",
       "      <th>9994</th>\n",
       "      <th>9995</th>\n",
       "      <th>9996</th>\n",
       "      <th>9997</th>\n",
       "      <th>9998</th>\n",
       "      <th>9999</th>\n",
       "    </tr>\n",
       "  </thead>\n",
       "  <tbody>\n",
       "    <tr>\n",
       "      <th>0</th>\n",
       "      <td>0.0</td>\n",
       "      <td>0.0</td>\n",
       "      <td>0.0</td>\n",
       "      <td>0.0</td>\n",
       "      <td>0.0</td>\n",
       "      <td>0.0</td>\n",
       "      <td>0.0</td>\n",
       "      <td>0.0</td>\n",
       "      <td>0.0</td>\n",
       "      <td>0.0</td>\n",
       "      <td>...</td>\n",
       "      <td>0.0</td>\n",
       "      <td>0.0</td>\n",
       "      <td>0.0</td>\n",
       "      <td>0.0</td>\n",
       "      <td>0.000000</td>\n",
       "      <td>0.0</td>\n",
       "      <td>0.0</td>\n",
       "      <td>0.0</td>\n",
       "      <td>0.0</td>\n",
       "      <td>0.0</td>\n",
       "    </tr>\n",
       "    <tr>\n",
       "      <th>1</th>\n",
       "      <td>0.0</td>\n",
       "      <td>0.0</td>\n",
       "      <td>0.0</td>\n",
       "      <td>0.0</td>\n",
       "      <td>0.0</td>\n",
       "      <td>0.0</td>\n",
       "      <td>0.0</td>\n",
       "      <td>0.0</td>\n",
       "      <td>0.0</td>\n",
       "      <td>0.0</td>\n",
       "      <td>...</td>\n",
       "      <td>0.0</td>\n",
       "      <td>0.0</td>\n",
       "      <td>0.0</td>\n",
       "      <td>0.0</td>\n",
       "      <td>0.000000</td>\n",
       "      <td>0.0</td>\n",
       "      <td>0.0</td>\n",
       "      <td>0.0</td>\n",
       "      <td>0.0</td>\n",
       "      <td>0.0</td>\n",
       "    </tr>\n",
       "    <tr>\n",
       "      <th>2</th>\n",
       "      <td>0.0</td>\n",
       "      <td>0.0</td>\n",
       "      <td>0.0</td>\n",
       "      <td>0.0</td>\n",
       "      <td>0.0</td>\n",
       "      <td>0.0</td>\n",
       "      <td>0.0</td>\n",
       "      <td>0.0</td>\n",
       "      <td>0.0</td>\n",
       "      <td>0.0</td>\n",
       "      <td>...</td>\n",
       "      <td>0.0</td>\n",
       "      <td>0.0</td>\n",
       "      <td>0.0</td>\n",
       "      <td>0.0</td>\n",
       "      <td>0.000000</td>\n",
       "      <td>0.0</td>\n",
       "      <td>0.0</td>\n",
       "      <td>0.0</td>\n",
       "      <td>0.0</td>\n",
       "      <td>0.0</td>\n",
       "    </tr>\n",
       "    <tr>\n",
       "      <th>3</th>\n",
       "      <td>0.0</td>\n",
       "      <td>0.0</td>\n",
       "      <td>0.0</td>\n",
       "      <td>0.0</td>\n",
       "      <td>0.0</td>\n",
       "      <td>0.0</td>\n",
       "      <td>0.0</td>\n",
       "      <td>0.0</td>\n",
       "      <td>0.0</td>\n",
       "      <td>0.0</td>\n",
       "      <td>...</td>\n",
       "      <td>0.0</td>\n",
       "      <td>0.0</td>\n",
       "      <td>0.0</td>\n",
       "      <td>0.0</td>\n",
       "      <td>0.000000</td>\n",
       "      <td>0.0</td>\n",
       "      <td>0.0</td>\n",
       "      <td>0.0</td>\n",
       "      <td>0.0</td>\n",
       "      <td>0.0</td>\n",
       "    </tr>\n",
       "    <tr>\n",
       "      <th>4</th>\n",
       "      <td>0.0</td>\n",
       "      <td>0.0</td>\n",
       "      <td>0.0</td>\n",
       "      <td>0.0</td>\n",
       "      <td>0.0</td>\n",
       "      <td>0.0</td>\n",
       "      <td>0.0</td>\n",
       "      <td>0.0</td>\n",
       "      <td>0.0</td>\n",
       "      <td>0.0</td>\n",
       "      <td>...</td>\n",
       "      <td>0.0</td>\n",
       "      <td>0.0</td>\n",
       "      <td>0.0</td>\n",
       "      <td>0.0</td>\n",
       "      <td>0.000000</td>\n",
       "      <td>0.0</td>\n",
       "      <td>0.0</td>\n",
       "      <td>0.0</td>\n",
       "      <td>0.0</td>\n",
       "      <td>0.0</td>\n",
       "    </tr>\n",
       "    <tr>\n",
       "      <th>...</th>\n",
       "      <td>...</td>\n",
       "      <td>...</td>\n",
       "      <td>...</td>\n",
       "      <td>...</td>\n",
       "      <td>...</td>\n",
       "      <td>...</td>\n",
       "      <td>...</td>\n",
       "      <td>...</td>\n",
       "      <td>...</td>\n",
       "      <td>...</td>\n",
       "      <td>...</td>\n",
       "      <td>...</td>\n",
       "      <td>...</td>\n",
       "      <td>...</td>\n",
       "      <td>...</td>\n",
       "      <td>...</td>\n",
       "      <td>...</td>\n",
       "      <td>...</td>\n",
       "      <td>...</td>\n",
       "      <td>...</td>\n",
       "      <td>...</td>\n",
       "    </tr>\n",
       "    <tr>\n",
       "      <th>24995</th>\n",
       "      <td>0.0</td>\n",
       "      <td>0.0</td>\n",
       "      <td>0.0</td>\n",
       "      <td>0.0</td>\n",
       "      <td>0.0</td>\n",
       "      <td>0.0</td>\n",
       "      <td>0.0</td>\n",
       "      <td>0.0</td>\n",
       "      <td>0.0</td>\n",
       "      <td>0.0</td>\n",
       "      <td>...</td>\n",
       "      <td>0.0</td>\n",
       "      <td>0.0</td>\n",
       "      <td>0.0</td>\n",
       "      <td>0.0</td>\n",
       "      <td>0.000000</td>\n",
       "      <td>0.0</td>\n",
       "      <td>0.0</td>\n",
       "      <td>0.0</td>\n",
       "      <td>0.0</td>\n",
       "      <td>0.0</td>\n",
       "    </tr>\n",
       "    <tr>\n",
       "      <th>24996</th>\n",
       "      <td>0.0</td>\n",
       "      <td>0.0</td>\n",
       "      <td>0.0</td>\n",
       "      <td>0.0</td>\n",
       "      <td>0.0</td>\n",
       "      <td>0.0</td>\n",
       "      <td>0.0</td>\n",
       "      <td>0.0</td>\n",
       "      <td>0.0</td>\n",
       "      <td>0.0</td>\n",
       "      <td>...</td>\n",
       "      <td>0.0</td>\n",
       "      <td>0.0</td>\n",
       "      <td>0.0</td>\n",
       "      <td>0.0</td>\n",
       "      <td>0.000000</td>\n",
       "      <td>0.0</td>\n",
       "      <td>0.0</td>\n",
       "      <td>0.0</td>\n",
       "      <td>0.0</td>\n",
       "      <td>0.0</td>\n",
       "    </tr>\n",
       "    <tr>\n",
       "      <th>24997</th>\n",
       "      <td>0.0</td>\n",
       "      <td>0.0</td>\n",
       "      <td>0.0</td>\n",
       "      <td>0.0</td>\n",
       "      <td>0.0</td>\n",
       "      <td>0.0</td>\n",
       "      <td>0.0</td>\n",
       "      <td>0.0</td>\n",
       "      <td>0.0</td>\n",
       "      <td>0.0</td>\n",
       "      <td>...</td>\n",
       "      <td>0.0</td>\n",
       "      <td>0.0</td>\n",
       "      <td>0.0</td>\n",
       "      <td>0.0</td>\n",
       "      <td>0.198158</td>\n",
       "      <td>0.0</td>\n",
       "      <td>0.0</td>\n",
       "      <td>0.0</td>\n",
       "      <td>0.0</td>\n",
       "      <td>0.0</td>\n",
       "    </tr>\n",
       "    <tr>\n",
       "      <th>24998</th>\n",
       "      <td>0.0</td>\n",
       "      <td>0.0</td>\n",
       "      <td>0.0</td>\n",
       "      <td>0.0</td>\n",
       "      <td>0.0</td>\n",
       "      <td>0.0</td>\n",
       "      <td>0.0</td>\n",
       "      <td>0.0</td>\n",
       "      <td>0.0</td>\n",
       "      <td>0.0</td>\n",
       "      <td>...</td>\n",
       "      <td>0.0</td>\n",
       "      <td>0.0</td>\n",
       "      <td>0.0</td>\n",
       "      <td>0.0</td>\n",
       "      <td>0.000000</td>\n",
       "      <td>0.0</td>\n",
       "      <td>0.0</td>\n",
       "      <td>0.0</td>\n",
       "      <td>0.0</td>\n",
       "      <td>0.0</td>\n",
       "    </tr>\n",
       "    <tr>\n",
       "      <th>24999</th>\n",
       "      <td>0.0</td>\n",
       "      <td>0.0</td>\n",
       "      <td>0.0</td>\n",
       "      <td>0.0</td>\n",
       "      <td>0.0</td>\n",
       "      <td>0.0</td>\n",
       "      <td>0.0</td>\n",
       "      <td>0.0</td>\n",
       "      <td>0.0</td>\n",
       "      <td>0.0</td>\n",
       "      <td>...</td>\n",
       "      <td>0.0</td>\n",
       "      <td>0.0</td>\n",
       "      <td>0.0</td>\n",
       "      <td>0.0</td>\n",
       "      <td>0.000000</td>\n",
       "      <td>0.0</td>\n",
       "      <td>0.0</td>\n",
       "      <td>0.0</td>\n",
       "      <td>0.0</td>\n",
       "      <td>0.0</td>\n",
       "    </tr>\n",
       "  </tbody>\n",
       "</table>\n",
       "<p>25000 rows × 10000 columns</p>\n",
       "</div>"
      ],
      "text/plain": [
       "       0     1     2     3     4     5     6     7     8     9     ...  9990  \\\n",
       "0       0.0   0.0   0.0   0.0   0.0   0.0   0.0   0.0   0.0   0.0  ...   0.0   \n",
       "1       0.0   0.0   0.0   0.0   0.0   0.0   0.0   0.0   0.0   0.0  ...   0.0   \n",
       "2       0.0   0.0   0.0   0.0   0.0   0.0   0.0   0.0   0.0   0.0  ...   0.0   \n",
       "3       0.0   0.0   0.0   0.0   0.0   0.0   0.0   0.0   0.0   0.0  ...   0.0   \n",
       "4       0.0   0.0   0.0   0.0   0.0   0.0   0.0   0.0   0.0   0.0  ...   0.0   \n",
       "...     ...   ...   ...   ...   ...   ...   ...   ...   ...   ...  ...   ...   \n",
       "24995   0.0   0.0   0.0   0.0   0.0   0.0   0.0   0.0   0.0   0.0  ...   0.0   \n",
       "24996   0.0   0.0   0.0   0.0   0.0   0.0   0.0   0.0   0.0   0.0  ...   0.0   \n",
       "24997   0.0   0.0   0.0   0.0   0.0   0.0   0.0   0.0   0.0   0.0  ...   0.0   \n",
       "24998   0.0   0.0   0.0   0.0   0.0   0.0   0.0   0.0   0.0   0.0  ...   0.0   \n",
       "24999   0.0   0.0   0.0   0.0   0.0   0.0   0.0   0.0   0.0   0.0  ...   0.0   \n",
       "\n",
       "       9991  9992  9993      9994  9995  9996  9997  9998  9999  \n",
       "0       0.0   0.0   0.0  0.000000   0.0   0.0   0.0   0.0   0.0  \n",
       "1       0.0   0.0   0.0  0.000000   0.0   0.0   0.0   0.0   0.0  \n",
       "2       0.0   0.0   0.0  0.000000   0.0   0.0   0.0   0.0   0.0  \n",
       "3       0.0   0.0   0.0  0.000000   0.0   0.0   0.0   0.0   0.0  \n",
       "4       0.0   0.0   0.0  0.000000   0.0   0.0   0.0   0.0   0.0  \n",
       "...     ...   ...   ...       ...   ...   ...   ...   ...   ...  \n",
       "24995   0.0   0.0   0.0  0.000000   0.0   0.0   0.0   0.0   0.0  \n",
       "24996   0.0   0.0   0.0  0.000000   0.0   0.0   0.0   0.0   0.0  \n",
       "24997   0.0   0.0   0.0  0.198158   0.0   0.0   0.0   0.0   0.0  \n",
       "24998   0.0   0.0   0.0  0.000000   0.0   0.0   0.0   0.0   0.0  \n",
       "24999   0.0   0.0   0.0  0.000000   0.0   0.0   0.0   0.0   0.0  \n",
       "\n",
       "[25000 rows x 10000 columns]"
      ]
     },
     "execution_count": 28,
     "metadata": {},
     "output_type": "execute_result"
    }
   ],
   "source": [
    "#For visualization purposes, the dataset (the tranformed reviews) can be plotted in a data frame.\n",
    "dataFrame = pd.DataFrame.sparse.from_spmatrix(transformed_reviews)\n",
    "dataFrame"
   ]
  },
  {
   "cell_type": "markdown",
   "metadata": {},
   "source": [
    "**a)** Splitting the training, validation and test is represented by the code below:"
   ]
  },
  {
   "cell_type": "code",
   "execution_count": null,
   "metadata": {},
   "outputs": [
    {
     "name": "stdout",
     "output_type": "stream",
     "text": [
      "Size of training-val set:18750\n",
      "Size of test set:6250\n"
     ]
    }
   ],
   "source": [
    "Y = to_categorical(Y,num_classes=2)\n",
    "X_trainval, X_test, y_trainval, y_test = train_test_split(dataFrame.to_numpy(), Y, random_state=42)\n",
    "print(\"Size of training-val set:{}\".format(X_trainval.shape[0]))\n",
    "print(\"Size of test set:{}\".format(X_test.shape[0]))"
   ]
  },
  {
   "cell_type": "markdown",
   "metadata": {},
   "source": [
    "**d)** The code below describes the network configuration and the fitting process of the data in the model.\n",
    "Observations regarding the neuron network:\n",
    "*  The validation methodology was applied by mentioning the `validation_split` parameter when fitting the training data. As such, the network performs validations on 0.2 out of bach set on which the network learn at each one epoch. \n",
    "*  It was discovered that having a great number of neurons on the input and hidden layer caused the network to look 'to deep' into the data, causing great loss in the validation process, thus overfitting.\n",
    "* `Relu` was used as activation algorithm as the data was previously stripped of potential noise that could have been treated with `Sigmoid` activation. \n",
    "* In general the score of the network comes down to providing a proportional value for the epoch and batch_size. The more we increase the batch_size the more epochs we would like to input. In general it was discovered that 0.2 as the validation split ratio gave the best result, as more would cut to much from the training data, but to little (while increasing the accuracy with even 0.04) caused the training loss to be with even 0.1 smaller then the validation loss, thus indicating that the model is overfitting.\n",
    "* loss: 0.2291 - accuracy: 0.9113 - val_loss: 0.2819 - val_accuracy: 0.8864 "
   ]
  },
  {
   "cell_type": "code",
   "execution_count": null,
   "metadata": {},
   "outputs": [
    {
     "name": "stdout",
     "output_type": "stream",
     "text": [
      "Epoch 1/15\n",
      "150/150 [==============================] - 2s 15ms/step - loss: 0.6901 - accuracy: 0.5292 - val_loss: 0.6859 - val_accuracy: 0.5224\n",
      "Epoch 2/15\n",
      "150/150 [==============================] - 2s 12ms/step - loss: 0.6745 - accuracy: 0.6011 - val_loss: 0.6620 - val_accuracy: 0.6947\n",
      "Epoch 3/15\n",
      "150/150 [==============================] - 2s 12ms/step - loss: 0.6353 - accuracy: 0.7541 - val_loss: 0.6093 - val_accuracy: 0.7976\n",
      "Epoch 4/15\n",
      "150/150 [==============================] - 2s 11ms/step - loss: 0.5613 - accuracy: 0.8292 - val_loss: 0.5229 - val_accuracy: 0.8371\n",
      "Epoch 5/15\n",
      "150/150 [==============================] - 2s 12ms/step - loss: 0.4614 - accuracy: 0.8607 - val_loss: 0.4307 - val_accuracy: 0.8531\n",
      "Epoch 6/15\n",
      "150/150 [==============================] - 2s 12ms/step - loss: 0.3740 - accuracy: 0.8751 - val_loss: 0.3693 - val_accuracy: 0.8637\n",
      "Epoch 7/15\n",
      "150/150 [==============================] - 2s 12ms/step - loss: 0.3172 - accuracy: 0.8876 - val_loss: 0.3343 - val_accuracy: 0.8728\n",
      "Epoch 8/15\n",
      "150/150 [==============================] - 2s 12ms/step - loss: 0.2815 - accuracy: 0.8961 - val_loss: 0.3132 - val_accuracy: 0.8781\n",
      "Epoch 9/15\n",
      "150/150 [==============================] - 2s 12ms/step - loss: 0.2566 - accuracy: 0.9056 - val_loss: 0.3014 - val_accuracy: 0.8808\n",
      "Epoch 10/15\n",
      "150/150 [==============================] - 2s 12ms/step - loss: 0.2381 - accuracy: 0.9132 - val_loss: 0.2926 - val_accuracy: 0.8851\n",
      "Epoch 11/15\n",
      "150/150 [==============================] - 2s 12ms/step - loss: 0.2229 - accuracy: 0.9185 - val_loss: 0.2870 - val_accuracy: 0.8872\n",
      "Epoch 12/15\n",
      "150/150 [==============================] - 2s 12ms/step - loss: 0.2100 - accuracy: 0.9250 - val_loss: 0.2834 - val_accuracy: 0.8893\n",
      "Epoch 13/15\n",
      "150/150 [==============================] - 2s 12ms/step - loss: 0.1987 - accuracy: 0.9291 - val_loss: 0.2811 - val_accuracy: 0.8904\n",
      "Epoch 14/15\n",
      "150/150 [==============================] - 2s 12ms/step - loss: 0.1888 - accuracy: 0.9332 - val_loss: 0.2798 - val_accuracy: 0.8904\n",
      "Epoch 15/15\n",
      "150/150 [==============================] - 2s 11ms/step - loss: 0.1795 - accuracy: 0.9364 - val_loss: 0.2791 - val_accuracy: 0.8901\n"
     ]
    }
   ],
   "source": [
    "model = Sequential()\n",
    "\n",
    "model.add(Dense(units=64, activation='relu', input_dim=10000)) \n",
    "model.add(Dense(units=32, activation='relu'))\n",
    "model.add(Dense(units=2, activation='softmax')) \n",
    "\n",
    "sdg = optimizers.Adadelta(learning_rate=0.1)\n",
    "model.compile(loss='categorical_crossentropy', optimizer=sdg, metrics=['accuracy'])\n",
    "\n",
    "history = model.fit(X_trainval, y_trainval, validation_split = 0.2, epochs=15, batch_size=100, verbose=1)\n"
   ]
  },
  {
   "cell_type": "markdown",
   "metadata": {},
   "source": [
    "We can visualize the loss and accuracy curves during training using the following: "
   ]
  },
  {
   "cell_type": "code",
   "execution_count": null,
   "metadata": {},
   "outputs": [
    {
     "data": {
      "image/png": "[encoded data removed]",
      "text/plain": [
       "<Figure size 432x288 with 1 Axes>"
      ]
     },
     "metadata": {
      "needs_background": "light"
     },
     "output_type": "display_data"
    },
    {
     "data": {
      "image/png": "[encoded data removed]",
      "text/plain": [
       "<Figure size 432x288 with 1 Axes>"
      ]
     },
     "metadata": {
      "needs_background": "light"
     },
     "output_type": "display_data"
    }
   ],
   "source": [
    "acc = history.history['accuracy']\n",
    "val_acc = history.history['val_accuracy']\n",
    "loss = history.history['loss']\n",
    "val_loss = history.history['val_loss']\n",
    "\n",
    "epochs = range(len(acc))\n",
    "\n",
    "plt.plot(epochs, acc, 'bo', label='Training acc')\n",
    "plt.plot(epochs, val_acc, 'b', label='Validation acc')\n",
    "plt.title('Training and validation accuracy')\n",
    "plt.legend()\n",
    "\n",
    "plt.figure()\n",
    "\n",
    "plt.plot(epochs, loss, 'bo', label='Training loss')\n",
    "plt.plot(epochs, val_loss, 'b', label='Validation loss')\n",
    "plt.title('Training and validation loss')\n",
    "plt.legend()\n",
    "\n",
    "plt.show()"
   ]
  },
  {
   "cell_type": "markdown",
   "metadata": {},
   "source": [
    "**e)** To evaluate the network regard the code below:"
   ]
  },
  {
   "cell_type": "code",
   "execution_count": null,
   "metadata": {},
   "outputs": [
    {
     "name": "stdout",
     "output_type": "stream",
     "text": [
      "586/586 [==============================] - 2s 3ms/step - loss: 0.1924 - accuracy: 0.9308\n",
      "Accuracy on training data: [0.19235852360725403, 0.9308266639709473]\n",
      "196/196 [==============================] - 1s 3ms/step - loss: 0.2812 - accuracy: 0.8842\n",
      "Accuracy on testing data: [0.28124672174453735, 0.8841599822044373]\n"
     ]
    }
   ],
   "source": [
    "print(\"Accuracy on training data: {}\".format(model.evaluate(X_trainval, y_trainval)))\n",
    "print(\"Accuracy on testing data: {}\".format(model.evaluate(X_test, y_test)))"
   ]
  },
  {
   "cell_type": "markdown",
   "metadata": {},
   "source": [
    "**f)** The reviews were taken from online sources. Before they are predicted, the reviews are taken through a processing function that corresponds to the pre-processing step elaborated above."
   ]
  },
  {
   "cell_type": "code",
   "execution_count": null,
   "metadata": {},
   "outputs": [
    {
     "name": "stdout",
     "output_type": "stream",
     "text": [
      "Review1 has 0.34934672713279724 chances to be a negative review and 0.6506532430648804 chances to be positive\n",
      "Review2 has 0.08920897543430328 chances to be a negative review and 0.9107910990715027 chances to be positive\n"
     ]
    }
   ],
   "source": [
    "review1 = \"There were two interesting look back reviews that came out in 2015 that are worth checking out - just search for <<review terminator sarah connor chronicles>> and check out the retrospectives in The Guardian and on IGN. The IGN retrospective is especially valuable due to the inclusion of video cast interviews that don't show up on YouTube - there are a lot of insights as to how the principle actors viewed their characters and where they hoped the plot and reveals would go. Ultimately the writer Josh Friedman did give us fans what we wanted, just not in the definitive manner the actors hoped for their characters. I think it is better that way - showing us and let us draw our own conclusions, instead of laying it out in black and white. But, yeah, for you Jameron shippers, you were right, the seeds were there all along and the final episode is a real heartbreaker.\"\n",
    "review2 = \"One of the best stand alone TV Sci-Fi shows ever, joining Firefly on the list of <<why ever did they cancel that >>? Perhaps the best answer is that it is a miracle it was made in the first place, given that cancer survivor Josh Friedman produced a death obsessed, stylish, inventive and often very funny TV show with more depth and sophistication than the dying film franchise. A Hollywood insider needs to write the real back story to this show: how it suited Warner Brothers to have what was, in effect, an extended commercial on TV for the upcoming reboot of the movie franchise, what transpired between Warner and Fox, and why Fox started to pull the plug on the cash. There are episodes in season two that were clearly made with everyone concerned expecting to be fired by the end of the day. The production values dropped as the budget dried up, but the excellent acting, production and cinematography did not. An unfortunate casualty of the writers' strike, the show lost momentum after its truncated first season. Neflix, reboot it, please....\"\n",
    "\n",
    "\n",
    "def transform_review(review):\n",
    "    review = remove_stopwords(review, stopwords.words('english'))\n",
    "    review = review.translate(str.maketrans('', '', string.punctuation))\n",
    "    \n",
    "    pos_tagged = nltk.pos_tag(nltk.word_tokenize(review)) \n",
    "    wordnet_tagged = list(map(lambda x: (x[0], pos_tagger(x[1])), pos_tagged))\n",
    "    lemmatized_sentence = []\n",
    "    for word, tag in wordnet_tagged:  \n",
    "        if tag is None:\n",
    "            lemmatized_sentence.append(word)\n",
    "        else:  \n",
    "            lemmatized_sentence.append(lmtizer.lemmatize(word, tag))\n",
    "    review = \" \".join(lemmatized_sentence)\n",
    "    return review\n",
    "\n",
    "review1 = transform_review(review1)\n",
    "review1 = vect.transform([review1])\n",
    "review1 = pd.DataFrame.sparse.from_spmatrix(review1).to_numpy()\n",
    "\n",
    "review2 = transform_review(review2)\n",
    "review2 = vect.transform([review2])\n",
    "review2 = pd.DataFrame.sparse.from_spmatrix(review2).to_numpy()\n",
    "\n",
    "prediction1 = model.predict(review1)\n",
    "prediction2 = model.predict(review2)\n",
    "print(\"Review1 has {} chances to be a negative review and {} chances to be positive\".format(prediction1[0][0], prediction1[0][1]))\n",
    "print(\"Review2 has {} chances to be a negative review and {} chances to be positive\".format(prediction2[0][0], prediction2[0][1]))\n"
   ]
  },
  {
   "cell_type": "markdown",
   "metadata": {},
   "source": [
    "# Exercise 2: MNIST"
   ]
  },
  {
   "cell_type": "markdown",
   "metadata": {},
   "source": [
    "In this exercise, we consider the famous MNIST dataset, which is loaded below. The dataset consists of 70000 handwritten digits 0-9 at a resolution of 28x28 pixels. In the cell below, the dataset is loaded and split into 60000 traning and 10000 testing images. "
   ]
  },
  {
   "cell_type": "code",
   "execution_count": 3,
   "metadata": {},
   "outputs": [],
   "source": [
    "(x_train, y_train), (x_test, y_test) = mnist.load_data()"
   ]
  },
  {
   "cell_type": "markdown",
   "metadata": {},
   "source": [
    "The code-snippet below can be used to see the images corresponding to individual digits:"
   ]
  },
  {
   "cell_type": "code",
   "execution_count": 4,
   "metadata": {},
   "outputs": [
    {
     "data": {
      "image/png": "[encoded data removed]",
      "text/plain": [
       "<Figure size 432x288 with 1 Axes>"
      ]
     },
     "metadata": {
      "needs_background": "light"
     },
     "output_type": "display_data"
    }
   ],
   "source": [
    "index = 1\n",
    "\n",
    "plt.imshow(x_train[index],cmap=plt.cm.gray_r)\n",
    "plt.show()"
   ]
  },
  {
   "cell_type": "markdown",
   "metadata": {},
   "source": [
    "To make things a little bit simpler (and faster!), we can extract from the data binary subsets, that only contain the data for two selected digits:"
   ]
  },
  {
   "cell_type": "code",
   "execution_count": 5,
   "metadata": {},
   "outputs": [
    {
     "name": "stdout",
     "output_type": "stream",
     "text": [
      "The first training datapoint now is: \n",
      "\n"
     ]
    },
    {
     "data": {
      "image/png": "[encoded data removed]",
      "text/plain": [
       "<Figure size 432x288 with 1 Axes>"
      ]
     },
     "metadata": {
      "needs_background": "light"
     },
     "output_type": "display_data"
    },
    {
     "name": "stdout",
     "output_type": "stream",
     "text": [
      "0\n"
     ]
    }
   ],
   "source": [
    "digit0=0\n",
    "digit1=1\n",
    "x_bin_train10=x_train[np.logical_or(y_train==digit0,y_train==digit1)]\n",
    "y_bin_train10=y_train[np.logical_or(y_train==digit0,y_train==digit1)]\n",
    "\n",
    "x_bin_test10=x_test[np.logical_or(y_test==digit0,y_test==digit1)]\n",
    "y_bin_test10=y_test[np.logical_or(y_test==digit0,y_test==digit1)]\n",
    "\n",
    "print(\"The first training datapoint now is: \\n\")\n",
    "plt.imshow(x_bin_train10[0],cmap=plt.cm.gray_r)\n",
    "plt.show()\n",
    "print(y_bin_train10[0])"
   ]
  },
  {
   "cell_type": "markdown",
   "metadata": {},
   "source": [
    "### Training a neural network\n",
    "\n",
    "**a)** Learn different neural network models by varying the network architecture (i.e. number of layers and neurons in each layer) and the type of network (i.e. fully connected vs. convolutional). For each configuration, determine the time it takes to learn the model, and the accuracy on the test data. *Caution*: for some configurations, learning here can take a little while (several minutes).\n",
    "\n",
    "**b)** Inspect some misclassified cases. Do they correspond to hard to recognize digits (also for the human reader)? (Hint: you can e.g. use the numpy where() function to extract the indices of the test cases that were misclassified: `misclass = np.where(test != predictions)` )\n",
    "\n",
    "**c)** How do results (time and accuracy) change, depending on whether you consider an 'easy' binary task (e.g., distinguishing '1' and '0'), or a more difficult one (e.g., '4' vs. '5'). \n",
    "\n",
    "**d)** Identify one or several good configurations that give a reasonable combination of accuracy and runtime. Use these configurations to perform a full classification of the 10 classes in the original dataset (after split into train/test). Using `sklearn.metrics.confusion_matrix` you can get an overview of all combinations of true and predicted labels (see p. 298-299 in Müller & Guido). What does this tell you about which digits are easy, and which ones are difficult to recognize, and which ones are most easily confused?"
   ]
  },
  {
   "cell_type": "markdown",
   "metadata": {},
   "source": [
    "*Exercise 2 Solution*\n",
    "\n",
    "a) 4 layers networks with 784 and 196 neurons in the input layer each and 3 layers with 196 neurons"
   ]
  },
  {
   "cell_type": "code",
   "execution_count": 6,
   "metadata": {},
   "outputs": [
    {
     "name": "stdout",
     "output_type": "stream",
     "text": [
      "The first training datapoint now is: \n",
      "\n"
     ]
    },
    {
     "data": {
      "image/png": "[encoded data removed]",
      "text/plain": [
       "<Figure size 432x288 with 1 Axes>"
      ]
     },
     "metadata": {
      "needs_background": "light"
     },
     "output_type": "display_data"
    },
    {
     "name": "stdout",
     "output_type": "stream",
     "text": [
      "0\n"
     ]
    }
   ],
   "source": [
    "# easy task\n",
    "digit0=0\n",
    "digit1=1\n",
    "x_bin_train10=x_train[np.logical_or(y_train==digit0,y_train==digit1)]\n",
    "y_bin_train10=y_train[np.logical_or(y_train==digit0,y_train==digit1)]\n",
    "\n",
    "x_bin_test10=x_test[np.logical_or(y_test==digit0,y_test==digit1)]\n",
    "y_bin_test10=y_test[np.logical_or(y_test==digit0,y_test==digit1)]\n",
    "\n",
    "print(\"The first training datapoint now is: \\n\")\n",
    "plt.imshow(x_bin_train10[0],cmap=plt.cm.gray_r)\n",
    "plt.show()\n",
    "print(y_bin_train10[0])"
   ]
  },
  {
   "cell_type": "code",
   "execution_count": 7,
   "metadata": {},
   "outputs": [
    {
     "name": "stdout",
     "output_type": "stream",
     "text": [
      "The first training datapoint now is: \n",
      "\n"
     ]
    },
    {
     "data": {
      "image/png": "[encoded data removed]",
      "text/plain": [
       "<Figure size 432x288 with 1 Axes>"
      ]
     },
     "metadata": {
      "needs_background": "light"
     },
     "output_type": "display_data"
    },
    {
     "name": "stdout",
     "output_type": "stream",
     "text": [
      "9\n"
     ]
    }
   ],
   "source": [
    "# hard task\n",
    "digit6=6\n",
    "digit9=9\n",
    "x_bin_train69=x_train[np.logical_or(y_train==digit6,y_train==digit9)]\n",
    "y_bin_train69=y_train[np.logical_or(y_train==digit6,y_train==digit9)]\n",
    "\n",
    "x_bin_test69=x_test[np.logical_or(y_test==digit6,y_test==digit9)]\n",
    "y_bin_test69=y_test[np.logical_or(y_test==digit6,y_test==digit9)]\n",
    "\n",
    "print(\"The first training datapoint now is: \\n\")\n",
    "plt.imshow(x_bin_train69[0],cmap=plt.cm.gray_r)\n",
    "plt.show()\n",
    "print(y_bin_train69[0])"
   ]
  },
  {
   "cell_type": "code",
   "execution_count": 8,
   "metadata": {},
   "outputs": [],
   "source": [
    "\n",
    "x_bin_train10_flatten = np.reshape(x_bin_train10, [-1, 784])\n",
    "x_bin_train69_flatten = np.reshape(x_bin_train69, [-1, 784])\n",
    "\n",
    "x_bin_train10_flatten = x_bin_train10_flatten.astype('float32') /255\n",
    "x_bin_train69_flatten = x_bin_train69_flatten.astype('float32') /255\n",
    "\n",
    "x_bin_train10 = x_bin_train10.astype('float32') /255\n",
    "x_bin_train69 = x_bin_train69.astype('float32') /255\n",
    "\n",
    "x_bin_test10_flatten = np.reshape(x_bin_test10, [-1, 784])\n",
    "x_bin_test69_flatten = np.reshape(x_bin_test69, [-1, 784])\n",
    "\n",
    "x_bin_test10_flatten = x_bin_test10_flatten.astype('float32') /255\n",
    "x_bin_test69_flatten = x_bin_test69_flatten.astype('float32') /255\n",
    "\n",
    "x_bin_test10 = x_bin_test10.astype('float32') /255\n",
    "x_bin_test69 = x_bin_test69.astype('float32') /255\n",
    "\n",
    "y_bin_train10 = to_categorical(y_bin_train10)\n",
    "y_bin_train69 = to_categorical(y_bin_train69)\n",
    "\n",
    "y_bin_test10 = to_categorical(y_bin_test10)\n",
    "y_bin_test69 = to_categorical(y_bin_test69)\n"
   ]
  },
  {
   "cell_type": "code",
   "execution_count": 9,
   "metadata": {},
   "outputs": [],
   "source": [
    "def showStats(history):\n",
    "    acc = history.history['accuracy']\n",
    "    val_acc = history.history['val_accuracy']\n",
    "    loss = history.history['loss']\n",
    "    val_loss = history.history['val_loss']\n",
    "\n",
    "    epochs = range(len(acc))\n",
    "\n",
    "    plt.plot(epochs, acc, 'bo', label='Training acc')\n",
    "    plt.plot(epochs, val_acc, 'b', label='Validation acc')\n",
    "    plt.title('Training and validation accuracy')\n",
    "    plt.legend()\n",
    "\n",
    "    plt.figure()\n",
    "\n",
    "    plt.plot(epochs, loss, 'bo', label='Training loss')\n",
    "    plt.plot(epochs, val_loss, 'b', label='Validation loss')\n",
    "    plt.title('Training and validation loss')\n",
    "    plt.legend()\n",
    "\n",
    "    plt.show()"
   ]
  },
  {
   "cell_type": "code",
   "execution_count": 10,
   "metadata": {},
   "outputs": [
    {
     "data": {
      "image/png": "[encoded data removed]",
      "text/plain": [
       "<Figure size 432x288 with 1 Axes>"
      ]
     },
     "metadata": {
      "needs_background": "light"
     },
     "output_type": "display_data"
    },
    {
     "data": {
      "image/png": "[encoded data removed]",
      "text/plain": [
       "<Figure size 432x288 with 1 Axes>"
      ]
     },
     "metadata": {
      "needs_background": "light"
     },
     "output_type": "display_data"
    }
   ],
   "source": [
    "# 3 layers fully connected networks\n",
    "connected1 = Sequential()\n",
    "\n",
    "connected1.add(Dense(units=196, activation='relu', input_dim=784)) \n",
    "# connected1.add(Dense(units=196, activation='relu'))\n",
    "connected1.add(Dense(units=32, activation='relu'))\n",
    "connected1.add(Dense(units=2, activation='softmax')) \n",
    "\n",
    "sdg = optimizers.Adadelta(learning_rate=0.1)\n",
    "connected1 .compile(loss='categorical_crossentropy', optimizer=sdg, metrics=['accuracy'])\n",
    "\n",
    "t1 = time()\n",
    "history1 = connected1.fit(x_bin_train10_flatten, y_bin_train10, validation_split = 0.2, epochs=15, batch_size=100, verbose=0)\n",
    "t1 = time() - t1\n",
    "\n",
    "showStats(history1)\n"
   ]
  },
  {
   "cell_type": "code",
   "execution_count": 11,
   "metadata": {},
   "outputs": [
    {
     "data": {
      "image/png": "[encoded data removed]",
      "text/plain": [
       "<Figure size 432x288 with 1 Axes>"
      ]
     },
     "metadata": {
      "needs_background": "light"
     },
     "output_type": "display_data"
    },
    {
     "data": {
      "image/png": "[encoded data removed]",
      "text/plain": [
       "<Figure size 432x288 with 1 Axes>"
      ]
     },
     "metadata": {
      "needs_background": "light"
     },
     "output_type": "display_data"
    }
   ],
   "source": [
    "#4 layer fully connected\n",
    "\n",
    "connected2 = Sequential()\n",
    "\n",
    "connected2.add(Dense(units=784, activation='relu', input_dim=784)) \n",
    "connected2.add(Dense(units=196, activation='relu'))\n",
    "connected2.add(Dense(units=32, activation='relu'))\n",
    "connected2.add(Dense(units=2, activation='softmax')) \n",
    "\n",
    "sdg = optimizers.Adadelta(learning_rate=0.1)\n",
    "connected2.compile(loss='categorical_crossentropy', optimizer=sdg, metrics=['accuracy'])\n",
    "\n",
    "t2 = time()\n",
    "history2 = connected2.fit(x_bin_train10_flatten, y_bin_train10, validation_split = 0.2, epochs=15, batch_size=100, verbose=0)\n",
    "t2 = time() - t2\n",
    "\n",
    "showStats(history2)\n"
   ]
  },
  {
   "cell_type": "code",
   "execution_count": 12,
   "metadata": {},
   "outputs": [
    {
     "data": {
      "image/png": "[encoded data removed]",
      "text/plain": [
       "<Figure size 432x288 with 1 Axes>"
      ]
     },
     "metadata": {
      "needs_background": "light"
     },
     "output_type": "display_data"
    },
    {
     "data": {
      "image/png": "[encoded data removed]",
      "text/plain": [
       "<Figure size 432x288 with 1 Axes>"
      ]
     },
     "metadata": {
      "needs_background": "light"
     },
     "output_type": "display_data"
    }
   ],
   "source": [
    "connected3 = Sequential()\n",
    "\n",
    "connected3.add(Dense(units=196, activation='relu', input_dim=784)) \n",
    "connected3.add(Dense(units=49, activation='relu')) \n",
    "connected3.add(Dense(units=32, activation='relu'))\n",
    "connected3.add(Dense(units=2, activation='softmax')) \n",
    "\n",
    "sdg = optimizers.Adadelta(learning_rate=0.1)\n",
    "connected3.compile(loss='categorical_crossentropy', optimizer=sdg, metrics=['accuracy'])\n",
    "\n",
    "t3 = time()\n",
    "history3 = connected3.fit(x_bin_train10_flatten, y_bin_train10, validation_split = 0.2, epochs=15, batch_size=100, verbose=0)\n",
    "t3 = time() -t3\n",
    "showStats(history3)"
   ]
  },
  {
   "cell_type": "code",
   "execution_count": 14,
   "metadata": {},
   "outputs": [
    {
     "data": {
      "image/png": "[encoded data removed]",
      "text/plain": [
       "<Figure size 432x288 with 1 Axes>"
      ]
     },
     "metadata": {
      "needs_background": "light"
     },
     "output_type": "display_data"
    },
    {
     "data": {
      "image/png": "[encoded data removed]",
      "text/plain": [
       "<Figure size 432x288 with 1 Axes>"
      ]
     },
     "metadata": {
      "needs_background": "light"
     },
     "output_type": "display_data"
    }
   ],
   "source": [
    "#3 layer convnet\n",
    "seed(0)\n",
    "tf.random.set_seed(0)\n",
    "conv1 = Sequential()\n",
    "\n",
    "conv1.add(Input(shape= x_bin_test10[0].shape))\n",
    "conv1.add(Conv1D(32, kernel_size=3, activation='relu'))\n",
    "conv1.add(MaxPooling1D(pool_size=2))\n",
    "\n",
    "conv1.add(Conv1D(16, kernel_size=3, activation='relu'))\n",
    "conv1.add(MaxPooling1D(pool_size=2, padding='same'))\n",
    "\n",
    "conv1.add(Flatten()) \n",
    "conv1.add(Dense(units=2, activation='softmax'))\n",
    "\n",
    "adadelta = optimizers.Adadelta(learning_rate=0.1)\n",
    "conv1.compile(loss='categorical_crossentropy', optimizer=adadelta, metrics=['accuracy'])\n",
    "\n",
    "t_conv1 = time()\n",
    "history_conv1 = conv1.fit(x_bin_train10, y_bin_train10, validation_split=0.2, epochs=10, batch_size=50, verbose=0)\n",
    "t_conv1 = time()- t_conv1\n",
    "showStats(history_conv1)"
   ]
  },
  {
   "cell_type": "code",
   "execution_count": 15,
   "metadata": {},
   "outputs": [
    {
     "data": {
      "image/png": "[encoded data removed]",
      "text/plain": [
       "<Figure size 432x288 with 1 Axes>"
      ]
     },
     "metadata": {
      "needs_background": "light"
     },
     "output_type": "display_data"
    },
    {
     "data": {
      "image/png": "[encoded data removed]",
      "text/plain": [
       "<Figure size 432x288 with 1 Axes>"
      ]
     },
     "metadata": {
      "needs_background": "light"
     },
     "output_type": "display_data"
    }
   ],
   "source": [
    "seed(0)\n",
    "tf.random.set_seed(0)\n",
    "conv2 = Sequential()\n",
    "\n",
    "conv2.add(Input(shape= x_bin_test10[0].shape))\n",
    "conv2.add(Conv1D(32, kernel_size=3, activation='relu'))\n",
    "conv2.add(MaxPooling1D(pool_size=2))\n",
    "\n",
    "conv2.add(Conv1D(16, kernel_size=5, activation='relu'))\n",
    "conv2.add(MaxPooling1D(pool_size=2, padding='same'))\n",
    "\n",
    "conv2.add(Conv1D(8, kernel_size=3, activation='relu'))\n",
    "conv2.add(MaxPooling1D(pool_size=2, padding='same'))\n",
    "\n",
    "conv2.add(Flatten()) \n",
    "conv2.add(Dense(units=2, activation='softmax'))\n",
    "\n",
    "adadelta = optimizers.Adadelta(learning_rate=0.1)\n",
    "conv2.compile(loss='categorical_crossentropy', optimizer=adadelta, metrics=['accuracy'])\n",
    "\n",
    "t_conv2 = time()\n",
    "history_conv2 = conv2.fit(x_bin_train10, y_bin_train10, validation_split=0.2, epochs=10, batch_size=50, verbose=0)\n",
    "t_conv2 = time() -t_conv2\n",
    "showStats(history_conv2)\n"
   ]
  },
  {
   "cell_type": "code",
   "execution_count": 16,
   "metadata": {},
   "outputs": [
    {
     "data": {
      "image/png": "[encoded data removed]",
      "text/plain": [
       "<Figure size 432x288 with 1 Axes>"
      ]
     },
     "metadata": {
      "needs_background": "light"
     },
     "output_type": "display_data"
    },
    {
     "data": {
      "image/png": "[encoded data removed]",
      "text/plain": [
       "<Figure size 432x288 with 1 Axes>"
      ]
     },
     "metadata": {
      "needs_background": "light"
     },
     "output_type": "display_data"
    }
   ],
   "source": [
    "seed(0)\n",
    "tf.random.set_seed(0)\n",
    "conv3 = Sequential()\n",
    "\n",
    "conv3.add(Input(shape= x_bin_test10[0].shape))\n",
    "conv3.add(Conv1D(16, kernel_size=3, activation='relu'))\n",
    "conv3.add(MaxPooling1D(pool_size=2))\n",
    "\n",
    "conv3.add(Conv1D(8, kernel_size=5, activation='relu'))\n",
    "conv3.add(MaxPooling1D(pool_size=2, padding='same'))\n",
    "\n",
    "conv3.add(Conv1D(4, kernel_size=3, activation='relu'))\n",
    "conv3.add(MaxPooling1D(pool_size=2, padding='same'))\n",
    "\n",
    "conv3.add(Flatten()) \n",
    "conv3.add(Dense(units=2, activation='softmax'))\n",
    "\n",
    "adadelta = optimizers.Adadelta(learning_rate=0.1)\n",
    "conv3.compile(loss='categorical_crossentropy', optimizer=adadelta, metrics=['accuracy'])\n",
    "\n",
    "t_conv3 = time()\n",
    "history_conv3 = conv3.fit(x_bin_train10, y_bin_train10, validation_split=0.2, epochs=10, batch_size=50, verbose=0)\n",
    "t_conv3 = time() - t_conv3\n",
    "showStats(history_conv3)\n",
    "\n"
   ]
  },
  {
   "cell_type": "code",
   "execution_count": 17,
   "metadata": {},
   "outputs": [],
   "source": [
    "# hard task 6 and 9\n",
    "\n",
    "connected1_69 = Sequential()\n",
    "\n",
    "connected1_69.add(Dense(units=196, activation='relu', input_dim=784)) \n",
    "connected1_69.add(Dense(units=32, activation='relu'))\n",
    "connected1_69.add(Dense(units=2, activation='softmax')) \n",
    "\n",
    "sdg = optimizers.Adadelta(learning_rate=0.1)\n",
    "connected1_69 .compile(loss='categorical_crossentropy', optimizer=sdg, metrics=['accuracy'])\n",
    "\n",
    "t1_69 = time()\n",
    "history1_69 = connected1_69.fit(x_bin_train69_flatten, y_bin_train69, validation_split = 0.2, epochs=15, batch_size=100, verbose=0)\n",
    "t1_69 = time() - t1_69\n",
    "\n",
    "#\n",
    "connected2_69 = Sequential()\n",
    "\n",
    "connected2_69.add(Dense(units=784, activation='relu', input_dim=784)) \n",
    "connected2_69.add(Dense(units=196, activation='relu'))\n",
    "connected2_69.add(Dense(units=32, activation='relu'))\n",
    "connected2_69.add(Dense(units=2, activation='softmax')) \n",
    "\n",
    "sdg = optimizers.Adadelta(learning_rate=0.1)\n",
    "connected2_69.compile(loss='categorical_crossentropy', optimizer=sdg, metrics=['accuracy'])\n",
    "\n",
    "t2_69 = time()\n",
    "history2_69 = connected2_69.fit(x_bin_train69_flatten, y_bin_train69, validation_split = 0.2, epochs=15, batch_size=100, verbose=0)\n",
    "t2_69 = time() - t2_69\n",
    "\n",
    "\n",
    "#\n",
    "connected3_69 = Sequential()\n",
    "\n",
    "connected3_69.add(Dense(units=196, activation='relu', input_dim=784)) \n",
    "connected3_69.add(Dense(units=49, activation='relu')) \n",
    "connected3_69.add(Dense(units=32, activation='relu'))\n",
    "connected3_69.add(Dense(units=2, activation='softmax')) \n",
    "\n",
    "sdg = optimizers.Adadelta(learning_rate=0.1)\n",
    "connected3_69.compile(loss='categorical_crossentropy', optimizer=sdg, metrics=['accuracy'])\n",
    "\n",
    "t3_69 = time()\n",
    "history3_69 = connected3_69.fit(x_bin_train69_flatten, y_bin_train69, validation_split = 0.2, epochs=15, batch_size=100, verbose=0)\n",
    "t3_69 = time() -t3_69\n",
    "\n",
    "\n",
    "\n",
    "#\n",
    "\n",
    "conv1_69 = Sequential()\n",
    "\n",
    "conv1_69.add(Input(shape= x_bin_test10[0].shape))\n",
    "conv1_69.add(Conv1D(32, kernel_size=3, activation='relu'))\n",
    "conv1_69.add(MaxPooling1D(pool_size=2))\n",
    "\n",
    "conv1_69.add(Conv1D(16, kernel_size=3, activation='relu'))\n",
    "conv1_69.add(MaxPooling1D(pool_size=2, padding='same'))\n",
    "\n",
    "conv1_69.add(Flatten()) \n",
    "conv1_69.add(Dense(units=2, activation='softmax'))\n",
    "\n",
    "adadelta = optimizers.Adadelta(learning_rate=0.1)\n",
    "conv1_69.compile(loss='categorical_crossentropy', optimizer=adadelta, metrics=['accuracy'])\n",
    "\n",
    "t_conv1_69 = time()\n",
    "history_conv1_69 = conv1_69.fit(x_bin_train69, y_bin_train69, validation_split=0.2, epochs=10, batch_size=50, verbose=0)\n",
    "t_conv1_69 = time()- t_conv1_69\n",
    "\n",
    "#\n",
    "conv2_69 = Sequential()\n",
    "\n",
    "conv2_69.add(Input(shape= x_bin_test10[0].shape))\n",
    "conv2_69.add(Conv1D(32, kernel_size=3, activation='relu'))\n",
    "conv2_69.add(MaxPooling1D(pool_size=2))\n",
    "\n",
    "conv2_69.add(Conv1D(16, kernel_size=5, activation='relu'))\n",
    "conv2_69.add(MaxPooling1D(pool_size=2, padding='same'))\n",
    "\n",
    "conv2_69.add(Conv1D(8, kernel_size=3, activation='relu'))\n",
    "conv2_69.add(MaxPooling1D(pool_size=2, padding='same'))\n",
    "\n",
    "conv2_69.add(Flatten()) \n",
    "conv2_69.add(Dense(units=2, activation='softmax'))\n",
    "\n",
    "adadelta = optimizers.Adadelta(learning_rate=0.1)\n",
    "conv2_69.compile(loss='categorical_crossentropy', optimizer=adadelta, metrics=['accuracy'])\n",
    "\n",
    "t_conv2_69 = time()\n",
    "history_conv2_69 = conv2_69.fit(x_bin_train69, y_bin_train69, validation_split=0.2, epochs=10, batch_size=50, verbose=0)\n",
    "t_conv2_69 = time() -t_conv2_69\n",
    "\n",
    "#\n",
    "\n",
    "conv3_69 = Sequential()\n",
    "\n",
    "conv3_69.add(Input(shape= x_bin_test10[0].shape))\n",
    "conv3_69.add(Conv1D(16, kernel_size=3, activation='relu'))\n",
    "conv3_69.add(MaxPooling1D(pool_size=2))\n",
    "\n",
    "conv3_69.add(Conv1D(8, kernel_size=5, activation='relu'))\n",
    "conv3_69.add(MaxPooling1D(pool_size=2, padding='same'))\n",
    "\n",
    "conv3_69.add(Conv1D(4, kernel_size=3, activation='relu'))\n",
    "conv3_69.add(MaxPooling1D(pool_size=2, padding='same'))\n",
    "\n",
    "conv3_69.add(Flatten()) \n",
    "conv3_69.add(Dense(units=2, activation='softmax'))\n",
    "\n",
    "adadelta = optimizers.Adadelta(learning_rate=0.1)\n",
    "conv3_69.compile(loss='categorical_crossentropy', optimizer=adadelta, metrics=['accuracy'])\n",
    "\n",
    "t_conv3_69 = time()\n",
    "history_conv3_69 = conv3_69.fit(x_bin_train69, y_bin_train69, validation_split=0.2, epochs=10, batch_size=50, verbose=0)\n",
    "t_conv3_69 = time() - t_conv3_69"
   ]
  },
  {
   "cell_type": "code",
   "execution_count": null,
   "metadata": {},
   "outputs": [],
   "source": [
    "#Now we evaluate all networks performance\n",
    "\n",
    "net1TrainScore = connected1.evaluate(x_bin_train10_flatten, y_bin_train10)\n",
    "net1TestScore = connected1.evaluate(x_bin_test10_flatten, y_bin_test10)\n",
    "\n",
    "net2TrainScore = connected2.evaluate(x_bin_train10_flatten, y_bin_train10)\n",
    "net2TestScore = connected2.evaluate(x_bin_test10_flatten, y_bin_test10)\n",
    "\n",
    "net3TrainScore = connected3.evaluate(x_bin_train10_flatten, y_bin_train10)\n",
    "net3TestScore = connected3.evaluate(x_bin_test10_flatten, y_bin_test10)\n",
    "\n",
    "net_conv1TrainScore = conv1.evaluate(x_bin_train10, y_bin_train10)\n",
    "net_conv1TestScore = conv1.evaluate(x_bin_test10, y_bin_test10)\n",
    "\n",
    "net_conv2TrainScore = conv2.evaluate(x_bin_train10, y_bin_train10)\n",
    "net_conv2TestScore = conv2.evaluate(x_bin_test10, y_bin_test10)\n",
    "\n",
    "net_conv3TrainScore = conv3.evaluate(x_bin_train10, y_bin_train10)\n",
    "net_conv3TestScore = conv3.evaluate(x_bin_test10, y_bin_test10)\n",
    "\n",
    "\n",
    "\n",
    "net1TrainScore_69 = connected1_69.evaluate(x_bin_train69_flatten, y_bin_train69)\n",
    "net1TestScore_69 = connected1_69.evaluate(x_bin_test69_flatten, y_bin_test69)\n",
    "\n",
    "net2TrainScore_69 = connected2_69.evaluate(x_bin_train69_flatten, y_bin_train69)\n",
    "net2TestScore_69 = connected2_69.evaluate(x_bin_test69_flatten, y_bin_test69)\n",
    "\n",
    "net3TrainScore_69 = connected3_69.evaluate(x_bin_train69_flatten, y_bin_train69)\n",
    "net3TestScore_69 = connected3_69.evaluate(x_bin_test69_flatten, y_bin_test69)\n",
    "\n",
    "net_conv1TrainScore_69 = conv1_69.evaluate(x_bin_train69, y_bin_train69)\n",
    "net_conv1TestScore_69 = conv1_69.evaluate(x_bin_test69, y_bin_test69)\n",
    "\n",
    "net_conv2TrainScore_69 = conv2_69.evaluate(x_bin_train69, y_bin_train69)\n",
    "net_conv2TestScore_69 = conv2_69.evaluate(x_bin_test69, y_bin_test69)\n",
    "\n",
    "net_conv3TrainScore_69 = conv3_69.evaluate(x_bin_train69, y_bin_train69)\n",
    "net_conv3TestScore_69 = conv3_69.evaluate(x_bin_test69, y_bin_test69)\n"
   ]
  },
  {
   "cell_type": "code",
   "execution_count": null,
   "metadata": {},
   "outputs": [],
   "source": [
    "data = {'Train accuracy':[net1TrainScore[1], net2TrainScore[1],  net3TrainScore[1], net_conv1TrainScore[1], net_conv2TrainScore[1], net_conv3TrainScore[1] ], \n",
    "        'Train loss':[net1TrainScore[0], net2TrainScore[0],  net3TrainScore[0], net_conv1TrainScore[0], net_conv2TrainScore[0], net_conv3TrainScore[0] ], \n",
    "        'Validation accuracy mean': [np.mean(history1.history['val_accuracy']),np.mean(history2.history['val_accuracy']), np.mean(history3.history['val_accuracy']), np.mean(history_conv1.\n",
    "history['val_accuracy']), np.mean(history_conv2.history['val_accuracy']), np.mean(history_conv3.history['val_accuracy'])],\n",
    "        'Validation loss mean': [np.mean(history1.history['val_loss']), np.mean(history2.history['val_loss']), np.mean(history3.history['val_loss']), np.mean(history_conv1.history\n",
    "['val_loss']), np.mean(history_conv2.history['val_loss']), np.mean(history_conv3.history['val_loss'])],\n",
    "        'Test accuracy': [net1TestScore[1], net2TestScore[1], net3TestScore[1], net_conv1TestScore[1], net_conv1TestScore[1], net_conv1TestScore[1]], \n",
    "        'Test loss': [net1TestScore[0], net2TestScore[0], net3TestScore[0], net_conv1TestScore[0], net_conv1TestScore[0], net_conv1TestScore[0]], \n",
    "        'Learning Time':[t1, t2, t3, t_conv1, t_conv2, t_conv3]}  \n",
    "\n",
    "indexes = ['3l fully con', '4l fully con (784)', '4l fully con (196)', '3l conv', '4l conv (32)', '4l conv (16)']\n",
    "\n",
    "dataframe = pd.DataFrame(data= data, index= indexes)"
   ]
  },
  {
   "cell_type": "markdown",
   "metadata": {
    "collapsed": true
   },
   "source": [
    "### Cheating"
   ]
  },
  {
   "cell_type": "markdown",
   "metadata": {},
   "source": [
    "We next investigate the capability of the neural networks to find a good model, knowing that a very accurate model exists. For this, we add some 'cheat info' to our data: we replace the first pixel value in the data matrix by a digit that simply contains a 0/1 encoding of the actual class label: "
   ]
  },
  {
   "cell_type": "code",
   "execution_count": null,
   "metadata": {},
   "outputs": [],
   "source": [
    "%hist -o -g -f ipython_history.md"
   ]
  },
  {
   "cell_type": "code",
   "execution_count": null,
   "metadata": {},
   "outputs": [
    {
     "ename": "NameError",
     "evalue": "name 'y_bin_train' is not defined",
     "output_type": "error",
     "traceback": [
      "\u001b[1;31m---------------------------------------------------------------------------\u001b[0m",
      "\u001b[1;31mNameError\u001b[0m                                 Traceback (most recent call last)",
      "\u001b[1;32m<ipython-input-136-1536675859c8>\u001b[0m in \u001b[0;36m<module>\u001b[1;34m\u001b[0m\n\u001b[0;32m      1\u001b[0m \u001b[1;31m#adding cheating information to the training data:\u001b[0m\u001b[1;33m\u001b[0m\u001b[1;33m\u001b[0m\u001b[1;33m\u001b[0m\u001b[0m\n\u001b[1;32m----> 2\u001b[1;33m \u001b[0mcheatcol_train\u001b[0m\u001b[1;33m=\u001b[0m\u001b[0mnp\u001b[0m\u001b[1;33m.\u001b[0m\u001b[0marray\u001b[0m\u001b[1;33m(\u001b[0m\u001b[0my_bin_train\u001b[0m\u001b[1;33m)\u001b[0m \u001b[1;31m#making a copy of the original target array\u001b[0m\u001b[1;33m\u001b[0m\u001b[1;33m\u001b[0m\u001b[0m\n\u001b[0m\u001b[0;32m      3\u001b[0m \u001b[0mcheatcol_train\u001b[0m\u001b[1;33m[\u001b[0m\u001b[0mcheatcol_train\u001b[0m\u001b[1;33m==\u001b[0m\u001b[0mdigit0\u001b[0m\u001b[1;33m]\u001b[0m\u001b[1;33m=\u001b[0m\u001b[1;36m0\u001b[0m  \u001b[1;31m#re-coding the two classes as 0s and 1s\u001b[0m\u001b[1;33m\u001b[0m\u001b[1;33m\u001b[0m\u001b[0m\n\u001b[0;32m      4\u001b[0m \u001b[0mcheatcol_train\u001b[0m\u001b[1;33m[\u001b[0m\u001b[0mcheatcol_train\u001b[0m\u001b[1;33m==\u001b[0m\u001b[0mdigit1\u001b[0m\u001b[1;33m]\u001b[0m\u001b[1;33m=\u001b[0m\u001b[1;36m1\u001b[0m\u001b[1;33m\u001b[0m\u001b[1;33m\u001b[0m\u001b[0m\n\u001b[0;32m      5\u001b[0m \u001b[0mx_bin_cheat_train\u001b[0m \u001b[1;33m=\u001b[0m \u001b[0mnp\u001b[0m\u001b[1;33m.\u001b[0m\u001b[0mcopy\u001b[0m\u001b[1;33m(\u001b[0m\u001b[0mx_bin_train\u001b[0m\u001b[1;33m)\u001b[0m\u001b[1;33m\u001b[0m\u001b[1;33m\u001b[0m\u001b[0m\n",
      "\u001b[1;31mNameError\u001b[0m: name 'y_bin_train' is not defined"
     ]
    }
   ],
   "source": [
    "#adding cheating information to the training data:\n",
    "cheatcol_train=np.array(y_bin_train) #making a copy of the original target array\n",
    "cheatcol_train[cheatcol_train==digit0]=0  #re-coding the two classes as 0s and 1s\n",
    "cheatcol_train[cheatcol_train==digit1]=\n",
    "x_bin_cheat_train = np.copy(x_bin_train)\n",
    "x_bin_cheat_train[:,0,0] = cheatcol_train.reshape(len(cheatcol_train))\n",
    "\n",
    "#adding cheating information to the testing data:\n",
    "cheatcol_test=np.array(y_bin_test) #making a copy of the original target array\n",
    "cheatcol_test[cheatcol_test==digit0]=0  #re-coding the two classes as 0s and 1s\n",
    "cheatcol_test[cheatcol_test==digit1]=1\n",
    "x_bin_cheat_test = np.copy(x_bin_test)\n",
    "x_bin_cheat_test[:,0,0] = cheatcol_test.reshape(len(cheatcol_test))"
   ]
  },
  {
   "cell_type": "markdown",
   "metadata": {},
   "source": [
    "The neural networks should, in principle, be able to construct a 100% accurate classifier for this data: we only have to 'learn' that only the first pixel in the data matters. \n",
    "\n",
    "**e)** Describe, briefly, how the weights of a (fully connected) network (with arbitrary number of layers) would have to be set, so that the resulting model is 100% accurate on this cheating data. This part of the exercise does not involve any Python code. Just give your answer in a short text.\n",
    "\n",
    "**f)** Investigate how the accuracy improves in practice on this new dataset. Do you achieve 100% accuracy on the test set? If not, try to change the encoding in the cheat column: instead of representing digit1 with a 1, use a larger number, e.g. 250. Does that help? Why?"
   ]
  },
  {
   "cell_type": "markdown",
   "metadata": {},
   "source": [
    "# Exercise 3 - Data preparation, exploration and feature engineering"
   ]
  },
  {
   "cell_type": "markdown",
   "metadata": {},
   "source": [
    "In this exercise, you are going to investigate student dropout based on the dataset \"churn2000.cvs\". This is a real dataset, and there is no single \"correct\" way to use it (however, there are several wrong ones!). Your exercise is to explore one or more possible usecases, and document the one(s) you find the most fruitful/interesting.  Your work should probably include the steps below:\n",
    "\n",
    "- An investigation of the data, using e.g. FACETs, Pandas, and/or whatever other tools you prefer. Can you find any interesting correlations? Are there problematic features or rows in the dataset?\n",
    "- Handle missing data and possible outliers (in each case, consider what you want to do: Remove row? Remove column? Insert custom value?).\n",
    "- Normalize/bin/create dummy variables where relevant. \n",
    "- Determine what you would like to predict, i.e. choose your target variable. Try formulating a specific usecase for your experiment (e.g. \"Given a students perfomance in high school and first semester, what is the probability that he/she churns in the 2. semester?\")\n",
    "- Train a neural network and at least one other algorithm on the data. Find a good set of hyperparameters for each model. Do you think a neural network is suitable for this kind of problem? Why/why not?\n",
    "- What features seem to be important for predicting whether a student is likely to drop out?\n",
    "\n",
    "Warning: Make sure you carefully consider what information is available at the time where a prediction is to be made - for example, it doesn't make any sense to try to predict if a student churns in semester 1, if you include a feature which tells that this student churned in semester 2!  So depending on your specific usecase, you should probably remove some columns and/or rows before you train your model."
   ]
  },
  {
   "cell_type": "markdown",
   "metadata": {},
   "source": [
    "# Exercise 4: Reinforcement Learning"
   ]
  },
  {
   "cell_type": "markdown",
   "metadata": {},
   "source": [
    "You can carry out this part of the project either in a jupyter notebook or in a google colab notebook - the latter option allows you to easily use the GPU, rather than the CPU, for training, which is MUCH faster! See these videos for how to get started with google colab notebooks: https://www.youtube.com/watch?v=inN8seMm7UI (for getting started) and https://www.youtube.com/watch?v=PitcORQSjNM (for using the GPU). At the end, you can simply merge the generated pdfs when you submit your project. "
   ]
  },
  {
   "cell_type": "markdown",
   "metadata": {},
   "source": [
    "\n",
    "In this final exercise, we are going to explore the concept of reinforcement learning by training a neural network to play a game of your own choice.\n",
    "\n",
    "We will use the environments provided in OpenAI Gym https://gym.openai.com/ and also documented here: https://github.com/openai/gym/wiki\n",
    "\n",
    "Instead of implementing Q-learning yourselves, you are welcome to simply run a pre-coded example.\n",
    "You can look here for inspiration: https://github.com/ageron/handson-ml2/blob/master/18_reinforcement_learning.ipynb \n",
    "\n",
    "In the exercise, toy around with the parameters, and see if you can optimize learning. You should also explain the basics of what is going on. Include some pictures of the animation, and report your score."
   ]
  },
  {
   "cell_type": "markdown",
   "metadata": {},
   "source": [
    "a) Give a short description of the rules and incentives in the game."
   ]
  },
  {
   "cell_type": "markdown",
   "metadata": {},
   "source": [
    "b) Run the code (either directly in the notebook or on Colab), and show how the training progresses, for example by taking screenshots and including them as pictures in the notebook."
   ]
  },
  {
   "cell_type": "markdown",
   "metadata": {},
   "source": [
    "c) Give a short description of what is going on in the code. This should include a description of the neural network, the inputs and outputs to the neural network, and the process of Q-learning."
   ]
  },
  {
   "cell_type": "markdown",
   "metadata": {},
   "source": [
    "d) Report the highest score your network was able to obtain. "
   ]
  },
  {
   "cell_type": "code",
   "execution_count": null,
   "metadata": {},
   "outputs": [],
   "source": []
  }
 ],
 "metadata": {
  "kernelspec": {
   "display_name": "Python 3",
   "language": "python",
   "name": "python3"
  },
  "language_info": {
   "codemirror_mode": {
    "name": "ipython",
    "version": 3
   },
   "file_extension": ".py",
   "mimetype": "text/x-python",
   "name": "python",
   "nbconvert_exporter": "python",
   "pygments_lexer": "ipython3",
   "version": "3.8.8"
  }
 },
 "nbformat": 4,
 "nbformat_minor": 2
}
