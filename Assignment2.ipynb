{
 "cells": [
  {
   "cell_type": "markdown",
   "metadata": {},
   "source": [
    "<h1 align=\"center\">Machine Learning</h1><h2 align=\"center\" style=\"margin:10px\">Assignment 2</h2>"
   ]
  },
  {
   "cell_type": "code",
   "execution_count": 94,
   "metadata": {},
   "outputs": [],
   "source": [
    "# Student names and numbers:\n"
   ]
  },
  {
   "cell_type": "markdown",
   "metadata": {},
   "source": [
    "The assignments below should be solved and documented as a mini-project that will form the basis for the\n",
    "examination. When solving the exercises it is important that you\n",
    "\n",
    "  * document all relevant results and analyses that you have obtained/performed during the exercises\n",
    "  * try to relate your results to the theoretical background of the methods being applied.\n",
    "\n",
    "Feel free to add cells if you need to. The easiest way to convert to pdf is to save this notebook as .html (File-->Download as-->HTML) and then convert this html file to pdf. You can also export as pdf directly, but here you need to watch your margins as the converter will cut off your code (i.e. make vertical code!).\n",
    "\n",
    "Last, but not least:\n",
    "* Looking for an overview of the markdown language? The cheat sheet <a href=\"https://medium.com/ibm-data-science-experience/markdown-for-jupyter-notebooks-cheatsheet-386c05aeebed\">here</a> might help.\n",
    "* For most of the Python specific components of the exercises, you should not need constructs beyond those that are already included in the notebooks on the course's web-page (still you should not feel constrained by these, so feel free to be adventurous). You may, however, need to consult the documentation for some of the methods supplied by `sklearn`."
   ]
  },
  {
   "cell_type": "code",
   "execution_count": 95,
   "metadata": {},
   "outputs": [
    {
     "name": "stderr",
     "output_type": "stream",
     "text": [
      "[nltk_data] Downloading package stopwords to\n",
      "[nltk_data]     C:\\Users\\spiri\\AppData\\Roaming\\nltk_data...\n",
      "[nltk_data]   Package stopwords is already up-to-date!\n"
     ]
    }
   ],
   "source": [
    "# Import all necessary libraries here\n",
    "import mglearn\n",
    "%matplotlib inline\n",
    "import sys\n",
    "import numpy as np\n",
    "np.set_printoptions(threshold= sys.maxsize)\n",
    "import matplotlib.pyplot as plt\n",
    "import pandas as pd\n",
    "from IPython.display import display\n",
    "from sklearn.model_selection import train_test_split\n",
    "from sklearn.model_selection import cross_val_score\n",
    "import scipy as scipy\n",
    "import seaborn as sns\n",
    "from sklearn.feature_extraction.text import TfidfVectorizer\n",
    "\n",
    "from tensorflow.keras.models import Sequential\n",
    "from tensorflow.keras.layers import Dense, Conv2D, MaxPooling2D, Flatten\n",
    "from tensorflow.keras.utils import to_categorical\n",
    "from tensorflow.keras.metrics import Accuracy\n",
    "from tensorflow.keras import optimizers\n",
    "\n",
    "import tensorflow as tf\n",
    "from numpy.random import seed\n",
    "\n",
    "import nltk\n",
    "nltk.download(\"stopwords\")\n",
    "from nltk.corpus import stopwords\n"
   ]
  },
  {
   "cell_type": "markdown",
   "metadata": {},
   "source": [
    "# Exercise 1: Sentiment analysis"
   ]
  },
  {
   "cell_type": "markdown",
   "metadata": {},
   "source": [
    "In this exercise we use the IMDB-dataset, which we will use to perform a sentiment analysis. The code below assumes that the data is placed in the same folder as this notebook. We see that the reviews are loaded as a pandas dataframe, and print the beginning of the first few reviews."
   ]
  },
  {
   "cell_type": "code",
   "execution_count": 96,
   "metadata": {},
   "outputs": [
    {
     "name": "stdout",
     "output_type": "stream",
     "text": [
      "<class 'pandas.core.frame.DataFrame'>\n",
      "bromwell high is a cartoon comedy . it ran at the same time as some other programs about school life  such as  teachers  . my   years in the teaching profession lead me to believe that bromwell high  s satire is much closer to reality than is  teachers  . the scramble to survive financially  the insightful students who can see right through their pathetic teachers  pomp  the pettiness of the whole situation  all remind me of the schools i knew and their students . when i saw the episode in which a student repeatedly tried to burn down the school  i immediately recalled . . . . . . . . . at . . . . . . . . . . high . a classic line inspector i  m here to sack one of your teachers . student welcome to bromwell high . i expect that many adults of my age think that bromwell high is far fetched . what a pity that it isn  t   \n",
      "<class 'pandas.core.series.Series'>\n"
     ]
    }
   ],
   "source": [
    "reviews = pd.read_csv('IMDB_dataset/reviews.txt', header=None)\n",
    "labels = pd.read_csv('IMDB_dataset/labels.txt', header=None)\n",
    "Y = np.array((labels=='positive').astype(np.int_)).ravel()\n",
    "print(type(reviews))\n",
    "print(reviews[0][0])\n",
    "\n",
    "print(type(reviews[0]))\n"
   ]
  },
  {
   "cell_type": "code",
   "execution_count": 97,
   "metadata": {},
   "outputs": [],
   "source": [
    "#START\n",
    "\n",
    "#Preproccesing \n",
    "#1. Punctuation removal\n",
    "\n",
    "import string \n",
    "for idx, rev in enumerate(reviews[0]):\n",
    "    reviews[0][idx] = rev.translate(str.maketrans('', '', string.punctuation))\n",
    "    "
   ]
  },
  {
   "cell_type": "code",
   "execution_count": 98,
   "metadata": {},
   "outputs": [
    {
     "name": "stdout",
     "output_type": "stream",
     "text": [
      "<bound method NDFrame.head of                                                        0\n",
      "0      bromwell high is a cartoon comedy  it ran at t...\n",
      "1      story of a man who has unnatural feelings for ...\n",
      "2      homelessness  or houselessness as george carli...\n",
      "3      airport    starts as a brand new luxury    pla...\n",
      "4      brilliant over  acting by lesley ann warren  b...\n",
      "...                                                  ...\n",
      "24995  i saw  descent  last night at the stockholm fi...\n",
      "24996  a christmas together actually came before my t...\n",
      "24997  some films that you pick up for a pound turn o...\n",
      "24998  working  class romantic drama from director ma...\n",
      "24999  this is one of the dumbest films  i  ve ever s...\n",
      "\n",
      "[25000 rows x 1 columns]>\n"
     ]
    }
   ],
   "source": [
    "print(reviews.head)"
   ]
  },
  {
   "cell_type": "code",
   "execution_count": 99,
   "metadata": {},
   "outputs": [],
   "source": [
    "# 2. Removal of stop_words\n",
    "from gensim.parsing.preprocessing import remove_stopwords\n",
    "\n",
    "for idx, rev in enumerate(reviews[0]):\n",
    "    reviews[0][idx] = remove_stopwords(rev)\n",
    "    \n"
   ]
  },
  {
   "cell_type": "code",
   "execution_count": 100,
   "metadata": {},
   "outputs": [
    {
     "name": "stdout",
     "output_type": "stream",
     "text": [
      "<bound method NDFrame.head of                                                        0\n",
      "0      bromwell high cartoon comedy ran time programs...\n",
      "1      story man unnatural feelings pig starts openin...\n",
      "2      homelessness houselessness george carlin state...\n",
      "3      airport starts brand new luxury plane loaded v...\n",
      "4      brilliant acting lesley ann warren best dramat...\n",
      "...                                                  ...\n",
      "24995  saw descent night stockholm film festival huge...\n",
      "24996  christmas actually came time ve raised john de...\n",
      "24997  films pick pound turn good rd century films re...\n",
      "24998  working class romantic drama director martin r...\n",
      "24999  dumbest films ve seen rips nearly type thrille...\n",
      "\n",
      "[25000 rows x 1 columns]>\n"
     ]
    }
   ],
   "source": [
    "print(reviews.head)"
   ]
  },
  {
   "cell_type": "code",
   "execution_count": 101,
   "metadata": {},
   "outputs": [
    {
     "name": "stderr",
     "output_type": "stream",
     "text": [
      "[nltk_data] Downloading package wordnet to\n",
      "[nltk_data]     C:\\Users\\spiri\\AppData\\Roaming\\nltk_data...\n",
      "[nltk_data]   Package wordnet is already up-to-date!\n",
      "[nltk_data] Downloading package averaged_perceptron_tagger to\n",
      "[nltk_data]     C:\\Users\\spiri\\AppData\\Roaming\\nltk_data...\n",
      "[nltk_data]   Package averaged_perceptron_tagger is already up-to-\n",
      "[nltk_data]       date!\n"
     ]
    }
   ],
   "source": [
    "#3. Lemmatisation of reviews \n",
    "\n",
    "nltk.download('wordnet')\n",
    "nltk.download('averaged_perceptron_tagger')\n",
    "from nltk.stem import WordNetLemmatizer\n",
    "from nltk.corpus import wordnet\n",
    "\n",
    "lmtizer = WordNetLemmatizer()\n",
    "\n",
    "\n",
    "def pos_tagger(nltk_tag):\n",
    "    if nltk_tag.startswith('J'):\n",
    "        return wordnet.ADJ\n",
    "    elif nltk_tag.startswith('V'):\n",
    "        return wordnet.VERB\n",
    "    elif nltk_tag.startswith('N'):\n",
    "        return wordnet.NOUN\n",
    "    elif nltk_tag.startswith('R'):\n",
    "        return wordnet.ADV\n",
    "    else:         \n",
    "        return None\n",
    " \n",
    " \n",
    "for idx, rev in enumerate(reviews[0]):\n",
    "    pos_tagged = nltk.pos_tag(nltk.word_tokenize(rev)) \n",
    "    wordnet_tagged = list(map(lambda x: (x[0], pos_tagger(x[1])), pos_tagged))\n",
    "    lemmatized_sentence = []\n",
    "    for word, tag in wordnet_tagged:  \n",
    "        if tag is None:\n",
    "            lemmatized_sentence.append(word)\n",
    "        else:  \n",
    "            lemmatized_sentence.append(lmtizer.lemmatize(word, tag))\n",
    "    reviews[0][idx]= \" \".join(lemmatized_sentence)\n",
    " "
   ]
  },
  {
   "cell_type": "code",
   "execution_count": null,
   "metadata": {},
   "outputs": [
    {
     "name": "stdout",
     "output_type": "stream",
     "text": [
      "<bound method NDFrame.head of                                                        0\n",
      "0      bromwell high cartoon comedy run time program ...\n",
      "1      story man unnatural feeling pig start open sce...\n",
      "2      homelessness houselessness george carlin state...\n",
      "3      airport start brand new luxury plane load valu...\n",
      "4      brilliant act lesley ann warren best dramatic ...\n",
      "...                                                  ...\n",
      "24995  saw descent night stockholm film festival huge...\n",
      "24996  christmas actually come time ve raise john den...\n",
      "24997  film pick pound turn good rd century film rele...\n",
      "24998  work class romantic drama director martin ritt...\n",
      "24999  dumb film ve see rip nearly type thriller mana...\n",
      "\n",
      "[25000 rows x 1 columns]>\n"
     ]
    }
   ],
   "source": [
    "\n",
    "\n",
    "# for idx, rev in enumerate(reviews[0]):\n",
    "#     tokenized_rev = word_tokenize(rev.lower())\n",
    "#     lemmatized_output = ' '.join([lmtizer.lemmatize(w, pos= 'a') for w in tokenized_rev])\n",
    "#     reviews[0][idx] = lemmatized_output\n",
    "print(reviews.head)"
   ]
  },
  {
   "cell_type": "code",
   "execution_count": null,
   "metadata": {},
   "outputs": [
    {
     "name": "stdout",
     "output_type": "stream",
     "text": [
      "{'high': 4217, 'cartoon': 1315, 'comedy': 1716, 'run': 7678, 'time': 9036, 'program': 6990, 'school': 7820, 'life': 5226, 'teacher': 8874, 'year': 9951, 'teach': 8873, 'profession': 6982, 'lead': 5145, 'believe': 787, 'satire': 7769, 'closer': 1619, 'reality': 7246, 'survive': 8758, 'financially': 3392, 'insightful': 4621, 'student': 8621, 'right': 7544, 'pathetic': 6527, 'situation': 8167, 'remind': 7379, 'know': 5036, 'saw': 7785, 'episode': 3013, 'repeatedly': 7403, 'try': 9246, 'burn': 1158, 'immediately': 4462, 'recall': 7260, 'classic': 1568, 'line': 5263, 'inspector': 4628, 'sack': 7703, 'welcome': 9755, 'expect': 3155, 'adult': 136, 'age': 179, 'think': 8978, 'far': 3266, 'fetched': 3348, 'pity': 6716, 'story': 8565, 'man': 5493, 'unnatural': 9407, 'feeling': 3322, 'pig': 6692, 'start': 8494, 'open': 6298, 'scene': 7807, 'terrific': 8930, 'example': 3107, 'absurd': 34, 'formal': 3529, 'orchestra': 6327, 'audience': 568, 'turn': 9262, 'insane': 4612, 'violent': 9594, 'mob': 5838, 'crazy': 2021, 'singer': 8149, 'unfortunately': 9374, 'stay': 8505, 'general': 3721, 'narrative': 6025, 'eventually': 3083, 'make': 5478, 'put': 7107, 'era': 3025, 'dialogue': 2439, 'shakespeare': 7985, 'easy': 2803, 'grader': 3867, 'technical': 8881, 'level': 5208, 'well': 9756, 'good': 3831, 'cinematography': 1541, 'future': 3655, 'great': 3908, 'star': 8485, 'sally': 7725, 'kirkland': 5018, 'forrest': 3534, 'see': 7884, 'briefly': 1071, 'george': 3738, 'state': 8498, 'issue': 4772, 'plan': 6724, 'help': 4182, 'street': 8590, 'consider': 1855, 'human': 4365, 'go': 3808, 'work': 9882, 'vote': 9633, 'matter': 5603, 'people': 6590, 'homeless': 4284, 'lose': 5353, 'cause': 1354, 'worry': 9893, 'thing': 8977, 'racism': 7148, 'war': 9679, 'iraq': 4736, 'pressure': 6922, 'kid': 4992, 'succeed': 8669, 'technology': 8887, 'election': 2868, 'end': 2942, 'br': 1019, 'give': 3779, 'bet': 823, 'live': 5291, 'month': 5884, 'home': 4282, 'entertainment': 2991, 'set': 7949, 'bathroom': 723, 'picture': 6685, 'wall': 9662, 'treasure': 9183, 'like': 5241, 'bolt': 952, 'lesson': 5201, 'mel': 5668, 'brook': 1098, 'directs': 2500, 'play': 6736, 'rich': 7524, 'world': 9886, 'decide': 2247, 'sissy': 8161, 'rival': 7567, 'thirty': 8984, 'day': 2208, 'luxury': 5419, 'want': 9676, 'project': 6997, 'building': 1137, 'thrown': 9008, 'leg': 5166, 'monitor': 5872, 'step': 8521, 'sidewalk': 8107, 'nickname': 6110, 'write': 9917, 'forehead': 3509, 'meet': 5663, 'character': 1417, 'include': 4520, 'woman': 9866, 'molly': 5859, 'ann': 352, 'warren': 9695, 'ex': 3099, 'dancer': 2164, 'get': 3749, 'divorce': 2599, 'pal': 6444, 'sailor': 7719, 'howard': 4350, 'morris': 5913, 'teddy': 8889, 'wilson': 9823, 'survivor': 8759, 'reach': 7231, 'mutual': 5993, 'agreement': 190, 'fight': 3369, 'flight': 3448, 'kill': 5000, 'love': 5368, 'connection': 1835, 'necessary': 6061, 'plot': 6755, 'stink': 8546, 'film': 3376, 'prior': 6954, 'show': 8079, 'tender': 8917, 'compare': 1752, 'slapstick': 8197, 'blaze': 901, 'saddle': 7708, 'young': 9964, 'frankenstein': 3567, 'valuable': 9490, 'hand': 4049, 'stupid': 8633, 'money': 5870, 'maybe': 5616, 'instead': 4637, 'inspire': 4631, 'airport': 206, 'brand': 1029, 'new': 6096, 'plane': 6725, 'load': 5302, 'painting': 6440, 'belong': 792, 'businessman': 1174, 'philip': 6652, 'stevens': 8534, 'james': 4802, 'stewart': 8536, 'fly': 3470, 'bunch': 1148, 'estate': 3057, 'preparation': 6908, 'public': 7068, 'museum': 5980, 'board': 935, 'daughter': 2201, 'julie': 4910, 'kathleen': 4948, 'son': 8316, 'take': 8835, 'mid': 5738, 'air': 202, 'hi': 4209, 'jack': 4787, 'pilot': 6699, 'chamber': 1401, 'robert': 7585, 'accomplice': 59, 'michael': 5730, 'knock': 5035, 'passenger': 6515, 'crew': 2042, 'sleep': 8209, 'gas': 3702, 'steal': 8508, 'cargo': 1288, 'land': 5093, 'strip': 8604, 'isolate': 4767, 'island': 4763, 'descent': 2371, 'hit': 4249, 'oil': 6268, 'rig': 7543, 'ocean': 6242, 'loses': 5355, 'control': 1906, 'send': 7909, 'crash': 2012, 'sea': 7859, 'sink': 8157, 'bang': 678, 'middle': 5739, 'triangle': 9199, 'short': 8067, 'supply': 8730, 'water': 9710, 'leak': 5151, 'mile': 5752, 'course': 1987, 'problem': 6966, 'mount': 5932, 'await': 607, 'fast': 3286, 'slightly': 8221, 'different': 2463, 'second': 7872, 'sequel': 7932, 'smash': 8245, 'disaster': 2516, 'thriller': 9002, 'direct': 2493, 'jerry': 4838, 'jameson': 4803, 'predecessor': 6888, 'sort': 8341, 'forget': 3518, 'entertain': 2987, 'necessarily': 6060, 'reason': 7253, 'actually': 97, 'best': 822, 'favourite': 3302, 'nice': 6104, 'maker': 5479, 'cross': 2068, 'original': 6341, 'popular': 6813, 'flick': 3446, 'period': 6607, 'adventure': 143, 'stark': 8490, 'dilemma': 2475, 'trap': 9170, 'inside': 4619, 'drown': 2721, 'flood': 3455, 'door': 2638, 'decent': 2245, 'idea': 4413, 'little': 5288, 'bad': 648, 'unsympathetic': 9434, 'dull': 2746, 'piece': 6689, 'real': 7240, 'lack': 5072, 'danger': 2168, 'suspense': 8764, 'tension': 8921, 'mean': 5640, 'miss': 5810, 'opportunity': 6310, 'keep': 4963, 'odd': 6244, 'minute': 5786, 'happen': 4064, 'urgency': 9459, 'navy': 6047, 'involved': 4727, 'pick': 6677, 'shot': 8072, 'huge': 4357, 'ship': 8046, 'helicopter': 4176, 'kennedy': 4974, 'airline': 204, 'worker': 9884, 'joe': 4861, 'couple': 1984, 'barely': 689, 'say': 7787, 'prefer': 6895, 'look': 5334, 'worried': 9892, 'background': 640, 'video': 9565, 'theatrical': 8960, 'version': 9545, 'tv': 9267, 'add': 105, 'extra': 3195, 'hour': 4344, 'footage': 3497, 'credit': 2035, 'sequence': 7933, 'flashback': 3432, 'flesh': 3445, 'longer': 5331, 'rescue': 7431, 'discovery': 2532, 'dead': 2215, 'body': 940, 'sure': 8739, 'sit': 8163, 'near': 6055, 'cut': 2126, 'date': 2199, 'badly': 650, 'horrible': 4325, 'fashion': 3283, 'interior': 4679, 'design': 2383, 'choice': 1491, 'toy': 9128, 'model': 5845, 'effect': 2842, 'pride': 6942, 'place': 6720, 'razzie': 7228, 'award': 610, 'hall': 4033, 'shame': 7992, 'lot': 5358, 'reckon': 7271, 'harsh': 4099, 'action': 87, 'pace': 6425, 'slow': 8231, 'excitement': 3126, 'generate': 3723, 'pretty': 6931, 'properly': 7019, 'production': 6978, 'value': 9491, 'alright': 265, 'spectacular': 8385, 'act': 84, 'oscar': 6352, 'winner': 9836, 'lemmon': 5179, 'mistake': 5817, 'old': 6273, 'frail': 3555, 'lee': 5163, 'grant': 3891, 'drunk': 2725, 'sir': 8158, 'christopher': 1521, 'plenty': 6751, 'familiar': 3252, 'face': 3217, 'ideas': 4417, 'bit': 874, 'silly': 8126, 'bland': 894, 'direction': 2496, 'bore': 983, 'follow': 3484, 'brilliant': 1076, 'dramatic': 2680, 'lady': 5078, 'clothes': 1626, 'warehouse': 9683, 'corn': 1950, 'lawyer': 5139, 'superb': 8718, 'accuse': 70, 'sell': 7899, 'bos': 991, 'funny': 3645, 'word': 9880, 'jeffrey': 4830, 'favorite': 3299, 'later': 5118, 'larry': 5109, 'sander': 7742, 'fantastic': 3262, 'mad': 5442, 'millionaire': 5763, 'crush': 2085, 'ghetto': 3752, 'malevolent': 5485, 'usual': 9470, 'hospital': 4333, 'invade': 4708, 'demolition': 2321, 'site': 8165, 'legs': 5176, 'big': 845, 'digger': 2469, 'movie': 5941, 'finger': 3399, 'charisma': 1423, 'actress': 93, 'inevitably': 4561, 'translate': 9161, 'chemistry': 1454, 'share': 8002, 'screen': 7844, 'romantic': 7620, 'come': 1711, 'merely': 5702, 'actor': 92, 'director': 2498, 'screenplay': 7846, 'exactly': 3101, 'chef': 1452, 'skill': 8178, 'restaurant': 7463, 'ultimately': 9292, 'youthful': 9968, 'exploit': 3174, 'anybody': 385, 'convince': 1922, 'princess': 6950, 'disappointed': 2512, 'nominate': 6141, 'judge': 4899, 'easily': 2799, 'underrated': 9333, 'inn': 4604, 'cannon': 1248, 'flaw': 3437, 'realistic': 7244, 'view': 9571, 'unlike': 9402, 'citizen': 1548, 'kane': 4936, 'titanic': 9057, 'italian': 4773, 'joke': 4871, 'fall': 3246, 'flat': 3434, 'lovable': 5367, 'way': 9717, 'pull': 7077, 'traditionally': 9139, 'member': 5679, 'society': 8289, 'truly': 9238, 'impressive': 4495, 'fisher': 3415, 'king': 5010, 'crap': 2010, 'complaint': 1767, 'cast': 1331, 'writer': 9918, 'sorry': 8340, 'suppose': 8734, 'art': 475, 'wow': 9902, 'gun': 3985, 'blow': 927, 'brain': 1024, 'watch': 9705, 'excellent': 3113, 'painful': 6436, 'absence': 28, 'sound': 8347, 'track': 9132, 'brutal': 1115, 'long': 5330, 'talk': 8841, 'especially': 3047, 'complain': 1766, 'hard': 4073, 'performance': 6602, 'dark': 2184, 'uninspired': 9382, 'stuff': 8624, 'maureen': 5610, 'red': 7289, 'dress': 2700, 'dance': 2163, 'ripoff': 7558, 'bergman': 812, 'fan': 3256, 'enjoy': 2969, 'lie': 5224, 'typical': 9281, 'leslie': 5198, 'rat': 7211, 'moment': 5861, 'probably': 6964, 'room': 7632, 'worth': 9897, 'price': 6940, 'rent': 7399, 'overall': 6390, 'job': 4858, 'characteristic': 1419, 'speak': 8372, 'directly': 2497, 'part': 6497, 'parent': 6485, 'theater': 8958, 'walk': 9657, 'recently': 7266, 'rest': 7462, 'pretentious': 6930, 'ponderous': 6802, 'painfully': 6437, 'wine': 9832, 'cheese': 1449, 'tripe': 9215, 'woody': 9879, 'allen': 249, 'career': 1279, 'style': 8637, 'mute': 5990, 'insight': 4620, 'family': 3254, 'psychological': 7060, 'damage': 2155, 'non': 6145, 'intentionally': 4667, 'comic': 1721, 'relief': 7357, 'music': 5982, 'shadowy': 7978, 'pathos': 6528, 'define': 2275, 'nature': 6042, 'method': 5720, 'pronounce': 7013, 'depth': 2361, 'meaning': 5642, 'truth': 9244, 'simply': 8140, 'sympathy': 8814, 'felt': 3331, 'contempt': 1882, 'parade': 6474, 'shuffle': 8094, 'whine': 9780, 'stain': 8461, 'perpetual': 6618, 'quest': 7125, 'identity': 4420, 'amid': 294, 'backdrop': 639, 'bake': 658, 'loom': 5336, 'fart': 3277, 'speaks': 8375, 'affect': 158, 'language': 5100, 'struggle': 8614, 'desperate': 2389, 'understanding': 9338, 'point': 6776, 'slap': 8196, 'resolution': 7446, 'interminable': 4681, 'babble': 629, 'drama': 2678, 'extreme': 3202, 'ability': 13, 'connect': 1833, 'chose': 1508, 'immerse': 4465, 'feel': 3321, 'leave': 5159, 'self': 7897, 'indulgent': 4554, 'drain': 2676, 'promote': 7007, 'message': 5712, 'distort': 2574, 'technique': 8884, 'past': 6520, 'relevance': 7353, 'highly': 4220, 'recommend': 7276, 'happy': 4069, 'need': 6065, 'death': 2225, 'let': 5203, 'pretend': 6927, 'comedic': 1714, 'robin': 7588, 'williams': 9816, 'quirky': 7138, 'recent': 7265, 'fame': 3250, 'hybrid': 4393, 'mixed': 5831, 'se': 7858, 'mystery': 6001, 'vehicle': 9518, 'attempt': 551, 'locate': 5307, 'sick': 8100, 'boy': 1011, 'keeper': 4964, 'sandra': 7744, 'oh': 6266, 'rory': 7638, 'culkin': 2097, 'news': 6102, 'report': 7412, 'william': 9815, 'close': 1617, 'goal': 3809, 'entertained': 2988, 'fail': 3228, 'guide': 3974, 'amuse': 304, 'guy': 3998, 'perform': 6601, 'person': 6623, 'perspective': 6629, 'able': 14, 'premise': 6907, 'definitely': 2277, 'friday': 3596, 'saturday': 7777, 'night': 6117, 'fare': 3269, 'rate': 7212, 'fiend': 3363, 'appear': 404, 'critic': 2054, 'unbearably': 9304, 'wooden': 9878, 'imitation': 4459, 'supportive': 8733, 'pretension': 6929, 'accusation': 69, 'contrary': 1900, 'notwithstanding': 6182, 'generally': 3722, 'applaud': 408, 'originality': 6342, 'imitate': 4458, 'brian': 1064, 'depalma': 2344, 'rip': 7555, 'hitchcock': 4251, 'horror': 4330, 'wood': 9877, 'strange': 8574, 'form': 3528, 'cultural': 2102, 'agree': 189, 'yes': 9956, 'successfully': 8672, 'unfolds': 9370, 'volume': 9627, 'notice': 6175, 'fine': 3396, 'sexuality': 7965, 'angle': 338, 'unnecessary': 9409, 'core': 1944, 'engage': 2957, 'rush': 7686, 'grip': 3937, 'wonder': 9868, 'use': 9464, 'light': 5232, 'achieve': 73, 'desire': 2385, 'lay': 5140, 'hear': 4141, 'thrill': 9001, 'york': 9963, 'intellectual': 4655, 'swedish': 8785, 'susan': 8760, 'brother': 1104, 'carl': 1291, 'sweden': 8784, 'result': 7471, 'wilde': 9808, 'reference': 7305, 'dickens': 2449, 'curiosity': 2108, 'shop': 8064, 'heart': 4145, 'stone': 8557, 'laugh': 5122, 'loud': 5362, 'nell': 6077, 'chock': 1489, 'afraid': 169, 'anger': 336, 'distance': 2566, 'directorial': 2499, 'polite': 6791, 'term': 8924, 'parody': 6492, 'incredibly': 4536, 'involve': 4726, 'talented': 8839, 'read': 7234, 'poem': 6770, 'rework': 7511, 'care': 1278, 'hilarious': 4224, 'dialog': 2438, 'earlier': 2791, 'straight': 8570, 'poor': 6807, 'mary': 5571, 'beth': 825, 'hurt': 4387, 'copy': 1940, 'thespian': 8975, 'neurotic': 6092, 'habit': 4009, 'embarrass': 2904, 'surrogate': 8754, 'kenneth': 4975, 'branagh': 1027, 'celebrity': 1368, 'basic': 711, 'dysfunctional': 2784, 'quietly': 7132, 'mother': 5923, 'lift': 5231, 'winter': 9839, 'melodrama': 5674, 'trick': 9204, 'existential': 3149, 'angst': 340, 'visual': 9612, 'scratch': 7841, 'paper': 6469, 'tower': 9122, 'surf': 8741, 'beach': 737, 'rarely': 7209, 'critically': 2056, 'base': 706, 'true': 9236, 'event': 3081, 'gabriel': 3662, 'celebrate': 1366, 'late': 5116, 'host': 4334, 'captivate': 1271, 'harrow': 4097, 'listener': 5277, 'toni': 9089, 'collette': 1687, 'trouble': 9231, 'question': 7126, 'arise': 450, 'find': 3394, 'draw': 2684, 'hide': 4213, 'deadly': 2216, 'secret': 7875, 'accord': 63, 'official': 6259, 'synopsis': 8819, 'stop': 8562, 'reading': 7237, 'comment': 1729, 'ms': 5948, 'chop': 1498, 'delete': 2288, 'physical': 6671, 'mental': 5687, 'obvious': 6231, 'mr': 5945, 'return': 7486, 'possibly': 6844, 'revelation': 7492, 'certain': 1387, 'highway': 4221, 'tape': 8851, 'scenes': 7809, 'benefit': 801, 'edit': 2828, 'bobby': 939, 'jess': 4840, 'initially': 4597, 'believable': 785, 'establish': 3055, 'relationship': 7344, 'stage': 8459, 'offer': 6255, 'exceptionally': 3118, 'strong': 8610, 'characterization': 1420, 'gay': 3706, 'impersonation': 4477, 'anna': 353, 'morton': 5917, 'pete': 6639, 'perfect': 6598, 'donna': 2632, 'creepy': 2040, 'correct': 1958, 'psycho': 7059, 'organization': 6334, 'slight': 8220, 'roles': 7611, 'certainly': 1388, 'consideration': 1858, 'patrick': 6533, 'evokes': 3094, 'sandwich': 7745, 'machine': 5434, 'suspenseful': 8765, 'finally': 3389, 'terry': 8939, 'anderson': 321, 'deserve': 2378, 'gratitude': 3900, 'attendant': 556, 'blame': 893, 'timid': 9040, 'clueless': 1632, 'pay': 6550, 'angie': 337, 'charlie': 1428, 'denise': 2333, 'rosanna': 7639, 'jon': 4876, 'veil': 9520, 'hang': 4056, 'rating': 7214, 'ubiquitous': 9285, 'bubble': 1124, 'bath': 722, 'harmon': 4088, 'sheen': 8019, 'sleepwalk': 8211, 'potentially': 6854, 'hot': 4339, 'beautiful': 751, 'sexy': 7967, 'whoopi': 9792, 'goldberg': 3821, 'judy': 4904, 'predictable': 6892, 'surprised': 8748, 'waste': 9701, 'viewer': 9572, 'john': 4865, 'lisa': 5274, 'becky': 757, 'baker': 659, 'dir': 2491, 'stand': 8477, 'low': 5374, 'key': 4984, 'paranoia': 6479, 'associate': 521, 'norm': 6154, 'derange': 2364, 'scenario': 7806, 'radio': 7155, 'personality': 6626, 'name': 6015, 'pen': 6581, 'interesting': 4675, 'submit': 8651, 'youth': 9967, 'editor': 2833, 'naturally': 6041, 'disturb': 2584, 'nightmarish': 6120, 'existence': 3147, 'abduct': 8, 'sexually': 7966, 'abused': 41, 'nurse': 6202, 'adopt': 131, 'reveals': 7490, 'die': 2455, 'aid': 194, 'suddenly': 8680, 'doubt': 2650, 'devious': 2424, 'motif': 5924, 'seed': 7885, 'plant': 6728, 'estrange': 3060, 'lover': 5371, 'sudden': 8679, 'departure': 2348, 'city': 1549, 'apartment': 391, 'emotional': 2920, 'grow': 3955, 'tempest': 8906, 'decides': 2250, 'investigate': 4717, 'discover': 2530, 'anticipate': 376, 'novice': 6188, 'tilt': 9033, 'pot': 6849, 'conflict': 1821, 'hearted': 4147, 'genuinely': 3736, 'number': 6198, 'fact': 3221, 'escape': 3043, 'unsettle': 9427, 'dreadful': 2691, 'trait': 9150, 'desperation': 2391, 'rattle': 7218, 'repetitive': 7407, 'despite': 2394, 'finely': 3397, 'listen': 5276, 'inner': 4606, 'voice': 9624, 'careful': 1281, 'hope': 4313, 'mediocre': 5658, 'bag': 654, 'hammer': 4044, 'bitchy': 876, 'demeanor': 2312, 'law': 5136, 'order': 6330, 'carry': 1312, 'unscathed': 9425, 'anti': 374, 'positive': 6837, 'mess': 5711, 'marriage': 5551, 'hopefully': 4315, 'effort': 2848, 'produce': 6974, 'god': 3811, 'bless': 906, 'constantly': 1867, 'shoot': 8060, 'foot': 3496, 'lately': 5117, 'dumb': 2747, 'decade': 2235, 'exception': 3116, 'bomb': 954, 'cult': 2101, 'insomnia': 4626, 'photo': 6664, 'review': 7498, 'quick': 7129, 'dvd': 2772, 'release': 7349, 'chill': 1478, 'serial': 7938, 'killer': 5001, 'physically': 6672, 'dangerous': 2170, 'concept': 1796, 'actual': 95, 'case': 1322, 'fraud': 3574, 'officially': 6260, 'confirm': 1820, 'autobiography': 590, 'child': 1473, 'anthony': 373, 'johnson': 4867, 'suffer': 8682, 'horrific': 4328, 'abuse': 40, 'contract': 1896, 'move': 5939, 'online': 6293, 'exist': 3146, 'confuse': 1825, 'brilliantly': 1077, 'portray': 6827, 'mind': 5769, 'caretaker': 1285, 'role': 7610, 'sunshine': 8716, 'camera': 1225, 'thought': 8992, 'understate': 9340, 'generation': 3724, 'academy': 45, 'incredible': 4535, 'scary': 7804, 'prepared': 6910, 'weak': 9722, 'outdated': 6366, 'country': 1980, 'walker': 9660, 'subject': 8646, 'dc': 2212, 'applause': 409, 'ahead': 192, 'finish': 3400, 'jump': 4916, 'figure': 3372, 'guess': 3970, 'carter': 1314, 'private': 6958, 'boyfriend': 1014, 'artistic': 484, 'male': 5484, 'bondage': 961, 'torture': 9106, 'prison': 6956, 'create': 2024, 'car': 1274, 'sense': 7915, 'flawlessly': 3439, 'ago': 186, 'likely': 5244, 'recognize': 7275, 'lauren': 5132, 'lily': 5251, 'display': 2556, 'gloss': 3802, 'hollywood': 4275, 'restraint': 7468, 'capture': 1273, 'fragile': 3553, 'essence': 3052, 'trust': 9243, 'personnel': 6628, 'introduce': 4703, 'player': 6739, 'small': 8240, 'change': 1410, 'request': 7426, 'book': 971, 'strength': 8592, 'forward': 3543, 'avoid': 605, 'average': 602, 'american': 290, 'chance': 1406, 'touch': 9113, 'darkness': 2189, 'quality': 7116, 'presence': 6913, 'hack': 4010, 'opinion': 6308, 'giant': 3758, 'pant': 6466, 'paul': 6542, 'utterly': 9477, 'comatose': 1705, 'process': 6972, 'homosexual': 4292, 'social': 8285, 'companion': 1748, 'wife': 9805, 'washington': 9699, 'elite': 2889, 'dimensional': 2482, 'magazine': 5453, 'bounce': 999, 'stick': 8537, 'southern': 8353, 'accent': 46, 'rack': 7150, 'begin': 769, 'delivers': 2301, 'heat': 4153, 'south': 8352, 'ounce': 6361, 'energy': 2953, 'monotonous': 5877, 'kind': 5005, 'east': 2800, 'clumsy': 1634, 'deliver': 2299, 'incapable': 4510, 'roll': 7612, 'spite': 8413, 'german': 3744, 'ya': 9936, 'tolerable': 9074, 'support': 8731, 'bacall': 633, 'scott': 7836, 'thomas': 8986, 'manage': 5494, 'dignity': 2473, 'redeem': 7290, 'endless': 2946, 'series': 7939, 'interest': 4673, 'tense': 8920, 'opening': 6300, 'semi': 7905, 'truck': 9235, 'lapse': 5104, 'photography': 6667, 'unusual': 9438, 'color': 1694, 'evil': 3091, 'call': 1213, 'noteworthy': 6174, 'total': 9110, 'basically': 712, 'troubled': 9232, 'gritty': 3942, 'literally': 5282, 'storyline': 8566, 'rosario': 7640, 'dawson': 2207, 'completely': 1770, 'naked': 6014, 'nc': 6051, 'throw': 9005, 'away': 613, 'nap': 6020, 'dream': 2693, 'illness': 4440, 'bear': 740, 'modern': 5848, 'constant': 1866, 'information': 4579, 'realm': 7250, 'psychologist': 7062, 'psychiatrist': 7057, 'busy': 1177, 'occasionally': 6235, 'phenomenon': 6649, 'knowledge': 5038, 'entitle': 3001, 'tell': 8901, 'noon': 6150, 'spend': 8394, 'evening': 3080, 'enthral': 2992, 'vivid': 9618, 'lifestyle': 5229, 'authentic': 583, 'admit': 128, 'abandon': 2, 'friend': 3598, 'seek': 7888, 'shelter': 8030, 'despair': 2388, 'isolation': 4769, 'mysterious': 5999, 'ask': 498, 'useful': 9465, 'belongs': 793, 'peter': 6640, 'depicts': 2353, 'early': 2792, 'sexual': 7964, 'soon': 8322, 'en': 2935, 'wrap': 9903, 'elusive': 2898, 'bizarre': 881, 'tale': 8837, 'torn': 9101, 'medical': 5654, 'nightmare': 6119, 'pure': 7094, 'pop': 6809, 'comical': 1722, 'prove': 7043, 'discussion': 2536, 'hint': 4237, 'corruption': 1963, 'murder': 5971, 'power': 6863, 'relate': 7341, 'topic': 9097, 'development': 2418, 'tea': 8872, 'drinking': 2709, 'ceremony': 1386, 'visuals': 9614, 'stun': 8627, 'ease': 2798, 'eye': 3206, 'strain': 8572, 'dinner': 2487, 'bed': 758, 'shock': 8051, 'sitcom': 8164, 'bearable': 741, 'watchable': 9706, 'summer': 8706, 'entire': 2998, 'note': 6173, 'wonderful': 9869, 'mom': 5860, 'half': 4031, 'noticed': 6178, 'shorter': 8070, 'sundance': 8709, 'image': 4447, 'straightforward': 8571, 'refresh': 7313, 'impress': 4492, 'sucker': 8678, 'punch': 7084, 'preview': 6936, 'ad': 98, 'disappoint': 2511, 'imagination': 4451, 'minor': 5783, 'quibble': 7128, 'escort': 3045, 'investigation': 4718, 'circle': 1543, 'powerful': 6864, 'men': 5684, 'wrong': 9921, 'excruciatingly': 3133, 'seriously': 7940, 'condense': 1806, 'aggravate': 183, 'boredom': 985, 'argument': 448, 'plain': 6723, 'devoid': 2427, 'emotion': 2919, 'stiff': 8538, 'upper': 9451, 'lip': 5271, 'higher': 4218, 'class': 1567, 'sad': 7706, 'pacing': 6428, 'somewhat': 8315, 'guarantee': 3966, 'win': 9826, 'plus': 6764, 'intriguing': 4701, 'content': 1885, 'determine': 2410, 'outcome': 6365, 'hell': 4177, 'damn': 2158, 'boring': 987, 'harrison': 4095, 'save': 7781, 'script': 7850, 'awful': 617, 'sat': 7765, 'utter': 9476, 'earth': 2796, 'producer': 6976, 'clever': 1588, 'names': 6016, 'actresses': 94, 'blockbuster': 914, 'willem': 9814, 'dafoe': 2142, 'previous': 6937, 'foundation': 3548, 'delivery': 2302, 'eerie': 2840, 'wait': 9652, 'canadian': 1236, 'season': 7866, 'file': 3373, 'cheap': 1439, 'hokey': 4267, 'seat': 7867, 'fade': 3225, 'false': 3248, 'climax': 1604, 'fix': 3423, 'worn': 9890, 'rap': 7200, 'equally': 3020, 'outsider': 6384, 'shut': 8096, 'outstanding': 6385, 'rise': 7560, 'hackneyed': 4014, 'origins': 6345, 'drone': 2716, 'intensity': 4663, 'arc': 432, 'inexplicable': 4563, 'behavior': 775, 'homosexuality': 4293, 'theme': 8965, 'learn': 5154, 'automatically': 592, 'compel': 1756, 'hold': 4268, 'attention': 557, 'shin': 8043, 'friendship': 3601, 'ill': 4436, 'contact': 1876, 'telephone': 8899, 'raise': 7172, 'prompt': 7010, 'arrange': 465, 'permanent': 6611, 'impact': 4472, 'memorable': 5681, 'portrayal': 6828, 'somber': 8311, 'silence': 8121, 'thanks': 8955, 'logic': 5315, 'bonus': 965, 'drive': 2711, 'duck': 2736, 'combine': 1709, 'teenage': 8893, 'rod': 7600, 'accurate': 67, 'reflection': 7309, 'storyteller': 8567, 'hypnotic': 4397, 'tone': 9087, 'acquaint': 79, 'fourteen': 3549, 'wisconsin': 9842, 'detail': 2404, 'boot': 978, 'partner': 6507, 'happens': 4066, 'hiv': 4254, 'guardian': 3968, 'discovers': 2531, 'min': 5768, 'genre': 3731, 'lean': 5152, 'clear': 1582, 'hole': 4270, 'personal': 6625, 'loop': 5339, 'heard': 4142, 'narration': 6024, 'personally': 6627, 'waitress': 9654, 'notch': 6172, 'mood': 5888, 'lonely': 5328, 'exterior': 3193, 'frame': 3557, 'tie': 9023, 'particularly': 6504, 'ghost': 3753, 'hollow': 4273, 'teen': 8892, 'turmoil': 9261, 'science': 7825, 'fiction': 3357, 'concern': 1798, 'group': 3954, 'teens': 8895, 'kick': 4991, 'club': 1630, 'haunt': 4117, 'house': 4345, 'grace': 3863, 'creature': 2031, 'suit': 8695, 'monster': 5879, 'lurk': 5414, 'mild': 5749, 'mannered': 5514, 'obsession': 6226, 'intention': 4665, 'rushed': 7687, 'apparent': 401, 'complete': 1769, 'commendable': 1728, 'encounter': 2940, 'supernatural': 8727, 'apparently': 402, 'arrive': 470, 'weird': 9749, 'twist': 9273, 'nonetheless': 6146, 'foul': 3546, 'mouth': 5938, 'parrot': 6494, 'quentin': 7124, 'tarantino': 8853, 'bird': 870, 'harmless': 4087, 'absolutely': 31, 'intense': 4661, 'spot': 8430, 'phone': 6662, 'ring': 7550, 'edge': 2823, 'even': 3079, 'humor': 4371, 'sprinkle': 8440, 'sin': 8144, 'commit': 1736, 'defy': 2282, 'traffic': 9140, 'ticket': 9020, 'female': 3332, 'auto': 588, 'fanatic': 3257, 'business': 1173, 'arch': 433, 'race': 7145, 'drag': 2674, 'rock': 7595, 'folk': 3482, 'international': 4683, 'obviously': 6232, 'fond': 3487, 'square': 8445, 'party': 6509, 'double': 2649, 'exchange': 3123, 'neck': 6063, 'fresh': 3591, 'dad': 2140, 'throat': 9003, 'brief': 1070, 'cheat': 1441, 'climactic': 1601, 'pre': 6877, 'scooby': 7829, 'doo': 2635, 'nostalgia': 6167, 'buff': 1131, 'mindless': 5770, 'fun': 3635, 'weakness': 9725, 'crisis': 2049, 'atmosphere': 540, 'awkward': 621, 'deliberate': 2290, 'possibility': 6842, 'plod': 6754, 'flashy': 3433, 'ending': 2945, 'shatter': 8009, 'showdown': 8081, 'thank': 8951, 'heaven': 4157, 'zone': 9995, 'reservation': 7438, 'expectation': 3156, 'generic': 3725, 'everyman': 3087, 'enter': 2984, 'surely': 8740, 'percent': 6593, 'unlikeable': 9403, 'talent': 8838, 'picky': 6683, 'count': 1974, 'cap': 1253, 'contain': 1877, 'poster': 6846, 'disdain': 2537, 'team': 8876, 'smoke': 8251, 'crack': 2002, 'merit': 5704, 'orientation': 6339, 'shred': 8085, 'commercial': 1733, 'approach': 419, 'amaze': 277, 'faithful': 3241, 'break': 1044, 'free': 3580, 'chain': 1394, 'type': 9279, 'flourish': 3461, 'achieves': 75, 'increasingly': 4534, 'refer': 7304, 'lick': 5223, 'difference': 2462, 'substantial': 8657, 'relevant': 7354, 'allege': 246, 'drug': 2722, 'lol': 5320, 'moody': 5889, 'allow': 254, 'messy': 5713, 'paced': 6426, 'today': 9064, 'appreciate': 415, 'courage': 1985, 'utilized': 9474, 'eyeball': 3207, 'trash': 9172, 'reveal': 7489, 'motive': 5928, 'post': 6845, 'ben': 797, 'kareena': 4941, 'kapoor': 4939, 'bikini': 851, 'akshay': 212, 'kumar': 5058, 'anil': 342, 'saif': 7717, 'banner': 681, 'didnt': 2454, 'criticism': 2058, 'intrigue': 4700, 'irritation': 4754, 'ritchie': 7564, 'lock': 5309, 'stock': 8550, 'snatch': 8263, 'skinny': 8184, 'annoy': 361, 'understand': 9335, 'ala': 215, 'main': 5470, 'occasional': 6234, 'chuckle': 1526, 'rain': 7167, 'bike': 849, 'promise': 7005, 'unbearable': 9303, 'cheer': 1446, 'interval': 4691, 'wet': 9770, 'treat': 9184, 'numb': 6197, 'difficult': 2465, 'sidekick': 8106, 'realise': 7241, 'floor': 3456, 'girl': 3776, 'observation': 6221, 'nerve': 6085, 'madness': 5448, 'extent': 3192, 'absurdity': 35, 'collective': 1684, 'gasp': 3703, 'song': 8318, 'ordinary': 6331, 'relieve': 7359, 'trauma': 9174, 'anymore': 386, 'conclusion': 1802, 'buzz': 1187, 'slowly': 8232, 'headache': 4134, 'rapidly': 7203, 'blown': 928, 'attack': 548, 'academic': 44, 'confusion': 1828, 'page': 6433, 'im': 4446, 'unwatchable': 9441, 'jamie': 4804, 'foxx': 3552, 'hapless': 4063, 'hoodlum': 4304, 'choose': 1496, 'overly': 6400, 'demand': 2310, 'agent': 182, 'david': 2203, 'morse': 5914, 'thief': 8976, 'hacker': 4012, 'doug': 2652, 'stole': 8553, 'million': 5762, 'dollar': 2617, 'guard': 3967, 'bait': 657, 'mark': 5544, 'feature': 3314, 'replacement': 7409, 'handle': 4053, 'task': 8857, 'fairly': 3236, 'common': 1740, 'catch': 1343, 'marvelous': 5566, 'mastermind': 5586, 'ruthless': 7695, 'patient': 6530, 'laurence': 5133, 'olivier': 6278, 'marathon': 5525, 'okay': 6270, 'ingenious': 4586, 'cost': 1965, 'earnest': 2794, 'desperately': 2390, 'deep': 2265, 'realize': 7248, 'practically': 6869, 'simplistic': 8139, 'belief': 782, 'literature': 5285, 'honest': 4294, 'cinematic': 1538, 'invest': 4716, 'legendary': 5171, 'boris': 988, 'karloff': 4945, 'fright': 3602, 'mexico': 5723, 'token': 9071, 'gothic': 3855, 'entry': 3004, 'typically': 9282, 'dignify': 2472, 'elderly': 2864, 'eccentric': 2811, 'patriarch': 6531, 'invite': 4725, 'petty': 6642, 'greedy': 3913, 'relative': 7345, 'castle': 1333, 'hateful': 4113, 'guest': 3971, 'bump': 1147, 'lethal': 5205, 'size': 8171, 'populate': 6815, 'mexican': 5722, 'sex': 7962, 'symbol': 8807, 'garcia': 3693, 'dash': 2197, 'police': 6787, 'officer': 6258, 'hero': 4196, 'sole': 8303, 'likable': 5240, 'clunky': 1636, 'trite': 9220, 'ugly': 9288, 'wash': 9698, 'ridiculous': 7538, 'gross': 3949, 'fat': 3288, 'slob': 8228, 'blast': 897, 'miniature': 5776, 'overwrought': 6415, 'string': 8603, 'score': 7832, 'morbid': 5900, 'doom': 2637, 'largely': 5108, 'lousy': 5366, 'notably': 6171, 'cheesy': 1451, 'gore': 3845, 'dub': 2730, 'rouse': 7654, 'fiery': 3366, 'lend': 5182, 'enjoyably': 2971, 'lemon': 5180, 'oddly': 6247, 'amusing': 306, 'charm': 1431, 'campy': 1234, 'hoot': 4310, 'krishna': 5053, 'tashan': 8856, 'hype': 4395, 'product': 6977, 'stylish': 8638, 'mass': 5579, 'reject': 7339, 'amateur': 274, 'baby': 631, 'successful': 8671, 'raj': 7173, 'mega': 5666, 'thumb': 9012, 'veteran': 9551, 'leaf': 5149, 'ali': 235, 'khan': 4987, 'failure': 3232, 'box': 1008, 'office': 6257, 'edgar': 2822, 'poe': 6769, 'usher': 9468, 'similar': 8130, 'black': 883, 'white': 9786, 'cat': 1338, 'terror': 8935, 'demented': 2313, 'inventor': 4715, 'doll': 2616, 'terrorize': 8938, 'dy': 2777, 'resident': 7442, 'terrify': 8933, 'experience': 3160, 'popcorn': 6810, 'darken': 2185, 'dan': 2161, 'basinger': 714, 'haphazard': 4062, 'advertisement': 149, 'stitch': 8549, 'heavily': 4159, 'influence': 4575, 'matrix': 5600, 'kung': 5059, 'fu': 3624, 'hustle': 4389, 'poorly': 6808, 'execute': 3137, 'remember': 7376, 'bollywood': 951, 'prof': 6980, 'burnt': 1160, 'alive': 244, 'seven': 7955, 'mission': 5813, 'declare': 2254, 'pregnant': 6901, 'documentary': 2608, 'portrait': 6826, 'interview': 4693, 'horrify': 4329, 'testimony': 8942, 'childhood': 1474, 'cinemas': 1537, 'limited': 5255, 'week': 9741, 'dedicate': 2260, 'ok': 6269, 'exaggerate': 3102, 'percentage': 6594, 'drift': 2705, 'trailer': 9145, 'bill': 854, 'surprise': 8747, 'cinema': 1536, 'literal': 5281, 'english': 2963, 'title': 9058, 'substance': 8656, 'force': 3504, 'border': 981, 'tad': 8829, 'standard': 8478, 'tremendously': 9190, 'rookie': 7631, 'fault': 3296, 'head': 4133, 'tried': 9206, 'avenue': 601, 'motivation': 5927, 'finale': 3388, 'mimic': 5767, 'thai': 8949, 'hong': 4299, 'kong': 5043, 'ludicrous': 5392, 'zero': 9986, 'bid': 844, 'kitchen': 5022, 'assortment': 523, 'cake': 1206, 'homage': 4281, 'boat': 937, 'unintentional': 9384, 'attribute': 565, 'ham': 4040, 'jimmy': 4853, 'cliff': 1598, 'center': 1381, 'executive': 3139, 'platform': 6732, 'fish': 3413, 'girlfriend': 3777, 'material': 5596, 'playboy': 6737, 'aside': 497, 'meek': 5662, 'sweet': 8787, 'natured': 6043, 'hottie': 4341, 'service': 7945, 'boss': 992, 'mobster': 5840, 'laughs': 5126, 'phrase': 6668, 'ah': 191, 'quartet': 7121, 'bachchan': 635, 'illiterate': 4439, 'gangster': 3687, 'hire': 4241, 'hunt': 4382, 'road': 7574, 'trip': 9214, 'enemy': 2951, 'friends': 3600, 'wear': 9729, 'implausible': 4480, 'rambo': 7179, 'factor': 3222, 'tout': 9119, 'costume': 1968, 'boast': 936, 'plunge': 6763, 'knee': 5028, 'backstory': 642, 'green': 3915, 'hulk': 4363, 'gravity': 3904, 'leap': 5153, 'pack': 6430, 'wound': 9901, 'heal': 4137, 'impressively': 4496, 'wolverine': 9865, 'alpha': 264, 'ra': 7142, 'mode': 5844, 'adversary': 145, 'tune': 9254, 'usually': 9471, 'gap': 3689, 'emerge': 2911, 'screening': 7845, 'hum': 4364, 'catchy': 1344, 'routine': 7656, 'necessity': 6062, 'bring': 1079, 'current': 2113, 'location': 5308, 'versus': 9546, 'pluck': 6759, 'setting': 7951, 'atop': 543, 'mountain': 5933, 'continuity': 1893, 'crowd': 2073, 'shun': 8095, 'concentrate': 1794, 'aspect': 502, 'rhythm': 7518, 'broad': 1088, 'improve': 4499, 'frankly': 3570, 'aditya': 119, 'chopra': 1501, 'intelligence': 4657, 'provide': 7045, 'steady': 8507, 'thats': 8956, 'tube': 9249, 'grit': 3941, 'teeth': 8896, 'schizophrenic': 7814, 'ashamed': 492, 'stupidity': 8634, 'skin': 8183, 'stricken': 8596, 'dim': 2479, 'wit': 9849, 'retard': 7476, 'fascination': 3280, 'scatter': 7805, 'blood': 919, 'vessel': 9549, 'cell': 1372, 'independent': 4539, 'india': 4540, 'intelligent': 4658, 'poignant': 6775, 'lost': 5357, 'indian': 4541, 'making': 5481, 'la': 5064, 'del': 2286, 'warn': 9690, 'exercise': 3140, 'super': 8717, 'peculiar': 6568, 'hungarian': 4377, 'religious': 7361, 'caught': 1353, 'penalty': 6582, 'sentence': 7923, 'french': 3585, 'interested': 4674, 'nowadays': 6189, 'deeper': 2266, 'research': 7432, 'witness': 9855, 'history': 4247, 'phase': 6647, 'mainly': 5471, 'important': 4487, 'filmmaker': 3380, 'judging': 4901, 'clearly': 1583, 'justify': 4928, 'tough': 9115, 'spoil': 8420, 'worthy': 9900, 'bent': 808, 'selling': 7901, 'spare': 8367, 'suffice': 8685, 'slick': 8218, 'narrator': 6026, 'setup': 7953, 'utilize': 9473, 'mix': 5830, 'match': 5594, 'seventy': 7957, 'merchant': 5695, 'shekhar': 8025, 'cool': 1930, 'stereotype': 8527, 'unique': 9388, 'mummy': 5964, 'blend': 905, 'tom': 9079, 'fill': 3374, 'wish': 9848, 'sci': 7824, 'fi': 3353, 'channel': 1411, 'one': 6290, 'industry': 4556, 'length': 5183, 'enormous': 2977, 'harder': 4076, 'department': 2347, 'render': 7389, 'river': 7569, 'graphic': 3892, 'vision': 9608, 'asset': 515, 'gimmick': 3771, 'thinking': 8979, 'sign': 8114, 'enjoyable': 2970, 'approve': 423, 'unwanted': 9440, 'filler': 3375, 'drop': 2718, 'drastically': 2683, 'sample': 7737, 'area': 442, 'foreign': 3510, 'search': 7864, 'hill': 4228, 'till': 9031, 'stunt': 8631, 'storm': 8564, 'bullet': 1141, 'height': 4169, 'senior': 7911, 'dear': 2224, 'possible': 6843, 'artist': 483, 'stature': 8503, 'responsibility': 7460, 'clap': 1559, 'respectively': 7457, 'daylight': 2209, 'hamper': 4047, 'reputation': 7425, 'kirsten': 5019, 'miller': 5761, 'awe': 614, 'beauty': 753, 'looked': 5335, 'wagner': 9648, 'dismal': 2550, 'honor': 4300, 'disappointing': 2513, 'detract': 2411, 'assemble': 512, 'heroic': 4197, 'salvage': 7730, 'charismatic': 1424, 'impeccable': 4473, 'offensive': 6254, 'engineer': 2961, 'claim': 1555, 'fortunate': 3538, 'duo': 2759, 'franchise': 3560, 'hat': 4109, 'major': 5476, 'drawback': 2685, 'gut': 3996, 'crappy': 2011, 'thug': 9010, 'terrible': 8928, 'underlie': 9329, 'ooh': 6295, 'glad': 3780, 'dicaprio': 2446, 'hopkins': 4318, 'denzel': 2343, 'hardly': 4077, 'films': 3383, 'worst': 9896, 'kate': 4946, 'winslet': 9837, 'magnitude': 5461, 'crummy': 2083, 'romance': 7616, 'single': 8152, 'mere': 5700, 'beat': 745, 'sunny': 8713, 'posse': 6839, 'superpower': 8728, 'neo': 6080, 'spiderman': 8401, 'superman': 8725, 'yr': 9970, 'unreal': 9419, 'range': 7192, 'shotgun': 8073, 'regret': 7328, 'imdb': 4456, 'leonardo': 5192, 'rainy': 7171, 'special': 8377, 'buy': 1185, 'operate': 6303, 'centre': 1383, 'owes': 6418, 'debt': 2233, 'meantime': 5646, 'akshaye': 213, 'scenery': 7808, 'weight': 9747, 'loss': 5356, 'extremely': 3203, 'villain': 9583, 'lastly': 5115, 'impression': 4494, 'bitch': 875, 'godfather': 3814, 'st': 8451, 'century': 1384, 'dump': 2751, 'sadly': 7710, 'apart': 389, 'lord': 5344, 'trilogy': 9210, 'master': 5583, 'spielberg': 8402, 'tim': 9034, 'burton': 1165, 'cameron': 1227, 'masterpiece': 5587, 'debut': 2234, 'understood': 9343, 'proper': 7018, 'daft': 2143, 'unrealistic': 9420, 'puri': 7096, 'outrageously': 6380, 'budget': 1130, 'heel': 4167, 'greece': 3911, 'rubbish': 7664, 'evidence': 3088, 'relentless': 7351, 'mention': 5690, 'status': 8504, 'row': 7657, 'limit': 5253, 'appeal': 403, 'worthwhile': 9899, 'seemingly': 7889, 'suspect': 8762, 'regular': 7329, 'store': 8563, 'acceptable': 49, 'firework': 3409, 'wasting': 9704, 'alternate': 267, 'animation': 346, 'pointless': 6777, 'irritate': 4751, 'shell': 8027, 'chore': 1503, 'fest': 3345, 'excited': 3125, 'journey': 4890, 'firstly': 3412, 'hatred': 4115, 'whatsoever': 9774, 'twice': 9270, 'capital': 1259, 'epic': 3010, 'spectacle': 8384, 'wind': 9829, 'kinda': 5006, 'hammy': 4046, 'excessive': 3121, 'heavy': 4160, 'ride': 7535, 'stimulate': 8544, 'cerebral': 1385, 'fuel': 3625, 'react': 7232, 'tearjerker': 8878, 'scream': 7842, 'hate': 4111, 'ready': 7238, 'cynicism': 2136, 'thoroughly': 8990, 'dislike': 2549, 'disbelief': 2518, 'suspend': 8763, 'phantom': 6646, 'menace': 5685, 'billion': 857, 'worldwide': 9888, 'explain': 3167, 'flop': 3457, 'worthless': 9898, 'grade': 3866, 'please': 6747, 'exhaust': 3141, 'reminds': 7381, 'expression': 3186, 'join': 4869, 'midst': 5743, 'final': 3387, 'reward': 7509, 'deserves': 2381, 'unexpectedly': 9361, 'comedian': 1713, 'fully': 3633, 'develop': 2416, 'field': 3362, 'slim': 8222, 'attract': 561, 'target': 8854, 'mentally': 5689, 'asylum': 533, 'experiment': 3162, 'study': 8623, 'minimum': 5778, 'practical': 6868, 'junk': 4921, 'previously': 6938, 'cry': 2087, 'com': 1703, 'user': 9467, 'breakdown': 1045, 'irrational': 4746, 'pattern': 6539, 'gradually': 3868, 'reverse': 7497, 'chat': 1435, 'banter': 682, 'answer': 368, 'taste': 8858, 'fair': 3234, 'motion': 5925, 'demonstrate': 2325, 'randomly': 7190, 'critical': 2055, 'gate': 3704, 'quickly': 7130, 'voter': 9634, 'pee': 6572, 'wee': 9739, 'blind': 908, 'flash': 3431, 'stinker': 8547, 'explanation': 3169, 'leo': 5189, 'disappointment': 2514, 'publicity': 7069, 'chinese': 1485, 'ka': 4932, 'rope': 7637, 'childish': 1475, 'amitabh': 296, 'effective': 2843, 'visually': 9613, 'better': 830, 'acquire': 81, 'strongly': 8611, 'mpaa': 5943, 'pg': 6644, 'thematic': 8963, 'element': 2877, 'prolong': 7001, 'nudity': 6195, 'accept': 48, 'customer': 2125, 'fool': 3493, 'swat': 8779, 'squad': 8443, 'criminal': 2045, 'policeman': 6788, 'surround': 8755, 'palace': 6445, 'retirement': 7480, 'tragic': 9142, 'forgotten': 3526, 'criticise': 2057, 'touching': 9114, 'replace': 7408, 'impossible': 4490, 'simple': 8136, 'convert': 1917, 'unbelievable': 9305, 'bother': 996, 'amazing': 279, 'sublime': 8648, 'legend': 5170, 'partly': 6506, 'consumer': 1873, 'tear': 8877, 'imaginable': 4449, 'landmark': 5095, 'overdone': 6396, 'guru': 3994, 'hindi': 4233, 'tend': 8915, 'signature': 8116, 'luck': 5388, 'overlong': 6398, 'overrate': 6404, 'perfectly': 6600, 'gorgeous': 3846, 'focus': 3473, 'lovely': 5370, 'warner': 9691, 'rivet': 7570, 'confess': 1813, 'miniseries': 5780, 'undeveloped': 9351, 'historical': 4245, 'inaccuracy': 4504, 'bethany': 826, 'cox': 1999, 'indication': 4545, 'introduction': 4705, 'artificial': 482, 'overacts': 6389, 'strategy': 8581, 'addition': 110, 'list': 5275, 'engaging': 2959, 'remembers': 7378, 'april': 425, 'tragedy': 9141, 'jam': 4801, 'fictional': 3358, 'spotlight': 8431, 'present': 6914, 'http': 4353, 'fate': 3292, 'intend': 4660, 'billy': 858, 'zane': 9979, 'andrew': 325, 'victor': 9561, 'ewan': 3097, 'jonathan': 4877, 'phillips': 6656, 'captain': 1269, 'smith': 8249, 'bernard': 816, 'brown': 1107, 'kathy': 4950, 'bates': 721, 'hunter': 4383, 'brock': 1091, 'paxton': 6549, 'awesome': 616, 'silent': 8122, 'diamond': 2440, 'separate': 7928, 'speech': 8389, 'closely': 1618, 'shoddy': 8056, 'abysmal': 43, 'wrestler': 9911, 'starve': 8497, 'gain': 3669, 'spending': 8395, 'pleasure': 6749, 'voyage': 9636, 'sunk': 8712, 'iceberg': 4406, 'thousand': 8994, 'icy': 4410, 'north': 6160, 'atlantic': 538, 'genuine': 3735, 'blossom': 926, 'continue': 1892, 'france': 3559, 'hyde': 4394, 'magnificent': 5459, 'flaws': 3440, 'girls': 3778, 'added': 106, 'heartbreaking': 4146, 'exceptional': 3117, 'wont': 9875, 'wise': 9844, 'album': 224, 'spent': 8397, 'joker': 4872, 'comparable': 1751, 'puke': 7076, 'terminator': 8926, 'table': 8822, 'husband': 4388, 'stuck': 8619, 'wealth': 9726, 'commits': 1738, 'suicide': 8694, 'gilbert': 3767, 'risk': 7561, 'flow': 3462, 'degrade': 2284, 'nonsense': 6148, 'deal': 2219, 'totally': 9111, 'stumble': 8626, 'asks': 500, 'reaction': 7233, 'slip': 8224, 'fantasy': 3265, 'potential': 6853, 'unfair': 9363, 'famous': 3255, 'knight': 5031, 'particular': 6503, 'fails': 3231, 'portion': 6824, 'achievement': 74, 'boil': 947, 'fundamental': 3638, 'construct': 1870, 'historically': 4246, 'thread': 8996, 'copper': 1938, 'steel': 8512, 'adaptation': 103, 'appearance': 405, 'goof': 3839, 'ups': 9452, 'solid': 8305, 'sister': 8162, 'safe': 7712, 'obsess': 6224, 'frozen': 3615, 'convey': 1918, 'challenge': 1399, 'romeo': 7622, 'juliet': 4911, 'acting': 86, 'basket': 716, 'hopeless': 4316, 'pimp': 6701, 'sensational': 7914, 'trophy': 9229, 'toilet': 9070, 'tank': 8849, 'top': 9096, 'impressed': 4493, 'whore': 9793, 'aussie': 575, 'delve': 2309, 'unknown': 9398, 'resort': 7450, 'relatively': 7346, 'rebecca': 7256, 'supposedly': 8735, 'outside': 6383, 'disappear': 2508, 'circumstance': 1545, 'adam': 100, 'murderer': 5972, 'japanese': 4814, 'culture': 2103, 'spanish': 8365, 'eat': 2804, 'oshii': 6354, 'curious': 2109, 'translation': 9162, 'european': 3072, 'subtext': 8659, 'subtitle': 8660, 'explode': 3172, 'animated': 345, 'candy': 1242, 'mumbo': 5963, 'jumbo': 4915, 'hysterical': 4401, 'horribly': 4326, 'narrate': 6023, 'dense': 2338, 'food': 3492, 'stroke': 8608, 'useless': 9466, 'frontier': 3612, 'alien': 239, 'brilliance': 1075, 'allows': 255, 'famed': 3251, 'voyager': 9637, 'maiden': 5468, 'truthful': 9245, 'entertaining': 2990, 'superstar': 8729, 'overnight': 6401, 'gloria': 3798, 'stuart': 8617, 'emotionally': 2921, 'entirely': 2999, 'satisfy': 7774, 'dry': 2727, 'iconic': 4409, 'composer': 1778, 'soundtrack': 8348, 'sweep': 8786, 'lifetime': 5230, 'pulp': 7079, 'desi': 2382, 'meander': 5641, 'smart': 8243, 'alec': 228, 'femme': 3336, 'aplomb': 393, 'cop': 1935, 'commando': 1726, 'trail': 9144, 'ingredient': 4588, 'competent': 1760, 'insult': 4647, 'goer': 3818, 'grindhouse': 3936, 'caper': 1258, 'vanish': 9500, 'clinton': 1609, 'ban': 672, 'clone': 1615, 'unfortunate': 9373, 'diana': 2441, 'birth': 871, 'commitment': 1737, 'multiple': 5959, 'nose': 6166, 'depend': 2349, 'explore': 3178, 'wreck': 9907, 'blue': 929, 'unsuccessful': 9431, 'nude': 6194, 'inform': 4578, 'granddaughter': 3881, 'elizabeth': 2890, 'visit': 9610, 'skeptical': 8176, 'knew': 5029, 'memory': 5683, 'aboard': 16, 'fianc': 3354, 'cal': 1207, 'ruth': 7694, 'stress': 8594, 'importance': 4486, 'engagement': 2958, 'distraught': 2578, 'frustrate': 3617, 'stern': 8531, 'drifter': 2706, 'strike': 8600, 'travel': 9177, 'sketch': 8177, 'bond': 960, 'build': 1136, 'wealthy': 9727, 'gather': 3705, 'irish': 4740, 'beer': 762, 'servant': 7943, 'informs': 4582, 'forbidden': 3503, 'encourage': 2941, 'behave': 773, 'defies': 2273, 'deck': 2252, 'fatal': 3289, 'discuss': 2535, 'taunt': 8864, 'pocket': 6767, 'persuade': 6630, 'staircase': 8463, 'hater': 4114, 'ton': 9086, 'flawless': 3438, 'sight': 8113, 'wake': 9655, 'weekend': 9742, 'ambitious': 287, 'assistant': 520, 'recover': 7283, 'punish': 7087, 'recruit': 7286, 'henchman': 4186, 'aide': 195, 'culprit': 2100, 'hidden': 4212, 'eighty': 2858, 'potboiler': 6851, 'treatment': 9185, 'coherent': 1663, 'traditional': 9138, 'structure': 8613, 'handful': 4051, 'loosely': 5341, 'item': 4777, 'desert': 2377, 'dodge': 2609, 'fort': 3536, 'climatic': 1603, 'shaolin': 7999, 'monk': 5873, 'zip': 9989, 'dirty': 2502, 'horse': 4331, 'fairness': 3237, 'neat': 6058, 'large': 5107, 'sentimental': 7925, 'sweetheart': 8788, 'reek': 7300, 'arrogance': 472, 'excess': 3120, 'package': 6431, 'glossy': 3803, 'exotic': 3153, 'fancy': 3259, 'borrow': 990, 'stephen': 8524, 'chow': 1510, 'grate': 3898, 'slit': 8226, 'wrist': 9916, 'fumble': 3634, 'foolishly': 3495, 'unable': 9297, 'queen': 7123, 'irresistible': 4748, 'spontaneous': 8424, 'cringe': 2047, 'cup': 2106, 'crotch': 2069, 'misery': 5798, 'test': 8940, 'patience': 6529, 'essentially': 3054, 'grandeur': 3882, 'timeless': 9037, 'astonish': 528, 'humanity': 4367, 'passion': 6517, 'ingenuity': 4587, 'spirit': 8410, 'confused': 1826, 'nasty': 6031, 'arrogant': 473, 'racist': 7149, 'abusive': 42, 'ultra': 9294, 'bribe': 1065, 'innocent': 4608, 'defeat': 2269, 'louis': 5364, 'bat': 720, 'denver': 2341, 'uptight': 9456, 'cold': 1672, 'marry': 5554, 'snob': 8272, 'measure': 5647, 'chairman': 1397, 'speed': 8391, 'record': 7281, 'warning': 9692, 'float': 3453, 'northern': 6162, 'rare': 7208, 'deeply': 2267, 'luminous': 5404, 'liner': 5265, 'transformation': 9157, 'bow': 1005, 'steam': 8510, 'destiny': 2397, 'dock': 2605, 'rail': 7163, 'magic': 5455, 'intertwine': 4690, 'drawing': 2687, 'zoom': 9997, 'transform': 9156, 'shape': 8000, 'inevitable': 4560, 'flounder': 3460, 'gigantic': 3763, 'decor': 2257, 'overwhelm': 6413, 'wide': 9797, 'tribute': 9203, 'appreciation': 417, 'professional': 6983, 'beautifully': 752, 'saturate': 7776, 'tail': 8831, 'initial': 4596, 'lake': 5081, 'nearly': 6057, 'overcome': 6394, 'quote': 7141, 'um': 9295, 'mm': 5835, 'sigh': 8112, 'push': 7106, 'wire': 9841, 'da': 2139, 'code': 1656, 'wore': 9881, 'alternative': 269, 'spread': 8436, 'terrorism': 8936, 'swear': 8782, 'living': 5295, 'require': 7427, 'iq': 4731, 'afterthought': 176, 'choreographer': 1505, 'preferably': 6896, 'plague': 6722, 'health': 4138, 'sub': 8643, 'void': 9625, 'flirt': 3452, 'priceless': 6941, 'opposite': 6312, 'cube': 2093, 'increase': 4533, 'anyways': 388, 'aristocratic': 452, 'america': 289, 'poker': 6783, 'game': 3678, 'primarily': 6945, 'exploration': 3177, 'occur': 6239, 'television': 8900, 'shift': 8042, 'ireland': 4737, 'sail': 7718, 'coast': 1644, 'bound': 1000, 'uneventful': 9358, 'urge': 9458, 'newspaper': 6103, 'headline': 4136, 'receive': 7263, 'morning': 5909, 'fateful': 3293, 'decision': 2251, 'stretch': 8595, 'ignore': 4429, 'proceed': 6969, 'attempted': 552, 'engine': 2960, 'path': 6526, 'depict': 2351, 'distress': 2579, 'rocket': 7597, 'california': 1212, 'respond': 7458, 'plea': 6743, 'severe': 7959, 'ice': 4405, 'brush': 1114, 'employee': 2930, 'authority': 586, 'metal': 5714, 'condition': 1808, 'experienced': 3161, 'times': 9039, 'purpose': 7100, 'represent': 7415, 'edward': 2839, 'designer': 2384, 'representative': 7417, 'bruce': 1109, 'retire': 7479, 'threaten': 8998, 'pistol': 6710, 'apologize': 397, 'monument': 5886, 'hometown': 4286, 'speaking': 8374, 'nation': 6036, 'lowe': 5375, 'refuse': 7319, 'furthermore': 3650, 'smoking': 8252, 'cigar': 1531, 'reportedly': 7413, 'jacob': 4793, 'manhattan': 5502, 'medal': 5653, 'picked': 6678, 'masterfully': 5585, 'china': 1483, 'recreate': 7284, 'photograph': 6665, 'outfit': 6370, 'creation': 2026, 'victorian': 9563, 'rule': 7673, 'movement': 5940, 'gotten': 3856, 'married': 5552, 'financial': 3391, 'security': 7880, 'normally': 6157, 'din': 2484, 'cigarette': 1532, 'socially': 8287, 'expert': 3164, 'liberty': 5219, 'breathtaking': 1053, 'recognizable': 7274, 'contemplate': 1880, 'demise': 2316, 'differently': 2464, 'moral': 5895, 'underwater': 9347, 'graveyard': 3903, 'pose': 6833, 'technically': 8882, 'dive': 2590, 'withstand': 9853, 'probe': 6965, 'transition': 9160, 'manner': 5513, 'recreation': 7285, 'distinction': 2570, 'biography': 867, 'novel': 6184, 'hr': 4352, 'disgust': 2544, 'article': 479, 'success': 8670, 'goodness': 3836, 'sake': 7721, 'guys': 3999, 'flock': 3454, 'drove': 2720, 'reload': 7364, 'ha': 4008, 'cover': 1993, 'suck': 8676, 'sexist': 7963, 'caliber': 1210, 'victim': 9560, 'watching': 9709, 'dismiss': 2552, 'watched': 9707, 'theatre': 8959, 'contest': 1886, 'fellow': 3330, 'liked': 5243, 'contestant': 1887, 'elegant': 2876, 'panic': 6465, 'superior': 8723, 'aristocrat': 451, 'fear': 3308, 'loathe': 5304, 'reasonable': 7254, 'accurately': 68, 'weave': 9732, 'seamlessly': 7862, 'celine': 1371, 'contrive': 1905, 'effortlessly': 2850, 'separation': 7930, 'realistically': 7245, 'terribly': 8929, 'dante': 2178, 'political': 6792, 'statement': 8499, 'undead': 9320, 'virus': 9604, 'unleashed': 9400, 'murderous': 5973, 'tendency': 8916, 'screw': 7848, 'scientist': 7827, 'arrest': 468, 'assume': 524, 'outbreak': 6362, 'unclear': 9312, 'revisit': 7500, 'blah': 888, 'lurch': 5411, 'unsatisfying': 9424, 'chocolate': 1490, 'miserable': 5796, 'entity': 3002, 'factual': 3224, 'account': 64, 'cynical': 2135, 'millennium': 5760, 'lame': 5087, 'planet': 6726, 'gladly': 3782, 'majority': 5477, 'cynic': 2134, 'crawl': 2018, 'check': 1443, 'basement': 709, 'overlook': 6399, 'frighten': 3603, 'deteriorate': 2408, 'flee': 3442, 'huh': 4362, 'warmth': 9689, 'mail': 5469, 'conversation': 1915, 'snicker': 8266, 'burst': 1162, 'consciousness': 1850, 'neatly': 6059, 'distract': 2576, 'ruin': 7671, 'til': 9030, 'gang': 3685, 'port': 6822, 'unbelievably': 9306, 'destroy': 2398, 'relish': 7362, 'demean': 2311, 'reviewer': 7499, 'solution': 8309, 'infected': 4568, 'population': 6816, 'arouse': 463, 'alan': 218, 'government': 3857, 'anne': 354, 'kerry': 4982, 'norton': 6164, 'amy': 308, 'brien': 1072, 'sam': 7732, 'intent': 4664, 'ram': 7177, 'interpret': 4686, 'meaningful': 5643, 'inconsistency': 4529, 'casually': 1336, 'bloke': 915, 'bible': 840, 'notion': 6179, 'divine': 2597, 'instance': 4634, 'conveniently': 1911, 'presumably': 6925, 'everyday': 3086, 'round': 7652, 'bright': 1073, 'neon': 6081, 'qualify': 7115, 'concerned': 1799, 'loose': 5340, 'subsequent': 8654, 'stab': 8452, 'broken': 1093, 'bottle': 997, 'groin': 3945, 'stomach': 8555, 'disappoints': 2515, 'identify': 4419, 'pain': 6434, 'teenager': 8894, 'affleck': 162, 'capable': 1255, 'heartfelt': 4148, 'venice': 9527, 'festival': 3346, 'scar': 7795, 'frequently': 3590, 'feast': 3311, 'lump': 5405, 'ground': 3952, 'spoiler': 8421, 'sky': 8189, 'haired': 4026, 'yeah': 9950, 'curse': 2116, 'storytelling': 8568, 'promising': 7006, 'denouement': 2337, 'cue': 2095, 'payoff': 6554, 'math': 5597, 'oops': 6296, 'prologue': 7000, 'showing': 8083, 'mask': 5575, 'stalk': 8468, 'slash': 8198, 'gentleman': 3733, 'urban': 9457, 'australian': 579, 'loan': 5303, 'posh': 6835, 'sydney': 8803, 'clichd': 1592, 'catherine': 1348, 'shocker': 8053, 'partially': 6499, 'wholly': 9790, 'crucial': 2076, 'freeze': 3584, 'still': 8541, 'stag': 8458, 'fog': 3477, 'forth': 3537, 'block': 913, 'greatly': 3909, 'similarity': 8131, 'scriptwriter': 7852, 'tony': 9091, 'effectively': 2844, 'orient': 6337, 'iron': 4741, 'bizarrely': 882, 'section': 7878, 'realist': 7243, 'settle': 7952, 'abundance': 38, 'destruction': 2401, 'repair': 7401, 'metaphor': 5716, 'catalyst': 1341, 'sour': 8350, 'neighborhood': 6073, 'yuppie': 9974, 'external': 3194, 'evolve': 3096, 'strive': 8607, 'corporate': 1954, 'normal': 6156, 'subversive': 8667, 'attain': 550, 'liberate': 5218, 'shallow': 7990, 'nervous': 6086, 'transcend': 9154, 'admirable': 122, 'ambition': 286, 'bite': 877, 'local': 5305, 'station': 8501, 'rental': 7400, 'jewish': 4849, 'reporter': 7414, 'justin': 4929, 'timberlake': 9035, 'joshua': 4885, 'josh': 4884, 'pollack': 6796, 'puzzle': 7109, 'courtroom': 1991, 'whisper': 9784, 'deed': 2263, 'devilish': 2423, 'detective': 2406, 'dylan': 2781, 'mcdermott': 5626, 'wayans': 9718, 'charles': 1426, 'edison': 2827, 'corrupt': 1962, 'dope': 2640, 'noble': 6132, 'unexpected': 9360, 'scope': 7831, 'burke': 1156, 'aka': 209, 'rapper': 7205, 'progression': 6994, 'proceeding': 6970, 'morgan': 5903, 'freeman': 3583, 'moses': 5919, 'kevin': 4983, 'spacey': 8360, 'wallace': 9663, 'response': 7459, 'assault': 511, 'daddy': 2141, 'glorify': 3799, 'heather': 4155, 'mommy': 5864, 'blank': 896, 'father': 3294, 'prominent': 7003, 'hop': 4312, 'saga': 7715, 'fabulous': 3215, 'collaboration': 1676, 'twisted': 9274, 'darkly': 2187, 'bewilder': 835, 'extract': 3196, 'psychopath': 7064, 'sadistic': 7709, 'misogynistic': 5808, 'unleash': 9399, 'butcher': 1179, 'kept': 4979, 'preposterous': 6911, 'profound': 6988, 'abound': 23, 'trial': 9198, 'maturity': 5607, 'sustain': 8770, 'adversity': 146, 'willing': 9819, 'shed': 8017, 'domestic': 2623, 'violence': 9593, 'taboo': 8824, 'bleak': 903, 'depress': 2357, 'tire': 9051, 'clich': 1591, 'central': 1382, 'liberal': 5217, 'degree': 2285, 'alter': 266, 'bout': 1004, 'swim': 8792, 'arm': 456, 'thoughtful': 8993, 'warm': 9687, 'bash': 710, 'pursue': 7103, 'interfere': 4677, 'bros': 1101, 'economical': 2815, 'studio': 8622, 'glamorous': 3783, 'daily': 2147, 'robinson': 7589, 'resurrect': 7473, 'consequence': 1852, 'lively': 5293, 'starr': 8492, 'context': 1888, 'innovative': 4610, 'unintentionally': 9385, 'sol': 8300, 'dreck': 2699, 'nomination': 6143, 'dracula': 2672, 'description': 2375, 'netflix': 6090, 'steamy': 8511, 'prepare': 6909, 'erotic': 3033, 'downright': 2662, 'performances': 6603, 'twenty': 9269, 'lesbian': 5196, 'eroticism': 3034, 'opt': 6318, 'poetic': 6772, 'los': 5352, 'emma': 2915, 'endure': 2950, 'beware': 834, 'porn': 6818, 'surreal': 8751, 'reflect': 7308, 'admire': 125, 'richard': 7525, 'donner': 2633, 'lester': 5202, 'absolute': 30, 'abomination': 18, 'suspension': 8766, 'dos': 2646, 'thereof': 8971, 'criticize': 2059, 'condemn': 1805, 'appropriate': 420, 'moronic': 5911, 'provocative': 7047, 'isabelle': 4760, 'attend': 554, 'energetic': 2952, 'mentor': 5691, 'naive': 6013, 'exclusive': 3129, 'brothel': 1103, 'liaison': 5214, 'indirectly': 4549, 'heterosexual': 4205, 'imagery': 4448, 'explicit': 3170, 'henry': 4188, 'paris': 6488, 'detailed': 2405, 'artistically': 485, 'ii': 4432, 'clark': 1564, 'kent': 4977, 'mighty': 5745, 'fire': 3405, 'rarity': 7210, 'simultaneously': 8143, 'rd': 7229, 'recap': 7261, 'laughable': 5123, 'lois': 5319, 'window': 9830, 'honeymoon': 4298, 'suite': 8698, 'dozens': 2669, 'alert': 229, 'amnesia': 297, 'kiss': 5020, 'exact': 3100, 'lazy': 5142, 'unoriginal': 9412, 'diner': 2485, 'confrontation': 1823, 'inferior': 4570, 'professor': 6985, 'meant': 5645, 'educate': 2836, 'forever': 3515, 'brando': 1030, 'susannah': 8761, 'penetrate': 6585, 'logical': 5316, 'president': 6918, 'originally': 6343, 'freedom': 3581, 'press': 6921, 'fitting': 3421, 'aim': 198, 'company': 1750, 'flip': 3451, 'rotten': 7648, 'brings': 1080, 'grandson': 3889, 'pass': 6512, 'kidnap': 4996, 'grandpa': 3887, 'heartwarming': 4151, 'mishap': 5804, 'gem': 3716, 'restore': 7466, 'assembly': 513, 'incompetence': 4524, 'compete': 1759, 'imagine': 4453, 'shaky': 7988, 'text': 8945, 'hesitation': 4203, 'hey': 4207, 'fleet': 3443, 'tag': 8830, 'shooting': 8062, 'iv': 4779, 'comfortable': 1720, 'disrespectful': 2563, 'filmed': 3377, 'intact': 4650, 'moon': 5890, 'ironically': 4743, 'fisted': 3419, 'bus': 1168, 'marlon': 5549, 'highlight': 4219, 'serve': 7944, 'shoe': 8057, 'horn': 4322, 'nonsensical': 6149, 'sloppy': 8229, 'edits': 2834, 'jackie': 4790, 'cooper': 1934, 'questionable': 7127, 'battle': 728, 'random': 7189, 'bridge': 1068, 'outtake': 6387, 'extend': 3189, 'military': 5755, 'missile': 5812, 'ball': 665, 'affair': 157, 'digest': 2468, 'disc': 2519, 'option': 6321, 'dust': 2765, 'respect': 7453, 'bold': 948, 'jade': 4795, 'soften': 8296, 'reluctant': 7365, 'boom': 973, 'martha': 5558, 'whale': 9772, 'rider': 7536, 'formula': 3532, 'town': 9123, 'poverty': 6859, 'whomever': 9791, 'market': 5545, 'wang': 9674, 'purchase': 7093, 'heir': 4171, 'reluctantly': 7366, 'upset': 9453, 'societal': 8288, 'western': 9767, 'resentment': 7437, 'exhibit': 3142, 'cunning': 2104, 'suburban': 8665, 'survival': 8757, 'garbage': 3691, 'owner': 6420, 'fierce': 3365, 'attachment': 547, 'peek': 6573, 'surprising': 8749, 'contribute': 1902, 'fascinate': 3278, 'motel': 5922, 'hotel': 4340, 'mock': 5841, 'informative': 4580, 'mockery': 5842, 'amazed': 278, 'creator': 2030, 'community': 1747, 'drawn': 2688, 'loyalty': 5379, 'serf': 7935, 'conventional': 1914, 'inspired': 4632, 'played': 6738, 'lang': 5098, 'helpful': 4184, 'grandfather': 3883, 'empire': 2928, 'duke': 2745, 'prevail': 6932, 'toll': 9078, 'disease': 2538, 'economy': 2816, 'tight': 9027, 'countless': 1979, 'gary': 3701, 'clip': 1610, 'verhoeven': 9538, 'admission': 127, 'chapter': 1416, 'decided': 2248, 'politics': 6795, 'ta': 8821, 'idiot': 4423, 'moviegoer': 5942, 'anime': 348, 'greek': 3914, 'weapon': 9728, 'flame': 3427, 'performer': 6604, 'mastery': 5590, 'opera': 6302, 'precious': 6882, 'prejudice': 6903, 'domination': 2626, 'importantly': 4488, 'significance': 8117, 'satisfaction': 7771, 'protagonist': 7032, 'phenomenal': 6648, 'category': 1346, 'lesser': 5200, 'author': 585, 'root': 7636, 'deservedly': 2380, 'ancestor': 316, 'suitable': 8696, 'drunken': 2726, 'reunion': 7487, 'reminder': 7380, 'irrelevant': 4747, 'immediate': 4461, 'stellar': 8519, 'deplorable': 2354, 'heighten': 4170, 'transfer': 9155, 'widescreen': 9800, 'faithfully': 3242, 'shelley': 8028, 'connive': 1840, 'clichs': 1595, 'ramble': 7178, 'bowl': 1007, 'haircut': 4024, 'cushing': 2122, 'secure': 7879, 'wei': 9745, 'natural': 6039, 'delight': 2295, 'friendly': 3599, 'nintendo': 6125, 'er': 3024, 'worse': 9894, 'tool': 9092, 'boys': 1017, 'turd': 9257, 'columbine': 1700, 'pleasant': 6745, 'environment': 3006, 'conception': 1797, 'countryside': 1981, 'splendid': 8416, 'purist': 7097, 'depiction': 2352, 'thematically': 8964, 'puerile': 7073, 'compliment': 1775, 'marketing': 5546, 'scheme': 7812, 'whats': 9773, 'buck': 1125, 'pit': 6711, 'gender': 3719, 'preference': 6897, 'companionship': 1749, 'magical': 5456, 'operatic': 6304, 'befriends': 766, 'troupe': 9233, 'tradition': 9137, 'pas': 6510, 'advice': 151, 'fulfill': 3629, 'legacy': 5167, 'ancient': 319, 'silk': 8124, 'invariably': 4710, 'accompany': 58, 'absorb': 32, 'pokemon': 6782, 'interaction': 4671, 'tracey': 9131, 'misty': 5822, 'ash': 491, 'brood': 1097, 'mar': 5524, 'print': 6953, 'bicycle': 843, 'drab': 2671, 'contrast': 1901, 'soldier': 8302, 'motor': 5930, 'verge': 9537, 'communist': 1746, 'revolution': 7504, 'custom': 2124, 'vital': 9615, 'trade': 9134, 'injustice': 4602, 'scandal': 7792, 'calibre': 1211, 'united': 9393, 'kingdom': 5011, 'whilst': 9778, 'dross': 2719, 'marginally': 5532, 'shockingly': 8055, 'profoundly': 6989, 'afford': 164, 'beg': 767, 'astonishingly': 529, 'address': 113, 'regard': 7322, 'slave': 8203, 'brutality': 1116, 'individual': 4550, 'ivy': 4783, 'asleep': 501, 'collector': 1685, 'poke': 6781, 'rely': 7367, 'wb': 9721, 'beloved': 794, 'honestly': 4295, 'fourth': 3550, 'insert': 4618, 'letter': 5206, 'sarcasm': 7758, 'gripe': 3938, 'vacation': 9479, 'gentle': 3732, 'sung': 8711, 'nauseate': 6045, 'jumpy': 4917, 'faith': 3240, 'uneasy': 9354, 'cramp': 2008, 'subtle': 8661, 'pander': 6462, 'repeat': 7402, 'inhabitant': 4591, 'trainer': 9148, 'flute': 3469, 'collection': 1683, 'card': 1276, 'ugh': 9287, 'outrage': 6378, 'cage': 1201, 'collect': 1682, 'stamp': 8474, 'giggle': 3764, 'import': 4485, 'clash': 1566, 'fuzzy': 3657, 'steep': 8514, 'affection': 160, 'cute': 2127, 'monkey': 5874, 'facial': 3219, 'equal': 3019, 'side': 8105, 'enhance': 2967, 'bind': 861, 'cowboy': 1998, 'sympathetic': 8811, 'plight': 6753, 'nearby': 6056, 'tribe': 9201, 'wrongly': 9922, 'rape': 7201, 'chief': 1471, 'defend': 2271, 'indians': 4543, 'plentiful': 6750, 'infamous': 4565, 'ranch': 7185, 'manson': 5520, 'alienation': 241, 'transvestite': 9168, 'relegate': 7350, 'unlikely': 9404, 'triumph': 9221, 'native': 6038, 'swell': 8790, 'yea': 9949, 'dancing': 2165, 'topless': 9098, 'knife': 5030, 'chest': 1461, 'west': 9766, 'schlock': 7815, 'breast': 1049, 'butt': 1181, 'rapist': 7204, 'starship': 8493, 'trooper': 9228, 'unrelated': 9421, 'spin': 8405, 'japan': 4813, 'animate': 344, 'armor': 458, 'space': 8357, 'rico': 7531, 'carmen': 1297, 'bug': 1135, 'enjoyed': 2972, 'tomato': 9080, 'corleone': 1948, 'whiny': 9781, 'crook': 2065, 'thumbs': 9013, 'frustration': 3620, 'yell': 9953, 'mercy': 5699, 'obscure': 6219, 'universal': 9394, 'roy': 7659, 'rogers': 7606, 'jesse': 4841, 'alike': 242, 'gambler': 3677, 'clint': 1608, 'gabby': 3659, 'hayes': 4126, 'sheriff': 8036, 'gale': 3673, 'jane': 4806, 'payne': 6553, 'polly': 6798, 'outlaw': 6373, 'essay': 3051, 'dual': 2729, 'elevate': 2880, 'pair': 6441, 'journal': 4887, 'bay': 735, 'joseph': 4883, 'dictate': 2451, 'proud': 7041, 'apprentice': 418, 'tho': 8985, 'devastate': 2415, 'massive': 5582, 'straw': 8585, 'prize': 6961, 'instantly': 4636, 'observe': 6222, 'heritage': 4193, 'meter': 5719, 'premier': 6904, 'dozen': 2668, 'originate': 6344, 'organic': 6333, 'derive': 2367, 'alicia': 238, 'edith': 2830, 'adapt': 102, 'stale': 8467, 'condescend': 1807, 'ironic': 4742, 'available': 596, 'expose': 3182, 'manipulative': 5510, 'tissue': 9054, 'superlative': 8724, 'shocking': 8054, 'racial': 7147, 'provoke': 7048, 'safely': 7713, 'shameful': 7993, 'warrant': 9694, 'wider': 9799, 'wonderfully': 9870, 'humane': 4366, 'gently': 3734, 'admittedly': 129, 'solidly': 8306, 'principal': 6951, 'grey': 3927, 'nostalgic': 6168, 'shower': 8082, 'excite': 3124, 'canvas': 1251, 'similarly': 8132, 'meaningless': 5644, 'asian': 496, 'shave': 8011, 'clean': 1580, 'asia': 495, 'christian': 1515, 'beliefs': 783, 'arabic': 429, 'eastern': 2801, 'awaken': 609, 'dr': 2670, 'strangelove': 8575, 'lucky': 5390, 'farewell': 3270, 'emperor': 2925, 'assassin': 508, 'compromise': 1785, 'convenience': 1909, 'hallmark': 4035, 'disney': 2553, 'trader': 9136, 'carefully': 1282, 'psychologically': 7061, 'unaware': 9302, 'misguide': 5802, 'misfire': 5799, 'graffiti': 3873, 'grease': 3907, 'broadway': 1090, 'evocative': 3092, 'choreography': 1506, 'paramount': 6478, 'fortunately': 3539, 'michelle': 5733, 'pfeiffer': 6643, 'evidently': 3090, 'evident': 3089, 'express': 3185, 'embarrassment': 2908, 'humiliate': 4369, 'gamut': 3681, 'sassy': 7764, 'deadpan': 2217, 'linger': 5266, 'cameo': 1223, 'eve': 3077, 'connie': 1839, 'sid': 8104, 'caesar': 1198, 'lorna': 5350, 'clunker': 1635, 'frenetic': 3587, 'resemblance': 7434, 'evoke': 3093, 'patricia': 6532, 'inflict': 4574, 'inept': 4558, 'milk': 5756, 'rehash': 7331, 'train': 9146, 'carnage': 1298, 'nicolas': 6112, 'martin': 5561, 'houston': 4349, 'fit': 3420, 'columbia': 1699, 'excuse': 3135, 'format': 3530, 'www': 9932, 'btw': 1122, 'travolta': 9181, 'olivia': 6277, 'sandy': 7746, 'creative': 2027, 'craft': 2005, 'directed': 2494, 'uplifting': 9450, 'kudos': 5057, 'hooker': 4307, 'adrian': 135, 'spoof': 8425, 'wild': 9807, 'wacky': 9646, 'motorcycle': 5931, 'oppose': 6311, 'wheel': 9775, 'gamble': 3676, 'hunky': 4381, 'dominate': 2625, 'biker': 850, 'helmet': 4181, 'awry': 623, 'gum': 3983, 'smack': 8239, 'musical': 5983, 'log': 5312, 'beginning': 770, 'british': 1086, 'cousin': 1992, 'hood': 4303, 'label': 5066, 'nerd': 6083, 'zorro': 9998, 'leather': 5158, 'bar': 684, 'goodman': 3835, 'remotely': 7386, 'perfection': 6599, 'pink': 6704, 'cycle': 2132, 'gee': 3710, 'struck': 8612, 'stephanie': 8523, 'rebel': 7257, 'bandit': 677, 'click': 1596, 'graduate': 3869, 'entertainer': 2989, 'ensue': 2981, 'performs': 6605, 'notoriety': 6180, 'overt': 6408, 'interestingly': 4676, 'paint': 6438, 'forgiveness': 3524, 'sadness': 7711, 'remote': 7385, 'qualm': 7117, 'cliche': 1593, 'needless': 6067, 'manipulation': 5509, 'surrender': 8753, 'corny': 1952, 'shaw': 8012, 'arrow': 474, 'enterprise': 2985, 'sheer': 8021, 'jaw': 4817, 'exorcist': 3152, 'amidst': 295, 'unfocused': 9368, 'glimpse': 3793, 'cinematographic': 1540, 'devotion': 2430, 'sophisticated': 8329, 'intricate': 4699, 'heroism': 4200, 'powerfully': 6865, 'addictive': 109, 'rewind': 7510, 'hostile': 4338, 'adolescent': 130, 'assure': 526, 'suggest': 8690, 'inane': 4507, 'participate': 6501, 'distribution': 2581, 'consumption': 1875, 'advance': 139, 'innuendo': 4611, 'tonight': 9090, 'concrete': 1804, 'crude': 2077, 'semblance': 7904, 'sing': 8148, 'loser': 5354, 'johnny': 4866, 'sacred': 7704, 'jacket': 4789, 'spit': 8412, 'scrub': 7855, 'accepts': 51, 'gold': 3820, 'bumble': 1146, 'resourceful': 7452, 'embrace': 2910, 'slack': 8191, 'rude': 7667, 'trashy': 9173, 'harbor': 4072, 'justification': 4926, 'attraction': 563, 'crank': 2009, 'comparison': 1753, 'akin': 210, 'left': 5165, 'stargate': 8489, 'sg': 7971, 'neil': 6075, 'device': 2421, 'distant': 2567, 'happening': 4065, 'gadget': 3664, 'difficulty': 2466, 'switch': 8796, 'hugely': 4358, 'uncomfortable': 9313, 'ignorant': 4428, 'uncover': 9317, 'proportion': 7024, 'rapid': 7202, 'economic': 2814, 'spiritual': 8411, 'collapse': 1679, 'socialist': 8286, 'ideology': 4421, 'revolutionary': 7505, 'eliminate': 2886, 'discard': 2520, 'inherit': 4594, 'contemporary': 1881, 'unfamiliar': 9366, 'restrain': 7467, 'soft': 8294, 'teller': 8902, 'grapple': 3894, 'complex': 1771, 'expertly': 3166, 'humour': 4373, 'strengths': 8593, 'creates': 2025, 'empathy': 2924, 'improvement': 4500, 'acted': 85, 'ridden': 7533, 'lifeless': 5227, 'gusto': 3995, 'uplift': 9449, 'misleading': 5806, 'travesty': 9179, 'laughed': 5125, 'manager': 5496, 'yep': 9955, 'maid': 5467, 'grave': 3902, 'freak': 3575, 'custody': 2123, 'rightly': 7547, 'afterward': 177, 'tooth': 9095, 'infectious': 4569, 'grin': 3933, 'atrocity': 545, 'imagined': 4454, 'exit': 3151, 'unhappy': 9376, 'agenda': 181, 'medium': 5661, 'relatives': 7347, 'mixture': 5832, 'tolerance': 9075, 'acceptance': 50, 'mac': 5427, 'annual': 366, 'roger': 7605, 'ebert': 2810, 'ming': 5774, 'wu': 9926, 'paraphrase': 6482, 'butch': 1178, 'wan': 9670, 'na': 6008, 'silliness': 8125, 'london': 5325, 'marries': 5553, 'liz': 5296, 'taylor': 8869, 'earn': 2793, 'sfx': 7970, 'vintage': 9591, 'pan': 6459, 'scan': 7791, 'lance': 5092, 'leary': 5157, 'coma': 1704, 'going': 3819, 'elephant': 2879, 'finch': 3393, 'manor': 5516, 'plantation': 6729, 'englishman': 2964, 'sun': 8708, 'berserk': 820, 'mayhem': 5618, 'ensues': 2982, 'ail': 197, 'leigh': 5178, 'grand': 3880, 'goose': 3843, 'dana': 2162, 'guilty': 3976, 'zombie': 9994, 'makeup': 5480, 'keyboard': 4985, 'eponymous': 3017, 'imply': 4484, 'permit': 6615, 'epidemic': 3011, 'vulnerable': 9645, 'lommel': 5323, 'uwe': 9478, 'boll': 950, 'crown': 2075, 'ed': 2818, 'toto': 9112, 'bury': 1167, 'angeles': 332, 'mechanic': 5650, 'doctor': 2606, 'screenwriter': 7847, 'wannabe': 9675, 'spew': 8398, 'villainous': 9584, 'driver': 2714, 'inexplicably': 4564, 'furniture': 3648, 'ninja': 6123, 'raid': 7161, 'cardboard': 1277, 'spring': 8438, 'uniform': 9378, 'cruise': 2081, 'shiny': 8045, 'mercury': 5698, 'futile': 3654, 'vague': 9482, 'hairdo': 4025, 'tortured': 9107, 'voodoo': 9632, 'protective': 7035, 'spell': 8392, 'romania': 7617, 'anticipation': 377, 'claw': 1578, 'graf': 3872, 'laud': 5121, 'inject': 4598, 'euro': 3069, 'techno': 8885, 'prehistoric': 6902, 'electronic': 2873, 'noise': 6137, 'disco': 2526, 'shake': 7984, 'function': 3636, 'auteur': 582, 'ample': 302, 'golden': 3823, 'dean': 2222, 'rid': 7532, 'atlantis': 539, 'th': 8948, 'download': 2661, 'midget': 5740, 'turgid': 9258, 'talky': 8843, 'soap': 8280, 'majestic': 5474, 'discern': 2521, 'distinct': 2569, 'unanswered': 9298, 'decency': 2244, 'alternately': 268, 'lavish': 5135, 'owe': 6416, 'jungle': 4919, 'bette': 829, 'davis': 2204, 'rubber': 7663, 'maltin': 5490, 'reader': 7235, 'predictability': 6891, 'credible': 2034, 'overbear': 6391, 'andrews': 326, 'laura': 5130, 'admirer': 126, 'apply': 413, 'snake': 8260, 'romanian': 7618, 'arrival': 469, 'feels': 3323, 'awareness': 612, 'angry': 339, 'herd': 4192, 'masterful': 5584, 'undertone': 9345, 'mansion': 5519, 'park': 6490, 'attic': 558, 'sits': 8166, 'bullshit': 1143, 'tit': 9055, 'awhile': 620, 'magically': 5457, 'protect': 7033, 'shadow': 7977, 'indicate': 4544, 'dude': 2738, 'specialist': 8378, 'hideous': 4214, 'cow': 1995, 'villa': 9580, 'reminiscent': 7383, 'impose': 4489, 'staff': 8457, 'decease': 2240, 'dominant': 2624, 'substitute': 8658, 'smooth': 8253, 'wardrobe': 9682, 'drink': 2708, 'bark': 691, 'dedication': 2261, 'masochistic': 5576, 'stripper': 8606, 'quasi': 7122, 'melodramatic': 5675, 'governor': 3858, 'source': 8351, 'revere': 7494, 'tame': 8845, 'bull': 1140, 'deny': 2342, 'access': 52, 'animal': 343, 'expense': 3158, 'integral': 4651, 'immigrant': 4466, 'virtual': 9601, 'labor': 5067, 'residence': 7441, 'marble': 5526, 'carve': 1319, 'doorway': 2639, 'hal': 4029, 'immune': 4470, 'architecture': 439, 'allure': 257, 'woo': 9876, 'describe': 2372, 'outdoor': 6368, 'proclaim': 6973, 'proof': 7014, 'favor': 3298, 'po': 6766, 'negative': 6070, 'puppy': 7092, 'stare': 8488, 'sappy': 7754, 'snuff': 8278, 'mobile': 5839, 'bride': 1067, 'dazzle': 2211, 'echo': 2812, 'determination': 2409, 'temper': 8904, 'fury': 3651, 'annoyance': 362, 'conquer': 1843, 'eyre': 3211, 'rage': 7159, 'excessively': 3122, 'colorful': 1695, 'exquisite': 3188, 'sharp': 8006, 'tongue': 9088, 'heroine': 4199, 'pollution': 6797, 'crime': 2044, 'philosophy': 6660, 'patrol': 6537, 'borderline': 982, 'colourful': 1697, 'terrorist': 8937, 'twin': 9272, 'palette': 6451, 'cartoonish': 1316, 'nicely': 6105, 'sf': 7969, 'recommended': 7278, 'par': 6472, 'wave': 9715, 'suggestion': 8691, 'incoherent': 4522, 'consist': 1860, 'subtlety': 8662, 'plausibility': 6734, 'wing': 9833, 'choppy': 1500, 'gratuitous': 3901, 'inappropriate': 4508, 'holy': 4280, 'menu': 5692, 'artwork': 489, 'hooked': 4306, 'poison': 6780, 'wasteland': 9703, 'insanity': 4614, 'distinctly': 2572, 'draft': 2673, 'blond': 916, 'al': 214, 'commander': 1725, 'britain': 1085, 'sport': 8429, 'nifty': 6116, 'revolver': 7507, 'tiger': 9025, 'endear': 2943, 'remain': 7369, 'mini': 5775, 'genius': 3730, 'purple': 7098, 'mo': 5836, 'hawk': 4121, 'belly': 791, 'mayor': 5619, 'antic': 375, 'chase': 1434, 'cyborg': 2131, 'peace': 6558, 'installment': 4633, 'cloud': 1628, 'nd': 6052, 'manga': 5501, 'chaos': 1413, 'venture': 9531, 'examine': 3106, 'blur': 932, 'uneven': 9357, 'profile': 6986, 'fx': 3658, 'chair': 1396, 'couch': 1970, 'episodes': 3014, 'selection': 7896, 'tacky': 8827, 'journalist': 4889, 'tactic': 8828, 'bank': 679, 'robber': 7579, 'bust': 1175, 'justice': 4925, 'lackluster': 5073, 'nut': 6203, 'believer': 788, 'sunday': 8710, 'ebay': 2809, 'craziness': 2020, 'frontal': 3611, 'psychedelic': 7055, 'induce': 4551, 'colour': 1696, 'garde': 3694, 'integrate': 4652, 'biological': 868, 'industrial': 4555, 'merge': 5703, 'machinery': 5435, 'connects': 1836, 'subplot': 8652, 'stanley': 8482, 'kubrick': 5056, 'odyssey': 6249, 'dave': 2202, 'richly': 7528, 'confront': 1822, 'grainy': 3877, 'national': 6037, 'brisk': 1082, 'warp': 9693, 'interpretation': 4687, 'signal': 8115, 'disjoint': 2547, 'montage': 5882, 'vaguely': 9483, 'mankind': 5511, 'pound': 6856, 'nt': 6190, 'bought': 998, 'propaganda': 7016, 'comprehensive': 1783, 'everybody': 3085, 'comprehension': 1782, 'attractive': 564, 'philosophical': 6659, 'shelf': 8026, 'swiss': 8795, 'romp': 7624, 'kay': 4955, 'spike': 8403, 'jones': 4878, 'band': 676, 'hugh': 4359, 'buddy': 1129, 'rumor': 7676, 'lou': 5361, 'costello': 1966, 'abbott': 5, 'pile': 6696, 'responsible': 7461, 'resemble': 7435, 'scantily': 7794, 'decorate': 2258, 'pitiful': 6714, 'neutral': 6093, 'generous': 3726, 'vhs': 9553, 'musician': 5984, 'misfit': 5800, 'fireman': 3407, 'running': 7681, 'gag': 3665, 'lone': 5326, 'revenge': 7493, 'county': 1982, 'victoria': 9562, 'pale': 6448, 'cannibalistic': 1247, 'primitive': 6948, 'noir': 6135, 'vixen': 9620, 'indie': 4546, 'garage': 3690, 'om': 6283, 'duty': 2769, 'inability': 4503, 'smile': 8247, 'meeting': 5664, 'working': 9885, 'avid': 603, 'desk': 2386, 'fist': 3418, 'moron': 5910, 'definite': 2276, 'breakthrough': 1048, 'mainstream': 5472, 'maintain': 5473, 'troll': 9225, 'revolves': 7508, 'trivial': 9223, 'yup': 9973, 'corpse': 1957, 'protection': 7034, 'yay': 9948, 'definition': 2278, 'pipe': 6707, 'sparse': 8370, 'steer': 8515, 'fulfil': 3628, 'requirement': 7428, 'dilute': 2478, 'conscience': 1847, 'tree': 9186, 'roof': 7629, 'shah': 7982, 'alcoholic': 226, 'rub': 7662, 'adjust': 120, 'handedly': 4050, 'excellence': 3112, 'corner': 1951, 'net': 6089, 'romero': 7623, 'devil': 2422, 'argue': 447, 'worship': 9895, 'parallel': 6477, 'inspiration': 4629, 'altogether': 271, 'colleague': 1681, 'suffers': 8684, 'crave': 2015, 'revolve': 7506, 'aware': 611, 'politician': 6794, 'practice': 6870, 'underworld': 9350, 'hair': 4023, 'alcoholism': 227, 'deception': 2246, 'aspects': 503, 'dealt': 2221, 'bargain': 690, 'bin': 860, 'mislead': 5805, 'liar': 5216, 'definitive': 2279, 'degenerate': 2283, 'slew': 8216, 'trend': 9193, 'moderate': 5846, 'btk': 1121, 'zodiac': 9991, 'audio': 569, 'theory': 8968, 'universe': 9396, 'religion': 7360, 'showtime': 8084, 'fifth': 3367, 'roland': 7609, 'id': 4411, 'matt': 5601, 'damon': 2159, 'doe': 2612, 'exaggerated': 3103, 'readily': 7236, 'oneself': 6291, 'summarize': 8704, 'rough': 7650, 'delicate': 2292, 'balance': 661, 'commonly': 1741, 'court': 1988, 'plate': 6731, 'prowess': 7049, 'needle': 6066, 'recite': 7269, 'midway': 5744, 'aptly': 427, 'disguise': 2543, 'fake': 3243, 'buying': 1186, 'advise': 152, 'jr': 4895, 'cohesive': 1664, 'oddball': 6245, 'document': 2607, 'tip': 9050, 'versatile': 9543, 'fuller': 3632, 'bela': 779, 'lugosi': 5394, 'loretta': 5349, 'gregory': 3921, 'saint': 7720, 'hundred': 4375, 'amateurish': 275, 'forgettable': 3520, 'hopelessly': 4317, 'prospect': 7029, 'ineptitude': 4559, 'digital': 2470, 'consistently': 1863, 'enthusiasm': 2993, 'acknowledge': 78, 'shortcoming': 8068, 'heap': 4140, 'praise': 6872, 'mythology': 6007, 'controversy': 1908, 'comer': 1717, 'gallery': 3674, 'surprisingly': 8750, 'association': 522, 'pool': 6805, 'universally': 9395, 'involvement': 4728, 'kindness': 5008, 'fabric': 3213, 'contradiction': 1899, 'viewpoint': 9574, 'respectful': 7455, 'vow': 9635, 'glenda': 3790, 'exceed': 3109, 'examination': 3105, 'darker': 2186, 'lovingly': 5373, 'untimely': 9436, 'illustration': 4445, 'strictly': 8598, 'motivate': 5926, 'cocktail': 1654, 'bloody': 924, 'disgraceful': 2541, 'perpetrate': 6616, 'advertising': 150, 'halloween': 4036, 'insulting': 4648, 'mcgovern': 5630, 'writing': 9920, 'helen': 4174, 'keller': 4969, 'sue': 8681, 'sheep': 8020, 'zealand': 9982, 'region': 7326, 'bruno': 1113, 'lawrence': 5138, 'remembered': 7377, 'sharply': 8007, 'edited': 2829, 'aspire': 505, 'shovel': 8078, 'yakuza': 9942, 'uk': 9290, 'censor': 1378, 'germany': 3745, 'austria': 580, 'contains': 1878, 'pervert': 6636, 'miike': 5746, 'acclaim': 57, 'infidelity': 4572, 'jealousy': 4823, 'taint': 8833, 'barbara': 685, 'stanwyck': 8483, 'van': 9495, 'heflin': 4168, 'mason': 5577, 'ava': 594, 'gardner': 3697, 'nancy': 6018, 'prolific': 6999, 'takashi': 8834, 'maverick': 5612, 'sensibility': 7917, 'morally': 5898, 'ambiguous': 285, 'attitude': 559, 'burden': 1152, 'squeamish': 8447, 'shopping': 8065, 'wolf': 9863, 'snail': 8259, 'committee': 1739, 'nominee': 6144, 'predict': 6890, 'spooky': 8427, 'daniel': 2173, 'conclude': 1801, 'cary': 1320, 'dog': 2614, 'magnum': 5463, 'brave': 1036, 'shooter': 8061, 'beard': 742, 'slum': 8234, 'hyper': 4396, 'pastiche': 6522, 'underground': 9328, 'activity': 91, 'triad': 9197, 'ol': 6272, 'flamboyant': 3426, 'dig': 2467, 'maze': 5620, 'leader': 5146, 'sordid': 8336, 'nemesis': 6079, 'alienate': 240, 'ultimate': 9291, 'contend': 1883, 'bitter': 879, 'dis': 2503, 'morality': 5897, 'receives': 7264, 'inheritance': 4595, 'preachy': 6880, 'complicate': 1773, 'complication': 1774, 'thrust': 9009, 'frantic': 3571, 'explosive': 3181, 'caution': 1355, 'joan': 4856, 'barry': 701, 'fred': 3577, 'emily': 2914, 'betty': 832, 'arguably': 446, 'alfred': 234, 'liven': 5294, 'randolph': 7188, 'dip': 2490, 'coincidence': 1667, 'bone': 962, 'obligation': 6213, 'chooses': 1497, 'pompous': 6799, 'reconciliation': 7280, 'strand': 8573, 'fishing': 3417, 'stir': 8548, 'unfaithful': 9365, 'mafia': 5452, 'skull': 8188, 'clockwork': 1614, 'orange': 6324, 'essential': 3053, 'viewing': 9573, 'illustrate': 4444, 'web': 9734, 'scholar': 7818, 'northwest': 6163, 'stranger': 8577, 'less': 5199, 'harry': 4098, 'uncle': 9311, 'marion': 5540, 'older': 6274, 'curtain': 2117, 'drip': 2710, 'gordon': 3844, 'clara': 1560, 'beery': 763, 'clock': 1613, 'obnoxious': 6217, 'spinster': 8408, 'introduces': 4704, 'abrupt': 26, 'berry': 819, 'symbolism': 8809, 'agonize': 187, 'blonde': 917, 'whip': 9782, 'active': 88, 'participant': 6500, 'casual': 1335, 'albeit': 222, 'compelling': 1757, 'uber': 9284, 'organ': 6332, 'prevalent': 6933, 'satirical': 7770, 'programmer': 6992, 'savage': 7779, 'sardonic': 7760, 'orphan': 6348, 'eastwood': 2802, 'esquire': 3050, 'pun': 7083, 'plug': 6760, 'penchant': 6583, 'puppet': 7091, 'vengeance': 9525, 'redemption': 7292, 'emulate': 2934, 'macbeth': 5430, 'scale': 7788, 'cruel': 2078, 'grain': 3876, 'salt': 7728, 'ichi': 4407, 'visitor': 9611, 'batman': 726, 'ray': 7225, 'prevent': 6934, 'progress': 6993, 'aggressive': 185, 'duncan': 2753, 'cape': 1257, 'dynamic': 2782, 'wayne': 9719, 'horrendous': 4324, 'belt': 795, 'torch': 9099, 'ear': 2789, 'disgruntle': 2542, 'rabbit': 7143, 'radioactive': 7156, 'trace': 9130, 'thugs': 9011, 'sneak': 8264, 'weigh': 9746, 'disable': 2505, 'flag': 3424, 'fend': 3338, 'died': 2456, 'exposure': 3184, 'lane': 5097, 'vicki': 9559, 'hurl': 4384, 'toast': 9061, 'lewis': 5211, 'trademark': 9135, 'raw': 7224, 'visceral': 9605, 'beating': 747, 'relation': 7343, 'cgi': 1392, 'superbly': 8719, 'constraint': 1869, 'cliffhanger': 1599, 'spencer': 8393, 'bennett': 804, 'kirk': 5017, 'vs': 9639, 'wizard': 9859, 'mechanical': 5651, 'eagle': 2787, 'stuntman': 8632, 'cloth': 1624, 'miscast': 5794, 'flair': 3425, 'considerable': 1856, 'exciting': 3127, 'tired': 9052, 'douglas': 2653, 'prime': 6947, 'superfluous': 8721, 'peril': 6606, 'virtually': 9602, 'butler': 1180, 'prop': 7015, 'laden': 5076, 'resembles': 7436, 'ross': 7645, 'rachel': 7146, 'wed': 9737, 'intentional': 4666, 'monica': 5871, 'joey': 4863, 'chandler': 1407, 'contradict': 1898, 'occasion': 6233, 'inexperienced': 4562, 'programme': 6991, 'division': 2598, 'garden': 3695, 'balcony': 662, 'council': 1972, 'broadcast': 1089, 'awfully': 618, 'plastic': 6730, 'favour': 3301, 'coke': 1669, 'mama': 5491, 'papa': 6468, 'gellar': 3715, 'courtney': 1990, 'newly': 6100, 'hippy': 4240, 'le': 5144, 'sarcastic': 7759, 'bing': 863, 'matthew': 5605, 'perry': 6621, 'jennifer': 4832, 'aniston': 349, 'shine': 8044, 'confident': 1816, 'sympathise': 8812, 'timing': 9041, 'confidence': 1815, 'reunite': 7488, 'steven': 8533, 'segal': 7890, 'reduce': 7296, 'secondary': 7873, 'shoulder': 8075, 'blade': 887, 'opponent': 6309, 'brick': 1066, 'aircraft': 203, 'assassinate': 509, 'glimmer': 3792, 'extraordinary': 3198, 'church': 1528, 'stealth': 8509, 'insanely': 4613, 'drivel': 2712, 'expand': 3154, 'neill': 6076, 'jackson': 4792, 'samantha': 7733, 'quiet': 7131, 'compassionate': 1755, 'warrior': 9696, 'parasite': 6483, 'deem': 2264, 'comprise': 1784, 'transport': 9167, 'decline': 2255, 'knit': 5034, 'understandable': 9336, 'emphasis': 2926, 'weekly': 9743, 'ish': 4761, 'remarkable': 7374, 'creativity': 2029, 'bravo': 1039, 'seagal': 7860, 'specifically': 8383, 'army': 460, 'stunk': 8628, 'afghanistan': 165, 'territory': 8934, 'usa': 9462, 'speaker': 8373, 'jail': 4799, 'owen': 6417, 'arab': 428, 'muslim': 5985, 'alcohol': 225, 'charge': 1422, 'roommate': 7633, 'playing': 6741, 'assistance': 519, 'cd': 1361, 'intellect': 4654, 'crouch': 2070, 'gear': 3709, 'deceive': 2242, 'monday': 5869, 'launch': 5128, 'fighter': 3370, 'renegade': 7393, 'steve': 8532, 'ransom': 7196, 'sand': 7741, 'detention': 2407, 'wipe': 9840, 'skip': 8185, 'pour': 6857, 'jet': 4845, 'unconvincing': 9316, 'thankfully': 8953, 'prince': 6949, 'stallone': 8472, 'rocky': 7599, 'grammar': 3879, 'dunno': 2757, 'porno': 6819, 'cash': 1323, 'sword': 8798, 'sorcery': 8335, 'cure': 2107, 'abby': 6, 'julia': 4908, 'injury': 4601, 'injure': 4599, 'disfigure': 2539, 'selfish': 7898, 'ira': 4732, 'corbin': 1943, 'mum': 5961, 'pam': 6457, 'linda': 5259, 'rob': 7578, 'qualifies': 7114, 'us': 9461, 'lull': 5399, 'legal': 5168, 'deliciously': 2294, 'gory': 3848, 'faint': 3233, 'keen': 4962, 'slice': 8217, 'peel': 6574, 'muscle': 5978, 'cooler': 1931, 'ladies': 5077, 'passing': 6516, 'fbi': 3306, 'defence': 2270, 'segment': 7891, 'purely': 7095, 'choreograph': 1504, 'outlandish': 6372, 'despicable': 2392, 'aloof': 262, 'bernsen': 818, 'chew': 1465, 'advanced': 140, 'bomber': 956, 'invisible': 4723, 'rank': 7194, 'mick': 5734, 'em': 2901, 'pro': 6962, 'valerie': 9487, 'stairs': 8464, 'argento': 445, 'mutilate': 5991, 'specially': 8380, 'cream': 2022, 'mst': 5949, 'carrier': 1310, 'grenade': 3923, 'dud': 2737, 'explodes': 3173, 'europe': 3071, 'pc': 6557, 'map': 5523, 'underdog': 9326, 'malone': 5488, 'dot': 2648, 'cleverly': 1589, 'debate': 2229, 'ghostly': 3754, 'conspiracy': 1864, 'pitch': 6713, 'continuous': 1894, 'adultery': 137, 'accident': 54, 'sleazy': 8208, 'attorney': 560, 'dentist': 2340, 'abbey': 3, 'campaign': 1229, 'vegetable': 9517, 'sleaze': 8207, 'obligatory': 6214, 'circus': 1546, 'unnecessarily': 9408, 'standpoint': 8480, 'suitably': 8697, 'unsettling': 9428, 'bastard': 719, 'tech': 8880, 'secondly': 7874, 'transformer': 9158, 'select': 7895, 'trigger': 9209, 'turned': 9263, 'mysteriously': 6000, 'assign': 516, 'standout': 8479, 'bruise': 1111, 'spark': 8368, 'gruesome': 3961, 'taut': 8865, 'palpable': 6454, 'siege': 8110, 'gutter': 3997, 'persistent': 6622, 'notorious': 6181, 'apology': 398, 'remarkably': 7375, 'dental': 2339, 'incline': 4519, 'carpenter': 1305, 'luscious': 5415, 'angelina': 333, 'jolie': 4873, 'katie': 4951, 'passable': 6513, 'unexciting': 9359, 'egyptian': 2855, 'harvest': 4105, 'roman': 7615, 'galaxy': 3672, 'mythical': 6006, 'command': 1724, 'underneath': 9331, 'col': 1670, 'capt': 1268, 'tap': 8850, 'compose': 1777, 'defense': 2272, 'alliance': 251, 'conquest': 1844, 'eternal': 3062, 'primary': 6946, 'antagonist': 370, 'specie': 8381, 'pivotal': 6717, 'follower': 3485, 'jesus': 4844, 'grab': 3861, 'wtf': 9925, 'android': 327, 'mc': 5621, 'mtv': 5950, 'hbo': 4132, 'crypt': 2088, 'underrate': 9332, 'misunderstood': 5825, 'slutty': 8236, 'displeasure': 2557, 'spouse': 8432, 'enthusiastic': 2995, 'wive': 9858, 'shenanigan': 8032, 'glee': 3789, 'beneath': 800, 'convincing': 1925, 'replay': 7410, 'airplane': 205, 'dawn': 2206, 'peck': 6565, 'hubby': 4354, 'someday': 8313, 'pardon': 6484, 'interrupt': 4688, 'shootout': 8063, 'traitor': 9151, 'jessica': 4842, 'vincenzo': 9589, 'enforcer': 2956, 'jerky': 4837, 'tightly': 9029, 'foe': 3476, 'understated': 9341, 'combat': 1707, 'snap': 8261, 'visible': 9607, 'dizzy': 2601, 'pang': 6464, 'delightful': 2296, 'barnes': 695, 'colonel': 1691, 'disappears': 2510, 'lots': 5360, 'luckily': 5389, 'partnership': 6508, 'unsuspecting': 9433, 'spar': 8366, 'remake': 7372, 'thunder': 9014, 'existent': 3148, 'convinces': 1924, 'procedure': 6968, 'abruptly': 27, 'splice': 8417, 'recognition': 7273, 'brought': 1105, 'vengeful': 9526, 'killing': 5002, 'loved': 5369, 'knack': 5027, 'laughably': 5124, 'tax': 8867, 'honorable': 4301, 'barrel': 699, 'fodder': 3475, 'rogue': 7607, 'fell': 3327, 'preston': 6924, 'relax': 7348, 'planning': 6727, 'wedding': 9738, 'kooky': 5044, 'hug': 4356, 'resource': 7451, 'silver': 8127, 'miraculously': 5790, 'credibility': 2033, 'lightning': 5238, 'marcel': 5528, 'clue': 1631, 'hook': 4305, 'ny': 6206, 'dire': 2492, 'moderately': 5847, 'needlessly': 6068, 'chick': 1468, 'soul': 8344, 'mature': 5606, 'reconcile': 7279, 'presentation': 6915, 'rural': 7684, 'iowa': 4730, 'virginia': 9599, 'vancouver': 9497, 'toronto': 9104, 'locale': 5306, 'variation': 9505, 'specific': 8382, 'garner': 3700, 'ford': 3506, 'hank': 4057, 'et': 3061, 'deborah': 2231, 'kerr': 4981, 'doris': 2643, 'meg': 5665, 'ryan': 7696, 'phyllis': 6669, 'newman': 6101, 'juice': 4905, 'oft': 6264, 'contrivance': 1904, 'enjoyment': 2973, 'describes': 2374, 'combination': 1708, 'escapist': 3044, 'schwarzenegger': 7823, 'casablanca': 1321, 'bare': 688, 'seattle': 7868, 'natasha': 6034, 'equivalent': 3023, 'appal': 399, 'mediocrity': 5659, 'chemical': 1453, 'filmic': 3378, 'toddler': 9066, 'multi': 5958, 'chunk': 1527, 'elvis': 2900, 'bog': 942, 'leading': 5148, 'jumble': 4914, 'naval': 6046, 'gal': 3670, 'ninety': 6122, 'trek': 9187, 'archaeologist': 434, 'betray': 827, 'congratulate': 1829, 'boyish': 1015, 'blink': 909, 'grown': 3957, 'innocence': 4607, 'bitten': 878, 'amanda': 273, 'esteem': 3058, 'civilian': 1551, 'excels': 3115, 'wisecrack': 9845, 'propose': 7026, 'radiant': 7152, 'creep': 2038, 'bronx': 1096, 'ideal': 4414, 'significant': 8118, 'mate': 5595, 'unseen': 9426, 'advertise': 148, 'humphrey': 4374, 'bogart': 943, 'errol': 3037, 'flynn': 3471, 'hale': 4030, 'frank': 3566, 'unfold': 9369, 'nevada': 6094, 'ft': 3623, 'suspiciously': 8769, 'civil': 1550, 'samuel': 7738, 'fortune': 3540, 'pad': 6432, 'bonanza': 959, 'san': 7740, 'francisco': 3563, 'bradford': 1022, 'union': 9387, 'pow': 6860, 'concentration': 1795, 'camp': 1228, 'confederate': 1811, 'vance': 9496, 'murky': 5975, 'prostitute': 7030, 'abe': 9, 'hung': 4376, 'quirk': 7137, 'faster': 3287, 'sap': 7753, 'gosh': 3849, 'mine': 5772, 'railroad': 7164, 'ward': 9680, 'funeral': 3641, 'saloon': 7727, 'holocaust': 4278, 'debacle': 2228, 'illusion': 4443, 'yesterday': 9957, 'jim': 4852, 'electric': 2869, 'endeavor': 2944, 'slasher': 8199, 'outta': 6386, 'tiny': 9049, 'ostensibly': 6356, 'seal': 7861, 'sent': 7922, 'caricature': 1290, 'cameraman': 1226, 'flicker': 3447, 'alias': 236, 'remark': 7373, 'chainsaw': 1395, 'quarter': 7120, 'inch': 4515, 'flimsy': 3449, 'threw': 9000, 'hunk': 4380, 'polish': 6790, 'gene': 3720, 'ps': 7052, 'megan': 5667, 'idealistic': 4416, 'sacrifice': 7705, 'portrays': 6830, 'senseless': 7916, 'implies': 4483, 'shirt': 8048, 'torment': 9100, 'hick': 4210, 'register': 7327, 'christ': 1513, 'amazingly': 280, 'neglect': 6071, 'cherish': 1457, 'graham': 3874, 'crusade': 2084, 'education': 2837, 'fox': 3551, 'summary': 8705, 'camcorder': 1221, 'ripper': 7559, 'evaluate': 3075, 'gospel': 3851, 'sings': 8154, 'numerous': 6200, 'mike': 5747, 'outline': 6375, 'june': 4918, 'finance': 3390, 'widely': 9798, 'distribute': 2580, 'paine': 6435, 'texas': 8944, 'vernon': 9539, 'remade': 7368, 'swap': 8777, 'meal': 5639, 'behaviour': 776, 'danza': 2179, 'grayson': 3906, 'shamelessly': 7995, 'drum': 2723, 'instant': 4635, 'muscular': 5979, 'soviet': 8354, 'glass': 3787, 'writhe': 9919, 'agony': 188, 'fisherman': 3416, 'niven': 6128, 'proceeds': 6971, 'lanza': 5102, 'predictably': 6893, 'noisy': 6138, 'prisoner': 6957, 'slayer': 8206, 'reign': 7335, 'infest': 4571, 'impersonate': 4476, 'envy': 3009, 'tomb': 9081, 'representation': 7416, 'calm': 1216, 'pizza': 6719, 'training': 9149, 'pierce': 6690, 'unite': 9392, 'vocal': 9622, 'duet': 2741, 'lower': 5376, 'trained': 9147, 'crocodile': 2063, 'deaf': 2218, 'yellow': 9954, 'error': 3039, 'overweight': 6412, 'physic': 6670, 'explosion': 3180, 'soprano': 8332, 'fascinating': 3279, 'uniqueness': 9390, 'cancel': 1238, 'horrid': 4327, 'eva': 3074, 'bell': 789, 'fetch': 3347, 'mgm': 5726, 'obscene': 6218, 'mannerism': 5515, 'smell': 8246, 'orleans': 6347, 'mayer': 5617, 'uncertain': 9309, 'reply': 7411, 'front': 3610, 'longoria': 5332, 'parker': 6491, 'rom': 7614, 'hudson': 4355, 'mug': 5954, 'rudd': 7666, 'atheist': 535, 'jeff': 4829, 'goldblum': 3822, 'willis': 9821, 'kim': 5004, 'downey': 2658, 'mcdonald': 5627, 'seeing': 7887, 'tour': 9116, 'ohio': 6267, 'housewife': 4347, 'valley': 9489, 'wage': 9647, 'manufacture': 5522, 'dread': 2690, 'doubtful': 2651, 'repress': 7418, 'jealous': 4822, 'thinner': 8981, 'session': 7948, 'disrespect': 2562, 'kyle': 5063, 'jason': 4816, 'capacity': 1256, 'smug': 8256, 'detach': 2403, 'sober': 8283, 'outright': 6381, 'witty': 9857, 'formulaic': 3533, 'apocalypse': 394, 'shocked': 8052, 'devote': 2429, 'factory': 3223, 'equipment': 3022, 'misunderstand': 5823, 'chris': 1511, 'basis': 715, 'chinatown': 1484, 'classy': 1573, 'resonance': 7448, 'intro': 4702, 'berkeley': 813, 'groovy': 3948, 'humorous': 4372, 'jerk': 4836, 'derivative': 2366, 'stylistically': 8640, 'aimless': 200, 'minority': 5784, 'mildly': 5750, 'destination': 2395, 'wanted': 9677, 'dramatize': 2682, 'jersey': 4839, 'oakland': 6208, 'alley': 250, 'africa': 170, 'olympic': 6282, 'puerto': 7074, 'homework': 4287, 'haunting': 4118, 'football': 3498, 'anchorman': 318, 'globe': 3796, 'sabotage': 7698, 'mill': 5757, 'frustrating': 3619, 'laughter': 5127, 'trump': 9240, 'dick': 2448, 'ensure': 2983, 'grasp': 3895, 'cocaine': 1651, 'inclusion': 4521, 'reel': 7301, 'announce': 357, 'annoyed': 363, 'posture': 6848, 'upcoming': 9446, 'bored': 984, 'overact': 6388, 'staple': 8484, 'tall': 8844, 'championship': 1404, 'marital': 5542, 'uninteresting': 9386, 'liquor': 5273, 'soak': 8279, 'courtesy': 1989, 'college': 1686, 'russian': 7691, 'ne': 6053, 'gossip': 3852, 'watcher': 9708, 'neighbor': 6072, 'bewitch': 836, 'perpetually': 6619, 'witless': 9854, 'wwii': 9931, 'seuss': 7954, 'clothe': 1625, 'sly': 8237, 'paradise': 6475, 'elicit': 2885, 'groan': 3943, 'politically': 6793, 'astute': 532, 'forty': 3541, 'darn': 2193, 'flower': 3463, 'rick': 7529, 'eventual': 3082, 'rumour': 7677, 'wartime': 9697, 'imaginative': 4452, 'inventive': 4714, 'overshadow': 6407, 'noah': 6130, 'ricky': 7530, 'eager': 2785, 'controversial': 1907, 'vietnam': 9569, 'communism': 1745, 'chuck': 1525, 'stall': 8470, 'rhyme': 7516, 'brass': 1034, 'animator': 347, 'censorship': 1379, 'frightening': 3604, 'anxious': 384, 'balloon': 668, 'brooklyn': 1100, 'troop': 9227, 'lawn': 5137, 'startle': 8496, 'valid': 9488, 'breed': 1055, 'communication': 1744, 'consequently': 1853, 'educational': 2838, 'continuously': 1895, 'statue': 8502, 'riot': 7554, 'hartman': 4102, 'bob': 938, 'lyric': 5424, 'wicked': 9794, 'swing': 8793, 'virgin': 9598, 'kiddie': 4993, 'ally': 259, 'hears': 4144, 'analogy': 312, 'theodore': 8967, 'climate': 1602, 'sting': 8545, 'dutch': 2768, 'boundary': 1001, 'gump': 3984, 'fairy': 3238, 'extraordinarily': 3197, 'relies': 7358, 'archetype': 436, 'uh': 9289, 'brat': 1035, 'randall': 7187, 'floyd': 3464, 'feminism': 3334, 'refine': 7307, 'gilligan': 3770, 'mundane': 5966, 'boomer': 974, 'spends': 8396, 'bedroom': 759, 'illegal': 4437, 'seldom': 7894, 'stereotypical': 8528, 'league': 5150, 'eric': 3027, 'dennis': 2335, 'blake': 892, 'coach': 1641, 'baseball': 707, 'cement': 1375, 'bud': 1127, 'vulgar': 9642, 'wholesome': 9789, 'afternoon': 175, 'cheerleader': 1448, 'announcer': 359, 'somebody': 8312, 'sunset': 8715, 'lecture': 5161, 'closing': 1622, 'comeback': 1712, 'putrid': 7108, 'position': 6836, 'cent': 1380, 'vu': 9640, 'thailand': 8950, 'smuggle': 8257, 'erik': 3028, 'der': 2363, 'befriend': 765, 'cave': 1357, 'culminate': 2098, 'disgrace': 2540, 'cleveland': 1587, 'consistent': 1862, 'bsg': 1120, 'glorious': 3800, 'village': 9581, 'oblivion': 6215, 'corridor': 1961, 'oblivious': 6216, 'sentiment': 7924, 'alas': 220, 'appease': 406, 'mesmerize': 5710, 'split': 8418, 'skirt': 8186, 'handsome': 4054, 'masculine': 5573, 'nana': 6017, 'loyal': 5378, 'rukh': 7672, 'shakti': 7987, 'endurance': 2949, 'ignorance': 4427, 'unconscious': 9314, 'booze': 980, 'seduce': 7881, 'cite': 1547, 'downtown': 2664, 'royal': 7660, 'disagree': 2507, 'competition': 1762, 'margaret': 5531, 'disposal': 2558, 'outset': 6382, 'nest': 6088, 'bush': 1172, 'edinburgh': 2826, 'farcical': 3268, 'christmas': 1520, 'canada': 1235, 'happiness': 4068, 'vast': 9509, 'filthy': 3386, 'terrain': 8927, 'harm': 4086, 'enters': 2986, 'learns': 5156, 'insist': 4624, 'wrench': 9908, 'pat': 6524, 'helpless': 4185, 'hilt': 4231, 'churn': 1529, 'trim': 9211, 'hitch': 4250, 'blair': 890, 'witch': 9850, 'poet': 6771, 'commentary': 1730, 'conscious': 1848, 'myth': 6005, 'happily': 4067, 'link': 5267, 'notable': 6170, 'nuanced': 6192, 'realism': 7242, 'rampant': 7183, 'royalty': 7661, 'exhilarate': 3144, 'leia': 5177, 'darth': 2196, 'warlord': 9686, 'swallow': 8774, 'interlude': 4680, 'caine': 1205, 'burgess': 1154, 'meredith': 5701, 'funding': 3640, 'logan': 5313, 'crow': 2072, 'prevents': 6935, 'charlton': 1430, 'heston': 4204, 'forgiven': 3523, 'sholay': 8059, 'overdo': 6395, 'runaway': 7679, 'peaceful': 6559, 'execution': 3138, 'terrified': 8932, 'intelligently': 4659, 'vulnerability': 9644, 'anguish': 341, 'manages': 5497, 'cruelty': 2080, 'conviction': 1921, 'adequate': 117, 'juvenile': 4930, 'relive': 7363, 'reckless': 7270, 'mister': 5820, 'suv': 8772, 'golf': 3827, 'clothing': 1627, 'solar': 8301, 'panel': 6463, 'hazzard': 4131, 'comically': 1723, 'wisely': 9846, 'adorable': 132, 'rave': 7221, 'editing': 2831, 'bodyguard': 941, 'meatball': 5649, 'murray': 5977, 'hart': 4100, 'currently': 2114, 'crumble': 2082, 'last': 5113, 'sooner': 8323, 'tiresome': 9053, 'pseudo': 7053, 'awake': 608, 'suffering': 8683, 'comfort': 1719, 'confines': 1819, 'likewise': 5245, 'clutch': 1637, 'farce': 3267, 'underscore': 9334, 'orchestral': 6328, 'ensemble': 2980, 'inconsistent': 4530, 'marie': 5534, 'elegance': 2875, 'unavailable': 9301, 'disk': 2548, 'concert': 1800, 'beatles': 748, 'britney': 1087, 'christina': 1518, 'gift': 3761, 'improvise': 4501, 'newcomer': 6098, 'tedium': 8891, 'masterwork': 5589, 'anthem': 371, 'rocker': 7596, 'ongoing': 6292, 'bass': 718, 'townsend': 9124, 'ethnic': 3067, 'ringwald': 7552, 'rag': 7158, 'strap': 8580, 'sheedy': 8018, 'keith': 4968, 'hippie': 4239, 'tommy': 9084, 'hungry': 4379, 'gig': 3762, 'august': 572, 'announces': 360, 'shepherd': 8034, 'skeleton': 8175, 'toe': 9068, 'jean': 4824, 'doc': 2604, 'preferred': 6898, 'bleed': 904, 'peak': 6561, 'linear': 5264, 'stereo': 8526, 'duration': 2762, 'extras': 3199, 'bunuel': 1151, 'manipulate': 5508, 'goat': 3810, 'conceal': 1791, 'sickness': 8103, 'heck': 4163, 'mitchell': 5828, 'malta': 5489, 'scenic': 7810, 'clad': 1554, 'gunslinger': 3993, 'bot': 994, 'spain': 8363, 'capitalism': 1260, 'glare': 3786, 'regardless': 7323, 'oliver': 6276, 'reed': 7298, 'jar': 4815, 'vein': 9521, 'casino': 1324, 'cesar': 1390, 'revive': 7502, 'occupation': 6237, 'rebellion': 7258, 'enthusiast': 2994, 'artsy': 488, 'dialect': 2437, 'freshman': 3592, 'resolve': 7447, 'outer': 6369, 'pepper': 6591, 'chan': 1405, 'grateful': 3899, 'philippine': 6654, 'downside': 2663, 'stilted': 8543, 'authenticity': 584, 'kit': 5021, 'quit': 7139, 'baddie': 649, 'syndicate': 8817, 'miracle': 5788, 'obsolete': 6228, 'con': 1789, 'vastly': 9510, 'infinitely': 4573, 'infuriate': 4583, 'combo': 1710, 'gameplay': 3679, 'beaten': 746, 'july': 4913, 'kurt': 5061, 'russell': 7689, 'approximately': 424, 'chronicle': 1523, 'misadventure': 5793, 'forge': 3517, 'january': 4812, 'horizon': 4321, 'successor': 8674, 'geek': 3711, 'quinn': 7134, 'seventh': 7956, 'march': 5529, 'participation': 6502, 'noticeably': 6177, 'invention': 4713, 'cocky': 1655, 'lt': 5381, 'recur': 7287, 'eighth': 2857, 'beau': 750, 'alongside': 261, 'contribution': 1903, 'considerably': 1857, 'premiere': 6905, 'legion': 5174, 'eclipse': 2813, 'popularity': 6814, 'surpass': 8746, 'ark': 454, 'wondering': 9871, 'investigator': 4719, 'abstract': 33, 'collage': 1678, 'dose': 2647, 'brad': 1021, 'sykes': 8805, 'emmy': 2917, 'unimaginative': 9380, 'guitar': 3981, 'updated': 9448, 'inherent': 4592, 'ruler': 7674, 'lucifer': 5385, 'passage': 6514, 'columbo': 1701, 'refers': 7306, 'alarm': 219, 'esque': 3049, 'titan': 9056, 'bullock': 1142, 'pitt': 6715, 'cassie': 1330, 'chaplin': 1415, 'cripple': 2048, 'harden': 4075, 'rodney': 7602, 'dangerfield': 2169, 'sneer': 8265, 'acquit': 82, 'adequately': 118, 'dodgy': 2611, 'illogical': 4441, 'redundant': 7297, 'vampire': 9493, 'accidentally': 56, 'dimension': 2481, 'spree': 8437, 'yank': 9943, 'remainder': 7370, 'versa': 9542, 'reversal': 7496, 'recognise': 7272, 'nelson': 6078, 'bully': 1144, 'homicide': 4289, 'baffle': 652, 'sway': 8780, 'penn': 6588, 'feather': 3313, 'cody': 1657, 'swanson': 8776, 'reasonably': 7255, 'renew': 7394, 'enchant': 2938, 'audrey': 571, 'tautou': 8866, 'invent': 4712, 'fatally': 3291, 'supreme': 8738, 'shy': 8098, 'boggle': 945, 'primal': 6944, 'lightweight': 5239, 'du': 2728, 'occurrence': 6240, 'accuracy': 66, 'toss': 9108, 'incident': 4516, 'whimsical': 9779, 'surgery': 8745, 'backwards': 644, 'finding': 3395, 'muddle': 5952, 'birthday': 872, 'tread': 9182, 'network': 6091, 'convenient': 1910, 'parisian': 6489, 'capitalize': 1262, 'apt': 426, 'butterfly': 1182, 'ness': 6087, 'subway': 8668, 'annoyingly': 365, 'pleasantly': 6746, 'expertise': 3165, 'vomit': 9629, 'janitor': 4810, 'cliched': 1594, 'purport': 7099, 'restriction': 7470, 'familiarity': 3253, 'impend': 4474, 'threat': 8997, 'stream': 8588, 'continuation': 1891, 'testament': 8941, 'goon': 3842, 'shout': 8076, 'grief': 3928, 'nutshell': 6204, 'eh': 2856, 'unit': 9391, 'undercover': 9323, 'frat': 3573, 'unravel': 9418, 'sinister': 8156, 'insignificant': 4622, 'slide': 8219, 'bald': 663, 'tighten': 9028, 'subplots': 8653, 'ca': 1192, 'feisty': 3325, 'reserve': 7439, 'frequent': 3589, 'cabin': 1195, 'ott': 6358, 'csi': 2090, 'complexity': 1772, 'altman': 270, 'magnolia': 5462, 'kramer': 5049, 'irene': 4738, 'irony': 4745, 'vignette': 9577, 'commonplace': 1742, 'poo': 6804, 'chip': 1487, 'abundant': 39, 'sonny': 8320, 'indulge': 4552, 'superficial': 8720, 'composition': 1779, 'warden': 9681, 'marisa': 5541, 'autobiographical': 589, 'fugitive': 3626, 'misfortune': 5801, 'hurricane': 4385, 'pacific': 6427, 'insect': 4615, 'destine': 2396, 'jurassic': 4923, 'wondrous': 9873, 'overseas': 6406, 'peggy': 6580, 'moran': 5899, 'offering': 6256, 'babe': 630, 'scare': 7797, 'carradine': 1307, 'pursuit': 7105, 'perky': 6609, 'chalk': 1398, 'cafe': 1200, 'sugary': 8689, 'bum': 1145, 'plots': 6757, 'mesh': 5709, 'sensible': 7918, 'persona': 6624, 'anytime': 387, 'ferrell': 3341, 'carey': 1286, 'truman': 9239, 'discount': 2529, 'thompson': 8987, 'irritating': 4753, 'maggie': 5454, 'gyllenhaal': 4003, 'harvard': 4104, 'marc': 5527, 'jazz': 4820, 'affirm': 161, 'literary': 5283, 'dustin': 2766, 'hoffman': 4263, 'ax': 624, 'occurs': 6241, 'tack': 8825, 'integrity': 4653, 'offend': 6251, 'betrayal': 828, 'helm': 4180, 'vapid': 9503, 'related': 7342, 'jewel': 4847, 'facet': 3218, 'exploitative': 3176, 'salesman': 7724, 'patriotic': 6535, 'waterfront': 9712, 'therapy': 8970, 'bel': 778, 'ran': 7184, 'descend': 2369, 'cavalry': 1356, 'mismatch': 5807, 'donald': 2630, 'separately': 7929, 'transforms': 9159, 'exploitation': 3175, 'decapitation': 2238, 'slaughter': 8201, 'tycoon': 9277, 'craig': 2006, 'hughes': 4360, 'sara': 7755, 'shane': 7996, 'barker': 692, 'prey': 6939, 'seduction': 7882, 'blackmail': 886, 'mann': 5512, 'sirk': 8160, 'clan': 1558, 'dallas': 2151, 'brow': 1106, 'excursion': 3134, 'sibling': 8099, 'lap': 5103, 'wallow': 9666, 'corinne': 1946, 'starlet': 8491, 'hedy': 4165, 'lamarr': 5084, 'hayward': 4127, 'brett': 1063, 'trumpet': 9241, 'palm': 6452, 'jury': 4924, 'miserably': 5797, 'nail': 6012, 'sicken': 8101, 'massacre': 5580, 'lucio': 5387, 'fulci': 3627, 'splatter': 8415, 'repulsive': 7424, 'loving': 5372, 'molest': 5857, 'strung': 8615, 'misplace': 5809, 'incidentally': 4518, 'protest': 7037, 'bread': 1043, 'sever': 7958, 'creek': 2037, 'exists': 3150, 'deluise': 2307, 'sgt': 7972, 'robbery': 7580, 'dealer': 2220, 'stadium': 8456, 'hardcore': 4074, 'sync': 8815, 'sniper': 8269, 'operation': 6305, 'naughty': 6044, 'marilyn': 5536, 'monroe': 5878, 'sensual': 7921, 'razor': 7227, 'fetish': 3349, 'prone': 7012, 'lurid': 5413, 'dime': 2480, 'divide': 2596, 'ambush': 288, 'safety': 7714, 'walked': 9658, 'nicholson': 6108, 'believability': 784, 'outrageous': 6379, 'lens': 5187, 'african': 171, 'odds': 6248, 'mostel': 5921, 'tailor': 8832, 'hustler': 4390, 'pin': 6702, 'peckinpah': 6567, 'fiance': 3355, 'wagon': 9649, 'lion': 5268, 'nyc': 6207, 'horny': 4323, 'orgy': 6336, 'brute': 1118, 'pike': 6695, 'celebration': 1367, 'spur': 8441, 'westerns': 9769, 'duh': 2743, 'tasty': 8861, 'aforementioned': 168, 'apocalyptic': 395, 'promotion': 7008, 'mulligan': 5957, 'intentioned': 4668, 'correctness': 1960, 'murphy': 5976, 'solely': 8304, 'crass': 2013, 'ploy': 6758, 'lure': 5412, 'dare': 2181, 'obscurity': 6220, 'angel': 330, 'ida': 4412, 'mortal': 5915, 'assignment': 517, 'foster': 3544, 'jew': 4846, 'milo': 5764, 'shea': 8015, 'verdict': 9536, 'wong': 9874, 'alexander': 231, 'korda': 5045, 'robotic': 7592, 'scarlett': 7803, 'fanny': 3261, 'prayer': 6876, 'collide': 1688, 'complement': 1768, 'vincent': 9587, 'massey': 5581, 'gown': 3860, 'fathom': 3295, 'korean': 5047, 'wanders': 9673, 'czech': 2138, 'jan': 4805, 'samurai': 7739, 'leon': 5190, 'alain': 216, 'delon': 2304, 'realizes': 7249, 'rodriguez': 7603, 'natalie': 6033, 'portman': 6825, 'carbon': 1275, 'celluloid': 1374, 'connor': 1842, 'idiotic': 4424, 'elvira': 2899, 'rant': 7197, 'sum': 8703, 'satisfactory': 7772, 'hispanic': 4242, 'souls': 8346, 'coward': 1996, 'ninjas': 6124, 'ambiance': 283, 'encompass': 2939, 'yeti': 9958, 'widmark': 9801, 'elisha': 2888, 'cook': 1928, 'cagney': 1202, 'undermine': 9330, 'kitsch': 5023, 'buster': 1176, 'wildly': 9812, 'ripe': 7556, 'ghastly': 3751, 'marvel': 5564, 'stud': 8620, 'afro': 172, 'preserve': 6917, 'beast': 744, 'jolt': 4875, 'grossly': 3950, 'hairy': 4028, 'booth': 979, 'abominable': 17, 'recapture': 7262, 'stomp': 8556, 'rampage': 7182, 'transparent': 9164, 'awfulness': 619, 'clumsily': 1633, 'delightfully': 2297, 'roar': 7576, 'funky': 3642, 'offbeat': 6250, 'spice': 8399, 'nipple': 6126, 'leer': 5164, 'approval': 422, 'lecherous': 5160, 'goo': 3830, 'windows': 9831, 'climb': 1605, 'furry': 3649, 'screwball': 7849, 'fifty': 3368, 'third': 8982, 'bloodthirsty': 923, 'madison': 5445, 'fleming': 3444, 'obstacle': 6229, 'strikingly': 8602, 'godzilla': 3816, 'destroys': 2400, 'ladder': 5075, 'stoop': 8561, 'eyebrow': 3208, 'offs': 6261, 'rhonda': 7515, 'dubious': 2732, 'greed': 3912, 'victory': 9564, 'shudder': 8092, 'sugar': 8688, 'midnight': 5742, 'fund': 3637, 'thaw': 8957, 'sorta': 8342, 'hmmm': 4257, 'yikes': 9959, 'lassie': 5112, 'comb': 1706, 'judgment': 4902, 'addict': 107, 'terminal': 8925, 'cancer': 1239, 'embarrassed': 2905, 'depressing': 2359, 'secretly': 7877, 'backbone': 638, 'almighty': 260, 'loony': 5338, 'bigfoot': 847, 'scientific': 7826, 'data': 2198, 'mistress': 5821, 'spine': 8407, 'abc': 7, 'absent': 29, 'twilight': 9271, 'glow': 3806, 'satellite': 7768, 'civilization': 1552, 'bearing': 743, 'goodbye': 3832, 'jock': 4859, 'monstrous': 5881, 'ape': 392, 'enthusiastically': 2996, 'spaghetti': 8362, 'pod': 6768, 'improbable': 4498, 'gardener': 3696, 'ringo': 7551, 'lam': 5082, 'martial': 5559, 'lair': 5080, 'dungeon': 2755, 'university': 9397, 'hk': 4255, 'decapitate': 2237, 'sheet': 8022, 'tsui': 9247, 'hark': 4082, 'ace': 71, 'demographic': 2320, 'hip': 4238, 'cohen': 1661, 'attach': 546, 'raider': 7162, 'incarnation': 4511, 'li': 5213, 'greg': 3920, 'captive': 1272, 'punchline': 7085, 'tempt': 8912, 'vile': 9579, 'poop': 6806, 'strangely': 8576, 'spear': 8376, 'driven': 2713, 'horseback': 4332, 'waist': 9651, 'maniac': 5504, 'imprison': 4497, 'temple': 8908, 'spout': 8433, 'filmography': 3382, 'stylize': 8641, 'grind': 3935, 'revolt': 7503, 'adventurous': 144, 'hello': 4179, 'indiana': 4542, 'choke': 1493, 'elaborate': 2862, 'daphne': 2180, 'celeste': 1369, 'characterisation': 1418, 'undoubtedly': 9352, 'disconnect': 2528, 'squarely': 8446, 'pinnacle': 6705, 'omit': 6289, 'zu': 9999, 'sammo': 7735, 'ching': 1486, 'tung': 9255, 'priest': 6943, 'abbot': 4, 'satan': 7766, 'sucked': 8677, 'forum': 3542, 'forgive': 3522, 'isolated': 4768, 'repertoire': 7405, 'nazi': 6048, 'nazis': 6049, 'meat': 5648, 'discus': 2534, 'intersperse': 4689, 'chicago': 1467, 'unwilling': 9442, 'sufficient': 8686, 'stance': 8476, 'fragment': 3554, 'jude': 4898, 'wax': 9716, 'timothy': 9044, 'stake': 8466, 'banality': 674, 'curtis': 2118, 'predicament': 6889, 'powerhouse': 6866, 'shawshank': 8014, 'ought': 6360, 'blatantly': 899, 'unsatisfied': 9423, 'dinosaur': 2489, 'rex': 7513, 'elsa': 2897, 'clown': 1629, 'feed': 3320, 'craze': 2019, 'glory': 3801, 'gel': 3714, 'dv': 2771, 'sweetness': 8789, 'perlman': 6610, 'incomprehensible': 4527, 'vocabulary': 9621, 'lampoon': 5090, 'acid': 77, 'halfway': 4032, 'analyze': 314, 'skit': 8187, 'england': 2962, 'diverse': 2592, 'filming': 3379, 'jay': 4818, 'leno': 5186, 'walter': 9669, 'simpson': 8141, 'precursor': 6886, 'ethic': 3066, 'conduct': 1809, 'untrue': 9437, 'remove': 7387, 'vet': 9550, 'perception': 6595, 'mercenary': 5693, 'disservice': 2564, 'mermaid': 5705, 'alot': 263, 'earthquake': 2797, 'convent': 1912, 'computer': 1787, 'eli': 2883, 'roth': 7647, 'hostel': 4336, 'limitation': 5254, 'mario': 5539, 'facility': 3220, 'hobby': 4260, 'howl': 4351, 'scoop': 7830, 'static': 8500, 'simulate': 8142, 'guinea': 3977, 'shove': 8077, 'jagger': 4798, 'macdonald': 5431, 'jose': 4882, 'ferrer': 3342, 'minus': 5785, 'punishment': 7088, 'internet': 4684, 'tolerate': 9076, 'intestine': 4694, 'novelty': 6186, 'solve': 8310, 'pet': 6638, 'growth': 3959, 'barrier': 700, 'feminist': 3335, 'infant': 4566, 'wreak': 9906, 'bra': 1020, 'adviser': 153, 'anchor': 317, 'paste': 6521, 'belle': 790, 'candle': 1241, 'violently': 9595, 'sesame': 7947, 'uncut': 9319, 'ive': 4781, 'conceive': 1793, 'sleeve': 8214, 'sylvia': 8806, 'worm': 9889, 'scared': 7799, 'underwhelming': 9349, 'independence': 4538, 'snoop': 8273, 'depart': 2346, 'nonexistent': 6147, 'invasion': 4711, 'goofy': 3840, 'knowing': 5037, 'pulse': 7080, 'nun': 6201, 'coffee': 1659, 'numbingly': 6199, 'contaminate': 1879, 'destroyed': 2399, 'beggar': 768, 'timer': 9038, 'pray': 6875, 'laboratory': 5068, 'masquerade': 5578, 'shameless': 7994, 'significantly': 8119, 'amusingly': 307, 'futuristic': 3656, 'dont': 2634, 'downer': 2657, 'advantage': 142, 'narrow': 6027, 'ufo': 9286, 'bava': 733, 'buttgereit': 1183, 'sensation': 7913, 'fold': 3480, 'splash': 8414, 'bias': 839, 'freddy': 3579, 'krueger': 5055, 'freaky': 3576, 'ridiculously': 7539, 'ponder': 6801, 'albert': 223, 'unfairly': 9364, 'sh': 7973, 'videos': 9566, 'surface': 8742, 'undergo': 9327, 'paragraph': 6476, 'scam': 7790, 'regularly': 7330, 'egypt': 2854, 'unpredictable': 9414, 'bachelor': 636, 'journalism': 4888, 'endlessly': 2947, 'unforgettable': 9371, 'growl': 3956, 'doesnt': 2613, 'noticeable': 6176, 'paranoid': 6480, 'closet': 1620, 'aftermath': 174, 'shriek': 8087, 'wimpy': 9825, 'lindsay': 5260, 'crouse': 2071, 'mantegna': 5521, 'shrink': 8089, 'yard': 9945, 'classroom': 1572, 'ceiling': 1365, 'ranger': 7193, 'electricity': 2870, 'mamet': 5492, 'stem': 8520, 'arbitrary': 431, 'enormously': 2978, 'mindset': 5771, 'bloat': 911, 'stunningly': 8630, 'ursula': 9460, 'wildlife': 9811, 'raoul': 7199, 'gail': 3668, 'barton': 705, 'ethel': 3065, 'moore': 5894, 'virtue': 9603, 'tucker': 9251, 'bleach': 902, 'nephew': 6082, 'admiration': 124, 'perpetrator': 6617, 'consistency': 1861, 'slay': 8205, 'lo': 5300, 'behold': 777, 'histrionics': 4248, 'cable': 1196, 'rerun': 7430, 'andy': 328, 'macy': 5441, 'nope': 6151, 'progressively': 6996, 'tremendous': 9189, 'dismay': 2551, 'instinct': 4638, 'understands': 9339, 'jeopardy': 4834, 'breathe': 1051, 'spaceship': 8359, 'monstrosity': 5880, 'opener': 6299, 'comprehend': 1781, 'kermit': 4980, 'frog': 3608, 'youngster': 9966, 'mart': 5557, 'pirate': 6709, 'jessie': 4843, 'dj': 2602, 'heist': 4173, 'deceit': 2241, 'critique': 2060, 'prank': 6874, 'taught': 8863, 'caf': 1199, 'wretched': 9913, 'rehearsal': 7332, 'featurette': 3315, 'deconstruct': 2256, 'manos': 5517, 'seductive': 7883, 'proverbial': 7044, 'confession': 1814, 'brazil': 1041, 'joy': 4892, 'milieu': 5754, 'artistry': 486, 'shady': 7979, 'dangerously': 2171, 'stray': 8586, 'bach': 634, 'applies': 412, 'tenderness': 8918, 'forewarn': 3516, 'cad': 1197, 'healthy': 4139, 'december': 2243, 'refund': 7318, 'feat': 3312, 'indulgence': 4553, 'slant': 8195, 'loner': 5329, 'compulsive': 1786, 'shark': 8004, 'austin': 577, 'piano': 6675, 'harmony': 4089, 'coverage': 1994, 'publish': 7070, 'junkie': 4922, 'client': 1597, 'snappy': 8262, 'marjorie': 5543, 'singing': 8151, 'letdown': 5204, 'communicate': 1743, 'electrify': 2871, 'psyche': 7054, 'pope': 6811, 'modicum': 5851, 'jj': 4854, 'cusack': 2121, 'monologue': 5875, 'accomplish': 60, 'seedy': 7886, 'momentum': 5863, 'foley': 3481, 'alex': 230, 'uniformly': 9379, 'gunfire': 3988, 'unattractive': 9300, 'ambiguity': 284, 'annoying': 364, 'historian': 4243, 'glamour': 3784, 'admirably': 123, 'realization': 7247, 'benjamin': 803, 'goldie': 3824, 'hawn': 4123, 'relentlessly': 7352, 'thelma': 8962, 'louise': 5365, 'vega': 9515, 'chorus': 1507, 'legally': 5169, 'discipline': 2523, 'temporary': 8911, 'adulthood': 138, 'smarmy': 8242, 'playwright': 6742, 'excellently': 3114, 'uninspiring': 9383, 'amount': 301, 'evolution': 3095, 'gunshot': 3992, 'roughly': 7651, 'overtone': 6410, 'emptiness': 2933, 'behalf': 772, 'entice': 2997, 'precise': 6883, 'nuance': 6191, 'willingly': 9820, 'rigid': 7548, 'walsh': 9667, 'sergeant': 7936, 'quintessential': 7135, 'badness': 651, 'coin': 1666, 'counterpart': 1976, 'grandparent': 3888, 'undeniably': 9322, 'devour': 2431, 'unsure': 9432, 'envision': 3008, 'inspirational': 4630, 'humble': 4368, 'seclude': 7871, 'bonnie': 964, 'psychic': 7058, 'eaten': 2805, 'carrey': 1308, 'wander': 9672, 'aztec': 627, 'loot': 5342, 'tow': 9120, 'todd': 9065, 'kindly': 5007, 'hillbilly': 4229, 'chaotic': 1414, 'sends': 7910, 'caribbean': 1289, 'patton': 6540, 'nathan': 6035, 'ian': 4404, 'dame': 2156, 'judi': 4903, 'dench': 2328, 'glance': 3785, 'mercilessly': 5697, 'interact': 4670, 'upside': 9454, 'breath': 1050, 'piper': 6708, 'articulate': 480, 'punctuate': 7086, 'morph': 5912, 'precisely': 6884, 'carell': 1284, 'priority': 6955, 'patch': 6525, 'nutty': 6205, 'biblical': 841, 'tedious': 8890, 'narcissistic': 6022, 'enigmatic': 2968, 'dispose': 2559, 'enable': 2936, 'holiday': 4271, 'gloomy': 3797, 'presidential': 6919, 'transpire': 9165, 'nolan': 6139, 'heavenly': 4158, 'mi': 5727, 'exhibition': 3143, 'distraction': 2577, 'span': 8364, 'mud': 5951, 'button': 1184, 'endow': 2948, 'pretense': 6928, 'embarrassing': 2906, 'temporarily': 8910, 'havoc': 4119, 'scotland': 7835, 'footstep': 3500, 'puff': 7075, 'criterion': 2053, 'classify': 1570, 'violate': 9592, 'implication': 4482, 'graceful': 3864, 'illuminate': 4442, 'casting': 1332, 'amusement': 305, 'edgy': 2824, 'shade': 7976, 'melancholy': 5669, 'scottish': 7837, 'dam': 2154, 'pub': 7067, 'failed': 3229, 'summon': 8707, 'gesture': 3748, 'arty': 490, 'gaze': 3707, 'undress': 9353, 'soar': 8281, 'ventura': 9530, 'stroll': 8609, 'schedule': 7811, 'sens': 7912, 'thankful': 8952, 'dribble': 2704, 'falk': 3245, 'experimental': 3163, 'stood': 8559, 'library': 5221, 'archive': 440, 'aesthetic': 156, 'imho': 4457, 'enact': 2937, 'shall': 7989, 'norwegian': 6165, 'dreams': 2695, 'lukas': 5397, 'cartwright': 1317, 'fluffy': 3466, 'whoa': 9787, 'confronts': 1824, 'cookie': 1929, 'epps': 3018, 'diane': 2442, 'triple': 9216, 'elevator': 2881, 'pole': 6786, 'chubby': 1524, 'charming': 1432, 'submission': 8650, 'symbolize': 8810, 'soup': 8349, 'omg': 6287, 'fascist': 3282, 'sarah': 7756, 'plausible': 6735, 'dish': 2545, 'gon': 3829, 'buffalo': 1132, 'erratic': 3036, 'isaac': 4758, 'prediction': 6894, 'equation': 3021, 'excel': 3111, 'software': 8297, 'dreadfully': 2692, 'incompetent': 4525, 'rewrite': 7512, 'exclusively': 3130, 'tackle': 8826, 'appropriately': 421, 'refuge': 7316, 'calculate': 1209, 'dirt': 2501, 'analysis': 313, 'shield': 8041, 'engross': 2966, 'frustrated': 3618, 'untalented': 9435, 'lama': 5083, 'ditto': 2588, 'sale': 7722, 'puddle': 7072, 'cheesiness': 1450, 'typecast': 9280, 'cia': 1530, 'luc': 5383, 'lorenzo': 5348, 'excruciate': 3132, 'convention': 1913, 'recommendation': 7277, 'coherence': 1662, 'throwaway': 9006, 'homer': 4285, 'harris': 4094, 'lennon': 5185, 'baxter': 734, 'kidnaps': 4998, 'employer': 2931, 'claude': 1574, 'damme': 2157, 'harass': 4071, 'obtain': 6230, 'wisdom': 9843, 'possession': 6841, 'organize': 6335, 'psychology': 7063, 'favorites': 3300, 'pie': 6688, 'idiocy': 4422, 'morgue': 5905, 'shortly': 8071, 'bridget': 1069, 'bernie': 817, 'cab': 1194, 'catholic': 1349, 'harold': 4090, 'doyle': 2666, 'cbs': 1360, 'tyler': 9278, 'dragon': 2675, 'corey': 1945, 'cater': 1347, 'raymond': 7226, 'overwhelming': 6414, 'twentieth': 9268, 'emphasize': 2927, 'il': 4434, 'optimistic': 6320, 'duvall': 2770, 'insurance': 4649, 'insipid': 4623, 'kathryn': 4949, 'lush': 5416, 'forest': 3514, 'arizona': 453, 'jordan': 4881, 'ass': 506, 'pleased': 6748, 'flavor': 3436, 'charity': 1425, 'fever': 3351, 'colony': 1693, 'sterling': 8530, 'cheerful': 1447, 'diaz': 2444, 'stiller': 8542, 'fondly': 3489, 'anxiety': 383, 'burial': 1155, 'witchcraft': 9851, 'reverend': 7495, 'depression': 2360, 'grim': 3932, 'rice': 7523, 'tarzan': 8855, 'johnston': 4868, 'crop': 2066, 'avenger': 600, 'spider': 8400, 'possess': 6840, 'prototype': 7040, 'construction': 1871, 'ron': 7626, 'pamela': 6458, 'vividly': 9619, 'mrs': 5947, 'deanna': 2223, 'grandmother': 3886, 'object': 6210, 'prairie': 6871, 'cbc': 1359, 'squander': 8444, 'certainty': 1389, 'busey': 1171, 'back': 637, 'respective': 7456, 'waiter': 9653, 'faux': 3297, 'pa': 6423, 'phillip': 6655, 'carpet': 1306, 'emote': 2918, 'forgets': 3519, 'dial': 2436, 'global': 3795, 'sniff': 8267, 'weed': 9740, 'wig': 9806, 'discredit': 2533, 'portrayed': 6829, 'astound': 530, 'extensive': 3191, 'bbc': 736, 'recipe': 7268, 'bigoted': 848, 'gleason': 3788, 'scarf': 7800, 'reef': 7299, 'earl': 2790, 'allegedly': 247, 'update': 9447, 'thinly': 8980, 'cheek': 1445, 'lighten': 5233, 'caption': 1270, 'radical': 7154, 'sheila': 8024, 'mccarthy': 5624, 'lace': 5071, 'mona': 5866, 'latin': 5119, 'chin': 1482, 'undertaker': 9344, 'candidate': 1240, 'farmer': 3272, 'diversity': 2594, 'zany': 9980, 'snl': 8271, 'embody': 2909, 'commenter': 1732, 'maugham': 5609, 'epilogue': 3012, 'lent': 5188, 'noel': 6134, 'retain': 7475, 'felix': 3326, 'trio': 9213, 'utmost': 9475, 'verve': 9548, 'laurel': 5131, 'lengthy': 5184, 'insufferable': 4646, 'crawford': 2017, 'ridicule': 7537, 'myriad': 5996, 'andre': 323, 'feud': 3350, 'finlay': 3401, 'currie': 2115, 'laurie': 5134, 'davy': 2205, 'bittersweet': 880, 'simmons': 8133, 'forced': 3505, 'aboriginal': 19, 'derek': 2365, 'colin': 1675, 'slot': 8230, 'gable': 3661, 'harlow': 4085, 'kipling': 5016, 'quaint': 7113, 'dreary': 2698, 'vary': 9508, 'spy': 8442, 'hanna': 4058, 'scrappy': 7840, 'mutant': 5988, 'unfunny': 9375, 'avenge': 599, 'investment': 4720, 'max': 5613, 'jewelry': 4848, 'ego': 2853, 'internal': 4682, 'dandy': 2166, 'outdo': 6367, 'alba': 221, 'schtick': 7821, 'knox': 5040, 'karl': 4944, 'shirley': 8047, 'villager': 9582, 'willie': 9818, 'upbringing': 9445, 'mourn': 5935, 'dorothy': 2645, 'battlestar': 730, 'weaker': 9724, 'openly': 6301, 'brutally': 1117, 'fictitious': 3359, 'legitimate': 5175, 'hitler': 4253, 'wwi': 9930, 'plotline': 6756, 'tcm': 8870, 'chloe': 1488, 'cattle': 1351, 'redeeming': 7291, 'remorse': 7384, 'nominated': 6142, 'consume': 1872, 'guilt': 3975, 'giallo': 3756, 'banal': 673, 'limp': 5256, 'chart': 1433, 'conversion': 1916, 'pearl': 6563, 'norman': 6158, 'lust': 5417, 'seinfeld': 7892, 'reform': 7311, 'dated': 2200, 'phoenix': 6661, 'nuclear': 6193, 'deus': 2413, 'ralph': 7176, 'sociopath': 8290, 'spade': 8361, 'boob': 967, 'stooge': 8560, 'powder': 6861, 'stair': 8462, 'swirl': 8794, 'purse': 7102, 'carol': 1301, 'brady': 1023, 'impulse': 4502, 'bench': 798, 'amazon': 281, 'fur': 3646, 'melody': 5676, 'effeminate': 2846, 'relic': 7356, 'extension': 3190, 'website': 9735, 'email': 2902, 'fireplace': 3408, 'camel': 1222, 'farrelly': 3276, 'elect': 2867, 'immoral': 4467, 'frenzy': 3588, 'shaggy': 7981, 'disregard': 2561, 'rendition': 7390, 'videotape': 9567, 'incorrect': 4532, 'slam': 8193, 'hilariously': 4225, 'poetry': 6773, 'greenwood': 3918, 'misuse': 5826, 'esther': 3059, 'melvyn': 5678, 'inhabit': 4590, 'blondell': 918, 'episodic': 3015, 'garbo': 3692, 'clarence': 1561, 'senator': 7908, 'jab': 4785, 'verbally': 9535, 'funnier': 3643, 'turner': 9264, 'lucy': 5391, 'scrooge': 7854, 'aisle': 207, 'smirk': 8248, 'venom': 9528, 'diversion': 2593, 'ingrid': 4589, 'goody': 3838, 'succession': 8673, 'saccharine': 7702, 'peer': 6576, 'fay': 3304, 'wray': 9905, 'silhouette': 8123, 'entrance': 3003, 'sane': 7747, 'snipe': 8268, 'slut': 8235, 'chicken': 1469, 'kenny': 4976, 'carroll': 1311, 'refreshing': 7314, 'sparkle': 8369, 'ludicrously': 5393, 'turkish': 9260, 'towel': 9121, 'aunt': 573, 'roosevelt': 7635, 'household': 4346, 'amoral': 299, 'meryl': 5708, 'streep': 8589, 'fable': 3212, 'dupe': 2760, 'australia': 578, 'madeleine': 5444, 'wrinkle': 9915, 'curl': 2111, 'greatness': 3910, 'phony': 6663, 'fascism': 3281, 'discernible': 2522, 'lillian': 5249, 'hellman': 4178, 'potter': 6855, 'ewoks': 3098, 'lunch': 5407, 'lucas': 5384, 'edition': 2832, 'monumental': 5887, 'mutate': 5989, 'awkwardly': 622, 'traumatize': 9176, 'moan': 5837, 'myrtle': 5998, 'unpleasant': 9413, 'calvin': 1217, 'retell': 7478, 'skywalker': 8190, 'chamberlain': 1402, 'lindy': 5262, 'tent': 8922, 'dingo': 2486, 'ordeal': 6329, 'pastor': 6523, 'duff': 2742, 'mysticism': 6004, 'regal': 7321, 'faye': 3305, 'dunaway': 2752, 'surgeon': 8744, 'oz': 6421, 'judgement': 4900, 'presume': 6926, 'convict': 1920, 'tabloid': 8823, 'honesty': 4296, 'unremarkable': 9422, 'assumption': 525, 'bliss': 910, 'azaria': 626, 'sadden': 7707, 'counterpoint': 1977, 'browse': 1108, 'produced': 6975, 'suspicious': 8768, 'lynch': 5422, 'mentality': 5688, 'botch': 995, 'adaption': 104, 'skillfully': 8181, 'disappearance': 2509, 'ritual': 7566, 'obsessed': 6225, 'convincingly': 1926, 'disillusion': 2546, 'christianity': 1516, 'jill': 4851, 'mirror': 5792, 'simplicity': 8138, 'vicious': 9558, 'labour': 5069, 'rugged': 7670, 'dumbed': 2748, 'creepiness': 2039, 'grass': 3896, 'insists': 4625, 'aborigine': 20, 'vibe': 9554, 'suspicion': 8767, 'sufficiently': 8687, 'downward': 2665, 'spiral': 8409, 'sympathize': 8813, 'sophie': 8327, 'purposely': 7101, 'passionate': 6518, 'projection': 6998, 'sorely': 8338, 'nod': 6133, 'understatement': 9342, 'watson': 9714, 'sob': 8282, 'sensitivity': 7920, 'ably': 15, 'enforce': 2954, 'hound': 4343, 'chopper': 1499, 'principle': 6952, 'disturbing': 2586, 'fantastical': 3263, 'sincerely': 8146, 'toro': 9103, 'stoic': 8552, 'progressive': 6995, 'glue': 3807, 'weep': 9744, 'dissolve': 2565, 'fee': 3318, 'spray': 8435, 'collar': 1680, 'counter': 1975, 'tourist': 9117, 'subsequently': 8655, 'cotton': 1969, 'poppins': 6812, 'squirm': 8449, 'prosecutor': 7028, 'succumb': 8675, 'breaker': 1046, 'retarded': 7477, 'cameos': 1224, 'wasted': 9702, 'showcase': 8080, 'ate': 534, 'outlet': 6374, 'whistle': 9785, 'bend': 799, 'groom': 3946, 'reception': 7267, 'guidance': 3973, 'outlook': 6376, 'directing': 2495, 'recycle': 7288, 'infect': 4567, 'ho': 4258, 'luke': 5398, 'mouse': 5936, 'swarm': 8778, 'horde': 4320, 'indifferent': 4548, 'espionage': 3048, 'overrated': 6405, 'resist': 7444, 'penis': 6587, 'feminine': 3333, 'myrna': 5997, 'loy': 5377, 'dunne': 2756, 'huston': 4391, 'toby': 9063, 'soccer': 8284, 'gym': 4004, 'reinforce': 7337, 'unusually': 9439, 'mat': 5593, 'audition': 570, 'farm': 3271, 'robertson': 7587, 'charlotte': 1429, 'cried': 2043, 'lived': 5292, 'ferris': 3343, 'boo': 966, 'melt': 5677, 'tomorrow': 9085, 'shakespearean': 7986, 'woeful': 9861, 'beverly': 833, 'attendance': 555, 'gage': 3666, 'delay': 2287, 'striking': 8601, 'dwell': 2775, 'crab': 2001, 'multitude': 5960, 'assassination': 510, 'cuban': 2092, 'bauer': 732, 'scarface': 7801, 'ted': 8888, 'hysterically': 4402, 'marcus': 5530, 'subdue': 8645, 'tokyo': 9072, 'occupy': 6238, 'franklin': 3569, 'refugee': 7317, 'actively': 89, 'stayed': 8506, 'dictatorship': 2453, 'von': 9630, 'marshal': 5555, 'resume': 7472, 'lucille': 5386, 'hostess': 4337, 'privilege': 6959, 'origin': 6340, 'heed': 4166, 'herald': 4190, 'forgot': 3525, 'poignancy': 6774, 'strict': 8597, 'demon': 2322, 'recount': 7282, 'duel': 2740, 'harvey': 4106, 'widow': 9802, 'intimate': 4696, 'honour': 4302, 'ominous': 6288, 'eternity': 3063, 'babysitter': 632, 'noriko': 6153, 'oriental': 6338, 'professionally': 6984, 'conservative': 1854, 'boston': 993, 'photographer': 6666, 'avail': 595, 'hideously': 4215, 'september': 7931, 'vcr': 9514, 'grudge': 3960, 'knoxville': 5041, 'bo': 934, 'hogg': 4266, 'coal': 1642, 'daisy': 2148, 'burt': 1164, 'reynolds': 7514, 'coltrane': 1698, 'memoir': 5680, 'geisha': 3713, 'hara': 4070, 'onwards': 6294, 'delicious': 2293, 'hayden': 4125, 'restless': 7464, 'tenant': 8914, 'squeeze': 8448, 'ravish': 7223, 'disturbed': 2585, 'grisly': 3940, 'trivia': 9222, 'furious': 3647, 'renaissance': 7388, 'karate': 4940, 'hog': 4264, 'dumber': 2749, 'believably': 786, 'hearing': 4143, 'incest': 4513, 'orphanage': 6349, 'sean': 7863, 'roscoe': 7641, 'tint': 9047, 'orbit': 6325, 'sabu': 7701, 'genie': 3728, 'conrad': 1845, 'veidt': 9519, 'shabby': 7974, 'rumble': 7675, 'downbeat': 2656, 'feeble': 3319, 'omen': 6286, 'kinky': 5013, 'beef': 761, 'immortal': 4468, 'mon': 5865, 'hardy': 4079, 'vargas': 9504, 'denial': 2330, 'legends': 5172, 'adore': 133, 'miklos': 5748, 'sultry': 8702, 'zeta': 9987, 'fuss': 3653, 'shorten': 8069, 'keaton': 4960, 'literate': 5284, 'attacker': 549, 'hypocrisy': 4399, 'cannibal': 1245, 'commend': 1727, 'envelope': 3005, 'magician': 5458, 'penelope': 6584, 'toole': 9094, 'joanna': 4857, 'brit': 1084, 'consent': 1851, 'pointlessly': 6778, 'graduation': 3870, 'eyes': 3210, 'casualty': 1337, 'whisk': 9783, 'concoct': 1803, 'powell': 6862, 'technicolor': 8883, 'grandiose': 3884, 'clarity': 1563, 'knightly': 5033, 'seaside': 7865, 'stupidly': 8635, 'ahmad': 193, 'abu': 37, 'jaffar': 4796, 'toys': 9129, 'appallingly': 400, 'gu': 3965, 'grotesque': 3951, 'perversion': 6635, 'bagdad': 655, 'luis': 5395, 'effectiveness': 2845, 'rear': 7252, 'goddess': 3813, 'kali': 4933, 'conceit': 1792, 'overblown': 6392, 'runner': 7680, 'filmmaking': 3381, 'surrealism': 8752, 'enlighten': 2974, 'franz': 3572, 'cecil': 1363, 'demille': 2315, 'canyon': 1252, 'oscars': 6353, 'sorcerer': 8334, 'stable': 8453, 'bafta': 653, 'cock': 1652, 'weaken': 9723, 'prophecy': 7021, 'sophisticate': 8328, 'misunderstanding': 5824, 'geraldine': 3741, 'fitzgerald': 3422, 'hysteria': 4400, 'inter': 4669, 'bravery': 1038, 'madsen': 5450, 'turkey': 9259, 'youtube': 9969, 'deftly': 2281, 'spoken': 8422, 'tremor': 9191, 'cease': 1362, 'rightfully': 7546, 'stairway': 8465, 'akira': 211, 'kurosawa': 5060, 'orson': 6350, 'welles': 9757, 'fling': 3450, 'gunman': 3991, 'demonic': 2323, 'downhill': 2660, 'iii': 4433, 'epitome': 3016, 'magnificently': 5460, 'throne': 9004, 'collaborator': 1677, 'immense': 4463, 'dusty': 2767, 'rejection': 7340, 'miner': 5773, 'descendant': 2370, 'kelly': 4971, 'brent': 1061, 'roam': 7575, 'juan': 4896, 'rally': 7175, 'regain': 7320, 'macabre': 5428, 'sensitive': 7919, 'athletic': 537, 'allan': 245, 'childlike': 1476, 'vibrant': 9555, 'employ': 2929, 'confine': 1818, 'walt': 9668, 'overboard': 6393, 'hurry': 4386, 'armstrong': 459, 'expensive': 3159, 'assert': 514, 'retreat': 7482, 'flea': 3441, 'fassbinder': 3285, 'claustrophobic': 1577, 'symbolic': 8808, 'slaughterhouse': 8202, 'madly': 5446, 'hail': 4020, 'blew': 907, 'graphically': 3893, 'traumatic': 9175, 'empathize': 2923, 'hepburn': 4189, 'exaggeration': 3104, 'coarse': 1643, 'eyed': 3209, 'seize': 7893, 'dreamy': 2697, 'adelaide': 114, 'stunning': 8629, 'refreshingly': 7315, 'repellent': 7404, 'foremost': 3512, 'corporation': 1955, 'bloodless': 921, 'laser': 5111, 'domain': 2621, 'slavery': 8204, 'declaration': 2253, 'erase': 3026, 'instrument': 4644, 'frailty': 3556, 'cathy': 1350, 'randy': 7191, 'quaid': 7112, 'shepard': 8033, 'property': 7020, 'prefers': 6899, 'cram': 2007, 'clutter': 1638, 'attracted': 562, 'fairbanks': 3235, 'monarch': 5867, 'tornado': 9102, 'distinguish': 2573, 'affluent': 163, 'intensely': 4662, 'oppressive': 6316, 'caruso': 1318, 'pavarotti': 6547, 'probable': 6963, 'hazel': 4130, 'aggression': 184, 'mickey': 5735, 'rooney': 7634, 'pidgeon': 6687, 'competitor': 1764, 'continent': 1889, 'fought': 3545, 'republican': 7422, 'clyde': 1639, 'rudolph': 7668, 'anders': 320, 'firmly': 3411, 'ignores': 4430, 'pacino': 6429, 'lyrical': 5425, 'unforgivable': 9372, 'sang': 7748, 'fabricate': 3214, 'renowned': 7398, 'license': 5222, 'laundry': 5129, 'pioneer': 6706, 'othello': 6357, 'bunny': 1150, 'reincarnation': 7336, 'visionary': 9609, 'stella': 8518, 'placement': 6721, 'yuck': 9971, 'modest': 5849, 'historic': 4244, 'edmund': 2835, 'firm': 3410, 'sunrise': 8714, 'pause': 6546, 'ethan': 3064, 'hawke': 4122, 'vienna': 9568, 'breakfast': 1047, 'tug': 9252, 'cinematographer': 1539, 'lit': 5280, 'operator': 6307, 'yearn': 9952, 'nora': 6152, 'efficient': 2847, 'slacker': 8192, 'galactica': 3671, 'cylons': 2133, 'pupil': 7090, 'hitchhiker': 4252, 'kaufman': 4954, 'decadent': 2236, 'capitalist': 1261, 'destructive': 2402, 'optimism': 6319, 'sophomoric': 8331, 'eating': 2807, 'ache': 72, 'prequel': 6912, 'imaginary': 4450, 'salvation': 7731, 'jedi': 4827, 'instruction': 4642, 'younger': 9965, 'budapest': 1128, 'spectrum': 8388, 'landscape': 5096, 'told': 9073, 'classical': 1569, 'vogue': 9623, 'wheeler': 9777, 'brunette': 1112, 'hilton': 4232, 'demonstration': 2326, 'intruder': 4706, 'weirdo': 9751, 'geeky': 3712, 'brigitte': 1074, 'unpretentious': 9415, 'streak': 8587, 'shots': 8074, 'wry': 9923, 'bartender': 704, 'devise': 2425, 'appoint': 414, 'bloom': 925, 'satisfied': 7773, 'spoon': 8428, 'reliable': 7355, 'denominator': 2336, 'surroundings': 8756, 'battlefield': 729, 'brainwash': 1026, 'stack': 8454, 'inconsequential': 4528, 'intimacy': 4695, 'thesis': 8974, 'exposition': 3183, 'scifi': 7828, 'overtly': 6409, 'embark': 2903, 'liotta': 5270, 'chord': 1502, 'olive': 6275, 'den': 2327, 'tasteless': 8860, 'sammy': 7736, 'jo': 4855, 'americans': 291, 'objective': 6212, 'spawn': 8371, 'understandably': 9337, 'carnival': 1299, 'democratic': 2319, 'incorporate': 4531, 'intervention': 4692, 'bucket': 1126, 'lin': 5257, 'roller': 7613, 'coaster': 1646, 'perennial': 6597, 'vanishes': 9501, 'blaine': 889, 'falcon': 3244, 'sierra': 8111, 'francis': 3562, 'charley': 1427, 'foolish': 3494, 'ineffective': 4557, 'latino': 5120, 'harlem': 4083, 'landlord': 5094, 'nicole': 6113, 'cg': 1391, 'wimp': 9824, 'sweat': 8783, 'clerk': 1586, 'transmit': 9163, 'norris': 6159, 'marine': 5538, 'cena': 1377, 'picturesque': 6686, 'upbeat': 9444, 'slimy': 8223, 'flush': 3468, 'legged': 5173, 'stoltz': 8554, 'voight': 9626, 'exec': 3136, 'promotional': 7009, 'songwriter': 8319, 'sincerity': 8147, 'mumble': 5962, 'omega': 6285, 'herman': 4194, 'regime': 7324, 'justified': 4927, 'housing': 4348, 'lasting': 5114, 'rapture': 7207, 'lil': 5246, 'constitute': 1868, 'cope': 1936, 'ken': 4973, 'ellen': 2892, 'fidelity': 3360, 'rebellious': 7259, 'phil': 6650, 'sorrow': 8339, 'casper': 1325, 'rome': 7621, 'scripture': 7851, 'tribulation': 9202, 'prophet': 7022, 'miami': 5729, 'vice': 9557, 'capra': 1264, 'cinderella': 1534, 'satisfying': 7775, 'breathless': 1052, 'conductor': 1810, 'accessible': 53, 'dien': 2458, 'ironside': 4744, 'dominic': 2627, 'baptist': 683, 'israeli': 4771, 'israel': 4770, 'immature': 4460, 'chiller': 1479, 'info': 4577, 'majesty': 5475, 'trinity': 9212, 'inaccurate': 4505, 'grandma': 3885, 'doze': 2667, 'mold': 5855, 'ernest': 3030, 'dogma': 2615, 'pickup': 6682, 'credential': 2032, 'fulfillment': 3630, 'disconcert': 2527, 'savior': 7783, 'loneliness': 5327, 'claire': 1557, 'crisp': 2050, 'werewolf': 9762, 'de': 2214, 'infuse': 4584, 'decidedly': 2249, 'logo': 5317, 'marijuana': 5535, 'conjure': 1832, 'patron': 6538, 'republic': 7421, 'ing': 4585, 'layer': 5141, 'immensely': 4464, 'preach': 6878, 'philosopher': 6658, 'distributor': 2582, 'precede': 6881, 'enlist': 2976, 'merchandise': 5694, 'sore': 8337, 'morita': 5907, 'ealing': 2788, 'presley': 6920, 'nixon': 6129, 'wince': 9827, 'embarrassingly': 2907, 'promptly': 7011, 'haha': 4019, 'brenda': 1058, 'amiable': 292, 'aura': 574, 'cole': 1673, 'confusing': 1827, 'examples': 3108, 'bubba': 1123, 'neighbour': 6074, 'shamble': 7991, 'widower': 9803, 'vegas': 9516, 'corbett': 1942, 'joint': 4870, 'joel': 4862, 'irresponsible': 4749, 'richards': 7526, 'meld': 5671, 'wasnt': 9700, 'metaphysical': 5717, 'explicitly': 3171, 'joyous': 4894, 'guzman': 4000, 'gigolo': 3765, 'titular': 9060, 'dependent': 2350, 'suburbia': 8666, 'thirteen': 8983, 'laid': 5079, 'bee': 760, 'assist': 518, 'isle': 4765, 'choir': 1492, 'definately': 2274, 'medicine': 5656, 'categorize': 1345, 'irwin': 4757, 'grows': 3958, 'ned': 6064, 'croc': 2062, 'cleavage': 1584, 'dynamite': 2783, 'wield': 9804, 'lizard': 5298, 'drill': 2707, 'zoo': 9996, 'fence': 3337, 'smoothly': 8254, 'elementary': 2878, 'sinatra': 8145, 'dice': 2447, 'arnold': 462, 'hostage': 4335, 'route': 7655, 'camper': 1231, 'woefully': 9862, 'overuse': 6411, 'castro': 1334, 'variety': 9506, 'unimpressive': 9381, 'retrieve': 7483, 'wrestle': 9909, 'devout': 2432, 'diary': 2443, 'mash': 5574, 'madman': 5447, 'burrow': 1161, 'fluid': 3467, 'peach': 6560, 'jolly': 4874, 'savini': 7782, 'icon': 4408, 'scroll': 7853, 'getaway': 3750, 'siren': 8159, 'divert': 2595, 'stagger': 8460, 'wink': 9835, 'canon': 1250, 'roberts': 7586, 'born': 989, 'tasteful': 8859, 'sht': 8090, 'closeup': 1621, 'sm': 8238, 'pawn': 6548, 'judd': 4897, 'austen': 576, 'verbal': 9534, 'paltrow': 6456, 'shaun': 8010, 'detroit': 2412, 'masterson': 5588, 'missionary': 5814, 'identical': 4418, 'kaye': 4956, 'jeremy': 4835, 'northam': 6161, 'knightley': 5032, 'gwyneth': 4001, 'beckinsale': 756, 'stevenson': 8535, 'riddle': 7534, 'speechless': 8390, 'walking': 9661, 'waterfall': 9711, 'biopic': 869, 'unfinished': 9367, 'harriet': 4093, 'proposal': 7025, 'sixteen': 8168, 'muriel': 5974, 'mansfield': 5518, 'gypsy': 4007, 'holland': 4272, 'additional': 111, 'backwoods': 645, 'axe': 625, 'fondness': 3490, 'greta': 3925, 'mcgregor': 5631, 'maximum': 5614, 'lament': 5088, 'vivian': 9617, 'wright': 9914, 'novelist': 6185, 'reside': 7440, 'angels': 335, 'decoration': 2259, 'merry': 5707, 'listing': 5278, 'hmm': 4256, 'ang': 329, 'redneck': 7295, 'ilk': 4435, 'folly': 3486, 'distasteful': 2568, 'trish': 9218, 'texan': 8943, 'juliette': 4912, 'el': 2861, 'retrospect': 7485, 'expressive': 3187, 'byron': 1191, 'civilize': 1553, 'inmate': 4603, 'virginity': 9600, 'nicholas': 6107, 'convinced': 1923, 'interplay': 4685, 'clinic': 1607, 'han': 4048, 'imo': 4471, 'rita': 7563, 'annie': 355, 'vera': 9533, 'iranian': 4735, 'hatch': 4110, 'stepmother': 8525, 'cheaply': 1440, 'barrymore': 702, 'picnic': 6684, 'reprise': 7420, 'buffoon': 1133, 'lumber': 5401, 'astaire': 527, 'eleanor': 2866, 'ruby': 7665, 'keeler': 4961, 'winger': 9834, 'natali': 6032, 'volunteer': 9628, 'allison': 253, 'thwart': 9017, 'jake': 4800, 'lloyd': 5299, 'salute': 7729, 'mph': 5944, 'holden': 4269, 'gorilla': 3847, 'gretchen': 3926, 'pond': 6800, 'novak': 6183, 'gen': 3717, 'fluff': 3465, 'respectable': 7454, 'pony': 6803, 'tramp': 9152, 'retread': 7481, 'gray': 3905, 'niece': 6114, 'claus': 1575, 'campfire': 1232, 'cypher': 2137, 'solo': 8308, 'plummer': 6761, 'helena': 4175, 'bonham': 963, 'swift': 8791, 'griffith': 3931, 'franco': 3564, 'dung': 2754, 'toxic': 9127, 'mandy': 5500, 'implement': 4481, 'obsessive': 6227, 'pursues': 7104, 'tracy': 9133, 'begs': 771, 'catastrophe': 1342, 'satanic': 7767, 'explains': 3168, 'yawn': 9947, 'williamson': 9817, 'curiously': 2110, 'iran': 4733, 'stride': 8599, 'slipper': 8225, 'te': 8871, 'torso': 9105, 'lighter': 5234, 'limb': 5252, 'apollo': 396, 'creed': 2036, 'kazan': 4958, 'occult': 6236, 'quip': 7136, 'hunger': 4378, 'turtle': 9265, 'psychotic': 7066, 'lyle': 5421, 'specialize': 8379, 'guise': 3980, 'tricky': 9205, 'labyrinth': 5070, 'minion': 5779, 'resurrection': 7474, 'muster': 5987, 'advert': 147, 'foreground': 3508, 'sixth': 8169, 'cannes': 1244, 'ae': 155, 'escalate': 3041, 'deathtrap': 2227, 'deliberately': 2291, 'bogdanovich': 944, 'liam': 5215, 'perceive': 6592, 'avant': 598, 'correctly': 1959, 'aime': 199, 'jenny': 4833, 'spectacularly': 8386, 'cindy': 1535, 'slang': 8194, 'cain': 1204, 'glenn': 3791, 'gags': 3667, 'scout': 7838, 'mutilation': 5992, 'sanity': 7749, 'diabolical': 2435, 'coat': 1647, 'robot': 7591, 'filth': 3385, 'gilliam': 3768, 'shtick': 8091, 'delusion': 2308, 'tickle': 9021, 'tease': 8879, 'drew': 2702, 'artful': 477, 'cobb': 1648, 'delirious': 2298, 'mish': 5803, 'kinski': 5015, 'blatant': 898, 'amato': 276, 'trippy': 9217, 'incestuous': 4514, 'egg': 2852, 'rehearse': 7333, 'backyard': 646, 'halt': 4039, 'atmospheric': 541, 'manic': 5506, 'footlight': 3499, 'busby': 1169, 'chester': 1462, 'secretary': 7876, 'extravagant': 3200, 'shanghai': 7997, 'mischievous': 5795, 'hutton': 4392, 'corman': 1949, 'talkie': 8842, 'bacon': 647, 'julian': 4909, 'herbert': 4191, 'suggestive': 8692, 'nick': 6109, 'hare': 4080, 'thorn': 8988, 'freshness': 3593, 'innovation': 4609, 'tin': 9045, 'atrocious': 544, 'collins': 1689, 'restrict': 7469, 'focused': 3474, 'boxing': 1010, 'strut': 8616, 'circuit': 1544, 'skimpy': 8182, 'accountant': 65, 'precision': 6885, 'rifle': 7542, 'federal': 3317, 'agency': 180, 'juicy': 4906, 'extravaganza': 3201, 'wonderland': 9872, 'terrifically': 8931, 'frost': 3613, 'pregnancy': 6900, 'rational': 7216, 'garfield': 3698, 'englund': 2965, 'angela': 331, 'stan': 8475, 'winston': 9838, 'raimi': 7166, 'curve': 2120, 'yankee': 9944, 'heartily': 4149, 'clive': 1611, 'compensate': 1758, 'foil': 3479, 'overhead': 6397, 'arrives': 471, 'deform': 2280, 'intrusive': 4707, 'dwarf': 2774, 'danny': 2177, 'jules': 4907, 'scrap': 7839, 'branch': 1028, 'patriotism': 6536, 'galore': 3675, 'mall': 5487, 'ballet': 667, 'vaudeville': 9511, 'automatic': 591, 'catalog': 1339, 'porter': 6823, 'administration': 121, 'troma': 9226, 'prestigious': 6923, 'hindsight': 4234, 'weather': 9731, 'shoestring': 8058, 'vertigo': 9547, 'roeg': 7604, 'woronov': 9891, 'lynn': 5423, 'supporter': 8732, 'warhol': 9685, 'outburst': 6363, 'islam': 4762, 'marshall': 5556, 'nbc': 6050, 'shannon': 7998, 'kingsley': 5012, 'disability': 2504, 'groundbreaking': 3953, 'warfare': 9684, 'wayward': 9720, 'pornography': 6821, 'pimlico': 6700, 'seth': 7950, 'cherry': 1458, 'dolph': 2619, 'ww': 9927, 'stalwart': 8473, 'brink': 1081, 'temperature': 8905, 'grunt': 3964, 'trifle': 9208, 'arthur': 478, 'accidental': 55, 'medieval': 5657, 'soil': 8299, 'batter': 727, 'policy': 6789, 'invader': 4709, 'foreigner': 3511, 'simon': 8134, 'district': 2583, 'heartless': 4150, 'cockney': 1653, 'warming': 9688, 'minister': 5781, 'soo': 8321, 'berlin': 815, 'griffin': 3930, 'hesitate': 4202, 'wallet': 9665, 'bourne': 1003, 'ultimatum': 9293, 'janet': 4808, 'province': 7046, 'doolittle': 2636, 'dispute': 2560, 'interference': 4678, 'basil': 713, 'cobra': 1649, 'solitary': 8307, 'advocate': 154, 'fiasco': 3356, 'system': 8820, 'wrestling': 9912, 'strathairn': 8582, 'ballad': 666, 'hamlet': 4043, 'lieutenant': 5225, 'supermarket': 8726, 'robocop': 7590, 'pic': 6676, 'gillian': 3769, 'welch': 9754, 'platoon': 6733, 'injured': 4600, 'callous': 1215, 'elder': 2863, 'seymour': 7968, 'lundgren': 5408, 'requisite': 7429, 'brim': 1078, 'transplant': 9166, 'tub': 9248, 'tango': 8848, 'orlando': 6346, 'barr': 698, 'rabid': 7144, 'wheelchair': 9776, 'theo': 8966, 'carrie': 1309, 'karen': 4942, 'vent': 9529, 'junior': 4920, 'trapping': 9171, 'cuckoo': 2094, 'anniversary': 356, 'perverse': 6634, 'cellar': 1373, 'inbred': 4509, 'sleeper': 8210, 'psychiatric': 7056, 'handicap': 4052, 'potent': 6852, 'danish': 2175, 'unhinged': 9377, 'forebode': 3507, 'unlikable': 9401, 'mistakenly': 5819, 'sidney': 8109, 'tumble': 9253, 'fruit': 3616, 'fashionable': 3284, 'severely': 7960, 'courageous': 1986, 'immortality': 4469, 'zach': 9978, 'locke': 5310, 'peasant': 6564, 'vanity': 9502, 'sherlock': 8037, 'holmes': 4277, 'campbell': 1230, 'stepfather': 8522, 'beam': 738, 'brandon': 1031, 'sickly': 8102, 'iturbi': 4778, 'radiation': 7153, 'flare': 3430, 'astronaut': 531, 'nasa': 6028, 'found': 3547, 'bart': 703, 'tunnel': 9256, 'profit': 6987, 'lighting': 5236, 'fry': 3621, 'lamb': 5085, 'adept': 116, 'distortion': 2575, 'google': 3841, 'modine': 5852, 'pedestrian': 6569, 'tilly': 9032, 'unemployed': 9356, 'uneducated': 9355, 'gullible': 3982, 'freely': 3582, 'belgium': 781, 'mistaken': 5818, 'backstage': 641, 'vault': 9513, 'texture': 8947, 'weary': 9730, 'molina': 5858, 'intellectually': 4656, 'rivalry': 7568, 'baldwin': 664, 'employment': 2932, 'hallway': 4038, 'je': 4821, 'willy': 9822, 'danielle': 2174, 'taxi': 8868, 'throwback': 9007, 'abroad': 25, 'dvds': 2773, 'russia': 7690, 'singular': 8155, 'korea': 5046, 'uncertainty': 9310, 'haim': 4021, 'austrian': 581, 'resonate': 7449, 'maniacal': 5505, 'snippet': 8270, 'homeland': 4283, 'venue': 9532, 'dictator': 2452, 'weissmuller': 9752, 'rko': 7572, 'andrea': 324, 'palma': 6453, 'chimp': 1481, 'lili': 5248, 'joyce': 4893, 'manhood': 5503, 'lex': 5212, 'tan': 8846, 'monotone': 5876, 'neeson': 6069, 'daytime': 2210, 'dispatch': 2555, 'clarify': 1562, 'prominently': 7004, 'spook': 8426, 'hairstyle': 4027, 'manifest': 5507, 'goldsmith': 3825, 'tide': 9022, 'scarcely': 7796, 'sullivan': 8701, 'kamal': 4935, 'pump': 7082, 'loudly': 5363, 'jeep': 4828, 'buffy': 1134, 'criminally': 2046, 'hadley': 4015, 'broderick': 1092, 'lon': 5324, 'chaney': 1408, 'bronson': 1094, 'leonard': 5191, 'tepid': 8923, 'instruct': 4641, 'enforcement': 2955, 'macho': 5436, 'marvellous': 5565, 'proudly': 7042, 'benson': 807, 'apple': 410, 'disclaimer': 2524, 'dubbed': 2731, 'marvin': 5568, 'marx': 5569, 'known': 5039, 'boxer': 1009, 'instructor': 4643, 'archer': 435, 'cuba': 2091, 'gooding': 3834, 'attenborough': 553, 'differ': 2461, 'nostril': 6169, 'gena': 3718, 'rowlands': 7658, 'gazzara': 3708, 'wes': 9764, 'craven': 2016, 'nolte': 6140, 'mime': 5766, 'binoche': 864, 'coen': 1658, 'sant': 7751, 'nanny': 6019, 'sponsor': 8423, 'haze': 4129, 'sentimentality': 7926, 'fanatical': 3258, 'gerard': 3742, 'freddie': 3578, 'kidman': 4995, 'theft': 8961, 'lamp': 5089, 'mildred': 5751, 'paula': 6543, 'unnoticed': 9411, 'arrangement': 466, 'mandatory': 5499, 'chrissy': 1512, 'quantity': 7118, 'savvy': 7784, 'hilarity': 4226, 'headlight': 4135, 'monty': 5885, 'python': 7111, 'ritter': 7565, 'suzanne': 8773, 'fella': 3328, 'whack': 9771, 'framework': 3558, 'fairytale': 3239, 'synchronize': 8816, 'instrumental': 4645, 'fck': 3307, 'maria': 5533, 'ernst': 3032, 'italy': 4774, 'europa': 3070, 'thankless': 8954, 'suicidal': 8693, 'cassel': 1328, 'mathieu': 5598, 'compassion': 1754, 'marxist': 5570, 'mystical': 6003, 'perpetuate': 6620, 'abraham': 24, 'thou': 8991, 'les': 5195, 'absurdly': 36, 'jacques': 4794, 'dee': 2262, 'lesbianism': 5197, 'resistance': 7445, 'afi': 166, 'snow': 8275, 'confidential': 1817, 'trier': 9207, 'katherine': 4947, 'inadvertently': 4506, 'zoe': 9992, 'artifact': 481, 'billie': 856, 'ankle': 351, 'nadia': 6011, 'villains': 9585, 'avalanche': 597, 'tick': 9019, 'trot': 9230, 'abide': 11, 'templar': 8907, 'cohort': 1665, 'sophia': 8326, 'monastery': 5868, 'emotionless': 2922, 'hannah': 4059, 'berenger': 811, 'distinctive': 2571, 'arena': 443, 'subtly': 8663, 'weaver': 9733, 'starter': 8495, 'slug': 8233, 'tragically': 9143, 'islander': 4764, 'folklore': 3483, 'oral': 6323, 'positively': 6838, 'portugal': 6831, 'heath': 4154, 'aspiration': 504, 'mist': 5816, 'shore': 8066, 'braveheart': 1037, 'wicker': 9796, 'tina': 9046, 'digress': 2474, 'inherently': 4593, 'underused': 9346, 'incessant': 4512, 'avoids': 606, 'kinnear': 5014, 'challenger': 1400, 'campus': 1233, 'willard': 9813, 'rockwell': 7598, 'dane': 2167, 'gladiator': 3781, 'bunker': 1149, 'leadership': 5147, 'hiding': 4216, 'capshaw': 1266, 'elmer': 2896, 'continually': 1890, 'shack': 7975, 'shiver': 8049, 'beaver': 754, 'expedition': 3157, 'abort': 21, 'runtime': 7682, 'retro': 7484, 'shuttle': 8097, 'muddy': 5953, 'armageddon': 457, 'hay': 4124, 'problematic': 6967, 'clause': 1576, 'seller': 7900, 'marina': 5537, 'shrill': 8088, 'firefighter': 3406, 'closure': 1623, 'usage': 9463, 'conveys': 1919, 'spectator': 8387, 'genetic': 3727, 'plethora': 6752, 'permeate': 6613, 'wtc': 9924, 'sopranos': 8333, 'niro': 6127, 'mabel': 5426, 'keystone': 4986, 'mack': 5437, 'mccoy': 5625, 'lad': 5074, 'ant': 369, 'missouri': 5815, 'bert': 821, 'hamilton': 4042, 'corps': 1956, 'sewer': 7961, 'serum': 7942, 'crispin': 2051, 'glover': 3805, 'wilderness': 9810, 'machete': 5432, 'behaves': 774, 'announcement': 358, 'additionally': 112, 'thrash': 8995, 'hardship': 4078, 'missed': 5811, 'bulk': 1139, 'greet': 3919, 'fearful': 3309, 'basketball': 717, 'handy': 4055, 'cam': 1218, 'lulu': 5400, 'listless': 5279, 'damsel': 2160, 'appetite': 407, 'diet': 2459, 'vacuous': 9480, 'textbook': 8946, 'deniro': 2331, 'adrenaline': 134, 'pm': 6765, 'somethings': 8314, 'snore': 8274, 'shia': 8040, 'acquaintance': 80, 'simpler': 8137, 'locker': 5311, 'hijack': 4222, 'hopper': 4319, 'caucasian': 1352, 'painter': 6439, 'fighting': 3371, 'dudley': 2739, 'boone': 975, 'kentucky': 4978, 'incidental': 4517, 'eater': 2806, 'riff': 7541, 'eugene': 3068, 'levy': 5210, 'wendt': 9760, 'bon': 958, 'belushi': 796, 'cybill': 2130, 'keitel': 4967, 'fonda': 3488, 'ashley': 493, 'noirs': 6136, 'blandings': 895, 'falter': 3249, 'whodunit': 9788, 'iago': 4403, 'lincoln': 5258, 'lunatic': 5406, 'heroin': 4198, 'vanilla': 9499, 'bankrupt': 680, 'fellini': 3329, 'barman': 693, 'crystal': 2089, 'walken': 9659, 'addiction': 108, 'tucci': 9250, 'arkin': 455, 'telegraph': 8898, 'brash': 1032, 'gere': 3743, 'sans': 7750, 'disorder': 2554, 'mountains': 5934, 'hated': 4112, 'skilled': 8179, 'consummate': 1874, 'bye': 1189, 'bogus': 946, 'connecticut': 1834, 'architect': 438, 'drake': 2677, 'dixon': 2600, 'morale': 5896, 'milestone': 5753, 'eagerly': 2786, 'nada': 6010, 'velvet': 9522, 'compound': 1780, 'shaq': 8001, 'neal': 6054, 'marvelously': 5567, 'brooke': 1099, 'eddie': 2819, 'sarno': 7762, 'therapist': 8969, 'raunchy': 7220, 'kazaam': 4957, 'stifler': 8539, 'pedophile': 6570, 'lars': 5110, 'worked': 9883, 'marty': 5563, 'partial': 6498, 'athlete': 536, 'crowe': 2074, 'superhero': 8722, 'punk': 7089, 'rusty': 7693, 'lifelong': 5228, 'hallucination': 4037, 'nerdy': 6084, 'likeable': 5242, 'reginald': 7325, 'rochester': 7593, 'dalton': 2153, 'flap': 3429, 'aimlessly': 201, 'gibson': 3759, 'revel': 7491, 'intercourse': 4672, 'fiona': 3404, 'paquin': 6471, 'incomplete': 4526, 'zelah': 9983, 'clarke': 1565, 'sloane': 8227, 'bronte': 1095, 'pedro': 6571, 'swamp': 8775, 'brazilian': 1042, 'portuguese': 6832, 'allusion': 258, 'foreshadow': 3513, 'townspeople': 9126, 'preacher': 6879, 'fontaine': 3491, 'spinal': 8406, 'rea': 7230, 'worldly': 9887, 'unappealing': 9299, 'connolly': 1841, 'lumet': 5402, 'yadda': 9940, 'rib': 7519, 'exceedingly': 3110, 'lighthearted': 5235, 'chosen': 1509, 'congratulation': 1830, 'ooze': 6297, 'drummer': 2724, 'lung': 5409, 'womanize': 9867, 'biographical': 866, 'learning': 5155, 'invisibility': 4722, 'kansas': 4938, 'antidote': 378, 'rainbow': 7168, 'farrah': 3274, 'barney': 696, 'silverman': 8128, 'idol': 4426, 'diva': 2589, 'appreciated': 416, 'component': 1776, 'franchot': 3561, 'unwittingly': 9443, 'frenchman': 3586, 'dramatically': 2681, 'amicus': 293, 'cradle': 2004, 'dani': 2172, 'allude': 256, 'connelly': 1837, 'wal': 9656, 'vain': 9484, 'disastrous': 2517, 'brawl': 1040, 'anthology': 372, 'scorsese': 7834, 'filter': 3384, 'repulsion': 7423, 'goth': 3854, 'sr': 8450, 'sherman': 8038, 'helper': 4183, 'stuffed': 8625, 'eats': 2808, 'decay': 2239, 'temptation': 8913, 'bowie': 1006, 'blunder': 930, 'unstable': 9429, 'prophetic': 7023, 'pervasive': 6633, 'predator': 6887, 'brainless': 1025, 'witherspoon': 9852, 'wyatt': 9933, 'fatale': 3290, 'stutter': 8636, 'tierney': 9024, 'goodfellas': 3833, 'cheung': 1463, 'heavyweight': 4161, 'mahatma': 5465, 'opus': 6322, 'sandler': 7743, 'cane': 1243, 'hindu': 4235, 'bishop': 873, 'coppola': 1939, 'careless': 1283, 'santa': 7752, 'copious': 1937, 'machination': 5433, 'convolute': 1927, 'georgia': 3739, 'trench': 9192, 'kinds': 5009, 'darryl': 2195, 'moss': 5920, 'pauline': 6545, 'carole': 1302, 'lombard': 5322, 'hugo': 4361, 'bloodshed': 922, 'downfall': 2659, 'mercifully': 5696, 'bw': 1188, 'herring': 4201, 'hilary': 4227, 'vanessa': 9498, 'dramas': 2679, 'elm': 2895, 'vigilante': 9576, 'homophobic': 4291, 'darling': 2192, 'guinness': 3979, 'anonymous': 367, 'erupt': 3040, 'dagger': 2144, 'yada': 9938, 'christine': 1519, 'neve': 6095, 'kitten': 5024, 'itchy': 4776, 'gandolfini': 3684, 'applegate': 411, 'contractor': 1897, 'underwear': 9348, 'paycheck': 6551, 'boost': 977, 'full': 3631, 'kiddy': 4994, 'contender': 1884, 'jonny': 4880, 'coffin': 1660, 'riley': 7549, 'technological': 8886, 'bean': 739, 'schneider': 7817, 'debra': 2232, 'undeniable': 9321, 'minimal': 5777, 'donate': 2631, 'outcast': 6364, 'considers': 1859, 'exile': 3145, 'mastroianni': 5591, 'remains': 7371, 'gi': 3755, 'congress': 1831, 'counsel': 1973, 'wilder': 9809, 'rancid': 7186, 'ginger': 3773, 'undercurrent': 9324, 'playful': 6740, 'philo': 6657, 'liquid': 5272, 'heiress': 4172, 'idealism': 4415, 'suave': 8642, 'greene': 3917, 'barn': 694, 'digitally': 2471, 'werner': 9763, 'electronics': 2874, 'amrita': 303, 'chang': 1409, 'raven': 7222, 'frankie': 3568, 'scorpion': 7833, 'coolness': 1932, 'amok': 298, 'manchu': 5498, 'alice': 237, 'sterile': 8529, 'mormon': 5908, 'canal': 1237, 'bailey': 656, 'uniquely': 9389, 'naschy': 6029, 'travis': 9180, 'coleman': 1674, 'idle': 4425, 'litter': 5287, 'rus': 7685, 'meyer': 5724, 'abortion': 22, 'heyday': 4208, 'booby': 968, 'cutout': 2128, 'sen': 7907, 'developed': 2417, 'lds': 5143, 'tends': 8919, 'intimidate': 4697, 'cowardly': 1997, 'banana': 675, 'panty': 6467, 'unrated': 9417, 'jackass': 4788, 'deliverance': 2300, 'josie': 4886, 'involves': 4729, 'seriousness': 7941, 'weirdness': 9750, 'cheryl': 1459, 'stoner': 8558, 'cough': 1971, 'roast': 7577, 'unconventional': 9315, 'depravity': 2356, 'burning': 1159, 'signify': 8120, 'surfer': 8743, 'hogan': 4265, 'permission': 6614, 'vh': 9552, 'grinch': 3934, 'lotr': 5359, 'skillful': 8180, 'sophistication': 8330, 'edie': 2825, 'farrell': 3275, 'bozz': 1018, 'described': 2373, 'quotable': 7140, 'rot': 7646, 'insecure': 4616, 'stylistic': 8639, 'unlucky': 9405, 'bicker': 842, 'enrage': 2979, 'stalker': 8469, 'sculpture': 7856, 'bruckheimer': 1110, 'freudian': 3594, 'institute': 4639, 'grail': 3875, 'emmanuelle': 2916, 'achilles': 76, 'piggy': 6694, 'suitor': 8699, 'unexplained': 9362, 'reminisce': 7382, 'dublin': 2733, 'isnt': 4766, 'hash': 4107, 'nightclub': 6118, 'denmark': 2334, 'tigerland': 9026, 'dye': 2778, 'moustache': 5937, 'elf': 2882, 'afloat': 167, 'dd': 2213, 'resign': 7443, 'sherry': 8039, 'prance': 6873, 'grocery': 3944, 'penny': 6589, 'dummy': 2750, 'denholm': 2329, 'elliott': 2894, 'cracker': 2003, 'trendy': 9194, 'zenia': 9985, 'dodger': 2610, 'liu': 5289, 'mitch': 5827, 'ferry': 3344, 'operative': 6306, 'conference': 1812, 'cloak': 1612, 'copyright': 1941, 'lightly': 5237, 'activist': 90, 'comrade': 1788, 'arctic': 441, 'vince': 9586, 'mystic': 6002, 'risky': 7562, 'micheal': 5731, 'connery': 1838, 'sebastian': 7869, 'benny': 805, 'sheridan': 8035, 'shelly': 8029, 'err': 3035, 'income': 4523, 'gung': 3989, 'glove': 3804, 'permanently': 6612, 'suburb': 8664, 'subjective': 8647, 'ditch': 2587, 'hopeful': 4314, 'orwell': 6351, 'diminish': 2483, 'goebbels': 3817, 'belgian': 780, 'haul': 4116, 'compilation': 1765, 'holt': 4279, 'yahoo': 9941, 'effortless': 2849, 'gina': 3772, 'despise': 2393, 'renny': 7395, 'harlin': 4084, 'finnish': 3403, 'gabe': 3660, 'snowy': 8277, 'rooker': 7630, 'janine': 4809, 'delia': 2289, 'lithgow': 5286, 'climber': 1606, 'richardson': 7527, 'reaper': 7251, 'insomniac': 4627, 'picker': 6679, 'hallam': 4034, 'caroline': 1303, 'voyeur': 9638, 'wiser': 9847, 'blunt': 931, 'peep': 6575, 'propel': 7017, 'ariel': 449, 'dillinger': 2476, 'robe': 7584, 'underdevelop': 9325, 'cassidy': 1329, 'hoover': 4311, 'emergency': 2912, 'nash': 6030, 'dreyfus': 2703, 'geoffrey': 3737, 'competently': 1761, 'juxtapose': 4931, 'gunfight': 3987, 'paranormal': 6481, 'bulb': 1138, 'ivory': 4782, 'tyson': 9283, 'implant': 4478, 'wwf': 9929, 'philippe': 6653, 'librarian': 5220, 'oddity': 6246, 'keanu': 4959, 'reeve': 7303, 'commentator': 1731, 'subconscious': 8644, 'sox': 8355, 'valentine': 9486, 'smarter': 8244, 'alexandre': 233, 'muppet': 5969, 'malcolm': 5482, 'mcdowell': 5628, 'revival': 7501, 'chant': 1412, 'payment': 6552, 'bathtub': 725, 'unnerving': 9410, 'pixar': 6718, 'yo': 9960, 'champion': 1403, 'alexandra': 232, 'sutherland': 8771, 'anton': 379, 'acre': 83, 'coastal': 1645, 'overplay': 6402, 'sharon': 8005, 'disabled': 2506, 'baron': 697, 'gruff': 3962, 'dahmer': 2146, 'cannibalism': 1246, 'anal': 311, 'hartley': 4101, 'uncanny': 9308, 'potato': 6850, 'accomplished': 61, 'array': 467, 'fridge': 3597, 'fantastically': 3264, 'moriarty': 5906, 'consciously': 1849, 'chess': 1460, 'yacht': 9937, 'godard': 3812, 'sybil': 8802, 'gil': 3766, 'righteous': 7545, 'vamp': 9492, 'pov': 6858, 'ratio': 7215, 'cheated': 1442, 'boyle': 1016, 'wickedly': 9795, 'fuse': 3652, 'psychopathic': 7065, 'irs': 4755, 'unquestionably': 9416, 'yarn': 9946, 'bio': 865, 'frolic': 3609, 'brendan': 1059, 'billboard': 855, 'stratten': 8583, 'gershwin': 3746, 'lana': 5091, 'vinnie': 9590, 'meadow': 5638, 'dexter': 2433, 'paulie': 6544, 'buscemi': 1170, 'nuke': 6196, 'peanut': 6562, 'management': 5495, 'cutter': 2129, 'loggia': 5314, 'dom': 2620, 'pine': 6703, 'accomplishment': 62, 'profanity': 6981, 'characterize': 1421, 'wesley': 9765, 'rosie': 7644, 'delude': 2306, 'coup': 1983, 'repetition': 7406, 'prostitution': 7031, 'parable': 6473, 'pornographic': 6820, 'oprah': 6317, 'competitive': 1763, 'palatable': 6447, 'smother': 8255, 'ratso': 7217, 'rizzo': 7571, 'florida': 3459, 'lambert': 5086, 'omar': 6284, 'sharif': 8003, 'boyer': 1013, 'elisabeth': 2887, 'igor': 4431, 'fearless': 3310, 'noam': 6131, 'chomsky': 1494, 'bi': 838, 'fritz': 3606, 'shaft': 7980, 'pertwee': 6631, 'darkwolf': 2190, 'comedienne': 1715, 'madonna': 5449, 'nina': 6121, 'simone': 8135, 'metropolis': 5721, 'protector': 7036, 'sooo': 8324, 'co': 1640, 'scum': 7857, 'insecurity': 4617, 'restoration': 7465, 'got': 3853, 'escapade': 3042, 'suppress': 8736, 'homo': 4290, 'berate': 810, 'parental': 6486, 'explores': 3179, 'caan': 1193, 'incubus': 4537, 'pill': 6697, 'reese': 7302, 'cassavetes': 1327, 'violin': 9596, 'witted': 9856, 'nacho': 6009, 'ana': 309, 'darius': 2183, 'napoleon': 6021, 'tournament': 9118, 'entirety': 3000, 'raft': 7157, 'refrain': 7312, 'capsule': 1267, 'mae': 5451, 'proposition': 7027, 'carefree': 1280, 'bombastic': 955, 'boyd': 1012, 'sematary': 7903, 'poirot': 6779, 'gwynne': 4002, 'draws': 2689, 'dale': 2150, 'crosby': 2067, 'zelda': 9984, 'haggard': 4018, 'marley': 5548, 'leone': 5193, 'pryor': 7051, 'streisand': 8591, 'influential': 4576, 'garland': 3699, 'salem': 7723, 'cemetery': 1376, 'jed': 4826, 'automobile': 593, 'daria': 2182, 'ramones': 7181, 'ledger': 5162, 'afterlife': 173, 'pia': 6673, 'bimbo': 859, 'brisson': 1083, 'plead': 6744, 'stardom': 8486, 'beatty': 749, 'depardieu': 2345, 'webster': 9736, 'postman': 6847, 'institution': 4640, 'eden': 2821, 'sleepy': 8213, 'tempo': 8909, 'rosemary': 7642, 'cleanse': 1581, 'lansbury': 5101, 'eddy': 2820, 'strangle': 8578, 'deputy': 2362, 'pecker': 6566, 'rene': 7391, 'russo': 7692, 'lore': 5346, 'ranma': 7195, 'dna': 2603, 'gundam': 3986, 'classmate': 1571, 'accentuate': 47, 'homicidal': 4288, 'dillon': 2477, 'dern': 2368, 'output': 6377, 'bettie': 831, 'irving': 4756, 'irritated': 4752, 'environmental': 3007, 'spill': 8404, 'delta': 2305, 'blaxploitation': 900, 'perkins': 6608, 'reflective': 7310, 'mechanism': 5652, 'egan': 2851, 'pym': 7110, 'deer': 2268, 'guiness': 3978, 'indifference': 4547, 'blurry': 933, 'booker': 972, 'drawer': 2686, 'memorize': 5682, 'exude': 3205, 'utah': 9472, 'vampires': 9494, 'fiennes': 3364, 'funniest': 3644, 'depressed': 2358, 'rhys': 7517, 'holm': 4276, 'tara': 8852, 'hayworth': 4128, 'talentless': 8840, 'troy': 9234, 'cedric': 1364, 'bilge': 853, 'presenter': 6916, 'scholarship': 7819, 'glitter': 3794, 'medication': 5655, 'cukor': 2096, 'malden': 5483, 'merrill': 5706, 'tangle': 8847, 'stallion': 8471, 'diego': 2457, 'prowl': 7050, 'ossessione': 6355, 'visconti': 9606, 'lange': 5099, 'giovanna': 3775, 'moonlight': 5891, 'sixty': 8170, 'gino': 3774, 'actuality': 96, 'trojan': 9224, 'sydow': 8804, 'phantasm': 6645, 'townsfolk': 9125, 'polar': 6785, 'traveler': 9178, 'christy': 1522, 'publisher': 7071, 'hanson': 4060, 'serviceable': 7946, 'pickford': 6680, 'anita': 350, 'montana': 5883, 'lara': 5106, 'antonioni': 381, 'soulless': 8345, 'autistic': 587, 'researcher': 7433, 'lab': 5065, 'rohmer': 7608, 'syberberg': 8801, 'cher': 1456, 'parsifal': 6495, 'kris': 5052, 'kristofferson': 5054, 'uncredited': 9318, 'naturalistic': 6040, 'oppression': 6315, 'oppress': 6314, 'pasolini': 6511, 'pierre': 6691, 'renoir': 7397, 'apartheid': 390, 'develops': 2419, 'shue': 8093, 'dopey': 2641, 'forgivable': 3521, 'sock': 8291, 'saber': 7697, 'curly': 2112, 'screech': 7843, 'soooo': 8325, 'redford': 7293, 'humiliation': 4370, 'henderson': 4187, 'kline': 5026, 'circa': 1542, 'dalmatian': 2152, 'elliot': 2893, 'cruella': 2079, 'domergue': 2622, 'val': 9485, 'offender': 6252, 'shrek': 8086, 'railway': 7165, 'chikatilo': 1472, 'overpower': 6403, 'grieve': 3929, 'offense': 6253, 'critter': 2061, 'rourke': 7653, 'bryan': 1119, 'fundamentalist': 3639, 'teaching': 8875, 'pakistan': 6442, 'illinois': 4438, 'intolerance': 4698, 'supremacy': 8737, 'protocol': 7039, 'carlos': 1295, 'di': 2434, 'lola': 5321, 'levant': 5207, 'caron': 1304, 'singin': 8150, 'stripe': 8605, 'vincente': 9588, 'minnelli': 5782, 'pianist': 6674, 'coop': 1933, 'rouge': 7649, 'foch': 3472, 'maurice': 5611, 'november': 6187, 'liza': 5297, 'guerrilla': 3969, 'foggy': 3478, 'mole': 5856, 'desolate': 2387, 'excrement': 3131, 'snack': 8258, 'debbie': 2230, 'smitten': 8250, 'antonio': 380, 'clooney': 1616, 'loren': 5347, 'dourif': 2655, 'backward': 643, 'imago': 4455, 'modesty': 5850, 'yvonne': 9976, 'hermann': 4195, 'opposition': 6313, 'coroner': 1953, 'breezy': 1057, 'hypnotize': 4398, 'rathbone': 7213, 'milland': 5758, 'ivan': 4780, 'mclaglen': 5633, 'informer': 4581, 'switzerland': 8797, 'einstein': 2860, 'mia': 5728, 'schumacher': 7822, 'colonial': 1692, 'demi': 2314, 'denis': 2332, 'moe': 5853, 'andie': 322, 'wendy': 9761, 'offspring': 6263, 'affected': 159, 'threesome': 8999, 'francois': 3565, 'bakshi': 660, 'objection': 6211, 'microphone': 5737, 'spacek': 8358, 'ballroom': 669, 'ricardo': 7521, 'goldsworthy': 3826, 'boogie': 970, 'hike': 4223, 'breeze': 1056, 'clay': 1579, 'mustache': 5986, 'mcshane': 5637, 'hearty': 4152, 'commission': 1735, 'meditation': 5660, 'schindler': 7813, 'capability': 1254, 'lsd': 5380, 'artists': 487, 'orca': 6326, 'unborn': 9307, 'burlesque': 1157, 'impossibly': 4491, 'johansson': 4864, 'deposit': 2355, 'bounty': 1002, 'column': 1702, 'sergio': 7937, 'sprawl': 8434, 'prom': 7002, 'bureau': 1153, 'mockumentary': 5843, 'outing': 6371, 'ollie': 6279, 'roach': 7573, 'amos': 300, 'adams': 101, 'rio': 7553, 'kolchak': 5042, 'unstoppable': 9430, 'darren': 2194, 'mcgavin': 5629, 'steiner': 8517, 'palance': 6446, 'seminal': 7906, 'duchovny': 2735, 'eldest': 2865, 'loach': 5301, 'longtime': 5333, 'spock': 8419, 'strangler': 8579, 'alligator': 252, 'doppelganger': 2642, 'ramon': 7180, 'grumpy': 3963, 'droll': 2715, 'exclude': 3128, 'archie': 437, 'fernando': 3340, 'malicious': 5486, 'unnamed': 9406, 'costner': 1967, 'cleese': 1585, 'irreverent': 4750, 'cromwell': 2064, 'pickpocket': 6681, 'productive': 6979, 'parole': 6493, 'fringe': 3605, 'dyer': 2779, 'establishment': 3056, 'matthau': 5604, 'assailant': 507, 'pigeon': 6693, 'evans': 3076, 'pillow': 6698, 'haines': 4022, 'reid': 7334, 'byrne': 1190, 'trance': 9153, 'arquette': 464, 'fishburne': 3414, 'trunk': 9242, 'westerner': 9768, 'partition': 6505, 'itch': 4775, 'grady': 3871, 'forbid': 3502, 'evelyn': 3078, 'erika': 3029, 'cunningham': 2105, 'agatha': 178, 'che': 1437, 'porky': 6817, 'reagan': 7239, 'gerald': 3740, 'momentarily': 5862, 'alvin': 272, 'atomic': 542, 'goodnight': 3837, 'coburn': 1650, 'hackman': 4013, 'oklahoma': 6271, 'burstyn': 1163, 'romy': 7625, 'wolfman': 9864, 'looney': 5337, 'tibet': 9018, 'dreamlike': 2694, 'disclose': 2525, 'leopold': 5194, 'patty': 6541, 'hawaii': 4120, 'myra': 5995, 'breckinridge': 1054, 'myers': 5994, 'cillian': 1533, 'mcadams': 5622, 'upstairs': 9455, 'coincidentally': 1668, 'kidnapper': 4997, 'vic': 9556, 'dreamworks': 2696, 'scarecrow': 7798, 'maguire': 5464, 'fed': 3316, 'dorm': 2644, 'genitals': 3729, 'martian': 5560, 'telly': 8903, 'martino': 5562, 'savalas': 7780, 'invitation': 4724, 'electrocute': 2872, 'kells': 4970, 'viking': 9578, 'shawn': 8013, 'catalogue': 1340, 'passive': 6519, 'carla': 1292, 'dolls': 2618, 'cassandra': 1326, 'boorman': 976, 'jodie': 4860, 'lupino': 5410, 'norma': 6155, 'trent': 9195, 'kari': 4943, 'standup': 8481, 'bam': 671, 'wellington': 9758, 'bloodbath': 920, 'protestant': 7038, 'scarlet': 7802, 'peterson': 6641, 'carson': 1313, 'morgana': 5904, 'lena': 5181, 'exuberant': 3204, 'tot': 9109, 'dakota': 2149, 'trey': 9196, 'october': 6243, 'harper': 4092, 'jeanette': 4825, 'farnsworth': 3273, 'kansa': 4937, 'sarandon': 7757, 'amber': 282, 'facade': 3216, 'palestinian': 6450, 'forsythe': 3535, 'reno': 7396, 'holly': 4274, 'sorvino': 8343, 'russel': 7688, 'benoit': 806, 'wwe': 9928, 'mcmahon': 5634, 'taker': 8836, 'ppv': 6867, 'hasselhoff': 4108, 'caveman': 1358, 'verse': 9544, 'ernie': 3031, 'raptor': 7206, 'liv': 5290, 'swordsman': 8800, 'softcore': 8295, 'hagen': 4017, 'rudy': 7669, 'kitty': 5025, 'sofia': 8293, 'maya': 5615, 'wrestlemania': 9910, 'angelo': 334, 'submarine': 8649, 'jonestown': 4879, 'shatner': 8008, 'observer': 6223, 'crenna': 2041, 'saxon': 7786, 'veronica': 9540, 'sasquatch': 7763, 'macmurray': 5440, 'stratton': 8584, 'durante': 2761, 'masturbation': 5592, 'dyke': 2780, 'parson': 6496, 'drool': 2717, 'pancake': 6461, 'creatively': 2028, 'implausibility': 4479, 'roddy': 7601, 'jackman': 4791, 'gandalf': 3682, 'izzard': 4784, 'dunst': 2758, 'moonstruck': 5892, 'granger': 3890, 'anatomy': 315, 'carlito': 1294, 'melbourne': 5670, 'lopez': 5343, 'kornbluth': 5048, 'matine': 5599, 'hickock': 4211, 'wyoming': 9934, 'clifford': 1600, 'shearer': 8016, 'gangsta': 3686, 'saget': 7716, 'tristan': 9219, 'truffaut': 9237, 'arnie': 461, 'barbarian': 686, 'diver': 2591, 'patriot': 6534, 'polanski': 6784, 'peg': 6578, 'tribal': 9200, 'otto': 6359, 'hockey': 4262, 'preminger': 6906, 'lubitsch': 5382, 'gamera': 3680, 'iris': 4739, 'fricker': 3595, 'allegory': 248, 'swordplay': 8799, 'meteor': 5718, 'ronald': 7627, 'sleuth': 8215, 'hebrew': 4162, 'sondra': 8317, 'waterman': 9713, 'corky': 1947, 'melinda': 5672, 'greenaway': 3916, 'soderbergh': 8292, 'brosnan': 1102, 'cleverness': 1590, 'innate': 4605, 'syndrome': 8818, 'cahill': 1203, 'olsen': 6280, 'posey': 6834, 'mol': 5854, 'sabrina': 7700, 'frosty': 3614, 'nicky': 6111, 'dibiase': 2445, 'bret': 1062, 'dino': 2488, 'tito': 9059, 'hector': 4164, 'dressler': 2701, 'comet': 1718, 'mullet': 5956, 'quincy': 7133, 'quantum': 7119, 'salman': 7726, 'priyanka': 6960, 'khanna': 4988, 'govinda': 3859, 'melissa': 5673, 'fenton': 3339, 'mira': 5787, 'mitchum': 5829, 'constance': 1865, 'chad': 1393, 'dietrich': 2460, 'christie': 1517, 'redgrave': 7294, 'kalifornia': 4934, 'tolkien': 9077, 'wrath': 9904, 'pakistani': 6443, 'gertrude': 3747, 'theresa': 8972, 'emil': 2913, 'enlightenment': 2975, 'munro': 5968, 'della': 2303, 'maclaine': 5438, 'coyote': 2000, 'steele': 8513, 'ricci': 7522, 'hewitt': 4206, 'skate': 8173, 'maher': 5466, 'tattoo': 8862, 'conan': 1790, 'viggo': 9575, 'mortensen': 5916, 'colbert': 1671, 'alison': 243, 'toolbox': 9093, 'adele': 115, 'repression': 7419, 'michel': 5732, 'stile': 8540, 'selma': 7902, 'everett': 3084, 'finney': 3402, 'grisby': 3939, 'formidable': 3531, 'invincible': 4721, 'calamity': 1208, 'miraculous': 5789, 'vietnamese': 9570, 'commie': 1734, 'cambodia': 1219, 'excerpt': 3119, 'vulgarity': 9643, 'democracy': 2318, 'chong': 1495, 'colman': 1690, 'ogre': 6265, 'barbra': 687, 'sleepwalker': 8212, 'countess': 1978, 'tobe': 9062, 'demme': 2317, 'vader': 9481, 'baltimore': 670, 'schmid': 7816, 'blob': 912, 'hooper': 4309, 'niche': 6106, 'thunderbird': 9015, 'stubborn': 8618, 'lionel': 5269, 'marquis': 5550, 'tintin': 9048, 'cortez': 1964, 'lorre': 5351, 'twitch': 9276, 'harp': 4091, 'isabel': 4759, 'chile': 1477, 'renee': 7392, 'chimney': 1480, 'raggedy': 7160, 'hou': 4342, 'eerily': 2841, 'miranda': 5791, 'laputa': 5105, 'miyazaki': 5833, 'ridley': 7540, 'wanda': 9671, 'transylvania': 9169, 'turturro': 9266, 'honey': 4297, 'kei': 4965, 'shemp': 8031, 'brennan': 1060, 'gracefully': 3865, 'bolivia': 949, 'bombshell': 957, 'macarthur': 5429, 'sentinel': 7927, 'raines': 7170, 'cristina': 2052, 'levin': 5209, 'wallach': 9664, 'muppets': 5970, 'hobbit': 4259, 'kibbutz': 4990, 'pesci': 6637, 'uma': 9296, 'blaise': 891, 'staden': 8455, 'lilly': 5250, 'cruz': 2086, 'advancement': 141, 'pabst': 6424, 'atwill': 566, 'peet': 6577, 'deathstalker': 2226, 'mushroom': 5981, 'demonicus': 2324, 'soylent': 8356, 'giamatti': 3757, 'reiser': 7338, 'olympia': 6281, 'dukakis': 2744, 'metamorphosis': 5715, 'zatoichi': 9981, 'failing': 3230, 'owl': 6419, 'fahey': 3227, 'twister': 9275, 'timmy': 9042, 'plump': 6762, 'khouri': 4989, 'peruvian': 6632, 'slater': 8200, 'ashraf': 494, 'tel': 8897, 'aviv': 604, 'palsy': 6455, 'grasshopper': 3897, 'stefan': 8516, 'ustinov': 9469, 'dour': 2654, 'newhart': 6099, 'godmother': 3815, 'devito': 2426, 'floriane': 3458, 'ozzy': 6422, 'jigsaw': 4850, 'askey': 499, 'wodehouse': 9860, 'kusturica': 5062, 'paz': 6555, 'penguin': 6586, 'culp': 2099, 'springer': 8439, 'aiello': 196, 'swayze': 8781, 'winchester': 9828, 'groove': 3947, 'romano': 7619, 'carlyle': 1296, 'radar': 7151, 'jenna': 4831, 'zizek': 9990, 'chico': 1470, 'anakin': 310, 'frye': 3622, 'mukhsin': 5955, 'deserved': 2379, 'erroll': 3038, 'stardust': 8487, 'clair': 1556, 'gielgud': 3760, 'seberg': 7870, 'esp': 3046, 'celie': 1370, 'callahan': 1214, 'smallville': 8241, 'luthor': 5418, 'blackie': 885, 'moto': 5929, 'rosenstrasse': 7643, 'gosha': 3850, 'imperial': 4475, 'ronny': 7628, 'venezuela': 9523, 'chavez': 1436, 'venezuelan': 9524, 'robbins': 7582, 'guevara': 3972, 'gandhi': 3683, 'crater': 2014, 'vaughn': 9512, 'luzhin': 5420, 'fork': 3527, 'vulcan': 9641, 'rican': 7520, 'marlene': 5547, 'artemisia': 476, 'fawcett': 3303, 'lindsey': 5261, 'devos': 2428, 'kilmer': 5003, 'borg': 986, 'pullman': 7078, 'abhay': 10, 'soha': 8298, 'tomlinson': 9083, 'forbes': 3501, 'grable': 3862, 'paresh': 6487, 'ada': 99, 'rajpal': 7174, 'yadav': 9939, 'skater': 8174, 'flamenco': 3428, 'hartnett': 4103, 'pegg': 6579, 'hamill': 4041, 'lila': 5247, 'eileen': 2859, 'carface': 1287, 'sammi': 7734, 'zabriskie': 9977, 'weisz': 9753, 'vipul': 9597, 'waqt': 9678, 'boman': 953, 'irani': 4734, 'antwone': 382, 'philadelphia': 6651, 'snowman': 8276, 'mattei': 5602, 'skagway': 8172, 'gannon': 3688, 'chiba': 1466, 'theron': 8973, 'rao': 7198, 'maclean': 5439, 'alamo': 217, 'raul': 7219, 'boogeyman': 969, 'fagin': 3226, 'earp': 2795, 'jovi': 4891, 'rupert': 7683, 'saura': 7778, 'thornton': 8989, 'eustache': 3073, 'veronika': 9541, 'mcbain': 5623, 'capote': 1263, 'weir': 9748, 'dickinson': 2450, 'chevy': 1464, 'jayne': 4819, 'beetle': 764, 'thurman': 9016, 'muni': 5967, 'luise': 5396, 'rainer': 7169, 'caprica': 1265, 'sullavan': 8700, 'matuschek': 5608, 'gram': 3878, 'tomei': 9082, 'durbin': 2763, 'kiki': 4999, 'ella': 2891, 'hammerhead': 4045, 'sideways': 8108, 'canoe': 1249, 'vonnegut': 9631, 'maddy': 5443, 'dwight': 2776, 'harron': 4096, 'conroy': 1846, 'katsu': 4952, 'hanzo': 4061, 'scanner': 7793, 'mordrid': 5902, 'morbius': 5901, 'nielsen': 6115, 'marylee': 5572, 'biko': 852, 'bhandarkar': 837, 'jabba': 4786, 'hines': 4236, 'shahid': 7983, 'vivah': 9616, 'creasy': 2023, 'domino': 2629, 'aragorn': 430, 'frodo': 3607, 'beckham': 755, 'feinstone': 3324, 'fido': 3361, 'wendigo': 9759, 'midler': 5741, 'gackt': 3663, 'sho': 8050, 'benet': 802, 'munchies': 5965, 'aaron': 1, 'cheadle': 1438, 'beta': 824, 'darlene': 2191, 'simba': 8129, 'timon': 9043, 'pumbaa': 7081, 'blackadder': 884, 'yoda': 9961, 'cheech': 1444, 'todesking': 9067, 'audiard': 567, 'singleton': 8153, 'mcqueen': 5636, 'perdition': 6596, 'gremlin': 3922, 'bathsheba': 724, 'keira': 4966, 'meyers': 5725, 'danning': 2176, 'zhang': 9988, 'gomez': 3828, 'wai': 9650, 'christensen': 1514, 'sabretooth': 7699, 'gymnast': 4005, 'argentina': 444, 'mendes': 5686, 'chen': 1455, 'cambodian': 1220, 'baseketball': 708, 'batwoman': 731, 'zombi': 9993, 'curtiz': 2119, 'robby': 7583, 'burtynsky': 1166, 'hagar': 4016, 'hobgoblin': 4261, 'ecstasy': 2817, 'ripley': 7557, 'xica': 9935, 'fez': 3352, 'kelso': 4972, 'palermo': 6449, 'paperhouse': 6470, 'aag': 0, 'fallon': 3247, 'hackenstein': 4011, 'abigail': 12, 'yugoslavia': 9972, 'bigelow': 846, 'elia': 2884, 'janeane': 4807, 'mcintire': 5632, 'beowulf': 809, 'grendel': 3924, 'binder': 862, 'robbie': 7581, 'azumi': 628, 'pazu': 6556, 'sheeta': 8023, 'duchess': 2734, 'rochon': 7594, 'oberon': 6209, 'microfilm': 5736, 'serbian': 7934, 'stowe': 8569, 'hooligan': 4308, 'stockwell': 8551, 'aweigh': 615, 'lumiere': 5403, 'lohan': 5318, 'carlisle': 1293, 'millard': 5759, 'dahl': 2145, 'yuzna': 9975, 'ajay': 208, 'devgan': 2420, 'gunga': 3990, 'jaffe': 4797, 'carnosaur': 1300, 'darkman': 2188, 'trelkovsky': 9188, 'dominick': 2628, 'moonwalker': 5893, 'mj': 5834, 'pita': 6712, 'varma': 9507, 'mcnally': 5635, 'desdemona': 2376, 'hilliard': 4230, 'brashear': 1033, 'berkowitz': 814, 'kattan': 4953, 'milverton': 5765, 'harilal': 4081, 'scalise': 7789, 'fanfan': 3260, 'duryea': 2764, 'togar': 9069, 'morty': 5918, 'heaton': 4156, 'lordi': 5345, 'dev': 2414, 'krell': 5050, 'kriemhild': 5051, 'gypo': 4006, 'jannings': 4811, 'sarne': 7761, 'newcombe': 6097, 'mraovich': 5946, 'flavia': 3435, 'panahi': 6460, 'offside': 6262, 'fineman': 3398, 'yokai': 9962}\n"
     ]
    }
   ],
   "source": [
    "#4. Tokenizing words\n",
    "vect = TfidfVectorizer(max_features=10000, stop_words= stopwords.words('english'))\n",
    "transformed_reviews = vect.fit_transform(reviews[0])\n",
    "print(vect.vocabulary_)"
   ]
  },
  {
   "cell_type": "code",
   "execution_count": null,
   "metadata": {},
   "outputs": [
    {
     "name": "stdout",
     "output_type": "stream",
     "text": [
      "  (0, 6716)\t0.11981760993778248\n",
      "  (0, 3348)\t0.1624568544213023\n",
      "  (0, 3266)\t0.06946596877739064\n",
      "  (0, 8978)\t0.04574921481474485\n",
      "  (0, 179)\t0.08133930690856331\n",
      "  (0, 136)\t0.09619770828741746\n",
      "  (0, 3155)\t0.07340173611663404\n",
      "  (0, 9755)\t0.11827779744903288\n",
      "  (0, 7703)\t0.15097180872292978\n",
      "  (0, 4628)\t0.13514677397258157\n",
      "  (0, 5263)\t0.0675260641491826\n",
      "  (0, 1568)\t0.0776836624049659\n",
      "  (0, 7260)\t0.11795028703749022\n",
      "  (0, 4462)\t0.10711778136741126\n",
      "  (0, 1158)\t0.10731368001353128\n",
      "  (0, 9246)\t0.05631711289593983\n",
      "  (0, 7403)\t0.13478427151053546\n",
      "  (0, 3013)\t0.08439724957094798\n",
      "  (0, 7785)\t0.06789857346042998\n",
      "  (0, 5036)\t0.04958745618525494\n",
      "  (0, 7379)\t0.0970294179312784\n",
      "  (0, 8167)\t0.08927581353571123\n",
      "  (0, 6527)\t0.10716658663092057\n",
      "  (0, 7544)\t0.0667782842314409\n",
      "  (0, 8621)\t0.4046559384221455\n",
      "  :\t:\n",
      "  (24999, 6266)\t0.12006621683655296\n",
      "  (24999, 6436)\t0.15458930294709108\n",
      "  (24999, 2010)\t0.13016093242219814\n",
      "  (24999, 84)\t0.07043825487974154\n",
      "  (24999, 5334)\t0.06879130401630111\n",
      "  (24999, 97)\t0.08956741493185225\n",
      "  (24999, 9002)\t0.1324720920611107\n",
      "  (24999, 2463)\t0.10665543337096095\n",
      "  (24999, 5302)\t0.16449663000188827\n",
      "  (24999, 5870)\t0.10630312336246876\n",
      "  (24999, 3376)\t0.09116122765779305\n",
      "  (24999, 6755)\t0.07693817137559475\n",
      "  (24999, 3749)\t0.07149930592284688\n",
      "  (24999, 1417)\t0.06320862043281322\n",
      "  (24999, 2208)\t0.09155033008862816\n",
      "  (24999, 5241)\t0.10260385510663235\n",
      "  (24999, 1019)\t0.09209172399342277\n",
      "  (24999, 6590)\t0.07156149524117823\n",
      "  (24999, 3808)\t0.07075358472182579\n",
      "  (24999, 7884)\t0.06824178327261896\n",
      "  (24999, 3831)\t0.11248661635210165\n",
      "  (24999, 3266)\t0.09837275993559685\n",
      "  (24999, 8978)\t0.06478678128905234\n",
      "  (24999, 5263)\t0.09562560509636606\n",
      "  (24999, 9036)\t0.11343721749494093\n"
     ]
    }
   ],
   "source": [
    "print(transformed_reviews)"
   ]
  },
  {
   "cell_type": "code",
   "execution_count": null,
   "metadata": {},
   "outputs": [],
   "source": [
    "#Transform the dataset into a dataframe for feature extraction\n",
    "\n",
    "import scipy.sparse\n",
    "dataFrame = pd.DataFrame.sparse.from_spmatrix(transformed_reviews)\n"
   ]
  },
  {
   "cell_type": "code",
   "execution_count": null,
   "metadata": {},
   "outputs": [
    {
     "data": {
      "text/html": [
       "<div>\n",
       "<style scoped>\n",
       "    .dataframe tbody tr th:only-of-type {\n",
       "        vertical-align: middle;\n",
       "    }\n",
       "\n",
       "    .dataframe tbody tr th {\n",
       "        vertical-align: top;\n",
       "    }\n",
       "\n",
       "    .dataframe thead th {\n",
       "        text-align: right;\n",
       "    }\n",
       "</style>\n",
       "<table border=\"1\" class=\"dataframe\">\n",
       "  <thead>\n",
       "    <tr style=\"text-align: right;\">\n",
       "      <th></th>\n",
       "      <th>0</th>\n",
       "      <th>1</th>\n",
       "      <th>2</th>\n",
       "      <th>3</th>\n",
       "      <th>4</th>\n",
       "      <th>5</th>\n",
       "      <th>6</th>\n",
       "      <th>7</th>\n",
       "      <th>8</th>\n",
       "      <th>9</th>\n",
       "      <th>...</th>\n",
       "      <th>9990</th>\n",
       "      <th>9991</th>\n",
       "      <th>9992</th>\n",
       "      <th>9993</th>\n",
       "      <th>9994</th>\n",
       "      <th>9995</th>\n",
       "      <th>9996</th>\n",
       "      <th>9997</th>\n",
       "      <th>9998</th>\n",
       "      <th>9999</th>\n",
       "    </tr>\n",
       "  </thead>\n",
       "  <tbody>\n",
       "    <tr>\n",
       "      <th>0</th>\n",
       "      <td>0.0</td>\n",
       "      <td>0.0</td>\n",
       "      <td>0.0</td>\n",
       "      <td>0.0</td>\n",
       "      <td>0.0</td>\n",
       "      <td>0.0</td>\n",
       "      <td>0.0</td>\n",
       "      <td>0.0</td>\n",
       "      <td>0.0</td>\n",
       "      <td>0.0</td>\n",
       "      <td>...</td>\n",
       "      <td>0.0</td>\n",
       "      <td>0.0</td>\n",
       "      <td>0.0</td>\n",
       "      <td>0.0</td>\n",
       "      <td>0.000000</td>\n",
       "      <td>0.0</td>\n",
       "      <td>0.0</td>\n",
       "      <td>0.0</td>\n",
       "      <td>0.0</td>\n",
       "      <td>0.0</td>\n",
       "    </tr>\n",
       "    <tr>\n",
       "      <th>1</th>\n",
       "      <td>0.0</td>\n",
       "      <td>0.0</td>\n",
       "      <td>0.0</td>\n",
       "      <td>0.0</td>\n",
       "      <td>0.0</td>\n",
       "      <td>0.0</td>\n",
       "      <td>0.0</td>\n",
       "      <td>0.0</td>\n",
       "      <td>0.0</td>\n",
       "      <td>0.0</td>\n",
       "      <td>...</td>\n",
       "      <td>0.0</td>\n",
       "      <td>0.0</td>\n",
       "      <td>0.0</td>\n",
       "      <td>0.0</td>\n",
       "      <td>0.000000</td>\n",
       "      <td>0.0</td>\n",
       "      <td>0.0</td>\n",
       "      <td>0.0</td>\n",
       "      <td>0.0</td>\n",
       "      <td>0.0</td>\n",
       "    </tr>\n",
       "    <tr>\n",
       "      <th>2</th>\n",
       "      <td>0.0</td>\n",
       "      <td>0.0</td>\n",
       "      <td>0.0</td>\n",
       "      <td>0.0</td>\n",
       "      <td>0.0</td>\n",
       "      <td>0.0</td>\n",
       "      <td>0.0</td>\n",
       "      <td>0.0</td>\n",
       "      <td>0.0</td>\n",
       "      <td>0.0</td>\n",
       "      <td>...</td>\n",
       "      <td>0.0</td>\n",
       "      <td>0.0</td>\n",
       "      <td>0.0</td>\n",
       "      <td>0.0</td>\n",
       "      <td>0.000000</td>\n",
       "      <td>0.0</td>\n",
       "      <td>0.0</td>\n",
       "      <td>0.0</td>\n",
       "      <td>0.0</td>\n",
       "      <td>0.0</td>\n",
       "    </tr>\n",
       "    <tr>\n",
       "      <th>3</th>\n",
       "      <td>0.0</td>\n",
       "      <td>0.0</td>\n",
       "      <td>0.0</td>\n",
       "      <td>0.0</td>\n",
       "      <td>0.0</td>\n",
       "      <td>0.0</td>\n",
       "      <td>0.0</td>\n",
       "      <td>0.0</td>\n",
       "      <td>0.0</td>\n",
       "      <td>0.0</td>\n",
       "      <td>...</td>\n",
       "      <td>0.0</td>\n",
       "      <td>0.0</td>\n",
       "      <td>0.0</td>\n",
       "      <td>0.0</td>\n",
       "      <td>0.000000</td>\n",
       "      <td>0.0</td>\n",
       "      <td>0.0</td>\n",
       "      <td>0.0</td>\n",
       "      <td>0.0</td>\n",
       "      <td>0.0</td>\n",
       "    </tr>\n",
       "    <tr>\n",
       "      <th>4</th>\n",
       "      <td>0.0</td>\n",
       "      <td>0.0</td>\n",
       "      <td>0.0</td>\n",
       "      <td>0.0</td>\n",
       "      <td>0.0</td>\n",
       "      <td>0.0</td>\n",
       "      <td>0.0</td>\n",
       "      <td>0.0</td>\n",
       "      <td>0.0</td>\n",
       "      <td>0.0</td>\n",
       "      <td>...</td>\n",
       "      <td>0.0</td>\n",
       "      <td>0.0</td>\n",
       "      <td>0.0</td>\n",
       "      <td>0.0</td>\n",
       "      <td>0.000000</td>\n",
       "      <td>0.0</td>\n",
       "      <td>0.0</td>\n",
       "      <td>0.0</td>\n",
       "      <td>0.0</td>\n",
       "      <td>0.0</td>\n",
       "    </tr>\n",
       "    <tr>\n",
       "      <th>...</th>\n",
       "      <td>...</td>\n",
       "      <td>...</td>\n",
       "      <td>...</td>\n",
       "      <td>...</td>\n",
       "      <td>...</td>\n",
       "      <td>...</td>\n",
       "      <td>...</td>\n",
       "      <td>...</td>\n",
       "      <td>...</td>\n",
       "      <td>...</td>\n",
       "      <td>...</td>\n",
       "      <td>...</td>\n",
       "      <td>...</td>\n",
       "      <td>...</td>\n",
       "      <td>...</td>\n",
       "      <td>...</td>\n",
       "      <td>...</td>\n",
       "      <td>...</td>\n",
       "      <td>...</td>\n",
       "      <td>...</td>\n",
       "      <td>...</td>\n",
       "    </tr>\n",
       "    <tr>\n",
       "      <th>24995</th>\n",
       "      <td>0.0</td>\n",
       "      <td>0.0</td>\n",
       "      <td>0.0</td>\n",
       "      <td>0.0</td>\n",
       "      <td>0.0</td>\n",
       "      <td>0.0</td>\n",
       "      <td>0.0</td>\n",
       "      <td>0.0</td>\n",
       "      <td>0.0</td>\n",
       "      <td>0.0</td>\n",
       "      <td>...</td>\n",
       "      <td>0.0</td>\n",
       "      <td>0.0</td>\n",
       "      <td>0.0</td>\n",
       "      <td>0.0</td>\n",
       "      <td>0.000000</td>\n",
       "      <td>0.0</td>\n",
       "      <td>0.0</td>\n",
       "      <td>0.0</td>\n",
       "      <td>0.0</td>\n",
       "      <td>0.0</td>\n",
       "    </tr>\n",
       "    <tr>\n",
       "      <th>24996</th>\n",
       "      <td>0.0</td>\n",
       "      <td>0.0</td>\n",
       "      <td>0.0</td>\n",
       "      <td>0.0</td>\n",
       "      <td>0.0</td>\n",
       "      <td>0.0</td>\n",
       "      <td>0.0</td>\n",
       "      <td>0.0</td>\n",
       "      <td>0.0</td>\n",
       "      <td>0.0</td>\n",
       "      <td>...</td>\n",
       "      <td>0.0</td>\n",
       "      <td>0.0</td>\n",
       "      <td>0.0</td>\n",
       "      <td>0.0</td>\n",
       "      <td>0.000000</td>\n",
       "      <td>0.0</td>\n",
       "      <td>0.0</td>\n",
       "      <td>0.0</td>\n",
       "      <td>0.0</td>\n",
       "      <td>0.0</td>\n",
       "    </tr>\n",
       "    <tr>\n",
       "      <th>24997</th>\n",
       "      <td>0.0</td>\n",
       "      <td>0.0</td>\n",
       "      <td>0.0</td>\n",
       "      <td>0.0</td>\n",
       "      <td>0.0</td>\n",
       "      <td>0.0</td>\n",
       "      <td>0.0</td>\n",
       "      <td>0.0</td>\n",
       "      <td>0.0</td>\n",
       "      <td>0.0</td>\n",
       "      <td>...</td>\n",
       "      <td>0.0</td>\n",
       "      <td>0.0</td>\n",
       "      <td>0.0</td>\n",
       "      <td>0.0</td>\n",
       "      <td>0.206089</td>\n",
       "      <td>0.0</td>\n",
       "      <td>0.0</td>\n",
       "      <td>0.0</td>\n",
       "      <td>0.0</td>\n",
       "      <td>0.0</td>\n",
       "    </tr>\n",
       "    <tr>\n",
       "      <th>24998</th>\n",
       "      <td>0.0</td>\n",
       "      <td>0.0</td>\n",
       "      <td>0.0</td>\n",
       "      <td>0.0</td>\n",
       "      <td>0.0</td>\n",
       "      <td>0.0</td>\n",
       "      <td>0.0</td>\n",
       "      <td>0.0</td>\n",
       "      <td>0.0</td>\n",
       "      <td>0.0</td>\n",
       "      <td>...</td>\n",
       "      <td>0.0</td>\n",
       "      <td>0.0</td>\n",
       "      <td>0.0</td>\n",
       "      <td>0.0</td>\n",
       "      <td>0.000000</td>\n",
       "      <td>0.0</td>\n",
       "      <td>0.0</td>\n",
       "      <td>0.0</td>\n",
       "      <td>0.0</td>\n",
       "      <td>0.0</td>\n",
       "    </tr>\n",
       "    <tr>\n",
       "      <th>24999</th>\n",
       "      <td>0.0</td>\n",
       "      <td>0.0</td>\n",
       "      <td>0.0</td>\n",
       "      <td>0.0</td>\n",
       "      <td>0.0</td>\n",
       "      <td>0.0</td>\n",
       "      <td>0.0</td>\n",
       "      <td>0.0</td>\n",
       "      <td>0.0</td>\n",
       "      <td>0.0</td>\n",
       "      <td>...</td>\n",
       "      <td>0.0</td>\n",
       "      <td>0.0</td>\n",
       "      <td>0.0</td>\n",
       "      <td>0.0</td>\n",
       "      <td>0.000000</td>\n",
       "      <td>0.0</td>\n",
       "      <td>0.0</td>\n",
       "      <td>0.0</td>\n",
       "      <td>0.0</td>\n",
       "      <td>0.0</td>\n",
       "    </tr>\n",
       "  </tbody>\n",
       "</table>\n",
       "<p>25000 rows × 10000 columns</p>\n",
       "</div>"
      ],
      "text/plain": [
       "       0     1     2     3     4     5     6     7     8     9     ...  9990  \\\n",
       "0       0.0   0.0   0.0   0.0   0.0   0.0   0.0   0.0   0.0   0.0  ...   0.0   \n",
       "1       0.0   0.0   0.0   0.0   0.0   0.0   0.0   0.0   0.0   0.0  ...   0.0   \n",
       "2       0.0   0.0   0.0   0.0   0.0   0.0   0.0   0.0   0.0   0.0  ...   0.0   \n",
       "3       0.0   0.0   0.0   0.0   0.0   0.0   0.0   0.0   0.0   0.0  ...   0.0   \n",
       "4       0.0   0.0   0.0   0.0   0.0   0.0   0.0   0.0   0.0   0.0  ...   0.0   \n",
       "...     ...   ...   ...   ...   ...   ...   ...   ...   ...   ...  ...   ...   \n",
       "24995   0.0   0.0   0.0   0.0   0.0   0.0   0.0   0.0   0.0   0.0  ...   0.0   \n",
       "24996   0.0   0.0   0.0   0.0   0.0   0.0   0.0   0.0   0.0   0.0  ...   0.0   \n",
       "24997   0.0   0.0   0.0   0.0   0.0   0.0   0.0   0.0   0.0   0.0  ...   0.0   \n",
       "24998   0.0   0.0   0.0   0.0   0.0   0.0   0.0   0.0   0.0   0.0  ...   0.0   \n",
       "24999   0.0   0.0   0.0   0.0   0.0   0.0   0.0   0.0   0.0   0.0  ...   0.0   \n",
       "\n",
       "       9991  9992  9993      9994  9995  9996  9997  9998  9999  \n",
       "0       0.0   0.0   0.0  0.000000   0.0   0.0   0.0   0.0   0.0  \n",
       "1       0.0   0.0   0.0  0.000000   0.0   0.0   0.0   0.0   0.0  \n",
       "2       0.0   0.0   0.0  0.000000   0.0   0.0   0.0   0.0   0.0  \n",
       "3       0.0   0.0   0.0  0.000000   0.0   0.0   0.0   0.0   0.0  \n",
       "4       0.0   0.0   0.0  0.000000   0.0   0.0   0.0   0.0   0.0  \n",
       "...     ...   ...   ...       ...   ...   ...   ...   ...   ...  \n",
       "24995   0.0   0.0   0.0  0.000000   0.0   0.0   0.0   0.0   0.0  \n",
       "24996   0.0   0.0   0.0  0.000000   0.0   0.0   0.0   0.0   0.0  \n",
       "24997   0.0   0.0   0.0  0.206089   0.0   0.0   0.0   0.0   0.0  \n",
       "24998   0.0   0.0   0.0  0.000000   0.0   0.0   0.0   0.0   0.0  \n",
       "24999   0.0   0.0   0.0  0.000000   0.0   0.0   0.0   0.0   0.0  \n",
       "\n",
       "[25000 rows x 10000 columns]"
      ]
     },
     "execution_count": 90,
     "metadata": {},
     "output_type": "execute_result"
    }
   ],
   "source": [
    "dataFrame"
   ]
  },
  {
   "cell_type": "code",
   "execution_count": null,
   "metadata": {},
   "outputs": [],
   "source": [
    "Y = to_categorical(Y,num_classes=2)\n"
   ]
  },
  {
   "cell_type": "code",
   "execution_count": null,
   "metadata": {},
   "outputs": [
    {
     "name": "stdout",
     "output_type": "stream",
     "text": [
      "Size of training-val set:18750\n",
      "Size of test set:6250\n",
      "AAAAAA 6250\n"
     ]
    }
   ],
   "source": [
    "X_trainval, X_test, y_trainval, y_test = train_test_split(dataFrame.to_numpy(), Y, random_state=42)\n",
    "print(\"Size of training-val set:{}\".format(X_trainval.shape[0]))\n",
    "print(\"Size of test set:{}\".format(X_test.shape[0]))\n",
    "print(\"AAAAAA {}\".format(y_test.shape[0]))"
   ]
  },
  {
   "cell_type": "code",
   "execution_count": null,
   "metadata": {},
   "outputs": [
    {
     "name": "stdout",
     "output_type": "stream",
     "text": [
      "Epoch 1/15\n"
     ]
    },
    {
     "ename": "ValueError",
     "evalue": "in user code:\n\n    C:\\Users\\spiri\\anaconda3\\lib\\site-packages\\tensorflow\\python\\keras\\engine\\training.py:806 train_function  *\n        return step_function(self, iterator)\n    C:\\Users\\spiri\\anaconda3\\lib\\site-packages\\tensorflow\\python\\keras\\engine\\training.py:796 step_function  **\n        outputs = model.distribute_strategy.run(run_step, args=(data,))\n    C:\\Users\\spiri\\anaconda3\\lib\\site-packages\\tensorflow\\python\\distribute\\distribute_lib.py:1211 run\n        return self._extended.call_for_each_replica(fn, args=args, kwargs=kwargs)\n    C:\\Users\\spiri\\anaconda3\\lib\\site-packages\\tensorflow\\python\\distribute\\distribute_lib.py:2585 call_for_each_replica\n        return self._call_for_each_replica(fn, args, kwargs)\n    C:\\Users\\spiri\\anaconda3\\lib\\site-packages\\tensorflow\\python\\distribute\\distribute_lib.py:2945 _call_for_each_replica\n        return fn(*args, **kwargs)\n    C:\\Users\\spiri\\anaconda3\\lib\\site-packages\\tensorflow\\python\\keras\\engine\\training.py:789 run_step  **\n        outputs = model.train_step(data)\n    C:\\Users\\spiri\\anaconda3\\lib\\site-packages\\tensorflow\\python\\keras\\engine\\training.py:748 train_step\n        loss = self.compiled_loss(\n    C:\\Users\\spiri\\anaconda3\\lib\\site-packages\\tensorflow\\python\\keras\\engine\\compile_utils.py:204 __call__\n        loss_value = loss_obj(y_t, y_p, sample_weight=sw)\n    C:\\Users\\spiri\\anaconda3\\lib\\site-packages\\tensorflow\\python\\keras\\losses.py:149 __call__\n        losses = ag_call(y_true, y_pred)\n    C:\\Users\\spiri\\anaconda3\\lib\\site-packages\\tensorflow\\python\\keras\\losses.py:253 call  **\n        return ag_fn(y_true, y_pred, **self._fn_kwargs)\n    C:\\Users\\spiri\\anaconda3\\lib\\site-packages\\tensorflow\\python\\util\\dispatch.py:201 wrapper\n        return target(*args, **kwargs)\n    C:\\Users\\spiri\\anaconda3\\lib\\site-packages\\tensorflow\\python\\keras\\losses.py:1535 categorical_crossentropy\n        return K.categorical_crossentropy(y_true, y_pred, from_logits=from_logits)\n    C:\\Users\\spiri\\anaconda3\\lib\\site-packages\\tensorflow\\python\\util\\dispatch.py:201 wrapper\n        return target(*args, **kwargs)\n    C:\\Users\\spiri\\anaconda3\\lib\\site-packages\\tensorflow\\python\\keras\\backend.py:4687 categorical_crossentropy\n        target.shape.assert_is_compatible_with(output.shape)\n    C:\\Users\\spiri\\anaconda3\\lib\\site-packages\\tensorflow\\python\\framework\\tensor_shape.py:1134 assert_is_compatible_with\n        raise ValueError(\"Shapes %s and %s are incompatible\" % (self, other))\n\n    ValueError: Shapes (None, 2, 2, 2) and (None, 2) are incompatible\n",
     "output_type": "error",
     "traceback": [
      "\u001b[1;31m---------------------------------------------------------------------------\u001b[0m",
      "\u001b[1;31mValueError\u001b[0m                                Traceback (most recent call last)",
      "\u001b[1;32m<ipython-input-93-8368af137141>\u001b[0m in \u001b[0;36m<module>\u001b[1;34m\u001b[0m\n\u001b[0;32m     16\u001b[0m \u001b[1;33m\u001b[0m\u001b[0m\n\u001b[0;32m     17\u001b[0m \u001b[1;33m\u001b[0m\u001b[0m\n\u001b[1;32m---> 18\u001b[1;33m \u001b[0mhistory\u001b[0m \u001b[1;33m=\u001b[0m \u001b[0mmodel\u001b[0m\u001b[1;33m.\u001b[0m\u001b[0mfit\u001b[0m\u001b[1;33m(\u001b[0m\u001b[0mX_trainval\u001b[0m\u001b[1;33m,\u001b[0m \u001b[0my_trainval\u001b[0m\u001b[1;33m,\u001b[0m \u001b[0mepochs\u001b[0m\u001b[1;33m=\u001b[0m\u001b[1;36m15\u001b[0m\u001b[1;33m,\u001b[0m \u001b[0mbatch_size\u001b[0m\u001b[1;33m=\u001b[0m\u001b[1;36m100\u001b[0m\u001b[1;33m,\u001b[0m \u001b[0mverbose\u001b[0m\u001b[1;33m=\u001b[0m\u001b[1;36m1\u001b[0m\u001b[1;33m)\u001b[0m\u001b[1;33m\u001b[0m\u001b[1;33m\u001b[0m\u001b[0m\n\u001b[0m\u001b[0;32m     19\u001b[0m \u001b[1;33m\u001b[0m\u001b[0m\n\u001b[0;32m     20\u001b[0m \u001b[1;31m# kfold = StratifiedKFold(n_splits=10, shuffle=True, random_state=seed)\u001b[0m\u001b[1;33m\u001b[0m\u001b[1;33m\u001b[0m\u001b[1;33m\u001b[0m\u001b[0m\n",
      "\u001b[1;32m~\\anaconda3\\lib\\site-packages\\tensorflow\\python\\keras\\engine\\training.py\u001b[0m in \u001b[0;36m_method_wrapper\u001b[1;34m(self, *args, **kwargs)\u001b[0m\n\u001b[0;32m    106\u001b[0m   \u001b[1;32mdef\u001b[0m \u001b[0m_method_wrapper\u001b[0m\u001b[1;33m(\u001b[0m\u001b[0mself\u001b[0m\u001b[1;33m,\u001b[0m \u001b[1;33m*\u001b[0m\u001b[0margs\u001b[0m\u001b[1;33m,\u001b[0m \u001b[1;33m**\u001b[0m\u001b[0mkwargs\u001b[0m\u001b[1;33m)\u001b[0m\u001b[1;33m:\u001b[0m\u001b[1;33m\u001b[0m\u001b[1;33m\u001b[0m\u001b[0m\n\u001b[0;32m    107\u001b[0m     \u001b[1;32mif\u001b[0m \u001b[1;32mnot\u001b[0m \u001b[0mself\u001b[0m\u001b[1;33m.\u001b[0m\u001b[0m_in_multi_worker_mode\u001b[0m\u001b[1;33m(\u001b[0m\u001b[1;33m)\u001b[0m\u001b[1;33m:\u001b[0m  \u001b[1;31m# pylint: disable=protected-access\u001b[0m\u001b[1;33m\u001b[0m\u001b[1;33m\u001b[0m\u001b[0m\n\u001b[1;32m--> 108\u001b[1;33m       \u001b[1;32mreturn\u001b[0m \u001b[0mmethod\u001b[0m\u001b[1;33m(\u001b[0m\u001b[0mself\u001b[0m\u001b[1;33m,\u001b[0m \u001b[1;33m*\u001b[0m\u001b[0margs\u001b[0m\u001b[1;33m,\u001b[0m \u001b[1;33m**\u001b[0m\u001b[0mkwargs\u001b[0m\u001b[1;33m)\u001b[0m\u001b[1;33m\u001b[0m\u001b[1;33m\u001b[0m\u001b[0m\n\u001b[0m\u001b[0;32m    109\u001b[0m \u001b[1;33m\u001b[0m\u001b[0m\n\u001b[0;32m    110\u001b[0m     \u001b[1;31m# Running inside `run_distribute_coordinator` already.\u001b[0m\u001b[1;33m\u001b[0m\u001b[1;33m\u001b[0m\u001b[1;33m\u001b[0m\u001b[0m\n",
      "\u001b[1;32m~\\anaconda3\\lib\\site-packages\\tensorflow\\python\\keras\\engine\\training.py\u001b[0m in \u001b[0;36mfit\u001b[1;34m(self, x, y, batch_size, epochs, verbose, callbacks, validation_split, validation_data, shuffle, class_weight, sample_weight, initial_epoch, steps_per_epoch, validation_steps, validation_batch_size, validation_freq, max_queue_size, workers, use_multiprocessing)\u001b[0m\n\u001b[0;32m   1096\u001b[0m                 batch_size=batch_size):\n\u001b[0;32m   1097\u001b[0m               \u001b[0mcallbacks\u001b[0m\u001b[1;33m.\u001b[0m\u001b[0mon_train_batch_begin\u001b[0m\u001b[1;33m(\u001b[0m\u001b[0mstep\u001b[0m\u001b[1;33m)\u001b[0m\u001b[1;33m\u001b[0m\u001b[1;33m\u001b[0m\u001b[0m\n\u001b[1;32m-> 1098\u001b[1;33m               \u001b[0mtmp_logs\u001b[0m \u001b[1;33m=\u001b[0m \u001b[0mtrain_function\u001b[0m\u001b[1;33m(\u001b[0m\u001b[0miterator\u001b[0m\u001b[1;33m)\u001b[0m\u001b[1;33m\u001b[0m\u001b[1;33m\u001b[0m\u001b[0m\n\u001b[0m\u001b[0;32m   1099\u001b[0m               \u001b[1;32mif\u001b[0m \u001b[0mdata_handler\u001b[0m\u001b[1;33m.\u001b[0m\u001b[0mshould_sync\u001b[0m\u001b[1;33m:\u001b[0m\u001b[1;33m\u001b[0m\u001b[1;33m\u001b[0m\u001b[0m\n\u001b[0;32m   1100\u001b[0m                 \u001b[0mcontext\u001b[0m\u001b[1;33m.\u001b[0m\u001b[0masync_wait\u001b[0m\u001b[1;33m(\u001b[0m\u001b[1;33m)\u001b[0m\u001b[1;33m\u001b[0m\u001b[1;33m\u001b[0m\u001b[0m\n",
      "\u001b[1;32m~\\anaconda3\\lib\\site-packages\\tensorflow\\python\\eager\\def_function.py\u001b[0m in \u001b[0;36m__call__\u001b[1;34m(self, *args, **kwds)\u001b[0m\n\u001b[0;32m    778\u001b[0m       \u001b[1;32melse\u001b[0m\u001b[1;33m:\u001b[0m\u001b[1;33m\u001b[0m\u001b[1;33m\u001b[0m\u001b[0m\n\u001b[0;32m    779\u001b[0m         \u001b[0mcompiler\u001b[0m \u001b[1;33m=\u001b[0m \u001b[1;34m\"nonXla\"\u001b[0m\u001b[1;33m\u001b[0m\u001b[1;33m\u001b[0m\u001b[0m\n\u001b[1;32m--> 780\u001b[1;33m         \u001b[0mresult\u001b[0m \u001b[1;33m=\u001b[0m \u001b[0mself\u001b[0m\u001b[1;33m.\u001b[0m\u001b[0m_call\u001b[0m\u001b[1;33m(\u001b[0m\u001b[1;33m*\u001b[0m\u001b[0margs\u001b[0m\u001b[1;33m,\u001b[0m \u001b[1;33m**\u001b[0m\u001b[0mkwds\u001b[0m\u001b[1;33m)\u001b[0m\u001b[1;33m\u001b[0m\u001b[1;33m\u001b[0m\u001b[0m\n\u001b[0m\u001b[0;32m    781\u001b[0m \u001b[1;33m\u001b[0m\u001b[0m\n\u001b[0;32m    782\u001b[0m       \u001b[0mnew_tracing_count\u001b[0m \u001b[1;33m=\u001b[0m \u001b[0mself\u001b[0m\u001b[1;33m.\u001b[0m\u001b[0m_get_tracing_count\u001b[0m\u001b[1;33m(\u001b[0m\u001b[1;33m)\u001b[0m\u001b[1;33m\u001b[0m\u001b[1;33m\u001b[0m\u001b[0m\n",
      "\u001b[1;32m~\\anaconda3\\lib\\site-packages\\tensorflow\\python\\eager\\def_function.py\u001b[0m in \u001b[0;36m_call\u001b[1;34m(self, *args, **kwds)\u001b[0m\n\u001b[0;32m    821\u001b[0m       \u001b[1;31m# This is the first call of __call__, so we have to initialize.\u001b[0m\u001b[1;33m\u001b[0m\u001b[1;33m\u001b[0m\u001b[1;33m\u001b[0m\u001b[0m\n\u001b[0;32m    822\u001b[0m       \u001b[0minitializers\u001b[0m \u001b[1;33m=\u001b[0m \u001b[1;33m[\u001b[0m\u001b[1;33m]\u001b[0m\u001b[1;33m\u001b[0m\u001b[1;33m\u001b[0m\u001b[0m\n\u001b[1;32m--> 823\u001b[1;33m       \u001b[0mself\u001b[0m\u001b[1;33m.\u001b[0m\u001b[0m_initialize\u001b[0m\u001b[1;33m(\u001b[0m\u001b[0margs\u001b[0m\u001b[1;33m,\u001b[0m \u001b[0mkwds\u001b[0m\u001b[1;33m,\u001b[0m \u001b[0madd_initializers_to\u001b[0m\u001b[1;33m=\u001b[0m\u001b[0minitializers\u001b[0m\u001b[1;33m)\u001b[0m\u001b[1;33m\u001b[0m\u001b[1;33m\u001b[0m\u001b[0m\n\u001b[0m\u001b[0;32m    824\u001b[0m     \u001b[1;32mfinally\u001b[0m\u001b[1;33m:\u001b[0m\u001b[1;33m\u001b[0m\u001b[1;33m\u001b[0m\u001b[0m\n\u001b[0;32m    825\u001b[0m       \u001b[1;31m# At this point we know that the initialization is complete (or less\u001b[0m\u001b[1;33m\u001b[0m\u001b[1;33m\u001b[0m\u001b[1;33m\u001b[0m\u001b[0m\n",
      "\u001b[1;32m~\\anaconda3\\lib\\site-packages\\tensorflow\\python\\eager\\def_function.py\u001b[0m in \u001b[0;36m_initialize\u001b[1;34m(self, args, kwds, add_initializers_to)\u001b[0m\n\u001b[0;32m    694\u001b[0m     \u001b[0mself\u001b[0m\u001b[1;33m.\u001b[0m\u001b[0m_graph_deleter\u001b[0m \u001b[1;33m=\u001b[0m \u001b[0mFunctionDeleter\u001b[0m\u001b[1;33m(\u001b[0m\u001b[0mself\u001b[0m\u001b[1;33m.\u001b[0m\u001b[0m_lifted_initializer_graph\u001b[0m\u001b[1;33m)\u001b[0m\u001b[1;33m\u001b[0m\u001b[1;33m\u001b[0m\u001b[0m\n\u001b[0;32m    695\u001b[0m     self._concrete_stateful_fn = (\n\u001b[1;32m--> 696\u001b[1;33m         self._stateful_fn._get_concrete_function_internal_garbage_collected(  # pylint: disable=protected-access\n\u001b[0m\u001b[0;32m    697\u001b[0m             *args, **kwds))\n\u001b[0;32m    698\u001b[0m \u001b[1;33m\u001b[0m\u001b[0m\n",
      "\u001b[1;32m~\\anaconda3\\lib\\site-packages\\tensorflow\\python\\eager\\function.py\u001b[0m in \u001b[0;36m_get_concrete_function_internal_garbage_collected\u001b[1;34m(self, *args, **kwargs)\u001b[0m\n\u001b[0;32m   2853\u001b[0m       \u001b[0margs\u001b[0m\u001b[1;33m,\u001b[0m \u001b[0mkwargs\u001b[0m \u001b[1;33m=\u001b[0m \u001b[1;32mNone\u001b[0m\u001b[1;33m,\u001b[0m \u001b[1;32mNone\u001b[0m\u001b[1;33m\u001b[0m\u001b[1;33m\u001b[0m\u001b[0m\n\u001b[0;32m   2854\u001b[0m     \u001b[1;32mwith\u001b[0m \u001b[0mself\u001b[0m\u001b[1;33m.\u001b[0m\u001b[0m_lock\u001b[0m\u001b[1;33m:\u001b[0m\u001b[1;33m\u001b[0m\u001b[1;33m\u001b[0m\u001b[0m\n\u001b[1;32m-> 2855\u001b[1;33m       \u001b[0mgraph_function\u001b[0m\u001b[1;33m,\u001b[0m \u001b[0m_\u001b[0m\u001b[1;33m,\u001b[0m \u001b[0m_\u001b[0m \u001b[1;33m=\u001b[0m \u001b[0mself\u001b[0m\u001b[1;33m.\u001b[0m\u001b[0m_maybe_define_function\u001b[0m\u001b[1;33m(\u001b[0m\u001b[0margs\u001b[0m\u001b[1;33m,\u001b[0m \u001b[0mkwargs\u001b[0m\u001b[1;33m)\u001b[0m\u001b[1;33m\u001b[0m\u001b[1;33m\u001b[0m\u001b[0m\n\u001b[0m\u001b[0;32m   2856\u001b[0m     \u001b[1;32mreturn\u001b[0m \u001b[0mgraph_function\u001b[0m\u001b[1;33m\u001b[0m\u001b[1;33m\u001b[0m\u001b[0m\n\u001b[0;32m   2857\u001b[0m \u001b[1;33m\u001b[0m\u001b[0m\n",
      "\u001b[1;32m~\\anaconda3\\lib\\site-packages\\tensorflow\\python\\eager\\function.py\u001b[0m in \u001b[0;36m_maybe_define_function\u001b[1;34m(self, args, kwargs)\u001b[0m\n\u001b[0;32m   3211\u001b[0m \u001b[1;33m\u001b[0m\u001b[0m\n\u001b[0;32m   3212\u001b[0m       \u001b[0mself\u001b[0m\u001b[1;33m.\u001b[0m\u001b[0m_function_cache\u001b[0m\u001b[1;33m.\u001b[0m\u001b[0mmissed\u001b[0m\u001b[1;33m.\u001b[0m\u001b[0madd\u001b[0m\u001b[1;33m(\u001b[0m\u001b[0mcall_context_key\u001b[0m\u001b[1;33m)\u001b[0m\u001b[1;33m\u001b[0m\u001b[1;33m\u001b[0m\u001b[0m\n\u001b[1;32m-> 3213\u001b[1;33m       \u001b[0mgraph_function\u001b[0m \u001b[1;33m=\u001b[0m \u001b[0mself\u001b[0m\u001b[1;33m.\u001b[0m\u001b[0m_create_graph_function\u001b[0m\u001b[1;33m(\u001b[0m\u001b[0margs\u001b[0m\u001b[1;33m,\u001b[0m \u001b[0mkwargs\u001b[0m\u001b[1;33m)\u001b[0m\u001b[1;33m\u001b[0m\u001b[1;33m\u001b[0m\u001b[0m\n\u001b[0m\u001b[0;32m   3214\u001b[0m       \u001b[0mself\u001b[0m\u001b[1;33m.\u001b[0m\u001b[0m_function_cache\u001b[0m\u001b[1;33m.\u001b[0m\u001b[0mprimary\u001b[0m\u001b[1;33m[\u001b[0m\u001b[0mcache_key\u001b[0m\u001b[1;33m]\u001b[0m \u001b[1;33m=\u001b[0m \u001b[0mgraph_function\u001b[0m\u001b[1;33m\u001b[0m\u001b[1;33m\u001b[0m\u001b[0m\n\u001b[0;32m   3215\u001b[0m       \u001b[1;32mreturn\u001b[0m \u001b[0mgraph_function\u001b[0m\u001b[1;33m,\u001b[0m \u001b[0margs\u001b[0m\u001b[1;33m,\u001b[0m \u001b[0mkwargs\u001b[0m\u001b[1;33m\u001b[0m\u001b[1;33m\u001b[0m\u001b[0m\n",
      "\u001b[1;32m~\\anaconda3\\lib\\site-packages\\tensorflow\\python\\eager\\function.py\u001b[0m in \u001b[0;36m_create_graph_function\u001b[1;34m(self, args, kwargs, override_flat_arg_shapes)\u001b[0m\n\u001b[0;32m   3063\u001b[0m     \u001b[0marg_names\u001b[0m \u001b[1;33m=\u001b[0m \u001b[0mbase_arg_names\u001b[0m \u001b[1;33m+\u001b[0m \u001b[0mmissing_arg_names\u001b[0m\u001b[1;33m\u001b[0m\u001b[1;33m\u001b[0m\u001b[0m\n\u001b[0;32m   3064\u001b[0m     graph_function = ConcreteFunction(\n\u001b[1;32m-> 3065\u001b[1;33m         func_graph_module.func_graph_from_py_func(\n\u001b[0m\u001b[0;32m   3066\u001b[0m             \u001b[0mself\u001b[0m\u001b[1;33m.\u001b[0m\u001b[0m_name\u001b[0m\u001b[1;33m,\u001b[0m\u001b[1;33m\u001b[0m\u001b[1;33m\u001b[0m\u001b[0m\n\u001b[0;32m   3067\u001b[0m             \u001b[0mself\u001b[0m\u001b[1;33m.\u001b[0m\u001b[0m_python_function\u001b[0m\u001b[1;33m,\u001b[0m\u001b[1;33m\u001b[0m\u001b[1;33m\u001b[0m\u001b[0m\n",
      "\u001b[1;32m~\\anaconda3\\lib\\site-packages\\tensorflow\\python\\framework\\func_graph.py\u001b[0m in \u001b[0;36mfunc_graph_from_py_func\u001b[1;34m(name, python_func, args, kwargs, signature, func_graph, autograph, autograph_options, add_control_dependencies, arg_names, op_return_value, collections, capture_by_value, override_flat_arg_shapes)\u001b[0m\n\u001b[0;32m    984\u001b[0m         \u001b[0m_\u001b[0m\u001b[1;33m,\u001b[0m \u001b[0moriginal_func\u001b[0m \u001b[1;33m=\u001b[0m \u001b[0mtf_decorator\u001b[0m\u001b[1;33m.\u001b[0m\u001b[0munwrap\u001b[0m\u001b[1;33m(\u001b[0m\u001b[0mpython_func\u001b[0m\u001b[1;33m)\u001b[0m\u001b[1;33m\u001b[0m\u001b[1;33m\u001b[0m\u001b[0m\n\u001b[0;32m    985\u001b[0m \u001b[1;33m\u001b[0m\u001b[0m\n\u001b[1;32m--> 986\u001b[1;33m       \u001b[0mfunc_outputs\u001b[0m \u001b[1;33m=\u001b[0m \u001b[0mpython_func\u001b[0m\u001b[1;33m(\u001b[0m\u001b[1;33m*\u001b[0m\u001b[0mfunc_args\u001b[0m\u001b[1;33m,\u001b[0m \u001b[1;33m**\u001b[0m\u001b[0mfunc_kwargs\u001b[0m\u001b[1;33m)\u001b[0m\u001b[1;33m\u001b[0m\u001b[1;33m\u001b[0m\u001b[0m\n\u001b[0m\u001b[0;32m    987\u001b[0m \u001b[1;33m\u001b[0m\u001b[0m\n\u001b[0;32m    988\u001b[0m       \u001b[1;31m# invariant: `func_outputs` contains only Tensors, CompositeTensors,\u001b[0m\u001b[1;33m\u001b[0m\u001b[1;33m\u001b[0m\u001b[1;33m\u001b[0m\u001b[0m\n",
      "\u001b[1;32m~\\anaconda3\\lib\\site-packages\\tensorflow\\python\\eager\\def_function.py\u001b[0m in \u001b[0;36mwrapped_fn\u001b[1;34m(*args, **kwds)\u001b[0m\n\u001b[0;32m    598\u001b[0m         \u001b[1;31m# __wrapped__ allows AutoGraph to swap in a converted function. We give\u001b[0m\u001b[1;33m\u001b[0m\u001b[1;33m\u001b[0m\u001b[1;33m\u001b[0m\u001b[0m\n\u001b[0;32m    599\u001b[0m         \u001b[1;31m# the function a weak reference to itself to avoid a reference cycle.\u001b[0m\u001b[1;33m\u001b[0m\u001b[1;33m\u001b[0m\u001b[1;33m\u001b[0m\u001b[0m\n\u001b[1;32m--> 600\u001b[1;33m         \u001b[1;32mreturn\u001b[0m \u001b[0mweak_wrapped_fn\u001b[0m\u001b[1;33m(\u001b[0m\u001b[1;33m)\u001b[0m\u001b[1;33m.\u001b[0m\u001b[0m__wrapped__\u001b[0m\u001b[1;33m(\u001b[0m\u001b[1;33m*\u001b[0m\u001b[0margs\u001b[0m\u001b[1;33m,\u001b[0m \u001b[1;33m**\u001b[0m\u001b[0mkwds\u001b[0m\u001b[1;33m)\u001b[0m\u001b[1;33m\u001b[0m\u001b[1;33m\u001b[0m\u001b[0m\n\u001b[0m\u001b[0;32m    601\u001b[0m     \u001b[0mweak_wrapped_fn\u001b[0m \u001b[1;33m=\u001b[0m \u001b[0mweakref\u001b[0m\u001b[1;33m.\u001b[0m\u001b[0mref\u001b[0m\u001b[1;33m(\u001b[0m\u001b[0mwrapped_fn\u001b[0m\u001b[1;33m)\u001b[0m\u001b[1;33m\u001b[0m\u001b[1;33m\u001b[0m\u001b[0m\n\u001b[0;32m    602\u001b[0m \u001b[1;33m\u001b[0m\u001b[0m\n",
      "\u001b[1;32m~\\anaconda3\\lib\\site-packages\\tensorflow\\python\\framework\\func_graph.py\u001b[0m in \u001b[0;36mwrapper\u001b[1;34m(*args, **kwargs)\u001b[0m\n\u001b[0;32m    971\u001b[0m           \u001b[1;32mexcept\u001b[0m \u001b[0mException\u001b[0m \u001b[1;32mas\u001b[0m \u001b[0me\u001b[0m\u001b[1;33m:\u001b[0m  \u001b[1;31m# pylint:disable=broad-except\u001b[0m\u001b[1;33m\u001b[0m\u001b[1;33m\u001b[0m\u001b[0m\n\u001b[0;32m    972\u001b[0m             \u001b[1;32mif\u001b[0m \u001b[0mhasattr\u001b[0m\u001b[1;33m(\u001b[0m\u001b[0me\u001b[0m\u001b[1;33m,\u001b[0m \u001b[1;34m\"ag_error_metadata\"\u001b[0m\u001b[1;33m)\u001b[0m\u001b[1;33m:\u001b[0m\u001b[1;33m\u001b[0m\u001b[1;33m\u001b[0m\u001b[0m\n\u001b[1;32m--> 973\u001b[1;33m               \u001b[1;32mraise\u001b[0m \u001b[0me\u001b[0m\u001b[1;33m.\u001b[0m\u001b[0mag_error_metadata\u001b[0m\u001b[1;33m.\u001b[0m\u001b[0mto_exception\u001b[0m\u001b[1;33m(\u001b[0m\u001b[0me\u001b[0m\u001b[1;33m)\u001b[0m\u001b[1;33m\u001b[0m\u001b[1;33m\u001b[0m\u001b[0m\n\u001b[0m\u001b[0;32m    974\u001b[0m             \u001b[1;32melse\u001b[0m\u001b[1;33m:\u001b[0m\u001b[1;33m\u001b[0m\u001b[1;33m\u001b[0m\u001b[0m\n\u001b[0;32m    975\u001b[0m               \u001b[1;32mraise\u001b[0m\u001b[1;33m\u001b[0m\u001b[1;33m\u001b[0m\u001b[0m\n",
      "\u001b[1;31mValueError\u001b[0m: in user code:\n\n    C:\\Users\\spiri\\anaconda3\\lib\\site-packages\\tensorflow\\python\\keras\\engine\\training.py:806 train_function  *\n        return step_function(self, iterator)\n    C:\\Users\\spiri\\anaconda3\\lib\\site-packages\\tensorflow\\python\\keras\\engine\\training.py:796 step_function  **\n        outputs = model.distribute_strategy.run(run_step, args=(data,))\n    C:\\Users\\spiri\\anaconda3\\lib\\site-packages\\tensorflow\\python\\distribute\\distribute_lib.py:1211 run\n        return self._extended.call_for_each_replica(fn, args=args, kwargs=kwargs)\n    C:\\Users\\spiri\\anaconda3\\lib\\site-packages\\tensorflow\\python\\distribute\\distribute_lib.py:2585 call_for_each_replica\n        return self._call_for_each_replica(fn, args, kwargs)\n    C:\\Users\\spiri\\anaconda3\\lib\\site-packages\\tensorflow\\python\\distribute\\distribute_lib.py:2945 _call_for_each_replica\n        return fn(*args, **kwargs)\n    C:\\Users\\spiri\\anaconda3\\lib\\site-packages\\tensorflow\\python\\keras\\engine\\training.py:789 run_step  **\n        outputs = model.train_step(data)\n    C:\\Users\\spiri\\anaconda3\\lib\\site-packages\\tensorflow\\python\\keras\\engine\\training.py:748 train_step\n        loss = self.compiled_loss(\n    C:\\Users\\spiri\\anaconda3\\lib\\site-packages\\tensorflow\\python\\keras\\engine\\compile_utils.py:204 __call__\n        loss_value = loss_obj(y_t, y_p, sample_weight=sw)\n    C:\\Users\\spiri\\anaconda3\\lib\\site-packages\\tensorflow\\python\\keras\\losses.py:149 __call__\n        losses = ag_call(y_true, y_pred)\n    C:\\Users\\spiri\\anaconda3\\lib\\site-packages\\tensorflow\\python\\keras\\losses.py:253 call  **\n        return ag_fn(y_true, y_pred, **self._fn_kwargs)\n    C:\\Users\\spiri\\anaconda3\\lib\\site-packages\\tensorflow\\python\\util\\dispatch.py:201 wrapper\n        return target(*args, **kwargs)\n    C:\\Users\\spiri\\anaconda3\\lib\\site-packages\\tensorflow\\python\\keras\\losses.py:1535 categorical_crossentropy\n        return K.categorical_crossentropy(y_true, y_pred, from_logits=from_logits)\n    C:\\Users\\spiri\\anaconda3\\lib\\site-packages\\tensorflow\\python\\util\\dispatch.py:201 wrapper\n        return target(*args, **kwargs)\n    C:\\Users\\spiri\\anaconda3\\lib\\site-packages\\tensorflow\\python\\keras\\backend.py:4687 categorical_crossentropy\n        target.shape.assert_is_compatible_with(output.shape)\n    C:\\Users\\spiri\\anaconda3\\lib\\site-packages\\tensorflow\\python\\framework\\tensor_shape.py:1134 assert_is_compatible_with\n        raise ValueError(\"Shapes %s and %s are incompatible\" % (self, other))\n\n    ValueError: Shapes (None, 2, 2, 2) and (None, 2) are incompatible\n"
     ]
    }
   ],
   "source": [
    "# from sklearn.model_selection import StratifiedKFold\n",
    "# import numpy\n",
    "# seed = 7\n",
    "# numpy.random.seed(seed)\n",
    "\n",
    "#Now we define and train the neural network:\n",
    "\n",
    "model = Sequential()\n",
    "\n",
    "model.add(Dense(units=1000, activation='relu', input_dim=10000)) # Each new line is a new layer! The first layer is called the input-layer\n",
    "model.add(Dense(units=50, activation='tanh'))\n",
    "model.add(Dense(units=2, activation='softmax')) \n",
    "\n",
    "sdg = optimizers.SGD(learning_rate=0.1)\n",
    "model.compile(loss='categorical_crossentropy', optimizer=sdg, metrics=['accuracy'])\n",
    "\n",
    "\n",
    "history = model.fit(X_trainval, y_trainval, epochs=15, batch_size=100, verbose=1)\n",
    "\n",
    "# kfold = StratifiedKFold(n_splits=10, shuffle=True, random_state=seed)\n",
    "# cvscores = []\n",
    "\n",
    "# for train, val in kfold.split(X_trainval, y_trainval):\n",
    "#     model = Sequential()\n",
    "#     model.add(Dense(units=64, activation='relu', input_dim=10000)) # Each new line is a new layer! The first layer is called the input-layer\n",
    "#     model.add(Dense(units=10, activation='tanh'))\n",
    "#     model.add(Dense(units=2, activation='softmax')) \n",
    "\n",
    "#     sdg = optimizers.SGD(learning_rate=0.1)\n",
    "#     model.compile(loss='categorical_crossentropy', optimizer='adam', metrics=['accuracy'])\n",
    "#     history = model.fit(X_trainval[train], y_trainval[train], epochs=150, batch_size=10, verbose=0)\n",
    "#     scores = model.evaluate(X_trainval[val], y_trainval[val], verbose=0)\n",
    "#     print(\"%s: %.2f%%\" % (model.metrics_names[1], scores[1]*100))\n",
    "#     cvscores.append(scores[1] * 100)\n",
    "\n",
    "# print(\"%.2f%% (+/- %.2f%%)\" % (numpy.mean(cvscores), numpy.std(cvscores)))\n"
   ]
  },
  {
   "cell_type": "code",
   "execution_count": null,
   "metadata": {},
   "outputs": [
    {
     "name": "stdout",
     "output_type": "stream",
     "text": [
      "586/586 [==============================] - 8s 14ms/step - loss: 0.1563 - accuracy: 0.9469\n",
      "Accuracy on training data: [0.156293585896492, 0.9468799829483032]\n"
     ]
    }
   ],
   "source": [
    "print(\"Accuracy on training data: {}\".format(model.evaluate(X_trainval, y_trainval)))\n",
    "\n"
   ]
  },
  {
   "cell_type": "code",
   "execution_count": null,
   "metadata": {},
   "outputs": [
    {
     "ename": "ValueError",
     "evalue": "Data cardinality is ambiguous:\n  x sizes: 6250\n  y sizes: 10000\nPlease provide data which shares the same first dimension.",
     "output_type": "error",
     "traceback": [
      "\u001b[1;31m---------------------------------------------------------------------------\u001b[0m",
      "\u001b[1;31mValueError\u001b[0m                                Traceback (most recent call last)",
      "\u001b[1;32m<ipython-input-84-cd2f7427e5a2>\u001b[0m in \u001b[0;36m<module>\u001b[1;34m\u001b[0m\n\u001b[1;32m----> 1\u001b[1;33m \u001b[0mprint\u001b[0m\u001b[1;33m(\u001b[0m\u001b[1;34m\"Accuracy on training data: {}\"\u001b[0m\u001b[1;33m.\u001b[0m\u001b[0mformat\u001b[0m\u001b[1;33m(\u001b[0m\u001b[0mmodel\u001b[0m\u001b[1;33m.\u001b[0m\u001b[0mevaluate\u001b[0m\u001b[1;33m(\u001b[0m\u001b[0mX_test\u001b[0m\u001b[1;33m,\u001b[0m \u001b[0my_test\u001b[0m\u001b[1;33m)\u001b[0m\u001b[1;33m)\u001b[0m\u001b[1;33m)\u001b[0m\u001b[1;33m\u001b[0m\u001b[1;33m\u001b[0m\u001b[0m\n\u001b[0m",
      "\u001b[1;32m~\\anaconda3\\lib\\site-packages\\tensorflow\\python\\keras\\engine\\training.py\u001b[0m in \u001b[0;36m_method_wrapper\u001b[1;34m(self, *args, **kwargs)\u001b[0m\n\u001b[0;32m    106\u001b[0m   \u001b[1;32mdef\u001b[0m \u001b[0m_method_wrapper\u001b[0m\u001b[1;33m(\u001b[0m\u001b[0mself\u001b[0m\u001b[1;33m,\u001b[0m \u001b[1;33m*\u001b[0m\u001b[0margs\u001b[0m\u001b[1;33m,\u001b[0m \u001b[1;33m**\u001b[0m\u001b[0mkwargs\u001b[0m\u001b[1;33m)\u001b[0m\u001b[1;33m:\u001b[0m\u001b[1;33m\u001b[0m\u001b[1;33m\u001b[0m\u001b[0m\n\u001b[0;32m    107\u001b[0m     \u001b[1;32mif\u001b[0m \u001b[1;32mnot\u001b[0m \u001b[0mself\u001b[0m\u001b[1;33m.\u001b[0m\u001b[0m_in_multi_worker_mode\u001b[0m\u001b[1;33m(\u001b[0m\u001b[1;33m)\u001b[0m\u001b[1;33m:\u001b[0m  \u001b[1;31m# pylint: disable=protected-access\u001b[0m\u001b[1;33m\u001b[0m\u001b[1;33m\u001b[0m\u001b[0m\n\u001b[1;32m--> 108\u001b[1;33m       \u001b[1;32mreturn\u001b[0m \u001b[0mmethod\u001b[0m\u001b[1;33m(\u001b[0m\u001b[0mself\u001b[0m\u001b[1;33m,\u001b[0m \u001b[1;33m*\u001b[0m\u001b[0margs\u001b[0m\u001b[1;33m,\u001b[0m \u001b[1;33m**\u001b[0m\u001b[0mkwargs\u001b[0m\u001b[1;33m)\u001b[0m\u001b[1;33m\u001b[0m\u001b[1;33m\u001b[0m\u001b[0m\n\u001b[0m\u001b[0;32m    109\u001b[0m \u001b[1;33m\u001b[0m\u001b[0m\n\u001b[0;32m    110\u001b[0m     \u001b[1;31m# Running inside `run_distribute_coordinator` already.\u001b[0m\u001b[1;33m\u001b[0m\u001b[1;33m\u001b[0m\u001b[1;33m\u001b[0m\u001b[0m\n",
      "\u001b[1;32m~\\anaconda3\\lib\\site-packages\\tensorflow\\python\\keras\\engine\\training.py\u001b[0m in \u001b[0;36mevaluate\u001b[1;34m(self, x, y, batch_size, verbose, sample_weight, steps, callbacks, max_queue_size, workers, use_multiprocessing, return_dict)\u001b[0m\n\u001b[0;32m   1342\u001b[0m       \u001b[1;32melse\u001b[0m\u001b[1;33m:\u001b[0m\u001b[1;33m\u001b[0m\u001b[1;33m\u001b[0m\u001b[0m\n\u001b[0;32m   1343\u001b[0m         \u001b[1;31m# Creates a `tf.data.Dataset` and handles batch and epoch iteration.\u001b[0m\u001b[1;33m\u001b[0m\u001b[1;33m\u001b[0m\u001b[1;33m\u001b[0m\u001b[0m\n\u001b[1;32m-> 1344\u001b[1;33m         data_handler = data_adapter.DataHandler(\n\u001b[0m\u001b[0;32m   1345\u001b[0m             \u001b[0mx\u001b[0m\u001b[1;33m=\u001b[0m\u001b[0mx\u001b[0m\u001b[1;33m,\u001b[0m\u001b[1;33m\u001b[0m\u001b[1;33m\u001b[0m\u001b[0m\n\u001b[0;32m   1346\u001b[0m             \u001b[0my\u001b[0m\u001b[1;33m=\u001b[0m\u001b[0my\u001b[0m\u001b[1;33m,\u001b[0m\u001b[1;33m\u001b[0m\u001b[1;33m\u001b[0m\u001b[0m\n",
      "\u001b[1;32m~\\anaconda3\\lib\\site-packages\\tensorflow\\python\\keras\\engine\\data_adapter.py\u001b[0m in \u001b[0;36m__init__\u001b[1;34m(self, x, y, sample_weight, batch_size, steps_per_epoch, initial_epoch, epochs, shuffle, class_weight, max_queue_size, workers, use_multiprocessing, model, steps_per_execution)\u001b[0m\n\u001b[0;32m   1103\u001b[0m \u001b[1;33m\u001b[0m\u001b[0m\n\u001b[0;32m   1104\u001b[0m     \u001b[0madapter_cls\u001b[0m \u001b[1;33m=\u001b[0m \u001b[0mselect_data_adapter\u001b[0m\u001b[1;33m(\u001b[0m\u001b[0mx\u001b[0m\u001b[1;33m,\u001b[0m \u001b[0my\u001b[0m\u001b[1;33m)\u001b[0m\u001b[1;33m\u001b[0m\u001b[1;33m\u001b[0m\u001b[0m\n\u001b[1;32m-> 1105\u001b[1;33m     self._adapter = adapter_cls(\n\u001b[0m\u001b[0;32m   1106\u001b[0m         \u001b[0mx\u001b[0m\u001b[1;33m,\u001b[0m\u001b[1;33m\u001b[0m\u001b[1;33m\u001b[0m\u001b[0m\n\u001b[0;32m   1107\u001b[0m         \u001b[0my\u001b[0m\u001b[1;33m,\u001b[0m\u001b[1;33m\u001b[0m\u001b[1;33m\u001b[0m\u001b[0m\n",
      "\u001b[1;32m~\\anaconda3\\lib\\site-packages\\tensorflow\\python\\keras\\engine\\data_adapter.py\u001b[0m in \u001b[0;36m__init__\u001b[1;34m(self, x, y, sample_weights, sample_weight_modes, batch_size, epochs, steps, shuffle, **kwargs)\u001b[0m\n\u001b[0;32m    280\u001b[0m             label, \", \".join(str(i.shape[0]) for i in nest.flatten(data)))\n\u001b[0;32m    281\u001b[0m       \u001b[0mmsg\u001b[0m \u001b[1;33m+=\u001b[0m \u001b[1;34m\"Please provide data which shares the same first dimension.\"\u001b[0m\u001b[1;33m\u001b[0m\u001b[1;33m\u001b[0m\u001b[0m\n\u001b[1;32m--> 282\u001b[1;33m       \u001b[1;32mraise\u001b[0m \u001b[0mValueError\u001b[0m\u001b[1;33m(\u001b[0m\u001b[0mmsg\u001b[0m\u001b[1;33m)\u001b[0m\u001b[1;33m\u001b[0m\u001b[1;33m\u001b[0m\u001b[0m\n\u001b[0m\u001b[0;32m    283\u001b[0m     \u001b[0mnum_samples\u001b[0m \u001b[1;33m=\u001b[0m \u001b[0mnum_samples\u001b[0m\u001b[1;33m.\u001b[0m\u001b[0mpop\u001b[0m\u001b[1;33m(\u001b[0m\u001b[1;33m)\u001b[0m\u001b[1;33m\u001b[0m\u001b[1;33m\u001b[0m\u001b[0m\n\u001b[0;32m    284\u001b[0m \u001b[1;33m\u001b[0m\u001b[0m\n",
      "\u001b[1;31mValueError\u001b[0m: Data cardinality is ambiguous:\n  x sizes: 6250\n  y sizes: 10000\nPlease provide data which shares the same first dimension."
     ]
    }
   ],
   "source": [
    "print(\"Accuracy on training data: {}\".format(model.evaluate(X_test, y_test)))"
   ]
  },
  {
   "cell_type": "markdown",
   "metadata": {},
   "source": [
    "**a)** Split the reviews and labels in test, train and validation sets. The train and validation sets will be used to train your model and tune hyperparameters, the test set will be saved for testing.\n"
   ]
  },
  {
   "cell_type": "markdown",
   "metadata": {},
   "source": [
    "**b)** Use the `CountVectorizer` from `sklearn.feature_extraction.text` to create a Bag-of-Words representation of the reviews. (See an example of how to do this in chapter 7 of \"Muller and Guido\"). Only use the 10,000 most frequent words (use the `max_features`-parameter of `CountVectorizer`)."
   ]
  },
  {
   "cell_type": "markdown",
   "metadata": {},
   "source": [
    "**c)** Explore the representation of the reviews. How is a single word represented? How about a whole review?"
   ]
  },
  {
   "cell_type": "markdown",
   "metadata": {
    "collapsed": true
   },
   "source": [
    "**d)** Train a neural network with a single hidden layer on the dataset, tuning the relevant hyperparameters to optimize accuracy. "
   ]
  },
  {
   "cell_type": "markdown",
   "metadata": {
    "collapsed": true
   },
   "source": [
    "**e)** Test your sentiment-classifier on the test set."
   ]
  },
  {
   "cell_type": "markdown",
   "metadata": {
    "collapsed": true
   },
   "source": [
    "**h)** Use the classifier to classify a few sentences you write yourselves. "
   ]
  },
  {
   "cell_type": "markdown",
   "metadata": {},
   "source": [
    "# Exercise 2: MNIST"
   ]
  },
  {
   "cell_type": "markdown",
   "metadata": {},
   "source": [
    "In this exercise, we consider the famous MNIST dataset, which is loaded below. The dataset consists of 70000 handwritten digits 0-9 at a resolution of 28x28 pixels. In the cell below, the dataset is loaded and split into 60000 traning and 10000 testing images. "
   ]
  },
  {
   "cell_type": "code",
   "execution_count": null,
   "metadata": {},
   "outputs": [
    {
     "name": "stdout",
     "output_type": "stream",
     "text": [
      "Downloading data from https://storage.googleapis.com/tensorflow/tf-keras-datasets/mnist.npz\n",
      "11493376/11490434 [==============================] - 1s 0us/step\n"
     ]
    }
   ],
   "source": [
    "from keras.datasets import mnist\n",
    "\n",
    "(x_train, y_train), (x_test, y_test) = mnist.load_data()"
   ]
  },
  {
   "cell_type": "markdown",
   "metadata": {},
   "source": [
    "The code-snippet below can be used to see the images corresponding to individual digits:"
   ]
  },
  {
   "cell_type": "code",
   "execution_count": null,
   "metadata": {},
   "outputs": [
    {
     "data": {
      "image/png": "[encoded data removed]",
      "text/plain": [
       "<Figure size 432x288 with 1 Axes>"
      ]
     },
     "metadata": {
      "needs_background": "light"
     },
     "output_type": "display_data"
    }
   ],
   "source": [
    "import matplotlib.pyplot as plt\n",
    "index = 1\n",
    "\n",
    "plt.imshow(x_train[index],cmap=plt.cm.gray_r)\n",
    "plt.show()"
   ]
  },
  {
   "cell_type": "markdown",
   "metadata": {},
   "source": [
    "To make things a little bit simpler (and faster!), we can extract from the data binary subsets, that only contain the data for two selected digits:"
   ]
  },
  {
   "cell_type": "code",
   "execution_count": null,
   "metadata": {},
   "outputs": [
    {
     "name": "stdout",
     "output_type": "stream",
     "text": [
      "The first training datapoint now is: \n",
      "\n"
     ]
    },
    {
     "data": {
      "image/png": "[encoded data removed]",
      "text/plain": [
       "<Figure size 432x288 with 1 Axes>"
      ]
     },
     "metadata": {
      "needs_background": "light"
     },
     "output_type": "display_data"
    },
    {
     "name": "stdout",
     "output_type": "stream",
     "text": [
      "3\n"
     ]
    }
   ],
   "source": [
    "import numpy as np\n",
    "\n",
    "digit0=3\n",
    "digit1=7\n",
    "x_bin_train=x_train[np.logical_or(y_train==digit0,y_train==digit1)]\n",
    "y_bin_train=y_train[np.logical_or(y_train==digit0,y_train==digit1)]\n",
    "\n",
    "x_bin_test=x_test[np.logical_or(y_test==digit0,y_test==digit1)]\n",
    "y_bin_test=y_test[np.logical_or(y_test==digit0,y_test==digit1)]\n",
    "\n",
    "print(\"The first training datapoint now is: \\n\")\n",
    "plt.imshow(x_bin_train[0],cmap=plt.cm.gray_r)\n",
    "plt.show()\n",
    "print(y_bin_train[0])"
   ]
  },
  {
   "cell_type": "markdown",
   "metadata": {},
   "source": [
    "### Training a neural network\n",
    "\n",
    "**a)** Learn different neural network models by varying the network architecture (i.e. number of layers and neurons in each layer) and the type of network (i.e. fully connected vs. convolutional). For each configuration, determine the time it takes to learn the model, and the accuracy on the test data. *Caution*: for some configurations, learning here can take a little while (several minutes).\n",
    "\n",
    "**b)** Inspect some misclassified cases. Do they correspond to hard to recognize digits (also for the human reader)? (Hint: you can e.g. use the numpy where() function to extract the indices of the test cases that were misclassified: `misclass = np.where(test != predictions)` )\n",
    "\n",
    "**c)** How do results (time and accuracy) change, depending on whether you consider an 'easy' binary task (e.g., distinguishing '1' and '0'), or a more difficult one (e.g., '4' vs. '5'). \n",
    "\n",
    "**d)** Identify one or several good configurations that give a reasonable combination of accuracy and runtime. Use these configurations to perform a full classification of the 10 classes in the original dataset (after split into train/test). Using `sklearn.metrics.confusion_matrix` you can get an overview of all combinations of true and predicted labels (see p. 298-299 in Müller & Guido). What does this tell you about which digits are easy, and which ones are difficult to recognize, and which ones are most easily confused?"
   ]
  },
  {
   "cell_type": "markdown",
   "metadata": {
    "collapsed": true
   },
   "source": [
    "### Cheating"
   ]
  },
  {
   "cell_type": "markdown",
   "metadata": {},
   "source": [
    "We next investigate the capability of the neural networks to find a good model, knowing that a very accurate model exists. For this, we add some 'cheat info' to our data: we replace the first pixel value in the data matrix by a digit that simply contains a 0/1 encoding of the actual class label: "
   ]
  },
  {
   "cell_type": "code",
   "execution_count": null,
   "metadata": {},
   "outputs": [],
   "source": [
    "#adding cheating information to the training data:\n",
    "cheatcol_train=np.array(y_bin_train) #making a copy of the original target array\n",
    "cheatcol_train[cheatcol_train==digit0]=0  #re-coding the two classes as 0s and 1s\n",
    "cheatcol_train[cheatcol_train==digit1]=1\n",
    "x_bin_cheat_train = np.copy(x_bin_train)\n",
    "x_bin_cheat_train[:,0,0] = cheatcol_train.reshape(len(cheatcol_train))\n",
    "\n",
    "#adding cheating information to the testing data:\n",
    "cheatcol_test=np.array(y_bin_test) #making a copy of the original target array\n",
    "cheatcol_test[cheatcol_test==digit0]=0  #re-coding the two classes as 0s and 1s\n",
    "cheatcol_test[cheatcol_test==digit1]=1\n",
    "x_bin_cheat_test = np.copy(x_bin_test)\n",
    "x_bin_cheat_test[:,0,0] = cheatcol_test.reshape(len(cheatcol_test))"
   ]
  },
  {
   "cell_type": "markdown",
   "metadata": {},
   "source": [
    "The neural networks should, in principle, be able to construct a 100% accurate classifier for this data: we only have to 'learn' that only the first pixel in the data matters. \n",
    "\n",
    "**e)** Describe, briefly, how the weights of a (fully connected) network (with arbitrary number of layers) would have to be set, so that the resulting model is 100% accurate on this cheating data. This part of the exercise does not involve any Python code. Just give your answer in a short text.\n",
    "\n",
    "**f)** Investigate how the accuracy improves in practice on this new dataset. Do you achieve 100% accuracy on the test set? If not, try to change the encoding in the cheat column: instead of representing digit1 with a 1, use a larger number, e.g. 250. Does that help? Why?"
   ]
  },
  {
   "cell_type": "markdown",
   "metadata": {},
   "source": [
    "# Exercise 3 - Data preparation, exploration and feature engineering"
   ]
  },
  {
   "cell_type": "markdown",
   "metadata": {},
   "source": [
    "In this exercise, you are going to investigate student dropout based on the dataset \"churn2000.cvs\". This is a real dataset, and there is no single \"correct\" way to use it (however, there are several wrong ones!). Your exercise is to explore one or more possible usecases, and document the one(s) you find the most fruitful/interesting.  Your work should probably include the steps below:\n",
    "\n",
    "- An investigation of the data, using e.g. FACETs, Pandas, and/or whatever other tools you prefer. Can you find any interesting correlations? Are there problematic features or rows in the dataset?\n",
    "- Handle missing data and possible outliers (in each case, consider what you want to do: Remove row? Remove column? Insert custom value?).\n",
    "- Normalize/bin/create dummy variables where relevant. \n",
    "- Determine what you would like to predict, i.e. choose your target variable. Try formulating a specific usecase for your experiment (e.g. \"Given a students perfomance in high school and first semester, what is the probability that he/she churns in the 2. semester?\")\n",
    "- Train a neural network and at least one other algorithm on the data. Find a good set of hyperparameters for each model. Do you think a neural network is suitable for this kind of problem? Why/why not?\n",
    "- What features seem to be important for predicting whether a student is likely to drop out?\n",
    "\n",
    "Warning: Make sure you carefully consider what information is available at the time where a prediction is to be made - for example, it doesn't make any sense to try to predict if a student churns in semester 1, if you include a feature which tells that this student churned in semester 2!  So depending on your specific usecase, you should probably remove some columns and/or rows before you train your model."
   ]
  },
  {
   "cell_type": "markdown",
   "metadata": {},
   "source": [
    "# Exercise 4: Reinforcement Learning"
   ]
  },
  {
   "cell_type": "markdown",
   "metadata": {},
   "source": [
    "You can carry out this part of the project either in a jupyter notebook or in a google colab notebook - the latter option allows you to easily use the GPU, rather than the CPU, for training, which is MUCH faster! See these videos for how to get started with google colab notebooks: https://www.youtube.com/watch?v=inN8seMm7UI (for getting started) and https://www.youtube.com/watch?v=PitcORQSjNM (for using the GPU). At the end, you can simply merge the generated pdfs when you submit your project. "
   ]
  },
  {
   "cell_type": "markdown",
   "metadata": {},
   "source": [
    "\n",
    "In this final exercise, we are going to explore the concept of reinforcement learning by training a neural network to play a game of your own choice.\n",
    "\n",
    "We will use the environments provided in OpenAI Gym https://gym.openai.com/ and also documented here: https://github.com/openai/gym/wiki\n",
    "\n",
    "Instead of implementing Q-learning yourselves, you are welcome to simply run a pre-coded example.\n",
    "You can look here for inspiration: https://github.com/ageron/handson-ml2/blob/master/18_reinforcement_learning.ipynb \n",
    "\n",
    "In the exercise, toy around with the parameters, and see if you can optimize learning. You should also explain the basics of what is going on. Include some pictures of the animation, and report your score."
   ]
  },
  {
   "cell_type": "markdown",
   "metadata": {},
   "source": [
    "a) Give a short description of the rules and incentives in the game."
   ]
  },
  {
   "cell_type": "markdown",
   "metadata": {},
   "source": [
    "b) Run the code (either directly in the notebook or on Colab), and show how the training progresses, for example by taking screenshots and including them as pictures in the notebook."
   ]
  },
  {
   "cell_type": "markdown",
   "metadata": {},
   "source": [
    "c) Give a short description of what is going on in the code. This should include a description of the neural network, the inputs and outputs to the neural network, and the process of Q-learning."
   ]
  },
  {
   "cell_type": "markdown",
   "metadata": {},
   "source": [
    "d) Report the highest score your network was able to obtain. "
   ]
  },
  {
   "cell_type": "code",
   "execution_count": null,
   "metadata": {},
   "outputs": [],
   "source": []
  }
 ],
 "metadata": {
  "kernelspec": {
   "display_name": "Python 3",
   "language": "python",
   "name": "python3"
  },
  "language_info": {
   "codemirror_mode": {
    "name": "ipython",
    "version": 3
   },
   "file_extension": ".py",
   "mimetype": "text/x-python",
   "name": "python",
   "nbconvert_exporter": "python",
   "pygments_lexer": "ipython3",
   "version": "3.8.8"
  }
 },
 "nbformat": 4,
 "nbformat_minor": 2
}
