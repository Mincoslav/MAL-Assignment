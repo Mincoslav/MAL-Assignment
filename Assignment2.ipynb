{
 "cells": [
  {
   "cell_type": "markdown",
   "metadata": {},
   "source": [
    "<h1 align=\"center\">Machine Learning</h1><h2 align=\"center\" style=\"margin:10px\">Assignment 2</h2>"
   ]
  },
  {
   "cell_type": "code",
   "execution_count": 1,
   "metadata": {},
   "outputs": [],
   "source": [
    "# Student names and numbers:\n"
   ]
  },
  {
   "cell_type": "markdown",
   "metadata": {},
   "source": [
    "The assignments below should be solved and documented as a mini-project that will form the basis for the\n",
    "examination. When solving the exercises it is important that you\n",
    "\n",
    "  * document all relevant results and analyses that you have obtained/performed during the exercises\n",
    "  * try to relate your results to the theoretical background of the methods being applied.\n",
    "\n",
    "Feel free to add cells if you need to. The easiest way to convert to pdf is to save this notebook as .html (File-->Download as-->HTML) and then convert this html file to pdf. You can also export as pdf directly, but here you need to watch your margins as the converter will cut off your code (i.e. make vertical code!).\n",
    "\n",
    "Last, but not least:\n",
    "* Looking for an overview of the markdown language? The cheat sheet <a href=\"https://medium.com/ibm-data-science-experience/markdown-for-jupyter-notebooks-cheatsheet-386c05aeebed\">here</a> might help.\n",
    "* For most of the Python specific components of the exercises, you should not need constructs beyond those that are already included in the notebooks on the course's web-page (still you should not feel constrained by these, so feel free to be adventurous). You may, however, need to consult the documentation for some of the methods supplied by `sklearn`."
   ]
  },
  {
   "cell_type": "code",
   "execution_count": 1,
   "metadata": {},
   "outputs": [
    {
     "name": "stderr",
     "output_type": "stream",
     "text": [
      "[nltk_data] Downloading package wordnet to\n",
      "[nltk_data]     C:\\Users\\spiri\\AppData\\Roaming\\nltk_data...\n",
      "[nltk_data]   Package wordnet is already up-to-date!\n",
      "[nltk_data] Downloading package averaged_perceptron_tagger to\n",
      "[nltk_data]     C:\\Users\\spiri\\AppData\\Roaming\\nltk_data...\n",
      "[nltk_data]   Package averaged_perceptron_tagger is already up-to-\n",
      "[nltk_data]       date!\n",
      "[nltk_data] Downloading package stopwords to\n",
      "[nltk_data]     C:\\Users\\spiri\\AppData\\Roaming\\nltk_data...\n",
      "[nltk_data]   Package stopwords is already up-to-date!\n"
     ]
    }
   ],
   "source": [
    "# Import all necessary libraries here\n",
    "import mglearn\n",
    "import sys\n",
    "import nltk\n",
    "import string \n",
    "import numpy as np\n",
    "import scipy as scipy\n",
    "import seaborn as sns\n",
    "import pandas as pd\n",
    "import tensorflow as tf\n",
    "import matplotlib.pyplot as plt\n",
    "import scipy.sparse\n",
    "%matplotlib inline\n",
    "\n",
    "from numpy.random import seed\n",
    "from time import time\n",
    "from keras.datasets import mnist\n",
    "from IPython.display import display\n",
    "from sklearn import datasets, svm, metrics\n",
    "from sklearn.metrics import ConfusionMatrixDisplay, confusion_matrix\n",
    "from sklearn.model_selection import train_test_split\n",
    "from sklearn.model_selection import cross_val_score\n",
    "from sklearn.feature_extraction.text import TfidfVectorizer\n",
    "from tensorflow.keras.models import Sequential\n",
    "from tensorflow.keras.layers import Dense, Conv2D, Conv1D, MaxPooling2D,MaxPooling1D, Flatten, Input\n",
    "from tensorflow.keras.utils import to_categorical\n",
    "from tensorflow.keras.metrics import Accuracy\n",
    "from tensorflow.keras import optimizers\n",
    "from gensim.parsing.preprocessing import remove_stopwords\n",
    "\n",
    "nltk.download('wordnet')\n",
    "nltk.download('averaged_perceptron_tagger')\n",
    "nltk.download(\"stopwords\")\n",
    "np.set_printoptions(threshold= sys.maxsize)\n",
    "\n",
    "from nltk.stem import WordNetLemmatizer\n",
    "from nltk.corpus import wordnet\n",
    "from nltk.corpus import stopwords\n"
   ]
  },
  {
   "cell_type": "markdown",
   "metadata": {},
   "source": [
    "# Exercise 1: Sentiment analysis"
   ]
  },
  {
   "cell_type": "markdown",
   "metadata": {},
   "source": [
    "In this exercise we use the IMDB-dataset, which we will use to perform a sentiment analysis. The code below assumes that the data is placed in the same folder as this notebook. We see that the reviews are loaded as a pandas dataframe, and print the beginning of the first few reviews."
   ]
  },
  {
   "cell_type": "code",
   "execution_count": 61,
   "metadata": {},
   "outputs": [],
   "source": [
    "reviews = pd.read_csv('IMDB_dataset/reviews.txt', header=None)\n",
    "labels = pd.read_csv('IMDB_dataset/labels.txt', header=None)\n",
    "Y = np.array((labels=='positive').astype(np.int_)).ravel()\n",
    "# print(type(reviews))\n",
    "# print(reviews[0][0])\n",
    "\n"
   ]
  },
  {
   "cell_type": "markdown",
   "metadata": {},
   "source": [
    "**a)** Split the reviews and labels in test, train and validation sets. The train and validation sets will be used to train your model and tune hyperparameters, the test set will be saved for testing.\n",
    "\n",
    "**b)** Use the `CountVectorizer` from `sklearn.feature_extraction.text` to create a Bag-of-Words representation of the reviews. (See an example of how to do this in chapter 7 of \"Muller and Guido\"). Only use the 10,000 most frequent words (use the `max_features`-parameter of `CountVectorizer`).\n",
    "\n",
    "**c)** Explore the representation of the reviews. How is a single word represented? How about a whole review?\n",
    "\n",
    "**d)** Train a neural network with a single hidden layer on the dataset, tuning the relevant hyperparameters to optimize accuracy. \n",
    "\n",
    "**e)** Test your sentiment-classifier on the test set.\n",
    "\n",
    "**f)** Use the classifier to classify a few sentences you write yourselves. "
   ]
  },
  {
   "cell_type": "markdown",
   "metadata": {},
   "source": [
    "***Exercise 1 Solution***\n",
    "\n",
    "Having to work with text data posed the first problem for coming out with a good model solution for the exercise. Text data is often viewed as an interpretation of sentiment, which is unquantifiable by a computer. \n",
    "\n",
    "The exercise formulation mentions as requirement the use of a CountVectorizer in the idea of creating a Bag of words, essentially mapping each word of a review to a tuple (key and value) and thus transforming a potential review in an array of tuples. In this case we will attempt creating a new dataset from the one provided where its features will then be represented by the keys contained in the bag of words, and the values will be the actual \"data\" property in the data set.\n",
    "\n",
    "To construct the dataset, first the information has to go through a pre-processing step as creating a bag of words could potentially tokenize frequent words that do not necessarily influence or characterize the main \"sentiment\" of a review. For the exercise in question, the following process was proposed:\n",
    "\n",
    "**1.** Removal of stop_words: <br>\n",
    "This step describes the removal of all stop words from the reviews. Example of stop words are 'i', 'am', ''t' etc.\n",
    "\n",
    "**2.** Punctuation removal: <br>\n",
    "By creating a bag of words, punctuation is considered a word, or a token itself. Due to the fact that they do not pose a significant value in predicting the affirmativeness of a review, they are removed.\n",
    "\n",
    "**3.** Lemmatisation of reviews: <br>\n",
    "Lemmatisation is the process of replacing a word (which presents a specific form depending of its type and the grammar implications of the language) with its prime form that can be found in a dictionary. Like so verbs, nouns or adjectives (didn't, coded, affirmativeness) are transposed (do, code, affirmative). This reduces redundancy in the data set.\n",
    "\n",
    "<br>\n",
    "In typical use cases we would have to split our training data from the testing data and perform the pre-processing procedure only on the training data, but due to the fact that we are essentially creating a new data set from the one provided, and the test data has to be reduces to a form which the model ca understand, we will process all reviews at once and then split. \n",
    "<br>\n",
    "Due to the requirement of using a neural network, we will want to calculate the probability of a review to be negative of positive. In this case, the problem resumes to a logistic regression issue."
   ]
  },
  {
   "cell_type": "code",
   "execution_count": 62,
   "metadata": {},
   "outputs": [],
   "source": [
    "# 1. Removal of stop_words\n",
    "for idx, rev in enumerate(reviews[0]):\n",
    "    reviews[0][idx] = remove_stopwords(rev, stopwords.words('english') )"
   ]
  },
  {
   "cell_type": "code",
   "execution_count": 63,
   "metadata": {},
   "outputs": [
    {
     "name": "stdout",
     "output_type": "stream",
     "text": [
      "<bound method NDFrame.head of                                                        0\n",
      "0      bromwell high cartoon comedy . ran time progra...\n",
      "1      story man unnatural feelings pig . starts open...\n",
      "2      homelessness houselessness george carlin state...\n",
      "3      airport starts brand new luxury plane loaded v...\n",
      "4      brilliant acting lesley ann warren . best dram...\n",
      "...                                                  ...\n",
      "24995  saw descent last night stockholm film festival...\n",
      "24996  christmas together actually came time raised j...\n",
      "24997  films pick pound turn rather good rd century f...\n",
      "24998  working class romantic drama director martin r...\n",
      "24999  one dumbest films ever seen . rips nearly ever...\n",
      "\n",
      "[25000 rows x 1 columns]>\n"
     ]
    }
   ],
   "source": [
    "#The result of the removal of stop words can be seen by printing the first few reviews \n",
    "print(reviews.head)"
   ]
  },
  {
   "cell_type": "code",
   "execution_count": 64,
   "metadata": {},
   "outputs": [],
   "source": [
    "# 2. Punctuation removal\n",
    "for idx, rev in enumerate(reviews[0]):\n",
    "    reviews[0][idx] = rev.translate(str.maketrans('', '', string.punctuation))"
   ]
  },
  {
   "cell_type": "code",
   "execution_count": 65,
   "metadata": {},
   "outputs": [
    {
     "name": "stdout",
     "output_type": "stream",
     "text": [
      "<bound method NDFrame.head of                                                        0\n",
      "0      bromwell high cartoon comedy  ran time program...\n",
      "1      story man unnatural feelings pig  starts openi...\n",
      "2      homelessness houselessness george carlin state...\n",
      "3      airport starts brand new luxury plane loaded v...\n",
      "4      brilliant acting lesley ann warren  best drama...\n",
      "...                                                  ...\n",
      "24995  saw descent last night stockholm film festival...\n",
      "24996  christmas together actually came time raised j...\n",
      "24997  films pick pound turn rather good rd century f...\n",
      "24998  working class romantic drama director martin r...\n",
      "24999  one dumbest films ever seen  rips nearly ever ...\n",
      "\n",
      "[25000 rows x 1 columns]>\n"
     ]
    }
   ],
   "source": [
    "# The result of the removal of punctuation can be seen by printing the first few reviews \n",
    "print(reviews.head)"
   ]
  },
  {
   "cell_type": "code",
   "execution_count": 66,
   "metadata": {},
   "outputs": [],
   "source": [
    "#3. Lemmatisation of reviews \n",
    "lmtizer = WordNetLemmatizer()\n",
    "\n",
    "def pos_tagger(nltk_tag):\n",
    "    if nltk_tag.startswith('J'):\n",
    "        return wordnet.ADJ\n",
    "    elif nltk_tag.startswith('V'):\n",
    "        return wordnet.VERB\n",
    "    elif nltk_tag.startswith('N'):\n",
    "        return wordnet.NOUN\n",
    "    elif nltk_tag.startswith('R'):\n",
    "        return wordnet.ADV\n",
    "    else:         \n",
    "        return None\n",
    " \n",
    " \n",
    "for idx, rev in enumerate(reviews[0]):\n",
    "    pos_tagged = nltk.pos_tag(nltk.word_tokenize(rev)) \n",
    "    wordnet_tagged = list(map(lambda x: (x[0], pos_tagger(x[1])), pos_tagged))\n",
    "    lemmatized_sentence = []\n",
    "    for word, tag in wordnet_tagged:  \n",
    "        if tag is None:\n",
    "            lemmatized_sentence.append(word)\n",
    "        else:  \n",
    "            lemmatized_sentence.append(lmtizer.lemmatize(word, tag))\n",
    "    reviews[0][idx]= \" \".join(lemmatized_sentence)\n",
    " "
   ]
  },
  {
   "cell_type": "markdown",
   "metadata": {},
   "source": [
    "The code above is meant to lemmatize each word in each reviews included in the initial data set. The lemmatisation process depends on the type of word that needs to be lemmatised. Using the `nltk.pos_tag` function we can extract the type (or tag) of all words from a review. The nltk tags are quite hard to read, such that they were mapped into a list of more clear options using the defined function in the above code. Using the list of words from a review and their corresponding tag, the review is reconstructed using the results of the lemmatized process.  "
   ]
  },
  {
   "cell_type": "code",
   "execution_count": null,
   "metadata": {},
   "outputs": [
    {
     "name": "stdout",
     "output_type": "stream",
     "text": [
      "bromwell high cartoon comedy run time program school life teacher year teach profession lead believe bromwell high satire much closer reality teacher scramble survive financially insightful student see right pathetic teacher pomp pettiness whole situation remind school know student saw episode student repeatedly try burn school immediately recall high classic line inspector sack one teacher student welcome bromwell high expect many adult age think bromwell high far fetch pity\n"
     ]
    }
   ],
   "source": [
    "# The result of the lemmatisation process on the first review is the following\n",
    "print(reviews[0][0])"
   ]
  },
  {
   "cell_type": "markdown",
   "metadata": {},
   "source": [
    "**b)** Having the reviews run through the pre-processing step, the result represents a very concrete, direct message. While some of the nuance of the review is lost, the message becomes more compact and concentrated and less redundant in terms of content. Having this form the reviews can be used to create the bag of words. \n",
    "\n",
    "The solution presented in this report makes use of a `TfidfVectorizer` instead of `CountVectorizer`. A `TfidfVectorizer` is an implementation of a `CountVectorizer`, meaning that they output the same ´vocabulary_´, their difference being the value they give when performing transformation of a document (review). A CountVectorizer converts a collection of text documents to a matrix of token counts, meaning that the result of a review transformation will contain the number of times a specific word (in the respective review) appears. TF-IDF is an abbreviation for Term Frequency Inverse Document Frequency, meaning that when token counts are calculated, they are computed and considered across the entire document (data set) and outputs to a frequency, a ratio or weight of a word."
   ]
  },
  {
   "cell_type": "code",
   "execution_count": null,
   "metadata": {},
   "outputs": [],
   "source": [
    "#4. Tokenizing words\n",
    "vect = TfidfVectorizer(max_features=10000, stop_words= stopwords.words('english'))\n",
    "transformed_reviews = vect.fit_transform(reviews[0])"
   ]
  },
  {
   "cell_type": "markdown",
   "metadata": {},
   "source": [
    "**c)** The result of the transformation is also the dataset we will use to train the neural network on. To read the transformed reviews (a sparse matrix) we will consider the following:\n",
    "\n",
    "* A row in the matrix corresponds to the output of the transformation of a document for one specific word which is included in the bag of words (one of the most 10000 frequent words)\n",
    "* The first element of the tuple describes to the review for which the output corresponds. 0 means the first review, 1 the second, 2 the thirds, etc. \n",
    "* The second element of the tuple corresponds the index of the word in the bag of words. For example the value 6710 corresponds to the 6710'th most frequent word from the 'vocabulary_' which is ´pity´. If a specific index appears in a tuple, that means that the word it mapped to is included in the review corresponding to the first value in the tuple.\n",
    "* The value to which the tuple maps corresponds to the frequency the word has in the entire data set. This is also how the words will be represented in the final data set.\n"
   ]
  },
  {
   "cell_type": "code",
   "execution_count": null,
   "metadata": {},
   "outputs": [
    {
     "name": "stdout",
     "output_type": "stream",
     "text": [
      "  (0, 6710)\t0.11950034363725918\n",
      "  (0, 3337)\t0.137302799335336\n",
      "  (0, 3261)\t0.06932324862812123\n",
      "  (0, 8969)\t0.04584721706500551\n",
      "  (0, 180)\t0.08110951562857681\n",
      "  (0, 136)\t0.09614733214310987\n",
      "  (0, 5515)\t0.05490404589168599\n",
      "  (0, 3151)\t0.07323714228205612\n",
      "  (0, 9748)\t0.11804706361208209\n",
      "  (0, 6291)\t0.03284128128186592\n",
      "  (0, 7692)\t0.15057204889412243\n",
      "  (0, 4618)\t0.1347889174185391\n",
      "  (0, 5255)\t0.0673397466196941\n",
      "  (0, 1578)\t0.07749010060053112\n",
      "  (0, 7250)\t0.11747651616388127\n",
      "  (0, 4450)\t0.10683414307557462\n",
      "  (0, 1171)\t0.10737584204656342\n",
      "  (0, 9243)\t0.05621233858721317\n",
      "  (0, 7395)\t0.13442737483054762\n",
      "  (0, 3003)\t0.08405752000690257\n",
      "  (0, 7772)\t0.06771878411874818\n",
      "  (0, 5022)\t0.04942392242584494\n",
      "  (0, 7370)\t0.09638331480183294\n",
      "  (0, 8155)\t0.08908138293337045\n",
      "  (0, 9789)\t0.068673186657198\n",
      "  :\t:\n",
      "  (24999, 5328)\t0.06374111525662078\n",
      "  (24999, 97)\t0.08299198568842231\n",
      "  (24999, 7774)\t0.12833026635764289\n",
      "  (24999, 8995)\t0.12274689379855375\n",
      "  (24999, 2456)\t0.09882551826074257\n",
      "  (24999, 5295)\t0.15291466007104798\n",
      "  (24999, 5861)\t0.0984990724522427\n",
      "  (24999, 3367)\t0.08445011474010568\n",
      "  (24999, 6749)\t0.07129520283547786\n",
      "  (24999, 3742)\t0.05147951486858716\n",
      "  (24999, 1429)\t0.058568274258403566\n",
      "  (24999, 2206)\t0.08482932872704538\n",
      "  (24999, 5231)\t0.09513017140039177\n",
      "  (24999, 1033)\t0.0853309771807012\n",
      "  (24999, 6585)\t0.06630793791935051\n",
      "  (24999, 3800)\t0.05620851071508977\n",
      "  (24999, 3823)\t0.10331957163037638\n",
      "  (24999, 5470)\t0.046080523475546996\n",
      "  (24999, 3261)\t0.09120513272147411\n",
      "  (24999, 8969)\t0.06031889157063853\n",
      "  (24999, 6291)\t0.04320763203299727\n",
      "  (24999, 5255)\t0.08859553828509159\n",
      "  (24999, 9789)\t0.09034987868320354\n",
      "  (24999, 7866)\t0.0476489218122226\n",
      "  (24999, 9032)\t0.1051310884158236\n"
     ]
    }
   ],
   "source": [
    "print(transformed_reviews)"
   ]
  },
  {
   "cell_type": "code",
   "execution_count": null,
   "metadata": {},
   "outputs": [
    {
     "data": {
      "text/html": [
       "<div>\n",
       "<style scoped>\n",
       "    .dataframe tbody tr th:only-of-type {\n",
       "        vertical-align: middle;\n",
       "    }\n",
       "\n",
       "    .dataframe tbody tr th {\n",
       "        vertical-align: top;\n",
       "    }\n",
       "\n",
       "    .dataframe thead th {\n",
       "        text-align: right;\n",
       "    }\n",
       "</style>\n",
       "<table border=\"1\" class=\"dataframe\">\n",
       "  <thead>\n",
       "    <tr style=\"text-align: right;\">\n",
       "      <th></th>\n",
       "      <th>0</th>\n",
       "      <th>1</th>\n",
       "      <th>2</th>\n",
       "      <th>3</th>\n",
       "      <th>4</th>\n",
       "      <th>5</th>\n",
       "      <th>6</th>\n",
       "      <th>7</th>\n",
       "      <th>8</th>\n",
       "      <th>9</th>\n",
       "      <th>...</th>\n",
       "      <th>9990</th>\n",
       "      <th>9991</th>\n",
       "      <th>9992</th>\n",
       "      <th>9993</th>\n",
       "      <th>9994</th>\n",
       "      <th>9995</th>\n",
       "      <th>9996</th>\n",
       "      <th>9997</th>\n",
       "      <th>9998</th>\n",
       "      <th>9999</th>\n",
       "    </tr>\n",
       "  </thead>\n",
       "  <tbody>\n",
       "    <tr>\n",
       "      <th>0</th>\n",
       "      <td>0.0</td>\n",
       "      <td>0.0</td>\n",
       "      <td>0.0</td>\n",
       "      <td>0.0</td>\n",
       "      <td>0.0</td>\n",
       "      <td>0.0</td>\n",
       "      <td>0.0</td>\n",
       "      <td>0.0</td>\n",
       "      <td>0.0</td>\n",
       "      <td>0.0</td>\n",
       "      <td>...</td>\n",
       "      <td>0.0</td>\n",
       "      <td>0.0</td>\n",
       "      <td>0.0</td>\n",
       "      <td>0.0</td>\n",
       "      <td>0.000000</td>\n",
       "      <td>0.0</td>\n",
       "      <td>0.0</td>\n",
       "      <td>0.0</td>\n",
       "      <td>0.0</td>\n",
       "      <td>0.0</td>\n",
       "    </tr>\n",
       "    <tr>\n",
       "      <th>1</th>\n",
       "      <td>0.0</td>\n",
       "      <td>0.0</td>\n",
       "      <td>0.0</td>\n",
       "      <td>0.0</td>\n",
       "      <td>0.0</td>\n",
       "      <td>0.0</td>\n",
       "      <td>0.0</td>\n",
       "      <td>0.0</td>\n",
       "      <td>0.0</td>\n",
       "      <td>0.0</td>\n",
       "      <td>...</td>\n",
       "      <td>0.0</td>\n",
       "      <td>0.0</td>\n",
       "      <td>0.0</td>\n",
       "      <td>0.0</td>\n",
       "      <td>0.000000</td>\n",
       "      <td>0.0</td>\n",
       "      <td>0.0</td>\n",
       "      <td>0.0</td>\n",
       "      <td>0.0</td>\n",
       "      <td>0.0</td>\n",
       "    </tr>\n",
       "    <tr>\n",
       "      <th>2</th>\n",
       "      <td>0.0</td>\n",
       "      <td>0.0</td>\n",
       "      <td>0.0</td>\n",
       "      <td>0.0</td>\n",
       "      <td>0.0</td>\n",
       "      <td>0.0</td>\n",
       "      <td>0.0</td>\n",
       "      <td>0.0</td>\n",
       "      <td>0.0</td>\n",
       "      <td>0.0</td>\n",
       "      <td>...</td>\n",
       "      <td>0.0</td>\n",
       "      <td>0.0</td>\n",
       "      <td>0.0</td>\n",
       "      <td>0.0</td>\n",
       "      <td>0.000000</td>\n",
       "      <td>0.0</td>\n",
       "      <td>0.0</td>\n",
       "      <td>0.0</td>\n",
       "      <td>0.0</td>\n",
       "      <td>0.0</td>\n",
       "    </tr>\n",
       "    <tr>\n",
       "      <th>3</th>\n",
       "      <td>0.0</td>\n",
       "      <td>0.0</td>\n",
       "      <td>0.0</td>\n",
       "      <td>0.0</td>\n",
       "      <td>0.0</td>\n",
       "      <td>0.0</td>\n",
       "      <td>0.0</td>\n",
       "      <td>0.0</td>\n",
       "      <td>0.0</td>\n",
       "      <td>0.0</td>\n",
       "      <td>...</td>\n",
       "      <td>0.0</td>\n",
       "      <td>0.0</td>\n",
       "      <td>0.0</td>\n",
       "      <td>0.0</td>\n",
       "      <td>0.000000</td>\n",
       "      <td>0.0</td>\n",
       "      <td>0.0</td>\n",
       "      <td>0.0</td>\n",
       "      <td>0.0</td>\n",
       "      <td>0.0</td>\n",
       "    </tr>\n",
       "    <tr>\n",
       "      <th>4</th>\n",
       "      <td>0.0</td>\n",
       "      <td>0.0</td>\n",
       "      <td>0.0</td>\n",
       "      <td>0.0</td>\n",
       "      <td>0.0</td>\n",
       "      <td>0.0</td>\n",
       "      <td>0.0</td>\n",
       "      <td>0.0</td>\n",
       "      <td>0.0</td>\n",
       "      <td>0.0</td>\n",
       "      <td>...</td>\n",
       "      <td>0.0</td>\n",
       "      <td>0.0</td>\n",
       "      <td>0.0</td>\n",
       "      <td>0.0</td>\n",
       "      <td>0.000000</td>\n",
       "      <td>0.0</td>\n",
       "      <td>0.0</td>\n",
       "      <td>0.0</td>\n",
       "      <td>0.0</td>\n",
       "      <td>0.0</td>\n",
       "    </tr>\n",
       "    <tr>\n",
       "      <th>...</th>\n",
       "      <td>...</td>\n",
       "      <td>...</td>\n",
       "      <td>...</td>\n",
       "      <td>...</td>\n",
       "      <td>...</td>\n",
       "      <td>...</td>\n",
       "      <td>...</td>\n",
       "      <td>...</td>\n",
       "      <td>...</td>\n",
       "      <td>...</td>\n",
       "      <td>...</td>\n",
       "      <td>...</td>\n",
       "      <td>...</td>\n",
       "      <td>...</td>\n",
       "      <td>...</td>\n",
       "      <td>...</td>\n",
       "      <td>...</td>\n",
       "      <td>...</td>\n",
       "      <td>...</td>\n",
       "      <td>...</td>\n",
       "      <td>...</td>\n",
       "    </tr>\n",
       "    <tr>\n",
       "      <th>24995</th>\n",
       "      <td>0.0</td>\n",
       "      <td>0.0</td>\n",
       "      <td>0.0</td>\n",
       "      <td>0.0</td>\n",
       "      <td>0.0</td>\n",
       "      <td>0.0</td>\n",
       "      <td>0.0</td>\n",
       "      <td>0.0</td>\n",
       "      <td>0.0</td>\n",
       "      <td>0.0</td>\n",
       "      <td>...</td>\n",
       "      <td>0.0</td>\n",
       "      <td>0.0</td>\n",
       "      <td>0.0</td>\n",
       "      <td>0.0</td>\n",
       "      <td>0.000000</td>\n",
       "      <td>0.0</td>\n",
       "      <td>0.0</td>\n",
       "      <td>0.0</td>\n",
       "      <td>0.0</td>\n",
       "      <td>0.0</td>\n",
       "    </tr>\n",
       "    <tr>\n",
       "      <th>24996</th>\n",
       "      <td>0.0</td>\n",
       "      <td>0.0</td>\n",
       "      <td>0.0</td>\n",
       "      <td>0.0</td>\n",
       "      <td>0.0</td>\n",
       "      <td>0.0</td>\n",
       "      <td>0.0</td>\n",
       "      <td>0.0</td>\n",
       "      <td>0.0</td>\n",
       "      <td>0.0</td>\n",
       "      <td>...</td>\n",
       "      <td>0.0</td>\n",
       "      <td>0.0</td>\n",
       "      <td>0.0</td>\n",
       "      <td>0.0</td>\n",
       "      <td>0.000000</td>\n",
       "      <td>0.0</td>\n",
       "      <td>0.0</td>\n",
       "      <td>0.0</td>\n",
       "      <td>0.0</td>\n",
       "      <td>0.0</td>\n",
       "    </tr>\n",
       "    <tr>\n",
       "      <th>24997</th>\n",
       "      <td>0.0</td>\n",
       "      <td>0.0</td>\n",
       "      <td>0.0</td>\n",
       "      <td>0.0</td>\n",
       "      <td>0.0</td>\n",
       "      <td>0.0</td>\n",
       "      <td>0.0</td>\n",
       "      <td>0.0</td>\n",
       "      <td>0.0</td>\n",
       "      <td>0.0</td>\n",
       "      <td>...</td>\n",
       "      <td>0.0</td>\n",
       "      <td>0.0</td>\n",
       "      <td>0.0</td>\n",
       "      <td>0.0</td>\n",
       "      <td>0.198158</td>\n",
       "      <td>0.0</td>\n",
       "      <td>0.0</td>\n",
       "      <td>0.0</td>\n",
       "      <td>0.0</td>\n",
       "      <td>0.0</td>\n",
       "    </tr>\n",
       "    <tr>\n",
       "      <th>24998</th>\n",
       "      <td>0.0</td>\n",
       "      <td>0.0</td>\n",
       "      <td>0.0</td>\n",
       "      <td>0.0</td>\n",
       "      <td>0.0</td>\n",
       "      <td>0.0</td>\n",
       "      <td>0.0</td>\n",
       "      <td>0.0</td>\n",
       "      <td>0.0</td>\n",
       "      <td>0.0</td>\n",
       "      <td>...</td>\n",
       "      <td>0.0</td>\n",
       "      <td>0.0</td>\n",
       "      <td>0.0</td>\n",
       "      <td>0.0</td>\n",
       "      <td>0.000000</td>\n",
       "      <td>0.0</td>\n",
       "      <td>0.0</td>\n",
       "      <td>0.0</td>\n",
       "      <td>0.0</td>\n",
       "      <td>0.0</td>\n",
       "    </tr>\n",
       "    <tr>\n",
       "      <th>24999</th>\n",
       "      <td>0.0</td>\n",
       "      <td>0.0</td>\n",
       "      <td>0.0</td>\n",
       "      <td>0.0</td>\n",
       "      <td>0.0</td>\n",
       "      <td>0.0</td>\n",
       "      <td>0.0</td>\n",
       "      <td>0.0</td>\n",
       "      <td>0.0</td>\n",
       "      <td>0.0</td>\n",
       "      <td>...</td>\n",
       "      <td>0.0</td>\n",
       "      <td>0.0</td>\n",
       "      <td>0.0</td>\n",
       "      <td>0.0</td>\n",
       "      <td>0.000000</td>\n",
       "      <td>0.0</td>\n",
       "      <td>0.0</td>\n",
       "      <td>0.0</td>\n",
       "      <td>0.0</td>\n",
       "      <td>0.0</td>\n",
       "    </tr>\n",
       "  </tbody>\n",
       "</table>\n",
       "<p>25000 rows × 10000 columns</p>\n",
       "</div>"
      ],
      "text/plain": [
       "       0     1     2     3     4     5     6     7     8     9     ...  9990  \\\n",
       "0       0.0   0.0   0.0   0.0   0.0   0.0   0.0   0.0   0.0   0.0  ...   0.0   \n",
       "1       0.0   0.0   0.0   0.0   0.0   0.0   0.0   0.0   0.0   0.0  ...   0.0   \n",
       "2       0.0   0.0   0.0   0.0   0.0   0.0   0.0   0.0   0.0   0.0  ...   0.0   \n",
       "3       0.0   0.0   0.0   0.0   0.0   0.0   0.0   0.0   0.0   0.0  ...   0.0   \n",
       "4       0.0   0.0   0.0   0.0   0.0   0.0   0.0   0.0   0.0   0.0  ...   0.0   \n",
       "...     ...   ...   ...   ...   ...   ...   ...   ...   ...   ...  ...   ...   \n",
       "24995   0.0   0.0   0.0   0.0   0.0   0.0   0.0   0.0   0.0   0.0  ...   0.0   \n",
       "24996   0.0   0.0   0.0   0.0   0.0   0.0   0.0   0.0   0.0   0.0  ...   0.0   \n",
       "24997   0.0   0.0   0.0   0.0   0.0   0.0   0.0   0.0   0.0   0.0  ...   0.0   \n",
       "24998   0.0   0.0   0.0   0.0   0.0   0.0   0.0   0.0   0.0   0.0  ...   0.0   \n",
       "24999   0.0   0.0   0.0   0.0   0.0   0.0   0.0   0.0   0.0   0.0  ...   0.0   \n",
       "\n",
       "       9991  9992  9993      9994  9995  9996  9997  9998  9999  \n",
       "0       0.0   0.0   0.0  0.000000   0.0   0.0   0.0   0.0   0.0  \n",
       "1       0.0   0.0   0.0  0.000000   0.0   0.0   0.0   0.0   0.0  \n",
       "2       0.0   0.0   0.0  0.000000   0.0   0.0   0.0   0.0   0.0  \n",
       "3       0.0   0.0   0.0  0.000000   0.0   0.0   0.0   0.0   0.0  \n",
       "4       0.0   0.0   0.0  0.000000   0.0   0.0   0.0   0.0   0.0  \n",
       "...     ...   ...   ...       ...   ...   ...   ...   ...   ...  \n",
       "24995   0.0   0.0   0.0  0.000000   0.0   0.0   0.0   0.0   0.0  \n",
       "24996   0.0   0.0   0.0  0.000000   0.0   0.0   0.0   0.0   0.0  \n",
       "24997   0.0   0.0   0.0  0.198158   0.0   0.0   0.0   0.0   0.0  \n",
       "24998   0.0   0.0   0.0  0.000000   0.0   0.0   0.0   0.0   0.0  \n",
       "24999   0.0   0.0   0.0  0.000000   0.0   0.0   0.0   0.0   0.0  \n",
       "\n",
       "[25000 rows x 10000 columns]"
      ]
     },
     "execution_count": 12,
     "metadata": {},
     "output_type": "execute_result"
    }
   ],
   "source": [
    "#For visualization purposes, the dataset (the tranformed reviews) can be plotted in a data frame.\n",
    "dataFrame = pd.DataFrame.sparse.from_spmatrix(transformed_reviews)\n",
    "dataFrame"
   ]
  },
  {
   "cell_type": "markdown",
   "metadata": {},
   "source": [
    "**a)** Splitting the training, validation and test is represented by the code below:"
   ]
  },
  {
   "cell_type": "code",
   "execution_count": null,
   "metadata": {},
   "outputs": [
    {
     "name": "stdout",
     "output_type": "stream",
     "text": [
      "Size of training-val set:18750\n",
      "Size of test set:6250\n"
     ]
    }
   ],
   "source": [
    "Y = to_categorical(Y,num_classes=2)\n",
    "X_trainval, X_test, y_trainval, y_test = train_test_split(dataFrame.to_numpy(), Y, random_state=42)\n",
    "print(\"Size of training-val set:{}\".format(X_trainval.shape[0]))\n",
    "print(\"Size of test set:{}\".format(X_test.shape[0]))"
   ]
  },
  {
   "cell_type": "markdown",
   "metadata": {},
   "source": [
    "**d)** The code below describes the network configuration and the fitting process of the data in the model.\n",
    "Observations regarding the neuron network:\n",
    "*  The validation methodology was applied by mentioning the `validation_split` parameter when fitting the training data. As such, the network performs validations on 0.2 out of bach set on which the network learn at each one epoch. \n",
    "*  It was discovered that having a great number of neurons on the input and hidden layer caused the network to look 'to deep' into the data, causing great loss in the validation process, thus overfitting.\n",
    "* `Relu` was used as activation algorithm as the data was previously stripped of potential noise that could have been treated with `Sigmoid` activation. \n",
    "* It was discovered that the `Adadelta` optimizer was giving more reliable results then `SDG` as the the latter would spike at certain epochs => random learning process, while `Adadelta` would have a more logarithmic learning graph  \n",
    "* In general the score of the network comes down to providing a proportional value for the epoch and batch_size. The more we increase the batch_size the more epochs we would like to input. In general it was discovered that 0.2 as the validation split ratio gave the best result, as more would cut to much from the training data, but to little (while increasing the accuracy with even 0.04) caused the training loss to be with even 0.15 smaller then the validation loss, thus indicating that the model is overfitting.\n",
    "* Best results: loss: 0.2291 - accuracy: 0.9113 - val_loss: 0.2819 - val_accuracy: 0.8864 "
   ]
  },
  {
   "cell_type": "code",
   "execution_count": null,
   "metadata": {},
   "outputs": [],
   "source": [
    "model = Sequential()\n",
    "\n",
    "model.add(Dense(units=64, activation='relu', input_dim=10000)) \n",
    "model.add(Dense(units=32, activation='relu'))\n",
    "model.add(Dense(units=2, activation='softmax')) \n",
    "\n",
    "adadelta = optimizers.Adadelta(learning_rate=0.1)\n",
    "model.compile(loss='categorical_crossentropy', optimizer=adadelta, metrics=['accuracy'])\n",
    "\n",
    "history = model.fit(X_trainval, y_trainval, validation_split = 0.2, epochs=15, batch_size=100, verbose=0)\n"
   ]
  },
  {
   "cell_type": "markdown",
   "metadata": {},
   "source": [
    "We can visualize the loss and accuracy curves during training using the following: "
   ]
  },
  {
   "cell_type": "code",
   "execution_count": null,
   "metadata": {},
   "outputs": [],
   "source": [
    "def showStats(history):\n",
    "    acc = history.history['accuracy']\n",
    "    val_acc = history.history['val_accuracy']\n",
    "    loss = history.history['loss']\n",
    "    val_loss = history.history['val_loss']\n",
    "\n",
    "    epochs = range(len(acc))\n",
    "\n",
    "    plt.plot(epochs, acc, 'bo', label='Training acc')\n",
    "    plt.plot(epochs, val_acc, 'b', label='Validation acc')\n",
    "    plt.title('Training and validation accuracy')\n",
    "    plt.legend()\n",
    "\n",
    "    plt.figure()\n",
    "\n",
    "    plt.plot(epochs, loss, 'bo', label='Training loss')\n",
    "    plt.plot(epochs, val_loss, 'b', label='Validation loss')\n",
    "    plt.title('Training and validation loss')\n",
    "    plt.legend()\n",
    "\n",
    "    plt.show()"
   ]
  },
  {
   "cell_type": "code",
   "execution_count": null,
   "metadata": {},
   "outputs": [
    {
     "data": {
      "image/png": "[encoded data removed]",
      "text/plain": [
       "<Figure size 432x288 with 1 Axes>"
      ]
     },
     "metadata": {
      "needs_background": "light"
     },
     "output_type": "display_data"
    },
    {
     "data": {
      "image/png": "[encoded data removed]",
      "text/plain": [
       "<Figure size 432x288 with 1 Axes>"
      ]
     },
     "metadata": {
      "needs_background": "light"
     },
     "output_type": "display_data"
    }
   ],
   "source": [
    "showStats(history)"
   ]
  },
  {
   "cell_type": "markdown",
   "metadata": {},
   "source": [
    "**e)** To evaluate the network regard the code below:"
   ]
  },
  {
   "cell_type": "code",
   "execution_count": null,
   "metadata": {},
   "outputs": [
    {
     "name": "stdout",
     "output_type": "stream",
     "text": [
      "586/586 [==============================] - 1s 1ms/step - loss: 0.1940 - accuracy: 0.9289\n",
      "Accuracy on training data: [0.19399172067642212, 0.9288533329963684]\n",
      "196/196 [==============================] - 0s 1ms/step - loss: 0.2789 - accuracy: 0.8858\n",
      "Accuracy on testing data: [0.2789217233657837, 0.8857600092887878]\n"
     ]
    }
   ],
   "source": [
    "print(\"Accuracy on training data: {}\".format(model.evaluate(X_trainval, y_trainval)))\n",
    "print(\"Accuracy on testing data: {}\".format(model.evaluate(X_test, y_test)))"
   ]
  },
  {
   "cell_type": "markdown",
   "metadata": {},
   "source": [
    "**f)** The reviews were taken from online sources. Before they are predicted, the reviews are taken through a processing function that corresponds to the pre-processing step elaborated above."
   ]
  },
  {
   "cell_type": "code",
   "execution_count": null,
   "metadata": {},
   "outputs": [
    {
     "name": "stdout",
     "output_type": "stream",
     "text": [
      "Review1 has 0.4195905923843384 chances to be a negative review and 0.5804094076156616 chances to be positive\n",
      "Review2 has 0.12756052613258362 chances to be a negative review and 0.872439444065094 chances to be positive\n"
     ]
    }
   ],
   "source": [
    "review1 = \"There were two interesting look back reviews that came out in 2015 that are worth checking out - just search for <<review terminator sarah connor chronicles>> and check out the retrospectives in The Guardian and on IGN. The IGN retrospective is especially valuable due to the inclusion of video cast interviews that don't show up on YouTube - there are a lot of insights as to how the principle actors viewed their characters and where they hoped the plot and reveals would go. Ultimately the writer Josh Friedman did give us fans what we wanted, just not in the definitive manner the actors hoped for their characters. I think it is better that way - showing us and let us draw our own conclusions, instead of laying it out in black and white. But, yeah, for you Jameron shippers, you were right, the seeds were there all along and the final episode is a real heartbreaker.\"\n",
    "review2 = \"One of the best stand alone TV Sci-Fi shows ever, joining Firefly on the list of <<why ever did they cancel that >>? Perhaps the best answer is that it is a miracle it was made in the first place, given that cancer survivor Josh Friedman produced a death obsessed, stylish, inventive and often very funny TV show with more depth and sophistication than the dying film franchise. A Hollywood insider needs to write the real back story to this show: how it suited Warner Brothers to have what was, in effect, an extended commercial on TV for the upcoming reboot of the movie franchise, what transpired between Warner and Fox, and why Fox started to pull the plug on the cash. There are episodes in season two that were clearly made with everyone concerned expecting to be fired by the end of the day. The production values dropped as the budget dried up, but the excellent acting, production and cinematography did not. An unfortunate casualty of the writers' strike, the show lost momentum after its truncated first season. Neflix, reboot it, please....\"\n",
    "\n",
    "\n",
    "def transform_review(review):\n",
    "    review = remove_stopwords(review, stopwords.words('english'))\n",
    "    review = review.translate(str.maketrans('', '', string.punctuation))\n",
    "    \n",
    "    pos_tagged = nltk.pos_tag(nltk.word_tokenize(review)) \n",
    "    wordnet_tagged = list(map(lambda x: (x[0], pos_tagger(x[1])), pos_tagged))\n",
    "    lemmatized_sentence = []\n",
    "    for word, tag in wordnet_tagged:  \n",
    "        if tag is None:\n",
    "            lemmatized_sentence.append(word)\n",
    "        else:  \n",
    "            lemmatized_sentence.append(lmtizer.lemmatize(word, tag))\n",
    "    review = \" \".join(lemmatized_sentence)\n",
    "    return review\n",
    "\n",
    "review1 = transform_review(review1)\n",
    "review1 = vect.transform([review1])\n",
    "review1 = pd.DataFrame.sparse.from_spmatrix(review1).to_numpy()\n",
    "\n",
    "review2 = transform_review(review2)\n",
    "review2 = vect.transform([review2])\n",
    "review2 = pd.DataFrame.sparse.from_spmatrix(review2).to_numpy()\n",
    "\n",
    "prediction1 = model.predict(review1)\n",
    "prediction2 = model.predict(review2)\n",
    "print(\"Review1 has {} chances to be a negative review and {} chances to be positive\".format(prediction1[0][0], prediction1[0][1]))\n",
    "print(\"Review2 has {} chances to be a negative review and {} chances to be positive\".format(prediction2[0][0], prediction2[0][1]))\n"
   ]
  },
  {
   "cell_type": "markdown",
   "metadata": {},
   "source": [
    "# Exercise 2: MNIST"
   ]
  },
  {
   "cell_type": "markdown",
   "metadata": {},
   "source": [
    "In this exercise, we consider the famous MNIST dataset, which is loaded below. The dataset consists of 70000 handwritten digits 0-9 at a resolution of 28x28 pixels. In the cell below, the dataset is loaded and split into 60000 traning and 10000 testing images. "
   ]
  },
  {
   "cell_type": "code",
   "execution_count": null,
   "metadata": {},
   "outputs": [],
   "source": [
    "(x_train, y_train), (x_test, y_test) = mnist.load_data()"
   ]
  },
  {
   "cell_type": "markdown",
   "metadata": {},
   "source": [
    "The code-snippet below can be used to see the images corresponding to individual digits:"
   ]
  },
  {
   "cell_type": "code",
   "execution_count": null,
   "metadata": {},
   "outputs": [
    {
     "data": {
      "image/png": "[encoded data removed]",
      "text/plain": [
       "<Figure size 432x288 with 1 Axes>"
      ]
     },
     "metadata": {
      "needs_background": "light"
     },
     "output_type": "display_data"
    }
   ],
   "source": [
    "index = 1\n",
    "\n",
    "plt.imshow(x_train[index],cmap=plt.cm.gray_r)\n",
    "plt.show()"
   ]
  },
  {
   "cell_type": "markdown",
   "metadata": {},
   "source": [
    "### Training a neural network\n",
    "\n",
    "**a)** Learn different neural network models by varying the network architecture (i.e. number of layers and neurons in each layer) and the type of network (i.e. fully connected vs. convolutional). For each configuration, determine the time it takes to learn the model, and the accuracy on the test data. *Caution*: for some configurations, learning here can take a little while (several minutes).\n",
    "\n",
    "**b)** Inspect some misclassified cases. Do they correspond to hard to recognize digits (also for the human reader)? (Hint: you can e.g. use the numpy where() function to extract the indices of the test cases that were misclassified: `misclass = np.where(test != predictions)` )\n",
    "\n",
    "**c)** How do results (time and accuracy) change, depending on whether you consider an 'easy' binary task (e.g., distinguishing '1' and '0'), or a more difficult one (e.g., '4' vs. '5'). \n",
    "\n",
    "**d)** Identify one or several good configurations that give a reasonable combination of accuracy and runtime. Use these configurations to perform a full classification of the 10 classes in the original dataset (after split into train/test). Using `sklearn.metrics.confusion_matrix` you can get an overview of all combinations of true and predicted labels (see p. 298-299 in Müller & Guido). What does this tell you about which digits are easy, and which ones are difficult to recognize, and which ones are most easily confused?"
   ]
  },
  {
   "cell_type": "markdown",
   "metadata": {},
   "source": [
    "***Exercise 2 Solution***\n",
    "\n",
    "<br/>\n",
    "\n",
    "The following part of the report studies the performance of different network configurations on two use cases: differentiating from 0 and 1 and differentiating from 4 and 5. In terms of difficulty we operate on the assumptions that the first is an easy task, while the latter is more difficult.\n",
    "\n",
    "The architecture on which it was experimented was:\n",
    "\n",
    "* 3 layers networks (fully connected and convocational)\n",
    "* 4 layers networks (fully connected and convocational)\n",
    "\n",
    "For fully networks we opt for two options on the input layer, 784 and 196. <br/>\n",
    "For convocational networks we opt for two options of feature maps, 32 and 16. \n",
    "\n",
    "For subsequent layers the number of neurons/ feature maps get exponentially smaller by 2. \n",
    "\n",
    "In total the experiment was done on 12 different networks.\n"
   ]
  },
  {
   "cell_type": "code",
   "execution_count": null,
   "metadata": {},
   "outputs": [],
   "source": [
    "# Extraction of train and test data for the 'easy' task & for cheating\n",
    "digit0=0\n",
    "digit1=1\n",
    "\n",
    "x_bin_cheat_set=x_train[np.logical_or(y_train==digit0,y_train==digit1)]\n",
    "y_bin_cheat_set=y_train[np.logical_or(y_train==digit0,y_train==digit1)]\n",
    "\n",
    "\n",
    "x_bin_train10_set=x_train[np.logical_or(y_train==digit0,y_train==digit1)]\n",
    "y_bin_train10_set=y_train[np.logical_or(y_train==digit0,y_train==digit1)]\n",
    "\n",
    "x_bin_test10_set=x_test[np.logical_or(y_test==digit0,y_test==digit1)]\n",
    "y_bin_test10_set=y_test[np.logical_or(y_test==digit0,y_test==digit1)]\n"
   ]
  },
  {
   "cell_type": "code",
   "execution_count": null,
   "metadata": {},
   "outputs": [],
   "source": [
    "# Extraction of train and test data for the 'hard' task\n",
    "digit4=4\n",
    "digit5=5\n",
    "x_bin_train45_set=x_train[np.logical_or(y_train==digit4,y_train==digit5)]\n",
    "y_bin_train45_set=y_train[np.logical_or(y_train==digit4,y_train==digit5)]\n",
    "\n",
    "x_bin_test45_set=x_test[np.logical_or(y_test==digit4,y_test==digit5)]\n",
    "y_bin_test45_set=y_test[np.logical_or(y_test==digit4,y_test==digit5)]\n"
   ]
  },
  {
   "cell_type": "code",
   "execution_count": null,
   "metadata": {},
   "outputs": [],
   "source": [
    "# When transforming the labels to categorial values, the output is sequential. In this case by transforming the labels for the 4th and \n",
    "# 5th digit the output result in a shape = (0, 6) === [0, 0, 0, 0, 0, 0] when we wish for it to have a (0, 2)/ binary shape.\n",
    "# To reduce the problem to a binary classification we will attempt of replacing the labels with 0 and 1 before tranforming them to \n",
    "# categorial\n",
    "\n",
    "y_bin_train45_set = np.where(y_bin_train45_set== digit4, 0,y_bin_train45_set)\n",
    "y_bin_train45_set = np.where(y_bin_train45_set== digit5, 1,y_bin_train45_set)\n",
    "\n",
    "y_bin_test45_set = np.where(y_bin_test45_set== digit4, 0, y_bin_test45_set)\n",
    "y_bin_test45_set = np.where(y_bin_test45_set == digit5, 1, y_bin_test45_set)"
   ]
  },
  {
   "cell_type": "code",
   "execution_count": null,
   "metadata": {},
   "outputs": [],
   "source": [
    "# Pre-processing step of the train and test data.\n",
    "# For fully connected networks the data is flatten before tranformed to a ratio value\n",
    "\n",
    "x_bin_train10_flatten = np.reshape(x_bin_train10_set, [-1, 784])\n",
    "x_bin_train45_flatten = np.reshape(x_bin_train45_set, [-1, 784])\n",
    "\n",
    "x_bin_train10_flatten = x_bin_train10_flatten.astype('float32') /255\n",
    "x_bin_train45_flatten = x_bin_train45_flatten.astype('float32') /255\n",
    "\n",
    "\n",
    "x_bin_train10 = x_bin_train10_set.astype('float32') /255\n",
    "x_bin_train45 = x_bin_train45_set.astype('float32') /255\n",
    "\n",
    "x_bin_test10_flatten = np.reshape(x_bin_test10_set, [-1, 784])\n",
    "x_bin_test45_flatten = np.reshape(x_bin_test45_set, [-1, 784])\n",
    "\n",
    "x_bin_test10_flatten = x_bin_test10_flatten.astype('float32') /255\n",
    "x_bin_test45_flatten = x_bin_test45_flatten.astype('float32') /255\n",
    "\n",
    "x_bin_test10 = x_bin_test10_set.astype('float32') /255\n",
    "x_bin_test45 = x_bin_test45_set.astype('float32') /255\n",
    "\n",
    "y_bin_train10 = to_categorical(y_bin_train10_set)\n",
    "y_bin_train45 = to_categorical(y_bin_train45_set)\n",
    "\n",
    "y_bin_test10 = to_categorical(y_bin_test10_set)\n",
    "y_bin_test45 = to_categorical(y_bin_test45_set)\n"
   ]
  },
  {
   "cell_type": "markdown",
   "metadata": {},
   "source": [
    "**a)** The code below corresponds to the setup and fitting (learning process) of all 12 networks. Afterwards, for each networks their evaluation scores are calculated and plotted in a dataFrame along with the their learning time. "
   ]
  },
  {
   "cell_type": "markdown",
   "metadata": {},
   "source": [
    "*0 and 1 classification*"
   ]
  },
  {
   "cell_type": "code",
   "execution_count": null,
   "metadata": {},
   "outputs": [],
   "source": [
    "# 3 layers fully connected networks (196 neurons)\n",
    "\n",
    "connected1 = Sequential()\n",
    "\n",
    "connected1.add(Dense(units=196, activation='relu', input_dim=784)) \n",
    "connected1.add(Dense(units=32, activation='relu'))\n",
    "connected1.add(Dense(units=2, activation='softmax')) \n",
    "\n",
    "sdg = optimizers.Adadelta(learning_rate=0.1)\n",
    "connected1 .compile(loss='categorical_crossentropy', optimizer=sdg, metrics=['accuracy'])\n",
    "\n",
    "t1 = time()\n",
    "history1 = connected1.fit(x_bin_train10_flatten, y_bin_train10, validation_split = 0.2, epochs=15, batch_size=100, verbose=0)\n",
    "t1 = time() - t1\n"
   ]
  },
  {
   "cell_type": "code",
   "execution_count": null,
   "metadata": {},
   "outputs": [],
   "source": [
    "#4 layer fully connected (784 neurons)\n",
    "\n",
    "connected2 = Sequential()\n",
    "\n",
    "connected2.add(Dense(units=784, activation='relu', input_dim=784)) \n",
    "connected2.add(Dense(units=196, activation='relu'))\n",
    "connected2.add(Dense(units=32, activation='relu'))\n",
    "connected2.add(Dense(units=2, activation='softmax')) \n",
    "\n",
    "sdg = optimizers.Adadelta(learning_rate=0.1)\n",
    "connected2.compile(loss='categorical_crossentropy', optimizer=sdg, metrics=['accuracy'])\n",
    "\n",
    "t2 = time()\n",
    "history2 = connected2.fit(x_bin_train10_flatten, y_bin_train10, validation_split = 0.2, epochs=15, batch_size=100, verbose=0)\n",
    "t2 = time() - t2\n"
   ]
  },
  {
   "cell_type": "code",
   "execution_count": null,
   "metadata": {},
   "outputs": [],
   "source": [
    "#4 layer fully connected (196 neurons)\n",
    "\n",
    "connected3 = Sequential()\n",
    "\n",
    "connected3.add(Dense(units=196, activation='relu', input_dim=784)) \n",
    "connected3.add(Dense(units=49, activation='relu')) \n",
    "connected3.add(Dense(units=32, activation='relu'))\n",
    "connected3.add(Dense(units=2, activation='softmax')) \n",
    "\n",
    "sdg = optimizers.Adadelta(learning_rate=0.1)\n",
    "connected3.compile(loss='categorical_crossentropy', optimizer=sdg, metrics=['accuracy'])\n",
    "\n",
    "t3 = time()\n",
    "history3 = connected3.fit(x_bin_train10_flatten, y_bin_train10, validation_split = 0.2, epochs=15, batch_size=100, verbose=0)\n",
    "t3 = time() -t3"
   ]
  },
  {
   "cell_type": "code",
   "execution_count": null,
   "metadata": {},
   "outputs": [],
   "source": [
    "#3 layer convocational (32 feature maps)\n",
    "\n",
    "seed(0)\n",
    "tf.random.set_seed(0)\n",
    "conv1 = Sequential()\n",
    "\n",
    "conv1.add(Input(shape= x_bin_test10[0].shape))\n",
    "conv1.add(Conv1D(32, kernel_size=3, activation='relu'))\n",
    "conv1.add(MaxPooling1D(pool_size=2))\n",
    "\n",
    "conv1.add(Conv1D(16, kernel_size=3, activation='relu'))\n",
    "conv1.add(MaxPooling1D(pool_size=2, padding='same'))\n",
    "\n",
    "conv1.add(Flatten()) \n",
    "conv1.add(Dense(units=2, activation='softmax'))\n",
    "\n",
    "adadelta = optimizers.Adadelta(learning_rate=0.1)\n",
    "conv1.compile(loss='categorical_crossentropy', optimizer=adadelta, metrics=['accuracy'])\n",
    "\n",
    "t_conv1 = time()\n",
    "history_conv1 = conv1.fit(x_bin_train10, y_bin_train10, validation_split=0.2, epochs=10, batch_size=50, verbose=0)\n",
    "t_conv1 = time()- t_conv1"
   ]
  },
  {
   "cell_type": "code",
   "execution_count": null,
   "metadata": {},
   "outputs": [],
   "source": [
    "#4 layer convocational (32 feature maps)\n",
    "\n",
    "seed(0)\n",
    "tf.random.set_seed(0)\n",
    "conv2 = Sequential()\n",
    "\n",
    "conv2.add(Input(shape= x_bin_test10[0].shape))\n",
    "conv2.add(Conv1D(32, kernel_size=3, activation='relu'))\n",
    "conv2.add(MaxPooling1D(pool_size=2))\n",
    "\n",
    "conv2.add(Conv1D(16, kernel_size=5, activation='relu'))\n",
    "conv2.add(MaxPooling1D(pool_size=2, padding='same'))\n",
    "\n",
    "conv2.add(Conv1D(8, kernel_size=3, activation='relu'))\n",
    "conv2.add(MaxPooling1D(pool_size=2, padding='same'))\n",
    "\n",
    "conv2.add(Flatten()) \n",
    "conv2.add(Dense(units=2, activation='softmax'))\n",
    "\n",
    "adadelta = optimizers.Adadelta(learning_rate=0.1)\n",
    "conv2.compile(loss='categorical_crossentropy', optimizer=adadelta, metrics=['accuracy'])\n",
    "\n",
    "t_conv2 = time()\n",
    "history_conv2 = conv2.fit(x_bin_train10, y_bin_train10, validation_split=0.2, epochs=10, batch_size=50, verbose=0)\n",
    "t_conv2 = time() -t_conv2\n"
   ]
  },
  {
   "cell_type": "code",
   "execution_count": null,
   "metadata": {},
   "outputs": [],
   "source": [
    "#4 layer convocational (16 feature maps)\n",
    "\n",
    "seed(0)\n",
    "tf.random.set_seed(0)\n",
    "conv3 = Sequential()\n",
    "\n",
    "conv3.add(Input(shape= x_bin_test10[0].shape))\n",
    "conv3.add(Conv1D(16, kernel_size=3, activation='relu'))\n",
    "conv3.add(MaxPooling1D(pool_size=2))\n",
    "\n",
    "conv3.add(Conv1D(8, kernel_size=5, activation='relu'))\n",
    "conv3.add(MaxPooling1D(pool_size=2, padding='same'))\n",
    "\n",
    "conv3.add(Conv1D(4, kernel_size=3, activation='relu'))\n",
    "conv3.add(MaxPooling1D(pool_size=2, padding='same'))\n",
    "\n",
    "conv3.add(Flatten()) \n",
    "conv3.add(Dense(units=2, activation='softmax'))\n",
    "\n",
    "adadelta = optimizers.Adadelta(learning_rate=0.1)\n",
    "conv3.compile(loss='categorical_crossentropy', optimizer=adadelta, metrics=['accuracy'])\n",
    "\n",
    "t_conv3 = time()\n",
    "history_conv3 = conv3.fit(x_bin_train10, y_bin_train10, validation_split=0.2, epochs=10, batch_size=50, verbose=0)\n",
    "t_conv3 = time() - t_conv3\n",
    "\n"
   ]
  },
  {
   "cell_type": "markdown",
   "metadata": {},
   "source": [
    "*4 and 5 classification*"
   ]
  },
  {
   "cell_type": "code",
   "execution_count": null,
   "metadata": {},
   "outputs": [],
   "source": [
    "# 3 layers fully connected networks (196 neurons)\n",
    "connected1_45 = Sequential()\n",
    "\n",
    "connected1_45.add(Dense(units=196, activation='relu', input_dim=784)) \n",
    "connected1_45.add(Dense(units=32, activation='relu'))\n",
    "connected1_45.add(Dense(units=2, activation='softmax')) \n",
    "\n",
    "sdg = optimizers.Adadelta(learning_rate=0.1)\n",
    "connected1_45 .compile(loss='categorical_crossentropy', optimizer=sdg, metrics=['accuracy'])\n",
    "\n",
    "t1_45 = time()\n",
    "history1_45 = connected1_45.fit(x_bin_train45_flatten, y_bin_train45, validation_split = 0.2, epochs=15, batch_size=100, verbose=0)\n",
    "t1_45 = time() - t1_45\n",
    "\n",
    "\n",
    "\n",
    "#4 layer fully connected (784 neurons)\n",
    "connected2_45 = Sequential()\n",
    "\n",
    "connected2_45.add(Dense(units=784, activation='relu', input_dim=784)) \n",
    "connected2_45.add(Dense(units=196, activation='relu'))\n",
    "connected2_45.add(Dense(units=32, activation='relu'))\n",
    "connected2_45.add(Dense(units=2, activation='softmax')) \n",
    "\n",
    "sdg = optimizers.Adadelta(learning_rate=0.1)\n",
    "connected2_45.compile(loss='categorical_crossentropy', optimizer=sdg, metrics=['accuracy'])\n",
    "\n",
    "t2_45 = time()\n",
    "history2_45 = connected2_45.fit(x_bin_train45_flatten, y_bin_train45, validation_split = 0.2, epochs=15, batch_size=100, verbose=0)\n",
    "t2_45 = time() - t2_45\n",
    "\n",
    "\n",
    "#4 layer fully connected (196 neurons)\n",
    "connected3_45 = Sequential()\n",
    "\n",
    "connected3_45.add(Dense(units=196, activation='relu', input_dim=784)) \n",
    "connected3_45.add(Dense(units=49, activation='relu')) \n",
    "connected3_45.add(Dense(units=32, activation='relu'))\n",
    "connected3_45.add(Dense(units=2, activation='softmax')) \n",
    "\n",
    "sdg = optimizers.Adadelta(learning_rate=0.1)\n",
    "connected3_45.compile(loss='categorical_crossentropy', optimizer=sdg, metrics=['accuracy'])\n",
    "\n",
    "t3_45 = time()\n",
    "history3_45 = connected3_45.fit(x_bin_train45_flatten, y_bin_train45, validation_split = 0.2, epochs=15, batch_size=100, verbose=0)\n",
    "t3_45 = time() -t3_45\n",
    "\n",
    "\n",
    "\n",
    "#3 layer convocational (32 feature maps)\n",
    "conv1_45 = Sequential()\n",
    "\n",
    "conv1_45.add(Input(shape= x_bin_test10[0].shape))\n",
    "conv1_45.add(Conv1D(32, kernel_size=3, activation='relu'))\n",
    "conv1_45.add(MaxPooling1D(pool_size=2))\n",
    "\n",
    "conv1_45.add(Conv1D(16, kernel_size=3, activation='relu'))\n",
    "conv1_45.add(MaxPooling1D(pool_size=2, padding='same'))\n",
    "\n",
    "conv1_45.add(Flatten()) \n",
    "conv1_45.add(Dense(units=2, activation='softmax'))\n",
    "\n",
    "adadelta = optimizers.Adadelta(learning_rate=0.1)\n",
    "conv1_45.compile(loss='categorical_crossentropy', optimizer=adadelta, metrics=['accuracy'])\n",
    "\n",
    "t_conv1_45 = time()\n",
    "history_conv1_45 = conv1_45.fit(x_bin_train45, y_bin_train45, validation_split=0.2, epochs=10, batch_size=50, verbose=0)\n",
    "t_conv1_45 = time()- t_conv1_45\n",
    "\n",
    "\n",
    "#4 layer convocational (32 feature maps)\n",
    "conv2_45 = Sequential()\n",
    "\n",
    "conv2_45.add(Input(shape= x_bin_test10[0].shape))\n",
    "conv2_45.add(Conv1D(32, kernel_size=3, activation='relu'))\n",
    "conv2_45.add(MaxPooling1D(pool_size=2))\n",
    "\n",
    "conv2_45.add(Conv1D(16, kernel_size=5, activation='relu'))\n",
    "conv2_45.add(MaxPooling1D(pool_size=2, padding='same'))\n",
    "\n",
    "conv2_45.add(Conv1D(8, kernel_size=3, activation='relu'))\n",
    "conv2_45.add(MaxPooling1D(pool_size=2, padding='same'))\n",
    "\n",
    "conv2_45.add(Flatten()) \n",
    "conv2_45.add(Dense(units=2, activation='softmax'))\n",
    "\n",
    "adadelta = optimizers.Adadelta(learning_rate=0.1)\n",
    "conv2_45.compile(loss='categorical_crossentropy', optimizer=adadelta, metrics=['accuracy'])\n",
    "\n",
    "t_conv2_45 = time()\n",
    "history_conv2_45 = conv2_45.fit(x_bin_train45, y_bin_train45, validation_split=0.2, epochs=10, batch_size=50, verbose=0)\n",
    "t_conv2_45 = time() -t_conv2_45\n",
    "\n",
    "\n",
    "#4 layer convocational (16 feature maps)\n",
    "conv3_45 = Sequential()\n",
    "\n",
    "conv3_45.add(Input(shape= x_bin_test10[0].shape))\n",
    "conv3_45.add(Conv1D(16, kernel_size=3, activation='relu'))\n",
    "conv3_45.add(MaxPooling1D(pool_size=2))\n",
    "\n",
    "conv3_45.add(Conv1D(8, kernel_size=5, activation='relu'))\n",
    "conv3_45.add(MaxPooling1D(pool_size=2, padding='same'))\n",
    "\n",
    "conv3_45.add(Conv1D(4, kernel_size=3, activation='relu'))\n",
    "conv3_45.add(MaxPooling1D(pool_size=2, padding='same'))\n",
    "\n",
    "conv3_45.add(Flatten()) \n",
    "conv3_45.add(Dense(units=2, activation='softmax'))\n",
    "\n",
    "adadelta = optimizers.Adadelta(learning_rate=0.1)\n",
    "conv3_45.compile(loss='categorical_crossentropy', optimizer=adadelta, metrics=['accuracy'])\n",
    "\n",
    "t_conv3_45 = time()\n",
    "history_conv3_45 = conv3_45.fit(x_bin_train45, y_bin_train45, validation_split=0.2, epochs=10, batch_size=50, verbose=0)\n",
    "t_conv3_45 = time() - t_conv3_45"
   ]
  },
  {
   "cell_type": "code",
   "execution_count": null,
   "metadata": {},
   "outputs": [],
   "source": [
    "#Now we evaluate all networks performance\n",
    "\n",
    "net1TrainScore = connected1.evaluate(x_bin_train10_flatten, y_bin_train10, verbose=0)\n",
    "net1TestScore = connected1.evaluate(x_bin_test10_flatten, y_bin_test10, verbose=0)\n",
    "\n",
    "net2TrainScore = connected2.evaluate(x_bin_train10_flatten, y_bin_train10, verbose=0)\n",
    "net2TestScore = connected2.evaluate(x_bin_test10_flatten, y_bin_test10, verbose=0)\n",
    "\n",
    "net3TrainScore = connected3.evaluate(x_bin_train10_flatten, y_bin_train10, verbose=0)\n",
    "net3TestScore = connected3.evaluate(x_bin_test10_flatten, y_bin_test10, verbose=0)\n",
    "\n",
    "net_conv1TrainScore = conv1.evaluate(x_bin_train10, y_bin_train10, verbose=0)\n",
    "net_conv1TestScore = conv1.evaluate(x_bin_test10, y_bin_test10, verbose=0)\n",
    "\n",
    "net_conv2TrainScore = conv2.evaluate(x_bin_train10, y_bin_train10, verbose=0)\n",
    "net_conv2TestScore = conv2.evaluate(x_bin_test10, y_bin_test10, verbose=0)\n",
    "\n",
    "net_conv3TrainScore = conv3.evaluate(x_bin_train10, y_bin_train10, verbose=0)\n",
    "net_conv3TestScore = conv3.evaluate(x_bin_test10, y_bin_test10, verbose=0)\n",
    "\n",
    "\n",
    "\n",
    "net1TrainScore_45 = connected1_45.evaluate(x_bin_train45_flatten, y_bin_train45, verbose=0)\n",
    "net1TestScore_45 = connected1_45.evaluate(x_bin_test45_flatten, y_bin_test45, verbose=0)\n",
    "\n",
    "net2TrainScore_45 = connected2_45.evaluate(x_bin_train45_flatten, y_bin_train45, verbose=0)\n",
    "net2TestScore_45 = connected2_45.evaluate(x_bin_test45_flatten, y_bin_test45, verbose=0)\n",
    "\n",
    "net3TrainScore_45 = connected3_45.evaluate(x_bin_train45_flatten, y_bin_train45, verbose=0)\n",
    "net3TestScore_45 = connected3_45.evaluate(x_bin_test45_flatten, y_bin_test45, verbose=0)\n",
    "\n",
    "net_conv1TrainScore_45 = conv1_45.evaluate(x_bin_train45, y_bin_train45, verbose=0)\n",
    "net_conv1TestScore_45 = conv1_45.evaluate(x_bin_test45, y_bin_test45, verbose=0)\n",
    "\n",
    "net_conv2TrainScore_45 = conv2_45.evaluate(x_bin_train45, y_bin_train45, verbose=0)\n",
    "net_conv2TestScore_45 = conv2_45.evaluate(x_bin_test45, y_bin_test45, verbose=0)\n",
    "\n",
    "net_conv3TrainScore_45 = conv3_45.evaluate(x_bin_train45, y_bin_train45, verbose=0)\n",
    "net_conv3TestScore_45 = conv3_45.evaluate(x_bin_test45, y_bin_test45, verbose=0)\n"
   ]
  },
  {
   "cell_type": "markdown",
   "metadata": {},
   "source": [
    "Having all networks' scores we can now plot them in their specific dataframe for each classification"
   ]
  },
  {
   "cell_type": "code",
   "execution_count": null,
   "metadata": {},
   "outputs": [],
   "source": [
    "data_10 = {'Train accuracy':[net1TrainScore[1], net2TrainScore[1],  net3TrainScore[1], net_conv1TrainScore[1], net_conv2TrainScore[1], net_conv3TrainScore[1] ], \n",
    "        'Train loss':[net1TrainScore[0], net2TrainScore[0],  net3TrainScore[0], net_conv1TrainScore[0], net_conv2TrainScore[0], net_conv3TrainScore[0] ], \n",
    "        'Validation accuracy mean': [np.mean(history1.history['val_accuracy']),np.mean(history2.history['val_accuracy']), np.mean(history3.history['val_accuracy']), np.mean(history_conv1.history['val_accuracy']), np.mean(history_conv2.history['val_accuracy']), np.mean(history_conv3.history['val_accuracy'])],\n",
    "        'Validation loss mean': [np.mean(history1.history['val_loss']), np.mean(history2.history['val_loss']), np.mean(history3.history['val_loss']), np.mean(history_conv1.history['val_loss']), np.mean(history_conv2.history['val_loss']), np.mean(history_conv3.history['val_loss'])],\n",
    "        'Test accuracy': [net1TestScore[1], net2TestScore[1], net3TestScore[1], net_conv1TestScore[1], net_conv1TestScore[1], net_conv1TestScore[1]], \n",
    "        'Test loss': [net1TestScore[0], net2TestScore[0], net3TestScore[0], net_conv1TestScore[0], net_conv1TestScore[0], net_conv1TestScore[0]], \n",
    "        'Learning Time':[t1, t2, t3, t_conv1, t_conv2, t_conv3]}  \n",
    "\n",
    "indexes_10 = ['3l fully con', '4l fully con (784)', '4l fully con (196)', '3l conv', '4l conv (32)', '4l conv (16)']\n",
    "\n",
    "dataframe_10 = pd.DataFrame(data= data_10, index= indexes_10)\n",
    "\n",
    "\n",
    "data_45 = {'Train accuracy':[net1TrainScore_45[1], net2TrainScore_45[1],  net3TrainScore_45[1], net_conv1TrainScore_45[1], net_conv2TrainScore_45[1], net_conv3TrainScore_45[1] ], \n",
    "        'Train loss':[net1TrainScore_45[0], net2TrainScore_45[0],  net3TrainScore_45[0], net_conv1TrainScore_45[0], net_conv2TrainScore_45[0], net_conv3TrainScore_45[0] ], \n",
    "        'Validation accuracy mean': [np.mean(history1_45.history['val_accuracy']),np.mean(history2_45.history['val_accuracy']), np.mean(history3_45.history['val_accuracy']), np.mean(history_conv1_45.history['val_accuracy']), np.mean(history_conv2_45.history['val_accuracy']), np.mean(history_conv3_45.history['val_accuracy'])],\n",
    "        'Validation loss mean': [np.mean(history1_45.history['val_loss']), np.mean(history2_45.history['val_loss']), np.mean(history3_45.history['val_loss']), np.mean(history_conv1_45.history['val_loss']), np.mean(history_conv2_45.history['val_loss']), np.mean(history_conv3_45.history['val_loss'])],\n",
    "        'Test accuracy': [net1TestScore_45[1], net2TestScore_45[1], net3TestScore_45[1], net_conv1TestScore_45[1], net_conv1TestScore_45[1], net_conv1TestScore_45[1]], \n",
    "        'Test loss': [net1TestScore_45[0], net2TestScore_45[0], net3TestScore_45[0], net_conv1TestScore_45[0], net_conv1TestScore_45[0], net_conv1TestScore_45[0]], \n",
    "        'Learning Time':[t1_45, t2_45, t3_45, t_conv1_45, t_conv2_45, t_conv3_45]}  \n",
    "\n",
    "indexes_45 = ['3l fully con', '4l fully con (784)', '4l fully con (196)', '3l conv', '4l conv (32)', '4l conv (16)']\n",
    "\n",
    "dataframe_45 = pd.DataFrame(data= data_45, index= indexes_45 )\n"
   ]
  },
  {
   "cell_type": "code",
   "execution_count": null,
   "metadata": {},
   "outputs": [
    {
     "name": "stdout",
     "output_type": "stream",
     "text": [
      "Results for networks trained on 1 and 0:\n"
     ]
    },
    {
     "data": {
      "text/html": [
       "<div>\n",
       "<style scoped>\n",
       "    .dataframe tbody tr th:only-of-type {\n",
       "        vertical-align: middle;\n",
       "    }\n",
       "\n",
       "    .dataframe tbody tr th {\n",
       "        vertical-align: top;\n",
       "    }\n",
       "\n",
       "    .dataframe thead th {\n",
       "        text-align: right;\n",
       "    }\n",
       "</style>\n",
       "<table border=\"1\" class=\"dataframe\">\n",
       "  <thead>\n",
       "    <tr style=\"text-align: right;\">\n",
       "      <th></th>\n",
       "      <th>Train accuracy</th>\n",
       "      <th>Train loss</th>\n",
       "      <th>Validation accuracy mean</th>\n",
       "      <th>Validation loss mean</th>\n",
       "      <th>Test accuracy</th>\n",
       "      <th>Test loss</th>\n",
       "      <th>Learning Time</th>\n",
       "    </tr>\n",
       "  </thead>\n",
       "  <tbody>\n",
       "    <tr>\n",
       "      <th>3l fully con</th>\n",
       "      <td>0.999447</td>\n",
       "      <td>0.001974</td>\n",
       "      <td>0.999342</td>\n",
       "      <td>0.004095</td>\n",
       "      <td>0.999527</td>\n",
       "      <td>0.001626</td>\n",
       "      <td>2.571377</td>\n",
       "    </tr>\n",
       "    <tr>\n",
       "      <th>4l fully con (784)</th>\n",
       "      <td>0.999842</td>\n",
       "      <td>0.000840</td>\n",
       "      <td>0.999579</td>\n",
       "      <td>0.002347</td>\n",
       "      <td>0.999527</td>\n",
       "      <td>0.002138</td>\n",
       "      <td>8.500996</td>\n",
       "    </tr>\n",
       "    <tr>\n",
       "      <th>4l fully con (196)</th>\n",
       "      <td>0.999447</td>\n",
       "      <td>0.001938</td>\n",
       "      <td>0.999237</td>\n",
       "      <td>0.004424</td>\n",
       "      <td>0.999527</td>\n",
       "      <td>0.002026</td>\n",
       "      <td>2.802852</td>\n",
       "    </tr>\n",
       "    <tr>\n",
       "      <th>3l conv</th>\n",
       "      <td>0.997947</td>\n",
       "      <td>0.006400</td>\n",
       "      <td>0.996605</td>\n",
       "      <td>0.014036</td>\n",
       "      <td>0.998582</td>\n",
       "      <td>0.003180</td>\n",
       "      <td>5.679491</td>\n",
       "    </tr>\n",
       "    <tr>\n",
       "      <th>4l conv (32)</th>\n",
       "      <td>0.998579</td>\n",
       "      <td>0.004536</td>\n",
       "      <td>0.998026</td>\n",
       "      <td>0.007933</td>\n",
       "      <td>0.998582</td>\n",
       "      <td>0.003180</td>\n",
       "      <td>5.482659</td>\n",
       "    </tr>\n",
       "    <tr>\n",
       "      <th>4l conv (16)</th>\n",
       "      <td>0.998184</td>\n",
       "      <td>0.006110</td>\n",
       "      <td>0.997197</td>\n",
       "      <td>0.022507</td>\n",
       "      <td>0.998582</td>\n",
       "      <td>0.003180</td>\n",
       "      <td>4.226252</td>\n",
       "    </tr>\n",
       "  </tbody>\n",
       "</table>\n",
       "</div>"
      ],
      "text/plain": [
       "                    Train accuracy  Train loss  Validation accuracy mean  \\\n",
       "3l fully con              0.999447    0.001974                  0.999342   \n",
       "4l fully con (784)        0.999842    0.000840                  0.999579   \n",
       "4l fully con (196)        0.999447    0.001938                  0.999237   \n",
       "3l conv                   0.997947    0.006400                  0.996605   \n",
       "4l conv (32)              0.998579    0.004536                  0.998026   \n",
       "4l conv (16)              0.998184    0.006110                  0.997197   \n",
       "\n",
       "                    Validation loss mean  Test accuracy  Test loss  \\\n",
       "3l fully con                    0.004095       0.999527   0.001626   \n",
       "4l fully con (784)              0.002347       0.999527   0.002138   \n",
       "4l fully con (196)              0.004424       0.999527   0.002026   \n",
       "3l conv                         0.014036       0.998582   0.003180   \n",
       "4l conv (32)                    0.007933       0.998582   0.003180   \n",
       "4l conv (16)                    0.022507       0.998582   0.003180   \n",
       "\n",
       "                    Learning Time  \n",
       "3l fully con             2.571377  \n",
       "4l fully con (784)       8.500996  \n",
       "4l fully con (196)       2.802852  \n",
       "3l conv                  5.679491  \n",
       "4l conv (32)             5.482659  \n",
       "4l conv (16)             4.226252  "
      ]
     },
     "execution_count": 49,
     "metadata": {},
     "output_type": "execute_result"
    }
   ],
   "source": [
    "print(\"Results for networks trained on 1 and 0:\")\n",
    "dataframe_10"
   ]
  },
  {
   "cell_type": "code",
   "execution_count": null,
   "metadata": {},
   "outputs": [
    {
     "name": "stdout",
     "output_type": "stream",
     "text": [
      "Results for networks trained on 4 and 5:\n"
     ]
    },
    {
     "data": {
      "text/html": [
       "<div>\n",
       "<style scoped>\n",
       "    .dataframe tbody tr th:only-of-type {\n",
       "        vertical-align: middle;\n",
       "    }\n",
       "\n",
       "    .dataframe tbody tr th {\n",
       "        vertical-align: top;\n",
       "    }\n",
       "\n",
       "    .dataframe thead th {\n",
       "        text-align: right;\n",
       "    }\n",
       "</style>\n",
       "<table border=\"1\" class=\"dataframe\">\n",
       "  <thead>\n",
       "    <tr style=\"text-align: right;\">\n",
       "      <th></th>\n",
       "      <th>Train accuracy</th>\n",
       "      <th>Train loss</th>\n",
       "      <th>Validation accuracy mean</th>\n",
       "      <th>Validation loss mean</th>\n",
       "      <th>Test accuracy</th>\n",
       "      <th>Test loss</th>\n",
       "      <th>Learning Time</th>\n",
       "    </tr>\n",
       "  </thead>\n",
       "  <tbody>\n",
       "    <tr>\n",
       "      <th>3l fully con</th>\n",
       "      <td>0.996981</td>\n",
       "      <td>0.011212</td>\n",
       "      <td>0.991212</td>\n",
       "      <td>0.031919</td>\n",
       "      <td>0.997866</td>\n",
       "      <td>0.009391</td>\n",
       "      <td>2.709326</td>\n",
       "    </tr>\n",
       "    <tr>\n",
       "      <th>4l fully con (784)</th>\n",
       "      <td>0.998579</td>\n",
       "      <td>0.006430</td>\n",
       "      <td>0.992395</td>\n",
       "      <td>0.026595</td>\n",
       "      <td>0.998399</td>\n",
       "      <td>0.005006</td>\n",
       "      <td>7.999367</td>\n",
       "    </tr>\n",
       "    <tr>\n",
       "      <th>4l fully con (196)</th>\n",
       "      <td>0.997603</td>\n",
       "      <td>0.009203</td>\n",
       "      <td>0.990413</td>\n",
       "      <td>0.029540</td>\n",
       "      <td>0.997332</td>\n",
       "      <td>0.009195</td>\n",
       "      <td>3.719148</td>\n",
       "    </tr>\n",
       "    <tr>\n",
       "      <th>3l conv</th>\n",
       "      <td>0.994762</td>\n",
       "      <td>0.019658</td>\n",
       "      <td>0.987528</td>\n",
       "      <td>0.061974</td>\n",
       "      <td>0.996265</td>\n",
       "      <td>0.012345</td>\n",
       "      <td>4.199400</td>\n",
       "    </tr>\n",
       "    <tr>\n",
       "      <th>4l conv (32)</th>\n",
       "      <td>0.995472</td>\n",
       "      <td>0.017399</td>\n",
       "      <td>0.987838</td>\n",
       "      <td>0.043874</td>\n",
       "      <td>0.996265</td>\n",
       "      <td>0.012345</td>\n",
       "      <td>4.293612</td>\n",
       "    </tr>\n",
       "    <tr>\n",
       "      <th>4l conv (16)</th>\n",
       "      <td>0.986504</td>\n",
       "      <td>0.040654</td>\n",
       "      <td>0.959121</td>\n",
       "      <td>0.135645</td>\n",
       "      <td>0.996265</td>\n",
       "      <td>0.012345</td>\n",
       "      <td>4.092199</td>\n",
       "    </tr>\n",
       "  </tbody>\n",
       "</table>\n",
       "</div>"
      ],
      "text/plain": [
       "                    Train accuracy  Train loss  Validation accuracy mean  \\\n",
       "3l fully con              0.996981    0.011212                  0.991212   \n",
       "4l fully con (784)        0.998579    0.006430                  0.992395   \n",
       "4l fully con (196)        0.997603    0.009203                  0.990413   \n",
       "3l conv                   0.994762    0.019658                  0.987528   \n",
       "4l conv (32)              0.995472    0.017399                  0.987838   \n",
       "4l conv (16)              0.986504    0.040654                  0.959121   \n",
       "\n",
       "                    Validation loss mean  Test accuracy  Test loss  \\\n",
       "3l fully con                    0.031919       0.997866   0.009391   \n",
       "4l fully con (784)              0.026595       0.998399   0.005006   \n",
       "4l fully con (196)              0.029540       0.997332   0.009195   \n",
       "3l conv                         0.061974       0.996265   0.012345   \n",
       "4l conv (32)                    0.043874       0.996265   0.012345   \n",
       "4l conv (16)                    0.135645       0.996265   0.012345   \n",
       "\n",
       "                    Learning Time  \n",
       "3l fully con             2.709326  \n",
       "4l fully con (784)       7.999367  \n",
       "4l fully con (196)       3.719148  \n",
       "3l conv                  4.199400  \n",
       "4l conv (32)             4.293612  \n",
       "4l conv (16)             4.092199  "
      ]
     },
     "execution_count": 50,
     "metadata": {},
     "output_type": "execute_result"
    }
   ],
   "source": [
    "print(\"Results for networks trained on 4 and 5:\")\n",
    "dataframe_45"
   ]
  },
  {
   "cell_type": "markdown",
   "metadata": {},
   "source": [
    "**b)** For this exercise the network with the poorest result in accuracy was used (4 layers convocational 16 f maps). We obtain the misclassified data for both tasks using the following code:"
   ]
  },
  {
   "cell_type": "code",
   "execution_count": null,
   "metadata": {},
   "outputs": [],
   "source": [
    "prediction = conv3.predict(x_bin_test10)\n",
    "prediction = np.argmax(prediction, axis=-1) \n",
    "\n",
    "y_test10 = np.argmax(y_bin_test10, axis=-1) \n",
    "y_test45 = np.argmax(y_bin_test45, axis=-1) \n",
    "\n",
    "y_test45 = np.where(y_test45 == digit0, 4, y_test45)\n",
    "y_test45 = np.where(y_test45 == digit1, 5, y_test45)\n",
    "\n",
    "\n",
    "misclass_10 =[]\n",
    "misclass_prediction_10 = []\n",
    "for label, prediction, data in zip(y_test10, prediction, x_bin_test10):\n",
    "    if label != prediction:\n",
    "        misclass_10.append(data)\n",
    "        misclass_prediction_10.append(prediction)\n",
    "\n",
    "prediction = conv3_45.predict(x_bin_test45)\n",
    "prediction = np.argmax(prediction, axis=-1) \n",
    "\n",
    "prediction = np.where(prediction == digit0, 4, prediction)\n",
    "prediction = np.where(prediction == digit1, 5, prediction)\n",
    "\n",
    "misclass_45 =[]\n",
    "misclass_prediction_45 = []\n",
    "for label, prediction, data in zip(y_test45, prediction, x_bin_test45):\n",
    "    if label!= prediction:\n",
    "        misclass_45.append(data)\n",
    "        misclass_prediction_45.append(prediction)"
   ]
  },
  {
   "cell_type": "code",
   "execution_count": null,
   "metadata": {},
   "outputs": [
    {
     "data": {
      "image/png": "[encoded data removed]",
      "text/plain": [
       "<Figure size 432x288 with 1 Axes>"
      ]
     },
     "metadata": {
      "needs_background": "light"
     },
     "output_type": "display_data"
    },
    {
     "name": "stdout",
     "output_type": "stream",
     "text": [
      "0\n"
     ]
    },
    {
     "data": {
      "image/png": "[encoded data removed]",
      "text/plain": [
       "<Figure size 432x288 with 1 Axes>"
      ]
     },
     "metadata": {
      "needs_background": "light"
     },
     "output_type": "display_data"
    },
    {
     "name": "stdout",
     "output_type": "stream",
     "text": [
      "1\n"
     ]
    },
    {
     "data": {
      "image/png": "[encoded data removed]",
      "text/plain": [
       "<Figure size 432x288 with 1 Axes>"
      ]
     },
     "metadata": {
      "needs_background": "light"
     },
     "output_type": "display_data"
    },
    {
     "name": "stdout",
     "output_type": "stream",
     "text": [
      "4\n"
     ]
    },
    {
     "data": {
      "image/png": "[encoded data removed]",
      "text/plain": [
       "<Figure size 432x288 with 1 Axes>"
      ]
     },
     "metadata": {
      "needs_background": "light"
     },
     "output_type": "display_data"
    },
    {
     "name": "stdout",
     "output_type": "stream",
     "text": [
      "5\n"
     ]
    },
    {
     "data": {
      "image/png": "[encoded data removed]",
      "text/plain": [
       "<Figure size 432x288 with 1 Axes>"
      ]
     },
     "metadata": {
      "needs_background": "light"
     },
     "output_type": "display_data"
    },
    {
     "name": "stdout",
     "output_type": "stream",
     "text": [
      "4\n"
     ]
    },
    {
     "data": {
      "image/png": "[encoded data removed]",
      "text/plain": [
       "<Figure size 432x288 with 1 Axes>"
      ]
     },
     "metadata": {
      "needs_background": "light"
     },
     "output_type": "display_data"
    },
    {
     "name": "stdout",
     "output_type": "stream",
     "text": [
      "4\n"
     ]
    },
    {
     "data": {
      "image/png": "[encoded data removed]",
      "text/plain": [
       "<Figure size 432x288 with 1 Axes>"
      ]
     },
     "metadata": {
      "needs_background": "light"
     },
     "output_type": "display_data"
    },
    {
     "name": "stdout",
     "output_type": "stream",
     "text": [
      "4\n"
     ]
    },
    {
     "data": {
      "image/png": "[encoded data removed]",
      "text/plain": [
       "<Figure size 432x288 with 1 Axes>"
      ]
     },
     "metadata": {
      "needs_background": "light"
     },
     "output_type": "display_data"
    },
    {
     "name": "stdout",
     "output_type": "stream",
     "text": [
      "4\n"
     ]
    },
    {
     "data": {
      "image/png": "[encoded data removed]",
      "text/plain": [
       "<Figure size 432x288 with 1 Axes>"
      ]
     },
     "metadata": {
      "needs_background": "light"
     },
     "output_type": "display_data"
    },
    {
     "name": "stdout",
     "output_type": "stream",
     "text": [
      "4\n"
     ]
    },
    {
     "data": {
      "image/png": "[encoded data removed]",
      "text/plain": [
       "<Figure size 432x288 with 1 Axes>"
      ]
     },
     "metadata": {
      "needs_background": "light"
     },
     "output_type": "display_data"
    },
    {
     "name": "stdout",
     "output_type": "stream",
     "text": [
      "5\n"
     ]
    },
    {
     "data": {
      "image/png": "[encoded data removed]",
      "text/plain": [
       "<Figure size 432x288 with 1 Axes>"
      ]
     },
     "metadata": {
      "needs_background": "light"
     },
     "output_type": "display_data"
    },
    {
     "name": "stdout",
     "output_type": "stream",
     "text": [
      "4\n"
     ]
    },
    {
     "data": {
      "image/png": "[encoded data removed]",
      "text/plain": [
       "<Figure size 432x288 with 1 Axes>"
      ]
     },
     "metadata": {
      "needs_background": "light"
     },
     "output_type": "display_data"
    },
    {
     "name": "stdout",
     "output_type": "stream",
     "text": [
      "4\n"
     ]
    },
    {
     "data": {
      "image/png": "[encoded data removed]",
      "text/plain": [
       "<Figure size 432x288 with 1 Axes>"
      ]
     },
     "metadata": {
      "needs_background": "light"
     },
     "output_type": "display_data"
    },
    {
     "name": "stdout",
     "output_type": "stream",
     "text": [
      "4\n"
     ]
    },
    {
     "data": {
      "image/png": "[encoded data removed]",
      "text/plain": [
       "<Figure size 432x288 with 1 Axes>"
      ]
     },
     "metadata": {
      "needs_background": "light"
     },
     "output_type": "display_data"
    },
    {
     "name": "stdout",
     "output_type": "stream",
     "text": [
      "5\n"
     ]
    },
    {
     "data": {
      "image/png": "[encoded data removed]",
      "text/plain": [
       "<Figure size 432x288 with 1 Axes>"
      ]
     },
     "metadata": {
      "needs_background": "light"
     },
     "output_type": "display_data"
    },
    {
     "name": "stdout",
     "output_type": "stream",
     "text": [
      "4\n"
     ]
    },
    {
     "data": {
      "image/png": "[encoded data removed]",
      "text/plain": [
       "<Figure size 432x288 with 1 Axes>"
      ]
     },
     "metadata": {
      "needs_background": "light"
     },
     "output_type": "display_data"
    },
    {
     "name": "stdout",
     "output_type": "stream",
     "text": [
      "5\n"
     ]
    },
    {
     "data": {
      "image/png": "[encoded data removed]",
      "text/plain": [
       "<Figure size 432x288 with 1 Axes>"
      ]
     },
     "metadata": {
      "needs_background": "light"
     },
     "output_type": "display_data"
    },
    {
     "name": "stdout",
     "output_type": "stream",
     "text": [
      "4\n"
     ]
    },
    {
     "data": {
      "image/png": "[encoded data removed]",
      "text/plain": [
       "<Figure size 432x288 with 1 Axes>"
      ]
     },
     "metadata": {
      "needs_background": "light"
     },
     "output_type": "display_data"
    },
    {
     "name": "stdout",
     "output_type": "stream",
     "text": [
      "4\n"
     ]
    },
    {
     "data": {
      "image/png": "[encoded data removed]",
      "text/plain": [
       "<Figure size 432x288 with 1 Axes>"
      ]
     },
     "metadata": {
      "needs_background": "light"
     },
     "output_type": "display_data"
    },
    {
     "name": "stdout",
     "output_type": "stream",
     "text": [
      "4\n"
     ]
    }
   ],
   "source": [
    "for data, prediction in zip(misclass_10, misclass_prediction_10):\n",
    "    plt.imshow(data,cmap=plt.cm.gray_r)\n",
    "    plt.show()\n",
    "    print(prediction)\n",
    "\n",
    "for data, prediction in zip(misclass_45, misclass_prediction_45):\n",
    "    plt.imshow(data,cmap=plt.cm.gray_r)\n",
    "    plt.show()\n",
    "    print(prediction)"
   ]
  },
  {
   "cell_type": "markdown",
   "metadata": {},
   "source": [
    "* By analyzing the miscalled images, we could comment that the images are not hard to distinguish with the human eye. <br/>\n",
    "* For the most part there isn't any apparent reason for the misclassification for the 0 and 1st digit. <br/>\n",
    "* We could argue that the reason that causes the confusion between 4 and the actual value of 5 is the fact that most images curve in a some-what 'S' shape at the point where the strait line of the 5 transforms in its arc. "
   ]
  },
  {
   "cell_type": "markdown",
   "metadata": {},
   "source": [
    "**c)** From the results obtained at point a) it is to observe that their is a general tendency for the accuracy to drop and for the loss to increase from an 'easy' task to 'difficult' task. "
   ]
  },
  {
   "cell_type": "code",
   "execution_count": null,
   "metadata": {},
   "outputs": [
    {
     "name": "stdout",
     "output_type": "stream",
     "text": [
      "2115\n",
      "1874\n"
     ]
    }
   ],
   "source": [
    "print(len(x_bin_test10))\n",
    "print(len(x_bin_test45))"
   ]
  },
  {
   "cell_type": "markdown",
   "metadata": {},
   "source": [
    "Even through all networks have constant epochs and batch_size value, it is hard to determine a pattern of the learning time curve. Reasons for this the fact that the dataset for the 'easy' task is significantly bigger then the dataset for the 'difficult' task. There are times when the time would increase with half of the time from the 'easy' results, but in some cases the learning time drops for what it can be explained by the smaller size of the dataset."
   ]
  },
  {
   "cell_type": "markdown",
   "metadata": {},
   "source": [
    "**d)** Looking at the results obtained at a) it is quite hard to pick the best configuration, as all have very good scores. In general, we could state that all networks would be a good solution for the problem. On the other hand, the criteria used to determine the answer was:\n",
    "* Learning time (as if we were to increase of the image size, the problem would exponentially expand in time)\n",
    "* Even or approximately equal results in train, validation and test loss\n",
    "* Not having the lowest result in accuracies\n",
    "* How is the network performing depending of the task ('easy' or 'hard') \n",
    "\n",
    "Having these characteristics the 3 layers (784 n) and 4 layers (196 n) fully connected networks were found to give the best results. We will attempt to determine the scores for both of them when classifying all 10 digits and determine the one that is better performing."
   ]
  },
  {
   "cell_type": "code",
   "execution_count": null,
   "metadata": {},
   "outputs": [
    {
     "name": "stdout",
     "output_type": "stream",
     "text": [
      "Accuracy on training data: [0.1014208123087883, 0.9706833362579346]\n",
      "Accuracy on testing data: [0.11894541233778, 0.9635999798774719]\n"
     ]
    },
    {
     "data": {
      "image/png": "[encoded data removed]",
      "text/plain": [
       "<Figure size 432x288 with 1 Axes>"
      ]
     },
     "metadata": {
      "needs_background": "light"
     },
     "output_type": "display_data"
    },
    {
     "data": {
      "image/png": "[encoded data removed]",
      "text/plain": [
       "<Figure size 432x288 with 1 Axes>"
      ]
     },
     "metadata": {
      "needs_background": "light"
     },
     "output_type": "display_data"
    }
   ],
   "source": [
    "\n",
    "## 3l (784)\n",
    "\n",
    "x_train_set = np.reshape(x_train, [-1, 784])\n",
    "x_train_set = x_train_set.astype('float32') /255\n",
    "\n",
    "x_test_set = np.reshape(x_test, [-1, 784])\n",
    "x_test_set = x_test_set.astype('float32') /255\n",
    "\n",
    "y_train_set = to_categorical(y_train)\n",
    "y_test_set = to_categorical(y_test)\n",
    "\n",
    "connected_3l = Sequential()\n",
    "\n",
    "connected_3l.add(Dense(units=196, activation='relu', input_dim=784)) \n",
    "connected_3l.add(Dense(units=49, activation='relu')) \n",
    "connected_3l.add(Dense(units=32, activation='relu'))\n",
    "connected_3l.add(Dense(units=10, activation='softmax')) \n",
    "\n",
    "sdg = optimizers.Adadelta(learning_rate=0.1)\n",
    "connected_3l.compile(loss='categorical_crossentropy', optimizer=sdg, metrics=['accuracy'])\n",
    "\n",
    "t = time()\n",
    "history_3l = connected_3l.fit(x_train_set, y_train_set, validation_split = 0.2, epochs=15, batch_size=100, verbose=0)\n",
    "t = time() -t\n",
    "\n",
    "print(\"Accuracy on training data: {}\".format(connected_3l.evaluate(x_train_set, y_train_set, verbose= 0)))\n",
    "print(\"Accuracy on testing data: {}\".format(connected_3l.evaluate(x_test_set, y_test_set, verbose= 0)))\n",
    "\n",
    "showStats(history_3l)"
   ]
  },
  {
   "cell_type": "code",
   "execution_count": null,
   "metadata": {},
   "outputs": [
    {
     "name": "stdout",
     "output_type": "stream",
     "text": [
      "Accuracy on training data: [0.1088980957865715, 0.9699833393096924]\n",
      "Accuracy on testing data: [0.11966246366500854, 0.9649999737739563]\n"
     ]
    },
    {
     "data": {
      "image/png": "[encoded data removed]",
      "text/plain": [
       "<Figure size 432x288 with 1 Axes>"
      ]
     },
     "metadata": {
      "needs_background": "light"
     },
     "output_type": "display_data"
    },
    {
     "data": {
      "image/png": "[encoded data removed]",
      "text/plain": [
       "<Figure size 432x288 with 1 Axes>"
      ]
     },
     "metadata": {
      "needs_background": "light"
     },
     "output_type": "display_data"
    }
   ],
   "source": [
    "# 4l (196)\n",
    "\n",
    "connected_4l = Sequential()\n",
    "\n",
    "connected_4l.add(Dense(units=196, activation='relu', input_dim=784)) \n",
    "connected_4l.add(Dense(units=32, activation='relu'))\n",
    "connected_4l.add(Dense(units=10, activation='softmax')) \n",
    "\n",
    "sdg = optimizers.Adadelta(learning_rate=0.1)\n",
    "connected_4l.compile(loss='categorical_crossentropy', optimizer=sdg, metrics=['accuracy'])\n",
    "\n",
    "t1 = time()\n",
    "history_4l = connected_4l.fit(x_train_set, y_train_set, validation_split = 0.2, epochs=15, batch_size=100, verbose=0)\n",
    "t1 = time() - t1\n",
    "\n",
    "print(\"Accuracy on training data: {}\".format(connected_4l.evaluate(x_train_set, y_train_set, verbose = 0)))\n",
    "print(\"Accuracy on testing data: {}\".format(connected_4l.evaluate(x_test_set, y_test_set, verbose= 0)))\n",
    "\n",
    "showStats(history_4l)"
   ]
  },
  {
   "cell_type": "markdown",
   "metadata": {},
   "source": [
    "Even though in the binary tasks the 3l network performed best, it capitulates in terms of accuracy when but to classify all 10 digits in favor of the 4l one. We can argue for this statement as the 4l disposes of more computation power due to the additional convocational layer, being able to better learn on the multitude of features the set with all digits has. <br/>\n",
    "\n",
    "Below we plot the confusion matrix for the 4l (196) network:"
   ]
  },
  {
   "cell_type": "code",
   "execution_count": null,
   "metadata": {},
   "outputs": [
    {
     "name": "stdout",
     "output_type": "stream",
     "text": [
      "Confusion matrix:\n",
      "[[ 967    0    0    1    0    3    6    1    1    1]\n",
      " [   0 1122    2    1    0    1    5    0    4    0]\n",
      " [   5    3  993    5    4    1    4    7    8    2]\n",
      " [   0    1   11  964    0    8    1   10    9    6]\n",
      " [   2    0    3    0  948    0    8    2    2   17]\n",
      " [   7    2    0    5    1  854   10    1    7    5]\n",
      " [   7    3    0    0    6    7  930    1    4    0]\n",
      " [   1   11   15    4    0    1    0  983    1   12]\n",
      " [   6    1    3    7    3    7    6    9  928    4]\n",
      " [   6    7    1    3   17    5    1    7    1  961]]\n"
     ]
    },
    {
     "data": {
      "image/png": "[encoded data removed]",
      "text/plain": [
       "<Figure size 432x288 with 2 Axes>"
      ]
     },
     "metadata": {
      "needs_background": "light"
     },
     "output_type": "display_data"
    }
   ],
   "source": [
    "prediction = connected_4l.predict(x_test_set)\n",
    "\n",
    "cm = confusion_matrix(y_test_set.argmax(axis=1), prediction.argmax(axis=1))\n",
    "disp = ConfusionMatrixDisplay(confusion_matrix=cm)\n",
    "\n",
    "print(f\"Confusion matrix:\\n{disp.confusion_matrix}\")\n",
    "disp.plot()\n",
    "plt.show()"
   ]
  },
  {
   "cell_type": "markdown",
   "metadata": {},
   "source": [
    "From the confusion matrix above we can determine the following:\n",
    "* 1 is the most recognizable digit.\n",
    "* 5 is the least most recognizable digit\n",
    "* 5 mostly confused with 6 (or 3 in some runs)\n",
    "* The biggest confusion is done between 4 and 9 (12 pictures of 4 were labeled incorrectly as 9 and 19 images of 9 as 4)"
   ]
  },
  {
   "cell_type": "markdown",
   "metadata": {
    "collapsed": true
   },
   "source": [
    "### Cheating"
   ]
  },
  {
   "cell_type": "markdown",
   "metadata": {},
   "source": [
    "We next investigate the capability of the neural networks to find a good model, knowing that a very accurate model exists. For this, we add some 'cheat info' to our data: we replace the first pixel value in the data matrix by a digit that simply contains a 0/1 encoding of the actual class label: "
   ]
  },
  {
   "cell_type": "code",
   "execution_count": null,
   "metadata": {},
   "outputs": [],
   "source": [
    "#adding cheating information to the training data:\n",
    "cheatcol_train=np.array(y_bin_cheat_set) #making a copy of the original target array\n",
    "cheatcol_train[cheatcol_train==digit0]=0  #re-coding the two classes as 0s and 1s\n",
    "cheatcol_train[cheatcol_train==digit1]=1\n",
    "x_bin_cheat_train = np.copy(x_bin_cheat_set)\n",
    "x_bin_cheat_train[:,0,0] = cheatcol_train.reshape(len(cheatcol_train))\n",
    "\n",
    "#adding cheating information to the testing data:\n",
    "cheatcol_test=np.array(y_bin_cheat_set) #making a copy of the original target array\n",
    "cheatcol_test[cheatcol_test==digit0]=0  #re-coding the two classes as 0s and 1s\n",
    "cheatcol_test[cheatcol_test==digit1]=1\n",
    "x_bin_cheat_test = np.copy(x_bin_cheat_set)\n",
    "x_bin_cheat_test[:,0,0] = cheatcol_test.reshape(len(cheatcol_test))"
   ]
  },
  {
   "cell_type": "markdown",
   "metadata": {},
   "source": [
    "The neural networks should, in principle, be able to construct a 100% accurate classifier for this data: we only have to 'learn' that only the first pixel in the data matters. \n",
    "\n",
    "**e)** Describe, briefly, how the weights of a (fully connected) network (with arbitrary number of layers) would have to be set, so that the resulting model is 100% accurate on this cheating data. This part of the exercise does not involve any Python code. Just give your answer in a short text.\n",
    "\n",
    "**f)** Investigate how the accuracy improves in practice on this new dataset. Do you achieve 100% accuracy on the test set? If not, try to change the encoding in the cheat column: instead of representing digit1 with a 1, use a larger number, e.g. 250. Does that help? Why?"
   ]
  },
  {
   "cell_type": "code",
   "execution_count": null,
   "metadata": {},
   "outputs": [
    {
     "ename": "InvalidArgumentError",
     "evalue": " logits and labels must be broadcastable: logits_size=[32,10] labels_size=[32,2]\n\t [[node categorical_crossentropy/softmax_cross_entropy_with_logits (defined at \\AppData\\Local\\Temp/ipykernel_5828/2425971929.py:7) ]] [Op:__inference_test_function_344022]\n\nFunction call stack:\ntest_function\n",
     "output_type": "error",
     "traceback": [
      "\u001b[1;31m---------------------------------------------------------------------------\u001b[0m",
      "\u001b[1;31mInvalidArgumentError\u001b[0m                      Traceback (most recent call last)",
      "\u001b[1;32m~\\AppData\\Local\\Temp/ipykernel_5828/2425971929.py\u001b[0m in \u001b[0;36m<module>\u001b[1;34m\u001b[0m\n\u001b[0;32m      5\u001b[0m \u001b[0my_bin_cheat_categorial\u001b[0m \u001b[1;33m=\u001b[0m \u001b[0mto_categorical\u001b[0m\u001b[1;33m(\u001b[0m\u001b[0my_bin_cheat_set\u001b[0m\u001b[1;33m)\u001b[0m\u001b[1;33m\u001b[0m\u001b[1;33m\u001b[0m\u001b[0m\n\u001b[0;32m      6\u001b[0m \u001b[1;33m\u001b[0m\u001b[0m\n\u001b[1;32m----> 7\u001b[1;33m \u001b[0mprint\u001b[0m\u001b[1;33m(\u001b[0m\u001b[1;34m\"Accuracy on training data: {}\"\u001b[0m\u001b[1;33m.\u001b[0m\u001b[0mformat\u001b[0m\u001b[1;33m(\u001b[0m\u001b[0mconnected_4l\u001b[0m\u001b[1;33m.\u001b[0m\u001b[0mevaluate\u001b[0m\u001b[1;33m(\u001b[0m\u001b[0mx_bin_cheat_flatten\u001b[0m\u001b[1;33m,\u001b[0m \u001b[0my_bin_cheat_categorial\u001b[0m\u001b[1;33m,\u001b[0m \u001b[0mverbose\u001b[0m \u001b[1;33m=\u001b[0m \u001b[1;36m0\u001b[0m\u001b[1;33m)\u001b[0m\u001b[1;33m)\u001b[0m\u001b[1;33m)\u001b[0m\u001b[1;33m\u001b[0m\u001b[1;33m\u001b[0m\u001b[0m\n\u001b[0m\u001b[0;32m      8\u001b[0m \u001b[1;33m\u001b[0m\u001b[0m\n\u001b[0;32m      9\u001b[0m \u001b[0mshowStats\u001b[0m\u001b[1;33m(\u001b[0m\u001b[0mhistory\u001b[0m\u001b[1;33m)\u001b[0m\u001b[1;33m\u001b[0m\u001b[1;33m\u001b[0m\u001b[0m\n",
      "\u001b[1;32m~\\anaconda3\\lib\\site-packages\\tensorflow\\python\\keras\\engine\\training.py\u001b[0m in \u001b[0;36m_method_wrapper\u001b[1;34m(self, *args, **kwargs)\u001b[0m\n\u001b[0;32m    106\u001b[0m   \u001b[1;32mdef\u001b[0m \u001b[0m_method_wrapper\u001b[0m\u001b[1;33m(\u001b[0m\u001b[0mself\u001b[0m\u001b[1;33m,\u001b[0m \u001b[1;33m*\u001b[0m\u001b[0margs\u001b[0m\u001b[1;33m,\u001b[0m \u001b[1;33m**\u001b[0m\u001b[0mkwargs\u001b[0m\u001b[1;33m)\u001b[0m\u001b[1;33m:\u001b[0m\u001b[1;33m\u001b[0m\u001b[1;33m\u001b[0m\u001b[0m\n\u001b[0;32m    107\u001b[0m     \u001b[1;32mif\u001b[0m \u001b[1;32mnot\u001b[0m \u001b[0mself\u001b[0m\u001b[1;33m.\u001b[0m\u001b[0m_in_multi_worker_mode\u001b[0m\u001b[1;33m(\u001b[0m\u001b[1;33m)\u001b[0m\u001b[1;33m:\u001b[0m  \u001b[1;31m# pylint: disable=protected-access\u001b[0m\u001b[1;33m\u001b[0m\u001b[1;33m\u001b[0m\u001b[0m\n\u001b[1;32m--> 108\u001b[1;33m       \u001b[1;32mreturn\u001b[0m \u001b[0mmethod\u001b[0m\u001b[1;33m(\u001b[0m\u001b[0mself\u001b[0m\u001b[1;33m,\u001b[0m \u001b[1;33m*\u001b[0m\u001b[0margs\u001b[0m\u001b[1;33m,\u001b[0m \u001b[1;33m**\u001b[0m\u001b[0mkwargs\u001b[0m\u001b[1;33m)\u001b[0m\u001b[1;33m\u001b[0m\u001b[1;33m\u001b[0m\u001b[0m\n\u001b[0m\u001b[0;32m    109\u001b[0m \u001b[1;33m\u001b[0m\u001b[0m\n\u001b[0;32m    110\u001b[0m     \u001b[1;31m# Running inside `run_distribute_coordinator` already.\u001b[0m\u001b[1;33m\u001b[0m\u001b[1;33m\u001b[0m\u001b[1;33m\u001b[0m\u001b[0m\n",
      "\u001b[1;32m~\\anaconda3\\lib\\site-packages\\tensorflow\\python\\keras\\engine\\training.py\u001b[0m in \u001b[0;36mevaluate\u001b[1;34m(self, x, y, batch_size, verbose, sample_weight, steps, callbacks, max_queue_size, workers, use_multiprocessing, return_dict)\u001b[0m\n\u001b[0;32m   1377\u001b[0m             \u001b[1;32mwith\u001b[0m \u001b[0mtrace\u001b[0m\u001b[1;33m.\u001b[0m\u001b[0mTrace\u001b[0m\u001b[1;33m(\u001b[0m\u001b[1;34m'TraceContext'\u001b[0m\u001b[1;33m,\u001b[0m \u001b[0mgraph_type\u001b[0m\u001b[1;33m=\u001b[0m\u001b[1;34m'test'\u001b[0m\u001b[1;33m,\u001b[0m \u001b[0mstep_num\u001b[0m\u001b[1;33m=\u001b[0m\u001b[0mstep\u001b[0m\u001b[1;33m)\u001b[0m\u001b[1;33m:\u001b[0m\u001b[1;33m\u001b[0m\u001b[1;33m\u001b[0m\u001b[0m\n\u001b[0;32m   1378\u001b[0m               \u001b[0mcallbacks\u001b[0m\u001b[1;33m.\u001b[0m\u001b[0mon_test_batch_begin\u001b[0m\u001b[1;33m(\u001b[0m\u001b[0mstep\u001b[0m\u001b[1;33m)\u001b[0m\u001b[1;33m\u001b[0m\u001b[1;33m\u001b[0m\u001b[0m\n\u001b[1;32m-> 1379\u001b[1;33m               \u001b[0mtmp_logs\u001b[0m \u001b[1;33m=\u001b[0m \u001b[0mtest_function\u001b[0m\u001b[1;33m(\u001b[0m\u001b[0miterator\u001b[0m\u001b[1;33m)\u001b[0m\u001b[1;33m\u001b[0m\u001b[1;33m\u001b[0m\u001b[0m\n\u001b[0m\u001b[0;32m   1380\u001b[0m               \u001b[1;32mif\u001b[0m \u001b[0mdata_handler\u001b[0m\u001b[1;33m.\u001b[0m\u001b[0mshould_sync\u001b[0m\u001b[1;33m:\u001b[0m\u001b[1;33m\u001b[0m\u001b[1;33m\u001b[0m\u001b[0m\n\u001b[0;32m   1381\u001b[0m                 \u001b[0mcontext\u001b[0m\u001b[1;33m.\u001b[0m\u001b[0masync_wait\u001b[0m\u001b[1;33m(\u001b[0m\u001b[1;33m)\u001b[0m\u001b[1;33m\u001b[0m\u001b[1;33m\u001b[0m\u001b[0m\n",
      "\u001b[1;32m~\\anaconda3\\lib\\site-packages\\tensorflow\\python\\eager\\def_function.py\u001b[0m in \u001b[0;36m__call__\u001b[1;34m(self, *args, **kwds)\u001b[0m\n\u001b[0;32m    778\u001b[0m       \u001b[1;32melse\u001b[0m\u001b[1;33m:\u001b[0m\u001b[1;33m\u001b[0m\u001b[1;33m\u001b[0m\u001b[0m\n\u001b[0;32m    779\u001b[0m         \u001b[0mcompiler\u001b[0m \u001b[1;33m=\u001b[0m \u001b[1;34m\"nonXla\"\u001b[0m\u001b[1;33m\u001b[0m\u001b[1;33m\u001b[0m\u001b[0m\n\u001b[1;32m--> 780\u001b[1;33m         \u001b[0mresult\u001b[0m \u001b[1;33m=\u001b[0m \u001b[0mself\u001b[0m\u001b[1;33m.\u001b[0m\u001b[0m_call\u001b[0m\u001b[1;33m(\u001b[0m\u001b[1;33m*\u001b[0m\u001b[0margs\u001b[0m\u001b[1;33m,\u001b[0m \u001b[1;33m**\u001b[0m\u001b[0mkwds\u001b[0m\u001b[1;33m)\u001b[0m\u001b[1;33m\u001b[0m\u001b[1;33m\u001b[0m\u001b[0m\n\u001b[0m\u001b[0;32m    781\u001b[0m \u001b[1;33m\u001b[0m\u001b[0m\n\u001b[0;32m    782\u001b[0m       \u001b[0mnew_tracing_count\u001b[0m \u001b[1;33m=\u001b[0m \u001b[0mself\u001b[0m\u001b[1;33m.\u001b[0m\u001b[0m_get_tracing_count\u001b[0m\u001b[1;33m(\u001b[0m\u001b[1;33m)\u001b[0m\u001b[1;33m\u001b[0m\u001b[1;33m\u001b[0m\u001b[0m\n",
      "\u001b[1;32m~\\anaconda3\\lib\\site-packages\\tensorflow\\python\\eager\\def_function.py\u001b[0m in \u001b[0;36m_call\u001b[1;34m(self, *args, **kwds)\u001b[0m\n\u001b[0;32m    812\u001b[0m       \u001b[1;31m# In this case we have not created variables on the first call. So we can\u001b[0m\u001b[1;33m\u001b[0m\u001b[1;33m\u001b[0m\u001b[1;33m\u001b[0m\u001b[0m\n\u001b[0;32m    813\u001b[0m       \u001b[1;31m# run the first trace but we should fail if variables are created.\u001b[0m\u001b[1;33m\u001b[0m\u001b[1;33m\u001b[0m\u001b[1;33m\u001b[0m\u001b[0m\n\u001b[1;32m--> 814\u001b[1;33m       \u001b[0mresults\u001b[0m \u001b[1;33m=\u001b[0m \u001b[0mself\u001b[0m\u001b[1;33m.\u001b[0m\u001b[0m_stateful_fn\u001b[0m\u001b[1;33m(\u001b[0m\u001b[1;33m*\u001b[0m\u001b[0margs\u001b[0m\u001b[1;33m,\u001b[0m \u001b[1;33m**\u001b[0m\u001b[0mkwds\u001b[0m\u001b[1;33m)\u001b[0m\u001b[1;33m\u001b[0m\u001b[1;33m\u001b[0m\u001b[0m\n\u001b[0m\u001b[0;32m    815\u001b[0m       \u001b[1;32mif\u001b[0m \u001b[0mself\u001b[0m\u001b[1;33m.\u001b[0m\u001b[0m_created_variables\u001b[0m\u001b[1;33m:\u001b[0m\u001b[1;33m\u001b[0m\u001b[1;33m\u001b[0m\u001b[0m\n\u001b[0;32m    816\u001b[0m         raise ValueError(\"Creating variables on a non-first call to a function\"\n",
      "\u001b[1;32m~\\anaconda3\\lib\\site-packages\\tensorflow\\python\\eager\\function.py\u001b[0m in \u001b[0;36m__call__\u001b[1;34m(self, *args, **kwargs)\u001b[0m\n\u001b[0;32m   2827\u001b[0m     \u001b[1;32mwith\u001b[0m \u001b[0mself\u001b[0m\u001b[1;33m.\u001b[0m\u001b[0m_lock\u001b[0m\u001b[1;33m:\u001b[0m\u001b[1;33m\u001b[0m\u001b[1;33m\u001b[0m\u001b[0m\n\u001b[0;32m   2828\u001b[0m       \u001b[0mgraph_function\u001b[0m\u001b[1;33m,\u001b[0m \u001b[0margs\u001b[0m\u001b[1;33m,\u001b[0m \u001b[0mkwargs\u001b[0m \u001b[1;33m=\u001b[0m \u001b[0mself\u001b[0m\u001b[1;33m.\u001b[0m\u001b[0m_maybe_define_function\u001b[0m\u001b[1;33m(\u001b[0m\u001b[0margs\u001b[0m\u001b[1;33m,\u001b[0m \u001b[0mkwargs\u001b[0m\u001b[1;33m)\u001b[0m\u001b[1;33m\u001b[0m\u001b[1;33m\u001b[0m\u001b[0m\n\u001b[1;32m-> 2829\u001b[1;33m     \u001b[1;32mreturn\u001b[0m \u001b[0mgraph_function\u001b[0m\u001b[1;33m.\u001b[0m\u001b[0m_filtered_call\u001b[0m\u001b[1;33m(\u001b[0m\u001b[0margs\u001b[0m\u001b[1;33m,\u001b[0m \u001b[0mkwargs\u001b[0m\u001b[1;33m)\u001b[0m  \u001b[1;31m# pylint: disable=protected-access\u001b[0m\u001b[1;33m\u001b[0m\u001b[1;33m\u001b[0m\u001b[0m\n\u001b[0m\u001b[0;32m   2830\u001b[0m \u001b[1;33m\u001b[0m\u001b[0m\n\u001b[0;32m   2831\u001b[0m   \u001b[1;33m@\u001b[0m\u001b[0mproperty\u001b[0m\u001b[1;33m\u001b[0m\u001b[1;33m\u001b[0m\u001b[0m\n",
      "\u001b[1;32m~\\anaconda3\\lib\\site-packages\\tensorflow\\python\\eager\\function.py\u001b[0m in \u001b[0;36m_filtered_call\u001b[1;34m(self, args, kwargs, cancellation_manager)\u001b[0m\n\u001b[0;32m   1841\u001b[0m       \u001b[0;31m`\u001b[0m\u001b[0margs\u001b[0m\u001b[0;31m`\u001b[0m \u001b[1;32mand\u001b[0m\u001b[0;31m \u001b[0m\u001b[0;31m`\u001b[0m\u001b[0mkwargs\u001b[0m\u001b[0;31m`\u001b[0m\u001b[1;33m.\u001b[0m\u001b[1;33m\u001b[0m\u001b[1;33m\u001b[0m\u001b[0m\n\u001b[0;32m   1842\u001b[0m     \"\"\"\n\u001b[1;32m-> 1843\u001b[1;33m     return self._call_flat(\n\u001b[0m\u001b[0;32m   1844\u001b[0m         [t for t in nest.flatten((args, kwargs), expand_composites=True)\n\u001b[0;32m   1845\u001b[0m          if isinstance(t, (ops.Tensor,\n",
      "\u001b[1;32m~\\anaconda3\\lib\\site-packages\\tensorflow\\python\\eager\\function.py\u001b[0m in \u001b[0;36m_call_flat\u001b[1;34m(self, args, captured_inputs, cancellation_manager)\u001b[0m\n\u001b[0;32m   1921\u001b[0m         and executing_eagerly):\n\u001b[0;32m   1922\u001b[0m       \u001b[1;31m# No tape is watching; skip to running the function.\u001b[0m\u001b[1;33m\u001b[0m\u001b[1;33m\u001b[0m\u001b[1;33m\u001b[0m\u001b[0m\n\u001b[1;32m-> 1923\u001b[1;33m       return self._build_call_outputs(self._inference_function.call(\n\u001b[0m\u001b[0;32m   1924\u001b[0m           ctx, args, cancellation_manager=cancellation_manager))\n\u001b[0;32m   1925\u001b[0m     forward_backward = self._select_forward_and_backward_functions(\n",
      "\u001b[1;32m~\\anaconda3\\lib\\site-packages\\tensorflow\\python\\eager\\function.py\u001b[0m in \u001b[0;36mcall\u001b[1;34m(self, ctx, args, cancellation_manager)\u001b[0m\n\u001b[0;32m    543\u001b[0m       \u001b[1;32mwith\u001b[0m \u001b[0m_InterpolateFunctionError\u001b[0m\u001b[1;33m(\u001b[0m\u001b[0mself\u001b[0m\u001b[1;33m)\u001b[0m\u001b[1;33m:\u001b[0m\u001b[1;33m\u001b[0m\u001b[1;33m\u001b[0m\u001b[0m\n\u001b[0;32m    544\u001b[0m         \u001b[1;32mif\u001b[0m \u001b[0mcancellation_manager\u001b[0m \u001b[1;32mis\u001b[0m \u001b[1;32mNone\u001b[0m\u001b[1;33m:\u001b[0m\u001b[1;33m\u001b[0m\u001b[1;33m\u001b[0m\u001b[0m\n\u001b[1;32m--> 545\u001b[1;33m           outputs = execute.execute(\n\u001b[0m\u001b[0;32m    546\u001b[0m               \u001b[0mstr\u001b[0m\u001b[1;33m(\u001b[0m\u001b[0mself\u001b[0m\u001b[1;33m.\u001b[0m\u001b[0msignature\u001b[0m\u001b[1;33m.\u001b[0m\u001b[0mname\u001b[0m\u001b[1;33m)\u001b[0m\u001b[1;33m,\u001b[0m\u001b[1;33m\u001b[0m\u001b[1;33m\u001b[0m\u001b[0m\n\u001b[0;32m    547\u001b[0m               \u001b[0mnum_outputs\u001b[0m\u001b[1;33m=\u001b[0m\u001b[0mself\u001b[0m\u001b[1;33m.\u001b[0m\u001b[0m_num_outputs\u001b[0m\u001b[1;33m,\u001b[0m\u001b[1;33m\u001b[0m\u001b[1;33m\u001b[0m\u001b[0m\n",
      "\u001b[1;32m~\\anaconda3\\lib\\site-packages\\tensorflow\\python\\eager\\execute.py\u001b[0m in \u001b[0;36mquick_execute\u001b[1;34m(op_name, num_outputs, inputs, attrs, ctx, name)\u001b[0m\n\u001b[0;32m     57\u001b[0m   \u001b[1;32mtry\u001b[0m\u001b[1;33m:\u001b[0m\u001b[1;33m\u001b[0m\u001b[1;33m\u001b[0m\u001b[0m\n\u001b[0;32m     58\u001b[0m     \u001b[0mctx\u001b[0m\u001b[1;33m.\u001b[0m\u001b[0mensure_initialized\u001b[0m\u001b[1;33m(\u001b[0m\u001b[1;33m)\u001b[0m\u001b[1;33m\u001b[0m\u001b[1;33m\u001b[0m\u001b[0m\n\u001b[1;32m---> 59\u001b[1;33m     tensors = pywrap_tfe.TFE_Py_Execute(ctx._handle, device_name, op_name,\n\u001b[0m\u001b[0;32m     60\u001b[0m                                         inputs, attrs, num_outputs)\n\u001b[0;32m     61\u001b[0m   \u001b[1;32mexcept\u001b[0m \u001b[0mcore\u001b[0m\u001b[1;33m.\u001b[0m\u001b[0m_NotOkStatusException\u001b[0m \u001b[1;32mas\u001b[0m \u001b[0me\u001b[0m\u001b[1;33m:\u001b[0m\u001b[1;33m\u001b[0m\u001b[1;33m\u001b[0m\u001b[0m\n",
      "\u001b[1;31mInvalidArgumentError\u001b[0m:  logits and labels must be broadcastable: logits_size=[32,10] labels_size=[32,2]\n\t [[node categorical_crossentropy/softmax_cross_entropy_with_logits (defined at \\AppData\\Local\\Temp/ipykernel_5828/2425971929.py:7) ]] [Op:__inference_test_function_344022]\n\nFunction call stack:\ntest_function\n"
     ]
    }
   ],
   "source": [
    "# 4l (196)\n",
    "x_bin_cheat_flatten = np.reshape(x_bin_cheat_set, [-1, 784])\n",
    "x_bin_cheat_flatten = x_bin_cheat_flatten.astype('float32') /255\n",
    "\n",
    "y_bin_cheat_categorial = to_categorical(y_bin_cheat_set)\n",
    "\n",
    "print(\"Accuracy on cheat data: {}\".format(connected_4l.evaluate(x_bin_cheat_flatten, y_bin_cheat_categorial, verbose = 0)))\n",
    "\n",
    "showStats(history)"
   ]
  },
  {
   "cell_type": "markdown",
   "metadata": {},
   "source": [
    "# Exercise 3 - Data preparation, exploration and feature engineering"
   ]
  },
  {
   "cell_type": "markdown",
   "metadata": {},
   "source": [
    "In this exercise, you are going to investigate student dropout based on the dataset \"churn2000.cvs\". This is a real dataset, and there is no single \"correct\" way to use it (however, there are several wrong ones!). Your exercise is to explore one or more possible usecases, and document the one(s) you find the most fruitful/interesting.  Your work should probably include the steps below:\n",
    "\n",
    "- An investigation of the data, using e.g. FACETs, Pandas, and/or whatever other tools you prefer. Can you find any interesting correlations? Are there problematic features or rows in the dataset?\n",
    "- Handle missing data and possible outliers (in each case, consider what you want to do: Remove row? Remove column? Insert custom value?).\n",
    "- Normalize/bin/create dummy variables where relevant. \n",
    "- Determine what you would like to predict, i.e. choose your target variable. Try formulating a specific usecase for your experiment (e.g. \"Given a students perfomance in high school and first semester, what is the probability that he/she churns in the 2. semester?\")\n",
    "- Train a neural network and at least one other algorithm on the data. Find a good set of hyperparameters for each model. Do you think a neural network is suitable for this kind of problem? Why/why not?\n",
    "- What features seem to be important for predicting whether a student is likely to drop out?\n",
    "\n",
    "Warning: Make sure you carefully consider what information is available at the time where a prediction is to be made - for example, it doesn't make any sense to try to predict if a student churns in semester 1, if you include a feature which tells that this student churned in semester 2!  So depending on your specific usecase, you should probably remove some columns and/or rows before you train your model."
   ]
  },
  {
   "cell_type": "markdown",
   "metadata": {},
   "source": [
    "# Exercise 4: Reinforcement Learning"
   ]
  },
  {
   "cell_type": "markdown",
   "metadata": {},
   "source": [
    "You can carry out this part of the project either in a jupyter notebook or in a google colab notebook - the latter option allows you to easily use the GPU, rather than the CPU, for training, which is MUCH faster! See these videos for how to get started with google colab notebooks: https://www.youtube.com/watch?v=inN8seMm7UI (for getting started) and https://www.youtube.com/watch?v=PitcORQSjNM (for using the GPU). At the end, you can simply merge the generated pdfs when you submit your project. "
   ]
  },
  {
   "cell_type": "markdown",
   "metadata": {},
   "source": [
    "\n",
    "In this final exercise, we are going to explore the concept of reinforcement learning by training a neural network to play a game of your own choice.\n",
    "\n",
    "We will use the environments provided in OpenAI Gym https://gym.openai.com/ and also documented here: https://github.com/openai/gym/wiki\n",
    "\n",
    "Instead of implementing Q-learning yourselves, you are welcome to simply run a pre-coded example.\n",
    "You can look here for inspiration: https://github.com/ageron/handson-ml2/blob/master/18_reinforcement_learning.ipynb \n",
    "\n",
    "In the exercise, toy around with the parameters, and see if you can optimize learning. You should also explain the basics of what is going on. Include some pictures of the animation, and report your score."
   ]
  },
  {
   "cell_type": "markdown",
   "metadata": {},
   "source": [
    "a) Give a short description of the rules and incentives in the game."
   ]
  },
  {
   "cell_type": "markdown",
   "metadata": {},
   "source": [
    "b) Run the code (either directly in the notebook or on Colab), and show how the training progresses, for example by taking screenshots and including them as pictures in the notebook."
   ]
  },
  {
   "cell_type": "markdown",
   "metadata": {},
   "source": [
    "c) Give a short description of what is going on in the code. This should include a description of the neural network, the inputs and outputs to the neural network, and the process of Q-learning."
   ]
  },
  {
   "cell_type": "markdown",
   "metadata": {},
   "source": [
    "d) Report the highest score your network was able to obtain. "
   ]
  },
  {
   "cell_type": "code",
   "execution_count": null,
   "metadata": {},
   "outputs": [],
   "source": []
  }
 ],
 "metadata": {
  "kernelspec": {
   "display_name": "Python 3",
   "language": "python",
   "name": "python3"
  },
  "language_info": {
   "codemirror_mode": {
    "name": "ipython",
    "version": 3
   },
   "file_extension": ".py",
   "mimetype": "text/x-python",
   "name": "python",
   "nbconvert_exporter": "python",
   "pygments_lexer": "ipython3",
   "version": "3.8.8"
  }
 },
 "nbformat": 4,
 "nbformat_minor": 2
}
